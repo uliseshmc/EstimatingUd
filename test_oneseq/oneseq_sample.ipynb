{
 "cells": [
  {
   "cell_type": "code",
   "execution_count": 3,
   "metadata": {},
   "outputs": [],
   "source": [
    "import cogent3\n",
    "from cogent3 import get_app\n",
    "from cogent3 import load_aligned_seqs\n",
    "from cogent3 import load_unaligned_seqs\n",
    "#import paths\n",
    "import libs"
   ]
  },
  {
   "cell_type": "markdown",
   "metadata": {},
   "source": [
    "# CDS sample alignment\n",
    "\n",
    "I sampled chromosome 22 cds using \n",
    "```\n",
    "eti homologs -i install/ --outdir cds --ref human --coord_names 22 \n",
    "```\n",
    "Then I trim stop codons and use a codon alignment model for all the sequences using\n",
    "```\n",
    "trim_stops = get_app(\"trim_stop_codons\")\n",
    "codon_align = get_app(\"progressive_align\", \"codon\", guide_tree=\"(Human:0.06,Chimpanzee:0.06,Gorilla:0.1)\")\n",
    "```\n",
    "I store the aligned sequences in the folder cds/codon_aligned/"
   ]
  },
  {
   "cell_type": "code",
   "execution_count": 2,
   "metadata": {},
   "outputs": [
    {
     "name": "stderr",
     "output_type": "stream",
     "text": [
      "/home/u12/uliseshmc/.conda/envs/delme/lib/python3.13/site-packages/cogent3/util/warning.py:134: DeprecationWarning: argument format which will be removed in version 2025.9, use format_name instead\n",
      "reason='no longer has an effect'\n",
      "  deprecated(\n"
     ]
    },
    {
     "data": {
      "text/html": [
       "<style>\n",
       ".c3align table {margin: 10px 0;}\n",
       ".c3align td { border: none !important; text-align: left !important; }\n",
       ".c3align tr:not(.num_row) td span {margin: 0 2px;}\n",
       ".c3align tr:nth-child(even) {background: #f7f7f7;}\n",
       ".c3align .num_row {background-color:rgba(161, 195, 209, 0.5) !important; border-top: solid 1px black; }\n",
       ".c3align .label { font-size: 12pt ; text-align: right !important; color: black !important; padding: 0 4px; display: table-cell !important; font-weight: normal !important; }\n",
       ".c3align .T_dna{font-family: \"Lucida Console\",monospace !important; font-size: 12pt !important; color: blue; }\n",
       ".c3align .C_dna{font-family: \"Lucida Console\",monospace !important; font-size: 12pt !important; color: black; }\n",
       ".c3align .A_dna{font-family: \"Lucida Console\",monospace !important; font-size: 12pt !important; color: #FF0102; }\n",
       ".c3align .G_dna{font-family: \"Lucida Console\",monospace !important; font-size: 12pt !important; color: green; }\n",
       ".c3align .terminal_ambig_dna{font-family: \"Lucida Console\",monospace !important; font-size: 12pt !important; color: gray; }\n",
       ".c3align .ambig_dna{font-family: \"Lucida Console\",monospace !important; font-size: 12pt !important; color: gray; }\n",
       "</style>\n",
       "<div class=\"c3align\">\n",
       "<table>\n",
       "<tr class=\"num_row\"><td></td><td><b>0</b></td></tr>\n",
       "<tr><td class=\"label\">Chimpanzee</td><td><span class=\"A_dna\">A</span><span class=\"T_dna\">T</span><span class=\"G_dna\">G</span><span class=\"G_dna\">G</span><span class=\"A_dna\">A</span><span class=\"G_dna\">G</span><span class=\"G_dna\">G</span><span class=\"C_dna\">C</span><span class=\"C_dna\">C</span><span class=\"G_dna\">G</span><span class=\"A_dna\">A</span><span class=\"G_dna\">G</span><span class=\"C_dna\">C</span><span class=\"G_dna\">G</span><span class=\"G_dna\">G</span><span class=\"G_dna\">G</span><span class=\"G_dna\">G</span><span class=\"T_dna\">T</span><span class=\"C_dna\">C</span><span class=\"C_dna\">C</span><span class=\"C_dna\">C</span><span class=\"G_dna\">G</span><span class=\"A_dna\">A</span><span class=\"G_dna\">G</span><span class=\"C_dna\">C</span><span class=\"G_dna\">G</span><span class=\"C_dna\">C</span><span class=\"C_dna\">C</span><span class=\"C_dna\">C</span><span class=\"G_dna\">G</span><span class=\"C_dna\">C</span><span class=\"C_dna\">C</span><span class=\"T_dna\">T</span><span class=\"G_dna\">G</span><span class=\"C_dna\">C</span><span class=\"G_dna\">G</span><span class=\"G_dna\">G</span><span class=\"A_dna\">A</span><span class=\"G_dna\">G</span><span class=\"C_dna\">C</span><span class=\"G_dna\">G</span><span class=\"T_dna\">T</span><span class=\"A_dna\">A</span><span class=\"G_dna\">G</span><span class=\"C_dna\">C</span><span class=\"A_dna\">A</span><span class=\"G_dna\">G</span><span class=\"C_dna\">C</span><span class=\"C_dna\">C</span><span class=\"C_dna\">C</span><span class=\"G_dna\">G</span><span class=\"G_dna\">G</span><span class=\"G_dna\">G</span><span class=\"C_dna\">C</span><span class=\"C_dna\">C</span><span class=\"A_dna\">A</span><span class=\"G_dna\">G</span><span class=\"A_dna\">A</span><span class=\"C_dna\">C</span><span class=\"G_dna\">G</span></td></tr>\n",
       "<tr><td class=\"label\">Human</td><td><span class=\"A_dna\">.</span><span class=\"T_dna\">.</span><span class=\"G_dna\">.</span><span class=\"G_dna\">.</span><span class=\"A_dna\">.</span><span class=\"G_dna\">.</span><span class=\"G_dna\">.</span><span class=\"C_dna\">.</span><span class=\"C_dna\">.</span><span class=\"G_dna\">.</span><span class=\"A_dna\">.</span><span class=\"G_dna\">.</span><span class=\"C_dna\">.</span><span class=\"G_dna\">.</span><span class=\"G_dna\">.</span><span class=\"G_dna\">.</span><span class=\"G_dna\">.</span><span class=\"T_dna\">.</span><span class=\"C_dna\">.</span><span class=\"C_dna\">.</span><span class=\"C_dna\">.</span><span class=\"G_dna\">.</span><span class=\"A_dna\">.</span><span class=\"G_dna\">.</span><span class=\"C_dna\">.</span><span class=\"G_dna\">.</span><span class=\"C_dna\">.</span><span class=\"C_dna\">.</span><span class=\"C_dna\">.</span><span class=\"G_dna\">.</span><span class=\"C_dna\">.</span><span class=\"C_dna\">.</span><span class=\"T_dna\">.</span><span class=\"G_dna\">.</span><span class=\"C_dna\">.</span><span class=\"G_dna\">.</span><span class=\"G_dna\">.</span><span class=\"A_dna\">.</span><span class=\"G_dna\">.</span><span class=\"C_dna\">.</span><span class=\"G_dna\">.</span><span class=\"T_dna\">.</span><span class=\"A_dna\">.</span><span class=\"G_dna\">.</span><span class=\"C_dna\">.</span><span class=\"A_dna\">.</span><span class=\"G_dna\">.</span><span class=\"C_dna\">.</span><span class=\"C_dna\">.</span><span class=\"C_dna\">.</span><span class=\"G_dna\">.</span><span class=\"G_dna\">.</span><span class=\"G_dna\">.</span><span class=\"C_dna\">.</span><span class=\"C_dna\">.</span><span class=\"A_dna\">.</span><span class=\"G_dna\">.</span><span class=\"A_dna\">.</span><span class=\"C_dna\">.</span><span class=\"G_dna\">.</span></td></tr>\n",
       "<tr><td class=\"label\">Gorilla</td><td><span class=\"A_dna\">.</span><span class=\"T_dna\">.</span><span class=\"G_dna\">.</span><span class=\"G_dna\">.</span><span class=\"A_dna\">.</span><span class=\"G_dna\">.</span><span class=\"G_dna\">.</span><span class=\"C_dna\">.</span><span class=\"C_dna\">.</span><span class=\"G_dna\">.</span><span class=\"A_dna\">.</span><span class=\"G_dna\">.</span><span class=\"C_dna\">.</span><span class=\"G_dna\">.</span><span class=\"G_dna\">.</span><span class=\"G_dna\">.</span><span class=\"G_dna\">.</span><span class=\"T_dna\">.</span><span class=\"C_dna\">.</span><span class=\"C_dna\">.</span><span class=\"C_dna\">.</span><span class=\"G_dna\">.</span><span class=\"A_dna\">.</span><span class=\"G_dna\">.</span><span class=\"C_dna\">.</span><span class=\"G_dna\">.</span><span class=\"C_dna\">.</span><span class=\"C_dna\">.</span><span class=\"C_dna\">.</span><span class=\"G_dna\">.</span><span class=\"C_dna\">.</span><span class=\"C_dna\">.</span><span class=\"T_dna\">.</span><span class=\"G_dna\">.</span><span class=\"C_dna\">.</span><span class=\"G_dna\">.</span><span class=\"G_dna\">.</span><span class=\"A_dna\">.</span><span class=\"G_dna\">.</span><span class=\"C_dna\">.</span><span class=\"G_dna\">.</span><span class=\"T_dna\">.</span><span class=\"A_dna\">.</span><span class=\"G_dna\">.</span><span class=\"C_dna\">.</span><span class=\"A_dna\">.</span><span class=\"G_dna\">.</span><span class=\"C_dna\">.</span><span class=\"C_dna\">.</span><span class=\"C_dna\">.</span><span class=\"G_dna\">.</span><span class=\"G_dna\">.</span><span class=\"G_dna\">.</span><span class=\"C_dna\">.</span><span class=\"C_dna\">.</span><span class=\"A_dna\">.</span><span class=\"G_dna\">.</span><span class=\"A_dna\">.</span><span class=\"C_dna\">.</span><span class=\"G_dna\">.</span></td></tr>\n",
       "</table>\n",
       "<p><i>3 x 1932 (truncated to 3 x 60) dna alignment</i></p>\n",
       "</div>"
      ],
      "text/plain": [
       "3 x 1932 dna alignment: Human[ATGGAGGCCG...], Chimpanzee[ATGGAGGCCG...], Gorilla[ATGGAGGCCG...]"
      ]
     },
     "execution_count": 2,
     "metadata": {},
     "output_type": "execute_result"
    }
   ],
   "source": [
    "#folder_in = paths.DATA_APES114 + 'cds/codon_aligned/'\n",
    "folder_in = 'cds/codon_aligned/'\n",
    "\n",
    "sequence = 'ENSG00000100304.fa'\n",
    "\n",
    "aln = load_aligned_seqs(filename = folder_in + sequence, format=\"fasta\", moltype='dna')\n",
    "aln"
   ]
  },
  {
   "cell_type": "code",
   "execution_count": 3,
   "metadata": {},
   "outputs": [
    {
     "data": {
      "application/vnd.jupyter.widget-view+json": {
       "model_id": "6669e1b8dea74b2f9337353cb1fe3cbc",
       "version_major": 2,
       "version_minor": 0
      },
      "text/plain": [
       "   0%|          |00:00<?"
      ]
     },
     "metadata": {},
     "output_type": "display_data"
    },
    {
     "data": {
      "application/vnd.jupyter.widget-view+json": {
       "model_id": "af6b87f2059b438db5b63b0098067661",
       "version_major": 2,
       "version_minor": 0
      },
      "text/plain": [
       "   0%|          |00:00<?"
      ]
     },
     "metadata": {},
     "output_type": "display_data"
    },
    {
     "data": {
      "application/vnd.jupyter.widget-view+json": {
       "model_id": "37b8fc22b21240438d2c0cb32c926860",
       "version_major": 2,
       "version_minor": 0
      },
      "text/plain": [
       "   0%|          |00:00<?"
      ]
     },
     "metadata": {},
     "output_type": "display_data"
    },
    {
     "data": {
      "application/vnd.jupyter.widget-view+json": {
       "model_id": "df05dc4939d74166a9537bd1101cc9af",
       "version_major": 2,
       "version_minor": 0
      },
      "text/plain": [
       "   0%|          |00:00<?"
      ]
     },
     "metadata": {},
     "output_type": "display_data"
    },
    {
     "data": {
      "application/vnd.jupyter.widget-view+json": {
       "model_id": "59984eae8f2f450d8b596d8f04901c55",
       "version_major": 2,
       "version_minor": 0
      },
      "text/plain": [
       "   0%|          |00:00<?"
      ]
     },
     "metadata": {},
     "output_type": "display_data"
    },
    {
     "data": {
      "application/vnd.jupyter.widget-view+json": {
       "model_id": "a14aa6c43e8b401086a1e5fa0aa912c5",
       "version_major": 2,
       "version_minor": 0
      },
      "text/plain": [
       "   0%|          |00:00<?"
      ]
     },
     "metadata": {},
     "output_type": "display_data"
    },
    {
     "name": "stdout",
     "output_type": "stream",
     "text": [
      "Model results : \n",
      "OrderedDict({1: GN pos-1\n",
      "log-likelihood = -865.6992\n",
      "number of free parameters = 39\n",
      "========================================================================\n",
      "edge          parent    length     A>C     A>G     A>T      C>A      C>G\n",
      "------------------------------------------------------------------------\n",
      "Human         root        0.00    0.00    0.00    0.00    50.00    50.00\n",
      "Chimpanzee    root        0.00    0.00    0.00    0.00    50.00    50.00\n",
      "Gorilla       root        0.00    0.00    0.00    0.00    50.00    50.00\n",
      "------------------------------------------------------------------------\n",
      "\n",
      "continued: \n",
      "=============================================\n",
      "  C>T     G>A     G>C     G>T     T>A     T>C\n",
      "---------------------------------------------\n",
      "50.00    0.00    0.00    0.00    0.00    0.00\n",
      "50.00    0.00    0.00    0.00    0.00    0.00\n",
      "50.00    0.00    0.00    0.00    0.00    0.00\n",
      "---------------------------------------------\n",
      "\n",
      "============================\n",
      "   A       C       G       T\n",
      "----------------------------\n",
      "0.21    0.31    0.33    0.16\n",
      "----------------------------, 2: GN pos-2\n",
      "log-likelihood = -874.7426\n",
      "number of free parameters = 39\n",
      "======================================================================\n",
      "edge          parent    length     A>C     A>G     A>T     C>A     C>G\n",
      "----------------------------------------------------------------------\n",
      "Human         root        0.00    0.00    0.00    0.00    0.00    0.00\n",
      "Chimpanzee    root        0.00    0.00    0.00    0.00    0.00    0.00\n",
      "Gorilla       root        0.00    0.00    0.00    0.00    0.00    0.00\n",
      "----------------------------------------------------------------------\n",
      "\n",
      "continued: \n",
      "===============================================\n",
      " C>T      G>A      G>C      G>T     T>A     T>C\n",
      "-----------------------------------------------\n",
      "0.00    49.99    49.99    49.99    0.00    0.00\n",
      "0.00    49.99    49.99    49.99    0.00    0.00\n",
      "0.00    49.99    49.99    49.99    0.00    0.00\n",
      "-----------------------------------------------\n",
      "\n",
      "============================\n",
      "   A       C       G       T\n",
      "----------------------------\n",
      "0.33    0.21    0.18    0.28\n",
      "----------------------------, 3: GN pos-3\n",
      "log-likelihood = -709.7859\n",
      "number of free parameters = 39\n",
      "======================================================================\n",
      "edge          parent    length     A>C     A>G     A>T     C>A     C>G\n",
      "----------------------------------------------------------------------\n",
      "Human         root        0.00    0.00    0.00    0.00    0.00    0.00\n",
      "Chimpanzee    root        0.00    0.00    0.00    0.00    0.00    0.00\n",
      "Gorilla       root        0.00    0.00    0.00    0.00    0.00    0.00\n",
      "----------------------------------------------------------------------\n",
      "\n",
      "continued: \n",
      "=============================================\n",
      " C>T     G>A     G>C     G>T     T>A      T>C\n",
      "---------------------------------------------\n",
      "0.00    0.00    0.00    0.00    0.00    48.21\n",
      "0.00    0.00    0.00    0.00    0.00    48.21\n",
      "0.00    0.00    0.00    0.00    0.00    48.21\n",
      "---------------------------------------------\n",
      "\n",
      "============================\n",
      "   A       C       G       T\n",
      "----------------------------\n",
      "0.07    0.45    0.41    0.08\n",
      "----------------------------})\n",
      "\n",
      "Distances: \n",
      "{'Human': np.float64(9.99999067593457e-07), 'Chimpanzee': np.float64(9.99999067593457e-07), 'Gorilla': np.float64(9.99999067593457e-07)}\n",
      "{'Human': np.float64(1.0000072922545365e-06), 'Chimpanzee': np.float64(9.999982648398162e-07), 'Gorilla': np.float64(1.0000026748149509e-06)}\n",
      "{'Human': np.float64(1.000001020274175e-06), 'Chimpanzee': np.float64(9.99997646878012e-07), 'Gorilla': np.float64(9.99996549552156e-07)}\n"
     ]
    }
   ],
   "source": [
    "omit_degs = get_app(\"omit_degenerates\", moltype=\"dna\", motif_length=3)\n",
    "aln = omit_degs(aln)\n",
    "#Do a general nucleotide model of conncatenated sequences concatenated sequences \n",
    "#time_het=max sets a 36 params substitution model\n",
    "sm = get_app(\"model\", \"GN\", time_het=\"max\", optimise_motif_probs=True, show_progress=True, split_codons=True)\n",
    "result_sm = sm(aln)\n",
    "print(\"Model results : \\n\" + str(result_sm.lf) + \"\\n\")\n",
    "\n",
    "print(\"Distances: \")\n",
    "lengthstree_pos1 = result_sm[1].get_lengths_as_ens()\n",
    "print(lengthstree_pos1)\n",
    "\n",
    "lengthstree_pos2 = result_sm[2].get_lengths_as_ens()\n",
    "print(lengthstree_pos2)\n",
    "\n",
    "lengthstree_pos3 = result_sm[3].get_lengths_as_ens()\n",
    "print(lengthstree_pos3)\n"
   ]
  },
  {
   "cell_type": "markdown",
   "metadata": {},
   "source": [
    "# Intron sample alignment\n",
    "\n",
    "I sampled chromosome 22 introns masking ancestral repeats and cds using \n",
    "```\n",
    "eti alignments -i install -od introns --align_name 10_primates* --ref human --mask cds_allAR_1column.txt --coord_names 22 \n",
    "```\n",
    "where cds_allAR_1column.txt is a list containing all the biotypes for ancestral repeats and cds"
   ]
  },
  {
   "cell_type": "code",
   "execution_count": 5,
   "metadata": {},
   "outputs": [
    {
     "name": "stderr",
     "output_type": "stream",
     "text": [
      "/home/u12/uliseshmc/.conda/envs/delme/lib/python3.13/site-packages/cogent3/util/warning.py:134: DeprecationWarning: argument format which will be removed in version 2025.9, use format_name instead\n",
      "reason='no longer has an effect'\n",
      "  deprecated(\n"
     ]
    },
    {
     "data": {
      "text/html": [
       "<style>\n",
       ".c3align table {margin: 10px 0;}\n",
       ".c3align td { border: none !important; text-align: left !important; }\n",
       ".c3align tr:not(.num_row) td span {margin: 0 2px;}\n",
       ".c3align tr:nth-child(even) {background: #f7f7f7;}\n",
       ".c3align .num_row {background-color:rgba(161, 195, 209, 0.5) !important; border-top: solid 1px black; }\n",
       ".c3align .label { font-size: 12pt ; text-align: right !important; color: black !important; padding: 0 4px; display: table-cell !important; font-weight: normal !important; }\n",
       ".c3align .T_dna{font-family: \"Lucida Console\",monospace !important; font-size: 12pt !important; color: blue; }\n",
       ".c3align .C_dna{font-family: \"Lucida Console\",monospace !important; font-size: 12pt !important; color: black; }\n",
       ".c3align .A_dna{font-family: \"Lucida Console\",monospace !important; font-size: 12pt !important; color: #FF0102; }\n",
       ".c3align .G_dna{font-family: \"Lucida Console\",monospace !important; font-size: 12pt !important; color: green; }\n",
       ".c3align .terminal_ambig_dna{font-family: \"Lucida Console\",monospace !important; font-size: 12pt !important; color: gray; }\n",
       ".c3align .ambig_dna{font-family: \"Lucida Console\",monospace !important; font-size: 12pt !important; color: gray; }\n",
       "</style>\n",
       "<div class=\"c3align\">\n",
       "<table>\n",
       "<tr class=\"num_row\"><td></td><td><b>0</b></td></tr>\n",
       "<tr><td class=\"label\">homo_sapiens:22:45284948-45295874:1</td><td><span class=\"A_dna\">A</span><span class=\"G_dna\">G</span><span class=\"G_dna\">G</span><span class=\"T_dna\">T</span><span class=\"C_dna\">C</span><span class=\"terminal_ambig_dna\">-</span><span class=\"terminal_ambig_dna\">-</span><span class=\"terminal_ambig_dna\">-</span><span class=\"terminal_ambig_dna\">-</span><span class=\"terminal_ambig_dna\">-</span><span class=\"terminal_ambig_dna\">-</span><span class=\"terminal_ambig_dna\">-</span><span class=\"terminal_ambig_dna\">-</span><span class=\"terminal_ambig_dna\">-</span><span class=\"terminal_ambig_dna\">-</span><span class=\"terminal_ambig_dna\">-</span><span class=\"terminal_ambig_dna\">-</span><span class=\"terminal_ambig_dna\">-</span><span class=\"terminal_ambig_dna\">-</span><span class=\"terminal_ambig_dna\">-</span><span class=\"terminal_ambig_dna\">-</span><span class=\"terminal_ambig_dna\">-</span><span class=\"terminal_ambig_dna\">-</span><span class=\"terminal_ambig_dna\">-</span><span class=\"terminal_ambig_dna\">-</span><span class=\"terminal_ambig_dna\">-</span><span class=\"terminal_ambig_dna\">-</span><span class=\"terminal_ambig_dna\">-</span><span class=\"terminal_ambig_dna\">-</span><span class=\"terminal_ambig_dna\">-</span><span class=\"terminal_ambig_dna\">-</span><span class=\"terminal_ambig_dna\">-</span><span class=\"terminal_ambig_dna\">-</span><span class=\"terminal_ambig_dna\">-</span><span class=\"terminal_ambig_dna\">-</span><span class=\"terminal_ambig_dna\">-</span><span class=\"terminal_ambig_dna\">-</span><span class=\"terminal_ambig_dna\">-</span><span class=\"terminal_ambig_dna\">-</span><span class=\"terminal_ambig_dna\">-</span><span class=\"terminal_ambig_dna\">-</span><span class=\"terminal_ambig_dna\">-</span><span class=\"terminal_ambig_dna\">-</span><span class=\"terminal_ambig_dna\">-</span><span class=\"terminal_ambig_dna\">-</span><span class=\"terminal_ambig_dna\">-</span><span class=\"terminal_ambig_dna\">-</span><span class=\"terminal_ambig_dna\">-</span><span class=\"terminal_ambig_dna\">-</span><span class=\"terminal_ambig_dna\">-</span><span class=\"terminal_ambig_dna\">-</span><span class=\"terminal_ambig_dna\">-</span><span class=\"terminal_ambig_dna\">-</span><span class=\"terminal_ambig_dna\">-</span><span class=\"terminal_ambig_dna\">-</span><span class=\"terminal_ambig_dna\">-</span><span class=\"terminal_ambig_dna\">-</span><span class=\"terminal_ambig_dna\">-</span><span class=\"terminal_ambig_dna\">-</span><span class=\"terminal_ambig_dna\">-</span></td></tr>\n",
       "<tr><td class=\"label\">gorilla_gorilla:22:28853875-28862222:1</td><td><span class=\"A_dna\">.</span><span class=\"G_dna\">.</span><span class=\"G_dna\">.</span><span class=\"T_dna\">.</span><span class=\"C_dna\">.</span><span class=\"terminal_ambig_dna\">.</span><span class=\"terminal_ambig_dna\">.</span><span class=\"terminal_ambig_dna\">.</span><span class=\"terminal_ambig_dna\">.</span><span class=\"terminal_ambig_dna\">.</span><span class=\"terminal_ambig_dna\">.</span><span class=\"terminal_ambig_dna\">.</span><span class=\"terminal_ambig_dna\">.</span><span class=\"terminal_ambig_dna\">.</span><span class=\"terminal_ambig_dna\">.</span><span class=\"terminal_ambig_dna\">.</span><span class=\"terminal_ambig_dna\">.</span><span class=\"terminal_ambig_dna\">.</span><span class=\"terminal_ambig_dna\">.</span><span class=\"terminal_ambig_dna\">.</span><span class=\"terminal_ambig_dna\">.</span><span class=\"terminal_ambig_dna\">.</span><span class=\"terminal_ambig_dna\">.</span><span class=\"terminal_ambig_dna\">.</span><span class=\"terminal_ambig_dna\">.</span><span class=\"terminal_ambig_dna\">.</span><span class=\"terminal_ambig_dna\">.</span><span class=\"terminal_ambig_dna\">.</span><span class=\"terminal_ambig_dna\">.</span><span class=\"terminal_ambig_dna\">.</span><span class=\"terminal_ambig_dna\">.</span><span class=\"terminal_ambig_dna\">.</span><span class=\"terminal_ambig_dna\">.</span><span class=\"terminal_ambig_dna\">.</span><span class=\"terminal_ambig_dna\">.</span><span class=\"terminal_ambig_dna\">.</span><span class=\"terminal_ambig_dna\">.</span><span class=\"terminal_ambig_dna\">.</span><span class=\"terminal_ambig_dna\">.</span><span class=\"terminal_ambig_dna\">.</span><span class=\"terminal_ambig_dna\">.</span><span class=\"terminal_ambig_dna\">.</span><span class=\"terminal_ambig_dna\">.</span><span class=\"terminal_ambig_dna\">.</span><span class=\"terminal_ambig_dna\">.</span><span class=\"terminal_ambig_dna\">.</span><span class=\"terminal_ambig_dna\">.</span><span class=\"terminal_ambig_dna\">.</span><span class=\"terminal_ambig_dna\">.</span><span class=\"terminal_ambig_dna\">.</span><span class=\"terminal_ambig_dna\">.</span><span class=\"terminal_ambig_dna\">.</span><span class=\"terminal_ambig_dna\">.</span><span class=\"terminal_ambig_dna\">.</span><span class=\"terminal_ambig_dna\">.</span><span class=\"terminal_ambig_dna\">.</span><span class=\"terminal_ambig_dna\">.</span><span class=\"terminal_ambig_dna\">.</span><span class=\"terminal_ambig_dna\">.</span><span class=\"terminal_ambig_dna\">.</span></td></tr>\n",
       "<tr><td class=\"label\">pan_troglodytes:22:32060815-32072454:1</td><td><span class=\"A_dna\">.</span><span class=\"G_dna\">.</span><span class=\"G_dna\">.</span><span class=\"T_dna\">.</span><span class=\"C_dna\">.</span><span class=\"terminal_ambig_dna\">.</span><span class=\"terminal_ambig_dna\">.</span><span class=\"terminal_ambig_dna\">.</span><span class=\"terminal_ambig_dna\">.</span><span class=\"terminal_ambig_dna\">.</span><span class=\"terminal_ambig_dna\">.</span><span class=\"terminal_ambig_dna\">.</span><span class=\"terminal_ambig_dna\">.</span><span class=\"terminal_ambig_dna\">.</span><span class=\"terminal_ambig_dna\">.</span><span class=\"terminal_ambig_dna\">.</span><span class=\"terminal_ambig_dna\">.</span><span class=\"terminal_ambig_dna\">.</span><span class=\"terminal_ambig_dna\">.</span><span class=\"terminal_ambig_dna\">.</span><span class=\"terminal_ambig_dna\">.</span><span class=\"terminal_ambig_dna\">.</span><span class=\"terminal_ambig_dna\">.</span><span class=\"terminal_ambig_dna\">.</span><span class=\"terminal_ambig_dna\">.</span><span class=\"terminal_ambig_dna\">.</span><span class=\"terminal_ambig_dna\">.</span><span class=\"terminal_ambig_dna\">.</span><span class=\"terminal_ambig_dna\">.</span><span class=\"terminal_ambig_dna\">.</span><span class=\"terminal_ambig_dna\">.</span><span class=\"terminal_ambig_dna\">.</span><span class=\"terminal_ambig_dna\">.</span><span class=\"terminal_ambig_dna\">.</span><span class=\"terminal_ambig_dna\">.</span><span class=\"terminal_ambig_dna\">.</span><span class=\"terminal_ambig_dna\">.</span><span class=\"terminal_ambig_dna\">.</span><span class=\"terminal_ambig_dna\">.</span><span class=\"terminal_ambig_dna\">.</span><span class=\"terminal_ambig_dna\">.</span><span class=\"terminal_ambig_dna\">.</span><span class=\"terminal_ambig_dna\">.</span><span class=\"terminal_ambig_dna\">.</span><span class=\"terminal_ambig_dna\">.</span><span class=\"terminal_ambig_dna\">.</span><span class=\"terminal_ambig_dna\">.</span><span class=\"terminal_ambig_dna\">.</span><span class=\"terminal_ambig_dna\">.</span><span class=\"terminal_ambig_dna\">.</span><span class=\"terminal_ambig_dna\">.</span><span class=\"terminal_ambig_dna\">.</span><span class=\"terminal_ambig_dna\">.</span><span class=\"terminal_ambig_dna\">.</span><span class=\"terminal_ambig_dna\">.</span><span class=\"terminal_ambig_dna\">.</span><span class=\"terminal_ambig_dna\">.</span><span class=\"terminal_ambig_dna\">.</span><span class=\"terminal_ambig_dna\">.</span><span class=\"terminal_ambig_dna\">.</span></td></tr>\n",
       "</table>\n",
       "<p><i>3 x 35699 (truncated to 3 x 60) dna alignment</i></p>\n",
       "</div>"
      ],
      "text/plain": [
       "3 x 35699 dna alignment: homo_sapiens:22:45284948-45295874:1[AGGTC-----...], gorilla_gorilla:22:28853875-28862222:1[AGGTC-----...], pan_troglodytes:22:32060815-32072454:1[AGGTC-----...]"
      ]
     },
     "execution_count": 5,
     "metadata": {},
     "output_type": "execute_result"
    }
   ],
   "source": [
    "#folder_in = paths.DATA_APES114 + 'introns/'\n",
    "folder_in = 'introns/'\n",
    "\n",
    "sequence = 'ENSG00000100373.fa'\n",
    "\n",
    "aln = load_aligned_seqs(filename = folder_in + sequence, format=\"fasta\", moltype='dna')\n",
    "aln"
   ]
  },
  {
   "cell_type": "code",
   "execution_count": 5,
   "metadata": {},
   "outputs": [
    {
     "data": {
      "application/vnd.jupyter.widget-view+json": {
       "model_id": "f48df10b03b64d5da34baaeab6d77bf1",
       "version_major": 2,
       "version_minor": 0
      },
      "text/plain": [
       "   0%|          |00:00<?"
      ]
     },
     "metadata": {},
     "output_type": "display_data"
    },
    {
     "data": {
      "application/vnd.jupyter.widget-view+json": {
       "model_id": "9f76493d675d421796fb862712848f1c",
       "version_major": 2,
       "version_minor": 0
      },
      "text/plain": [
       "   0%|          |00:00<?"
      ]
     },
     "metadata": {},
     "output_type": "display_data"
    },
    {
     "name": "stdout",
     "output_type": "stream",
     "text": [
      "Model results : \n",
      "GN\n",
      "log-likelihood = -5179.6405\n",
      "number of free parameters = 39\n",
      "========================================================================\n",
      "edge          parent    length      A>C      A>G     A>T     C>A     C>G\n",
      "------------------------------------------------------------------------\n",
      "Human         root        0.01     0.90     3.60    0.89    0.00    3.03\n",
      "Chimpanzee    root        0.01    10.92    21.52    5.35    4.58    4.56\n",
      "Gorilla       root        0.01     0.59     1.80    0.00    0.25    0.50\n",
      "------------------------------------------------------------------------\n",
      "\n",
      "continued: \n",
      "===============================================\n",
      "  C>T      G>A     G>C     G>T     T>A      T>C\n",
      "-----------------------------------------------\n",
      " 6.90     4.72    0.00    0.66    0.00     2.95\n",
      "50.00    16.28    3.96    0.00    0.00    11.76\n",
      " 2.05     2.91    0.00    0.66    0.00     0.00\n",
      "-----------------------------------------------\n",
      "\n",
      "============================\n",
      "   A       C       G       T\n",
      "----------------------------\n",
      "0.23    0.27    0.30    0.20\n",
      "----------------------------\n",
      "\n",
      "Distances: {'Human': np.float64(0.00935349688630193), 'Chimpanzee': np.float64(0.008124639429364667), 'Gorilla': np.float64(0.011545288403466528)}\n"
     ]
    }
   ],
   "source": [
    "rename = libs.renamer_aligned()\n",
    "omit_degs = get_app(\"omit_degenerates\", moltype=\"dna\")\n",
    "\n",
    "aln = rename(aln)\n",
    "aln = omit_degs(aln)\n",
    "\n",
    "sm = get_app(\"model\", \"GN\", time_het=\"max\", optimise_motif_probs=True, show_progress=True)\n",
    "result_intergenic = sm(aln)\n",
    "\n",
    "\n",
    "lengthstree = result_intergenic.lf.get_lengths_as_ens()\n",
    "print(\"Model results : \\n\" + str(result_intergenic.lf) + \"\\n\")\n",
    "print(\"Distances: \" + str(lengthstree))"
   ]
  },
  {
   "cell_type": "markdown",
   "metadata": {},
   "source": [
    "# Intron AR sample alignment\n",
    "\n",
    "I sampled chromosome 22 introns masking everythin but ancestral repeats using \n",
    "```\n",
    "eti alignments -i install -od intronsAR --align_name 10_primates* --ref human --mask_shadow ancestralrepeats_1column.txt --coord_names 22 \n",
    "```\n",
    "where ancestralrepeats_1column.txt is a list containing the ancestral repeats biotypes: \n",
    "Type I Transposons/LINE,\n",
    "Type I Transposons/SINE,\n",
    "Type II Transposons,\n",
    "LTRs"
   ]
  },
  {
   "cell_type": "code",
   "execution_count": 6,
   "metadata": {},
   "outputs": [
    {
     "name": "stderr",
     "output_type": "stream",
     "text": [
      "/home/u12/uliseshmc/.conda/envs/delme/lib/python3.13/site-packages/cogent3/util/warning.py:134: DeprecationWarning: argument format which will be removed in version 2025.9, use format_name instead\n",
      "reason='no longer has an effect'\n",
      "  deprecated(\n"
     ]
    },
    {
     "data": {
      "text/html": [
       "<style>\n",
       ".c3align table {margin: 10px 0;}\n",
       ".c3align td { border: none !important; text-align: left !important; }\n",
       ".c3align tr:not(.num_row) td span {margin: 0 2px;}\n",
       ".c3align tr:nth-child(even) {background: #f7f7f7;}\n",
       ".c3align .num_row {background-color:rgba(161, 195, 209, 0.5) !important; border-top: solid 1px black; }\n",
       ".c3align .label { font-size: 12pt ; text-align: right !important; color: black !important; padding: 0 4px; display: table-cell !important; font-weight: normal !important; }\n",
       ".c3align .T_dna{font-family: \"Lucida Console\",monospace !important; font-size: 12pt !important; color: blue; }\n",
       ".c3align .C_dna{font-family: \"Lucida Console\",monospace !important; font-size: 12pt !important; color: black; }\n",
       ".c3align .A_dna{font-family: \"Lucida Console\",monospace !important; font-size: 12pt !important; color: #FF0102; }\n",
       ".c3align .G_dna{font-family: \"Lucida Console\",monospace !important; font-size: 12pt !important; color: green; }\n",
       ".c3align .terminal_ambig_dna{font-family: \"Lucida Console\",monospace !important; font-size: 12pt !important; color: gray; }\n",
       ".c3align .ambig_dna{font-family: \"Lucida Console\",monospace !important; font-size: 12pt !important; color: gray; }\n",
       "</style>\n",
       "<div class=\"c3align\">\n",
       "<table>\n",
       "<tr class=\"num_row\"><td></td><td><b>0</b></td></tr>\n",
       "<tr><td class=\"label\">pan_troglodytes:22:32060815-32072454:1</td><td><span class=\"terminal_ambig_dna\">?</span><span class=\"terminal_ambig_dna\">?</span><span class=\"terminal_ambig_dna\">?</span><span class=\"terminal_ambig_dna\">?</span><span class=\"terminal_ambig_dna\">?</span><span class=\"terminal_ambig_dna\">-</span><span class=\"terminal_ambig_dna\">-</span><span class=\"terminal_ambig_dna\">-</span><span class=\"terminal_ambig_dna\">-</span><span class=\"terminal_ambig_dna\">-</span><span class=\"terminal_ambig_dna\">-</span><span class=\"terminal_ambig_dna\">-</span><span class=\"terminal_ambig_dna\">-</span><span class=\"terminal_ambig_dna\">-</span><span class=\"terminal_ambig_dna\">-</span><span class=\"terminal_ambig_dna\">-</span><span class=\"terminal_ambig_dna\">-</span><span class=\"terminal_ambig_dna\">-</span><span class=\"terminal_ambig_dna\">-</span><span class=\"terminal_ambig_dna\">-</span><span class=\"terminal_ambig_dna\">-</span><span class=\"terminal_ambig_dna\">-</span><span class=\"terminal_ambig_dna\">-</span><span class=\"terminal_ambig_dna\">-</span><span class=\"terminal_ambig_dna\">-</span><span class=\"terminal_ambig_dna\">-</span><span class=\"terminal_ambig_dna\">-</span><span class=\"terminal_ambig_dna\">-</span><span class=\"terminal_ambig_dna\">-</span><span class=\"terminal_ambig_dna\">-</span><span class=\"terminal_ambig_dna\">-</span><span class=\"terminal_ambig_dna\">-</span><span class=\"terminal_ambig_dna\">-</span><span class=\"terminal_ambig_dna\">-</span><span class=\"terminal_ambig_dna\">-</span><span class=\"terminal_ambig_dna\">-</span><span class=\"terminal_ambig_dna\">-</span><span class=\"terminal_ambig_dna\">-</span><span class=\"terminal_ambig_dna\">-</span><span class=\"terminal_ambig_dna\">-</span><span class=\"terminal_ambig_dna\">-</span><span class=\"terminal_ambig_dna\">-</span><span class=\"terminal_ambig_dna\">-</span><span class=\"terminal_ambig_dna\">-</span><span class=\"terminal_ambig_dna\">-</span><span class=\"terminal_ambig_dna\">-</span><span class=\"terminal_ambig_dna\">-</span><span class=\"terminal_ambig_dna\">-</span><span class=\"terminal_ambig_dna\">-</span><span class=\"terminal_ambig_dna\">-</span><span class=\"terminal_ambig_dna\">-</span><span class=\"terminal_ambig_dna\">-</span><span class=\"terminal_ambig_dna\">-</span><span class=\"terminal_ambig_dna\">-</span><span class=\"terminal_ambig_dna\">-</span><span class=\"terminal_ambig_dna\">-</span><span class=\"terminal_ambig_dna\">-</span><span class=\"terminal_ambig_dna\">-</span><span class=\"terminal_ambig_dna\">-</span><span class=\"terminal_ambig_dna\">-</span></td></tr>\n",
       "<tr><td class=\"label\">homo_sapiens:22:45284948-45295874:1</td><td><span class=\"terminal_ambig_dna\">.</span><span class=\"terminal_ambig_dna\">.</span><span class=\"terminal_ambig_dna\">.</span><span class=\"terminal_ambig_dna\">.</span><span class=\"terminal_ambig_dna\">.</span><span class=\"terminal_ambig_dna\">.</span><span class=\"terminal_ambig_dna\">.</span><span class=\"terminal_ambig_dna\">.</span><span class=\"terminal_ambig_dna\">.</span><span class=\"terminal_ambig_dna\">.</span><span class=\"terminal_ambig_dna\">.</span><span class=\"terminal_ambig_dna\">.</span><span class=\"terminal_ambig_dna\">.</span><span class=\"terminal_ambig_dna\">.</span><span class=\"terminal_ambig_dna\">.</span><span class=\"terminal_ambig_dna\">.</span><span class=\"terminal_ambig_dna\">.</span><span class=\"terminal_ambig_dna\">.</span><span class=\"terminal_ambig_dna\">.</span><span class=\"terminal_ambig_dna\">.</span><span class=\"terminal_ambig_dna\">.</span><span class=\"terminal_ambig_dna\">.</span><span class=\"terminal_ambig_dna\">.</span><span class=\"terminal_ambig_dna\">.</span><span class=\"terminal_ambig_dna\">.</span><span class=\"terminal_ambig_dna\">.</span><span class=\"terminal_ambig_dna\">.</span><span class=\"terminal_ambig_dna\">.</span><span class=\"terminal_ambig_dna\">.</span><span class=\"terminal_ambig_dna\">.</span><span class=\"terminal_ambig_dna\">.</span><span class=\"terminal_ambig_dna\">.</span><span class=\"terminal_ambig_dna\">.</span><span class=\"terminal_ambig_dna\">.</span><span class=\"terminal_ambig_dna\">.</span><span class=\"terminal_ambig_dna\">.</span><span class=\"terminal_ambig_dna\">.</span><span class=\"terminal_ambig_dna\">.</span><span class=\"terminal_ambig_dna\">.</span><span class=\"terminal_ambig_dna\">.</span><span class=\"terminal_ambig_dna\">.</span><span class=\"terminal_ambig_dna\">.</span><span class=\"terminal_ambig_dna\">.</span><span class=\"terminal_ambig_dna\">.</span><span class=\"terminal_ambig_dna\">.</span><span class=\"terminal_ambig_dna\">.</span><span class=\"terminal_ambig_dna\">.</span><span class=\"terminal_ambig_dna\">.</span><span class=\"terminal_ambig_dna\">.</span><span class=\"terminal_ambig_dna\">.</span><span class=\"terminal_ambig_dna\">.</span><span class=\"terminal_ambig_dna\">.</span><span class=\"terminal_ambig_dna\">.</span><span class=\"terminal_ambig_dna\">.</span><span class=\"terminal_ambig_dna\">.</span><span class=\"terminal_ambig_dna\">.</span><span class=\"terminal_ambig_dna\">.</span><span class=\"terminal_ambig_dna\">.</span><span class=\"terminal_ambig_dna\">.</span><span class=\"terminal_ambig_dna\">.</span></td></tr>\n",
       "<tr><td class=\"label\">gorilla_gorilla:22:28853875-28862222:1</td><td><span class=\"terminal_ambig_dna\">.</span><span class=\"terminal_ambig_dna\">.</span><span class=\"terminal_ambig_dna\">.</span><span class=\"terminal_ambig_dna\">.</span><span class=\"terminal_ambig_dna\">.</span><span class=\"terminal_ambig_dna\">.</span><span class=\"terminal_ambig_dna\">.</span><span class=\"terminal_ambig_dna\">.</span><span class=\"terminal_ambig_dna\">.</span><span class=\"terminal_ambig_dna\">.</span><span class=\"terminal_ambig_dna\">.</span><span class=\"terminal_ambig_dna\">.</span><span class=\"terminal_ambig_dna\">.</span><span class=\"terminal_ambig_dna\">.</span><span class=\"terminal_ambig_dna\">.</span><span class=\"terminal_ambig_dna\">.</span><span class=\"terminal_ambig_dna\">.</span><span class=\"terminal_ambig_dna\">.</span><span class=\"terminal_ambig_dna\">.</span><span class=\"terminal_ambig_dna\">.</span><span class=\"terminal_ambig_dna\">.</span><span class=\"terminal_ambig_dna\">.</span><span class=\"terminal_ambig_dna\">.</span><span class=\"terminal_ambig_dna\">.</span><span class=\"terminal_ambig_dna\">.</span><span class=\"terminal_ambig_dna\">.</span><span class=\"terminal_ambig_dna\">.</span><span class=\"terminal_ambig_dna\">.</span><span class=\"terminal_ambig_dna\">.</span><span class=\"terminal_ambig_dna\">.</span><span class=\"terminal_ambig_dna\">.</span><span class=\"terminal_ambig_dna\">.</span><span class=\"terminal_ambig_dna\">.</span><span class=\"terminal_ambig_dna\">.</span><span class=\"terminal_ambig_dna\">.</span><span class=\"terminal_ambig_dna\">.</span><span class=\"terminal_ambig_dna\">.</span><span class=\"terminal_ambig_dna\">.</span><span class=\"terminal_ambig_dna\">.</span><span class=\"terminal_ambig_dna\">.</span><span class=\"terminal_ambig_dna\">.</span><span class=\"terminal_ambig_dna\">.</span><span class=\"terminal_ambig_dna\">.</span><span class=\"terminal_ambig_dna\">.</span><span class=\"terminal_ambig_dna\">.</span><span class=\"terminal_ambig_dna\">.</span><span class=\"terminal_ambig_dna\">.</span><span class=\"terminal_ambig_dna\">.</span><span class=\"terminal_ambig_dna\">.</span><span class=\"terminal_ambig_dna\">.</span><span class=\"terminal_ambig_dna\">.</span><span class=\"terminal_ambig_dna\">.</span><span class=\"terminal_ambig_dna\">.</span><span class=\"terminal_ambig_dna\">.</span><span class=\"terminal_ambig_dna\">.</span><span class=\"terminal_ambig_dna\">.</span><span class=\"terminal_ambig_dna\">.</span><span class=\"terminal_ambig_dna\">.</span><span class=\"terminal_ambig_dna\">.</span><span class=\"terminal_ambig_dna\">.</span></td></tr>\n",
       "</table>\n",
       "<p><i>3 x 35699 (truncated to 3 x 60) dna alignment</i></p>\n",
       "</div>"
      ],
      "text/plain": [
       "3 x 35699 dna alignment: homo_sapiens:22:45284948-45295874:1[?????-----...], pan_troglodytes:22:32060815-32072454:1[?????-----...], gorilla_gorilla:22:28853875-28862222:1[?????-----...]"
      ]
     },
     "execution_count": 6,
     "metadata": {},
     "output_type": "execute_result"
    }
   ],
   "source": [
    "#folder_in = paths.DATA_APES114 + 'intronsAR/'\n",
    "folder_in = 'intronsAR/'\n",
    "\n",
    "sequence = 'ENSG00000100373.fa'\n",
    "\n",
    "aln = load_aligned_seqs(filename = folder_in + sequence, format=\"fasta\", moltype='dna')\n",
    "aln"
   ]
  },
  {
   "cell_type": "code",
   "execution_count": 7,
   "metadata": {},
   "outputs": [
    {
     "data": {
      "application/vnd.jupyter.widget-view+json": {
       "model_id": "1dc6435151f443c999694f7e9f3c7a40",
       "version_major": 2,
       "version_minor": 0
      },
      "text/plain": [
       "   0%|          |00:00<?"
      ]
     },
     "metadata": {},
     "output_type": "display_data"
    },
    {
     "data": {
      "application/vnd.jupyter.widget-view+json": {
       "model_id": "f96d885795fa4a629a345317ee28c376",
       "version_major": 2,
       "version_minor": 0
      },
      "text/plain": [
       "   0%|          |00:00<?"
      ]
     },
     "metadata": {},
     "output_type": "display_data"
    },
    {
     "name": "stdout",
     "output_type": "stream",
     "text": [
      "Model results : \n",
      "GN\n",
      "log-likelihood = -4155.1759\n",
      "number of free parameters = 39\n",
      "=========================================================================\n",
      "edge          parent    length     A>C      A>G      A>T     C>A      C>G\n",
      "-------------------------------------------------------------------------\n",
      "Human         root        0.02    1.00     2.54     0.00    0.46     0.47\n",
      "Chimpanzee    root        0.01    1.03     3.08     1.03    0.93     3.88\n",
      "Gorilla       root        0.01    0.00    47.72    17.84    0.00    11.08\n",
      "-------------------------------------------------------------------------\n",
      "\n",
      "continued: \n",
      "===============================================\n",
      "  C>T      G>A     G>C     G>T     T>A      T>C\n",
      "-----------------------------------------------\n",
      " 3.80     4.55    2.21    0.00    0.49     3.03\n",
      " 5.90     9.27    0.91    0.00    2.04     7.25\n",
      "50.00    32.30    0.00    0.00    0.00    41.75\n",
      "-----------------------------------------------\n",
      "\n",
      "============================\n",
      "   A       C       G       T\n",
      "----------------------------\n",
      "0.24    0.25    0.27    0.24\n",
      "----------------------------\n",
      "\n",
      "Distances: {'Human': np.float64(0.016518668601997945), 'Chimpanzee': np.float64(0.014884818066086342), 'Gorilla': np.float64(0.014095398920238988)}\n"
     ]
    }
   ],
   "source": [
    "rename = libs.renamer_aligned()\n",
    "omit_degs = get_app(\"omit_degenerates\", moltype=\"dna\")\n",
    "\n",
    "aln = rename(aln)\n",
    "aln = omit_degs(aln)\n",
    "\n",
    "sm = get_app(\"model\", \"GN\", time_het=\"max\", optimise_motif_probs=True, show_progress=True)\n",
    "result_intergenic = sm(aln)\n",
    "\n",
    "\n",
    "lengthstree = result_intergenic.lf.get_lengths_as_ens()\n",
    "print(\"Model results : \\n\" + str(result_intergenic.lf) + \"\\n\")\n",
    "print(\"Distances: \" + str(lengthstree))"
   ]
  }
 ],
 "metadata": {
  "kernelspec": {
   "display_name": "delme",
   "language": "python",
   "name": "python3"
  },
  "language_info": {
   "codemirror_mode": {
    "name": "ipython",
    "version": 3
   },
   "file_extension": ".py",
   "mimetype": "text/x-python",
   "name": "python",
   "nbconvert_exporter": "python",
   "pygments_lexer": "ipython3",
   "version": "3.13.7"
  }
 },
 "nbformat": 4,
 "nbformat_minor": 2
}

{
 "cells": [
  {
   "cell_type": "code",
   "execution_count": 44,
   "metadata": {},
   "outputs": [],
   "source": [
    "import cogent3\n",
    "from cogent3 import load_aligned_seqs\n",
    "from cogent3 import get_app\n",
    "\n",
    "@cogent3.app.composable.define_app\n",
    "def renamer(seqs: cogent3.app.typing.AlignedSeqsType) -> cogent3.app.typing.AlignedSeqsType:\n",
    "    \"\"\"\n",
    "    A function to rename sequences in a dataset.\n",
    "    \"\"\"\n",
    "\n",
    "    name_map = {\n",
    "        \"homo_sapiens\": \"Human\",\n",
    "        \"pan_troglodytes\": \"Chimpanzee\",\n",
    "        \"gorilla_gorilla\": \"Gorilla\"\n",
    "    }\n",
    "\n",
    "    seqs = seqs.rename_seqs(lambda x: name_map.get(x.split(\":\")[0], x))\n",
    "\n",
    "    return seqs.take_seqs(list(name_map.values()))\n",
    "\n",
    "def sample_one_per_species(names, species_key=None):\n",
    "    \"\"\"Return one random name per species from a list of sequence names.\n",
    "\n",
    "    - species_key: optional function to extract species id from a name (default: part before ':')\n",
    "    - seed: optional int to make selection deterministic\n",
    "    \"\"\"\n",
    "    import random\n",
    "    seed = 10\n",
    "    random.seed(seed)\n",
    "\n",
    "    if species_key is None:\n",
    "        species_key = lambda s: s.split(\":\")[0]\n",
    "\n",
    "    by_species = {}\n",
    "    for n in names:\n",
    "        sp = species_key(n)\n",
    "        by_species.setdefault(sp, []).append(n)\n",
    "\n",
    "    # choose one random name per species\n",
    "    sampled = [random.choice(group) for group in by_species.values()]\n",
    "    return sampled\n"
   ]
  },
  {
   "cell_type": "code",
   "execution_count": 45,
   "metadata": {},
   "outputs": [],
   "source": [
    "import cogent3\n",
    "from cogent3 import load_aligned_seqs\n",
    "from cogent3 import get_app\n",
    "\n",
    "def sample_one_per_species(names, species_key=None):\n",
    "    \"\"\"Return one random name per species from a list of sequence names.\n",
    "\n",
    "    - species_key: optional function to extract species id from a name (default: part before ':')\n",
    "    - seed: optional int to make selection deterministic\n",
    "    \"\"\"\n",
    "    import random\n",
    "    seed = 7\n",
    "    random.seed(seed)\n",
    "\n",
    "    if species_key is None:\n",
    "        species_key = lambda s: s.split(\":\")[0]\n",
    "\n",
    "    by_species = {}\n",
    "    for n in names:\n",
    "        sp = species_key(n)\n",
    "        by_species.setdefault(sp, []).append(n)\n",
    "\n",
    "    # choose one random name per species\n",
    "    sampled = [random.choice(group) for group in by_species.values()]\n",
    "    return sampled\n",
    "\n",
    "@cogent3.app.composable.define_app\n",
    "def renamer_sampler(seqs: cogent3.app.typing.AlignedSeqsType) -> cogent3.app.typing.AlignedSeqsType:\n",
    "    \"\"\"\n",
    "    A function to rename sequences in a dataset.\n",
    "    \"\"\"\n",
    "    allnames = seqs.names\n",
    "\n",
    "    samplednames = sample_one_per_species(allnames, species_key=None)\n",
    "    sampledseqs = seqs.take_seqs(samplednames)\n",
    "\n",
    "    name_map = {\n",
    "        \"homo_sapiens\": \"Human\",\n",
    "        \"pan_troglodytes\": \"Chimpanzee\",\n",
    "        \"gorilla_gorilla\": \"Gorilla\"\n",
    "    }\n",
    "\n",
    "    sampledseqs = sampledseqs.rename_seqs(lambda x: name_map.get(x.split(\":\")[0], x))\n",
    "\n",
    "    return sampledseqs.take_seqs(list(name_map.values()))\n"
   ]
  },
  {
   "cell_type": "code",
   "execution_count": 47,
   "metadata": {},
   "outputs": [
    {
     "name": "stderr",
     "output_type": "stream",
     "text": [
      "/home/uliseshmc/miniforge3/envs/delme/lib/python3.13/site-packages/cogent3/util/warning.py:134: DeprecationWarning: argument format which will be removed in version 2025.9, use format_name instead\n",
      "reason='no longer has an effect'\n",
      "  deprecated(\n"
     ]
    },
    {
     "data": {
      "text/html": [
       "<style>\n",
       ".c3align table {margin: 10px 0;}\n",
       ".c3align td { border: none !important; text-align: left !important; }\n",
       ".c3align tr:not(.num_row) td span {margin: 0 2px;}\n",
       ".c3align tr:nth-child(even) {background: #f7f7f7;}\n",
       ".c3align .num_row {background-color:rgba(161, 195, 209, 0.5) !important; border-top: solid 1px black; }\n",
       ".c3align .label { font-size: 12pt ; text-align: right !important; color: black !important; padding: 0 4px; display: table-cell !important; font-weight: normal !important; }\n",
       ".c3align .T_dna{font-family: \"Lucida Console\",monospace !important; font-size: 12pt !important; color: blue; }\n",
       ".c3align .C_dna{font-family: \"Lucida Console\",monospace !important; font-size: 12pt !important; color: black; }\n",
       ".c3align .A_dna{font-family: \"Lucida Console\",monospace !important; font-size: 12pt !important; color: #FF0102; }\n",
       ".c3align .G_dna{font-family: \"Lucida Console\",monospace !important; font-size: 12pt !important; color: green; }\n",
       ".c3align .terminal_ambig_dna{font-family: \"Lucida Console\",monospace !important; font-size: 12pt !important; color: gray; }\n",
       ".c3align .ambig_dna{font-family: \"Lucida Console\",monospace !important; font-size: 12pt !important; color: gray; }\n",
       "</style>\n",
       "<div class=\"c3align\">\n",
       "<table>\n",
       "<tr class=\"num_row\"><td></td><td><b>0</b></td></tr>\n",
       "<tr><td class=\"label\">pan_troglodytes:22:4538060-4540232:-1</td><td><span class=\"terminal_ambig_dna\">?</span><span class=\"terminal_ambig_dna\">?</span><span class=\"terminal_ambig_dna\">?</span><span class=\"terminal_ambig_dna\">?</span><span class=\"terminal_ambig_dna\">?</span><span class=\"terminal_ambig_dna\">?</span><span class=\"terminal_ambig_dna\">?</span><span class=\"terminal_ambig_dna\">?</span><span class=\"terminal_ambig_dna\">?</span><span class=\"terminal_ambig_dna\">?</span><span class=\"terminal_ambig_dna\">?</span><span class=\"terminal_ambig_dna\">?</span><span class=\"terminal_ambig_dna\">?</span><span class=\"terminal_ambig_dna\">?</span><span class=\"terminal_ambig_dna\">?</span><span class=\"terminal_ambig_dna\">?</span><span class=\"terminal_ambig_dna\">?</span><span class=\"terminal_ambig_dna\">?</span><span class=\"terminal_ambig_dna\">?</span><span class=\"terminal_ambig_dna\">?</span><span class=\"terminal_ambig_dna\">?</span><span class=\"terminal_ambig_dna\">?</span><span class=\"terminal_ambig_dna\">?</span><span class=\"terminal_ambig_dna\">?</span><span class=\"terminal_ambig_dna\">?</span><span class=\"terminal_ambig_dna\">?</span><span class=\"terminal_ambig_dna\">?</span><span class=\"terminal_ambig_dna\">?</span><span class=\"terminal_ambig_dna\">?</span><span class=\"terminal_ambig_dna\">?</span><span class=\"terminal_ambig_dna\">?</span><span class=\"terminal_ambig_dna\">?</span><span class=\"terminal_ambig_dna\">?</span><span class=\"terminal_ambig_dna\">?</span><span class=\"terminal_ambig_dna\">?</span><span class=\"terminal_ambig_dna\">?</span><span class=\"terminal_ambig_dna\">?</span><span class=\"terminal_ambig_dna\">?</span><span class=\"terminal_ambig_dna\">?</span><span class=\"terminal_ambig_dna\">?</span></td></tr>\n",
       "<tr><td class=\"label\">homo_sapiens:22:17357760-17359947:-1</td><td><span class=\"terminal_ambig_dna\">.</span><span class=\"terminal_ambig_dna\">.</span><span class=\"terminal_ambig_dna\">.</span><span class=\"terminal_ambig_dna\">.</span><span class=\"terminal_ambig_dna\">.</span><span class=\"terminal_ambig_dna\">.</span><span class=\"terminal_ambig_dna\">.</span><span class=\"terminal_ambig_dna\">.</span><span class=\"terminal_ambig_dna\">.</span><span class=\"terminal_ambig_dna\">.</span><span class=\"terminal_ambig_dna\">.</span><span class=\"terminal_ambig_dna\">.</span><span class=\"terminal_ambig_dna\">.</span><span class=\"terminal_ambig_dna\">.</span><span class=\"terminal_ambig_dna\">.</span><span class=\"terminal_ambig_dna\">.</span><span class=\"terminal_ambig_dna\">.</span><span class=\"terminal_ambig_dna\">.</span><span class=\"terminal_ambig_dna\">.</span><span class=\"terminal_ambig_dna\">.</span><span class=\"terminal_ambig_dna\">.</span><span class=\"terminal_ambig_dna\">.</span><span class=\"terminal_ambig_dna\">.</span><span class=\"terminal_ambig_dna\">.</span><span class=\"terminal_ambig_dna\">.</span><span class=\"terminal_ambig_dna\">.</span><span class=\"terminal_ambig_dna\">.</span><span class=\"terminal_ambig_dna\">.</span><span class=\"terminal_ambig_dna\">.</span><span class=\"terminal_ambig_dna\">.</span><span class=\"terminal_ambig_dna\">.</span><span class=\"terminal_ambig_dna\">.</span><span class=\"terminal_ambig_dna\">.</span><span class=\"terminal_ambig_dna\">.</span><span class=\"terminal_ambig_dna\">.</span><span class=\"terminal_ambig_dna\">.</span><span class=\"terminal_ambig_dna\">.</span><span class=\"terminal_ambig_dna\">.</span><span class=\"terminal_ambig_dna\">.</span><span class=\"terminal_ambig_dna\">.</span></td></tr>\n",
       "<tr><td class=\"label\">gorilla_gorilla:22:1056208-1056635:-1</td><td><span class=\"ambig_dna\">-</span><span class=\"ambig_dna\">-</span><span class=\"ambig_dna\">-</span><span class=\"ambig_dna\">-</span><span class=\"ambig_dna\">-</span><span class=\"ambig_dna\">-</span><span class=\"ambig_dna\">-</span><span class=\"ambig_dna\">-</span><span class=\"ambig_dna\">-</span><span class=\"ambig_dna\">-</span><span class=\"ambig_dna\">-</span><span class=\"ambig_dna\">-</span><span class=\"ambig_dna\">-</span><span class=\"ambig_dna\">-</span><span class=\"ambig_dna\">-</span><span class=\"ambig_dna\">-</span><span class=\"ambig_dna\">-</span><span class=\"ambig_dna\">-</span><span class=\"ambig_dna\">-</span><span class=\"ambig_dna\">-</span><span class=\"ambig_dna\">-</span><span class=\"ambig_dna\">-</span><span class=\"ambig_dna\">-</span><span class=\"ambig_dna\">-</span><span class=\"ambig_dna\">-</span><span class=\"ambig_dna\">-</span><span class=\"ambig_dna\">-</span><span class=\"ambig_dna\">-</span><span class=\"ambig_dna\">-</span><span class=\"ambig_dna\">-</span><span class=\"ambig_dna\">-</span><span class=\"ambig_dna\">-</span><span class=\"ambig_dna\">-</span><span class=\"ambig_dna\">-</span><span class=\"ambig_dna\">-</span><span class=\"ambig_dna\">-</span><span class=\"ambig_dna\">-</span><span class=\"ambig_dna\">-</span><span class=\"ambig_dna\">-</span><span class=\"ambig_dna\">-</span></td></tr>\n",
       "</table>\n",
       "<p><i>3 x 6122 (truncated to 3 x 40) dna alignment</i></p>\n",
       "</div>"
      ],
      "text/plain": [
       "3 x 6122 dna alignment: homo_sapiens:22:17357760-17359947:-1[??????????...], gorilla_gorilla:22:1056208-1056635:-1[----------...], pan_troglodytes:22:4538060-4540232:-1[??????????...]"
      ]
     },
     "execution_count": 47,
     "metadata": {},
     "output_type": "execute_result"
    }
   ],
   "source": [
    "folder_in = '/home/uliseshmc/Documents/Proyectos/EstimatingUd/Data/Gavin_apes114/test_intergenic_1column/'\n",
    "in_dstore = cogent3.open_data_store(folder_in, suffix='fa', mode='r')\n",
    "\n",
    "#in_dstore.describe\n",
    "\n",
    "#sequence = 'homo_sapiens-22-15915800-16141765.fa'\n",
    "sequence = 'homo_sapiens-22-17353177-17359947.fa'\n",
    "\n",
    "\n",
    "aln = load_aligned_seqs(filename = folder_in + sequence, format=\"fasta\", moltype='dna')\n",
    "aln.set_repr_policy(num_pos=40)\n",
    "\n",
    "aln"
   ]
  },
  {
   "cell_type": "code",
   "execution_count": 53,
   "metadata": {},
   "outputs": [],
   "source": [
    "rename = renamer_sampler()\n",
    "aln = rename(aln)\n"
   ]
  },
  {
   "cell_type": "code",
   "execution_count": 54,
   "metadata": {},
   "outputs": [
    {
     "data": {
      "text/html": [
       "<style>\n",
       ".c3align table {margin: 10px 0;}\n",
       ".c3align td { border: none !important; text-align: left !important; }\n",
       ".c3align tr:not(.num_row) td span {margin: 0 2px;}\n",
       ".c3align tr:nth-child(even) {background: #f7f7f7;}\n",
       ".c3align .num_row {background-color:rgba(161, 195, 209, 0.5) !important; border-top: solid 1px black; }\n",
       ".c3align .label { font-size: 12pt ; text-align: right !important; color: black !important; padding: 0 4px; display: table-cell !important; font-weight: normal !important; }\n",
       ".c3align .T_dna{font-family: \"Lucida Console\",monospace !important; font-size: 12pt !important; color: blue; }\n",
       ".c3align .C_dna{font-family: \"Lucida Console\",monospace !important; font-size: 12pt !important; color: black; }\n",
       ".c3align .A_dna{font-family: \"Lucida Console\",monospace !important; font-size: 12pt !important; color: #FF0102; }\n",
       ".c3align .G_dna{font-family: \"Lucida Console\",monospace !important; font-size: 12pt !important; color: green; }\n",
       ".c3align .terminal_ambig_dna{font-family: \"Lucida Console\",monospace !important; font-size: 12pt !important; color: gray; }\n",
       ".c3align .ambig_dna{font-family: \"Lucida Console\",monospace !important; font-size: 12pt !important; color: gray; }\n",
       "</style>\n",
       "<div class=\"c3align\">\n",
       "<table>\n",
       "<tr class=\"num_row\"><td></td><td><b>0</b></td></tr>\n",
       "<tr><td class=\"label\">Chimpanzee</td><td><span class=\"A_dna\">A</span><span class=\"A_dna\">A</span><span class=\"T_dna\">T</span><span class=\"C_dna\">C</span><span class=\"C_dna\">C</span><span class=\"T_dna\">T</span><span class=\"A_dna\">A</span><span class=\"G_dna\">G</span><span class=\"C_dna\">C</span><span class=\"A_dna\">A</span><span class=\"C_dna\">C</span><span class=\"A_dna\">A</span><span class=\"C_dna\">C</span><span class=\"A_dna\">A</span><span class=\"C_dna\">C</span><span class=\"T_dna\">T</span></td></tr>\n",
       "<tr><td class=\"label\">Human</td><td><span class=\"A_dna\">.</span><span class=\"A_dna\">.</span><span class=\"T_dna\">.</span><span class=\"C_dna\">.</span><span class=\"C_dna\">.</span><span class=\"T_dna\">.</span><span class=\"A_dna\">.</span><span class=\"G_dna\">.</span><span class=\"C_dna\">.</span><span class=\"A_dna\">.</span><span class=\"C_dna\">.</span><span class=\"A_dna\">.</span><span class=\"C_dna\">.</span><span class=\"A_dna\">.</span><span class=\"C_dna\">.</span><span class=\"T_dna\">.</span></td></tr>\n",
       "<tr><td class=\"label\">Gorilla</td><td><span class=\"C_dna\">C</span><span class=\"A_dna\">.</span><span class=\"T_dna\">.</span><span class=\"T_dna\">T</span><span class=\"C_dna\">.</span><span class=\"T_dna\">.</span><span class=\"A_dna\">.</span><span class=\"G_dna\">.</span><span class=\"C_dna\">.</span><span class=\"T_dna\">T</span><span class=\"C_dna\">.</span><span class=\"A_dna\">.</span><span class=\"C_dna\">.</span><span class=\"A_dna\">.</span><span class=\"C_dna\">.</span><span class=\"T_dna\">.</span></td></tr>\n",
       "</table>\n",
       "<p><i>3 x 16 dna alignment</i></p>\n",
       "</div>"
      ],
      "text/plain": [
       "3 x 16 dna alignment: Human[AATCCTAGCA...], Chimpanzee[AATCCTAGCA...], Gorilla[CATTCTAGCT...]"
      ]
     },
     "execution_count": 54,
     "metadata": {},
     "output_type": "execute_result"
    }
   ],
   "source": [
    "aln2 = aln.no_degenerates()\n",
    "aln2.set_repr_policy(num_pos=40)\n",
    "aln2"
   ]
  },
  {
   "cell_type": "code",
   "execution_count": null,
   "metadata": {},
   "outputs": [],
   "source": [
    "sampled_names = sample_one_per_species(allnames)\n",
    "sampled_aln = aln.take_seqs(sampled_names)\n",
    "sampled_aln"
   ]
  },
  {
   "cell_type": "code",
   "execution_count": 75,
   "metadata": {},
   "outputs": [
    {
     "data": {
      "text/html": [
       "<style>\n",
       ".c3align table {margin: 10px 0;}\n",
       ".c3align td { border: none !important; text-align: left !important; }\n",
       ".c3align tr:not(.num_row) td span {margin: 0 2px;}\n",
       ".c3align tr:nth-child(even) {background: #f7f7f7;}\n",
       ".c3align .num_row {background-color:rgba(161, 195, 209, 0.5) !important; border-top: solid 1px black; }\n",
       ".c3align .label { font-size: 12pt ; text-align: right !important; color: black !important; padding: 0 4px; display: table-cell !important; font-weight: normal !important; }\n",
       ".c3align .T_dna{font-family: \"Lucida Console\",monospace !important; font-size: 12pt !important; color: blue; }\n",
       ".c3align .C_dna{font-family: \"Lucida Console\",monospace !important; font-size: 12pt !important; color: black; }\n",
       ".c3align .A_dna{font-family: \"Lucida Console\",monospace !important; font-size: 12pt !important; color: #FF0102; }\n",
       ".c3align .G_dna{font-family: \"Lucida Console\",monospace !important; font-size: 12pt !important; color: green; }\n",
       ".c3align .terminal_ambig_dna{font-family: \"Lucida Console\",monospace !important; font-size: 12pt !important; color: gray; }\n",
       ".c3align .ambig_dna{font-family: \"Lucida Console\",monospace !important; font-size: 12pt !important; color: gray; }\n",
       "</style>\n",
       "<div class=\"c3align\">\n",
       "<table>\n",
       "<tr class=\"num_row\"><td></td><td><b>0</b></td></tr>\n",
       "<tr><td class=\"label\">homo_sapiens:22:16105098-16141765:-1</td><td><span class=\"terminal_ambig_dna\">?</span><span class=\"terminal_ambig_dna\">?</span><span class=\"terminal_ambig_dna\">?</span><span class=\"terminal_ambig_dna\">?</span><span class=\"terminal_ambig_dna\">?</span><span class=\"terminal_ambig_dna\">?</span><span class=\"terminal_ambig_dna\">?</span><span class=\"terminal_ambig_dna\">?</span><span class=\"terminal_ambig_dna\">?</span><span class=\"terminal_ambig_dna\">?</span><span class=\"terminal_ambig_dna\">?</span><span class=\"terminal_ambig_dna\">?</span><span class=\"terminal_ambig_dna\">?</span><span class=\"terminal_ambig_dna\">?</span><span class=\"terminal_ambig_dna\">?</span><span class=\"terminal_ambig_dna\">?</span><span class=\"terminal_ambig_dna\">?</span><span class=\"terminal_ambig_dna\">?</span><span class=\"terminal_ambig_dna\">?</span><span class=\"terminal_ambig_dna\">?</span><span class=\"terminal_ambig_dna\">?</span><span class=\"terminal_ambig_dna\">?</span><span class=\"terminal_ambig_dna\">?</span><span class=\"terminal_ambig_dna\">?</span><span class=\"terminal_ambig_dna\">?</span><span class=\"terminal_ambig_dna\">?</span><span class=\"terminal_ambig_dna\">?</span><span class=\"terminal_ambig_dna\">?</span><span class=\"terminal_ambig_dna\">?</span><span class=\"terminal_ambig_dna\">?</span><span class=\"terminal_ambig_dna\">?</span><span class=\"terminal_ambig_dna\">?</span><span class=\"terminal_ambig_dna\">?</span><span class=\"terminal_ambig_dna\">?</span><span class=\"terminal_ambig_dna\">?</span><span class=\"terminal_ambig_dna\">?</span><span class=\"terminal_ambig_dna\">?</span><span class=\"terminal_ambig_dna\">?</span><span class=\"terminal_ambig_dna\">?</span><span class=\"terminal_ambig_dna\">?</span><span class=\"terminal_ambig_dna\">?</span><span class=\"terminal_ambig_dna\">?</span><span class=\"terminal_ambig_dna\">?</span><span class=\"terminal_ambig_dna\">?</span><span class=\"terminal_ambig_dna\">?</span><span class=\"terminal_ambig_dna\">?</span><span class=\"terminal_ambig_dna\">?</span><span class=\"terminal_ambig_dna\">?</span><span class=\"terminal_ambig_dna\">?</span><span class=\"terminal_ambig_dna\">?</span><span class=\"terminal_ambig_dna\">?</span><span class=\"terminal_ambig_dna\">?</span><span class=\"terminal_ambig_dna\">?</span><span class=\"terminal_ambig_dna\">?</span><span class=\"terminal_ambig_dna\">?</span><span class=\"terminal_ambig_dna\">?</span><span class=\"terminal_ambig_dna\">?</span><span class=\"terminal_ambig_dna\">?</span><span class=\"terminal_ambig_dna\">?</span><span class=\"terminal_ambig_dna\">?</span></td></tr>\n",
       "<tr class=\"num_row\"><td></td><td><b>60</b></td></tr>\n",
       "<tr><td class=\"label\">homo_sapiens:22:16105098-16141765:-1</td><td><span class=\"terminal_ambig_dna\">?</span><span class=\"terminal_ambig_dna\">?</span><span class=\"terminal_ambig_dna\">?</span><span class=\"terminal_ambig_dna\">?</span><span class=\"terminal_ambig_dna\">?</span><span class=\"terminal_ambig_dna\">?</span><span class=\"terminal_ambig_dna\">?</span><span class=\"terminal_ambig_dna\">?</span><span class=\"terminal_ambig_dna\">?</span><span class=\"terminal_ambig_dna\">?</span><span class=\"terminal_ambig_dna\">?</span><span class=\"terminal_ambig_dna\">?</span><span class=\"terminal_ambig_dna\">?</span><span class=\"terminal_ambig_dna\">?</span><span class=\"terminal_ambig_dna\">?</span><span class=\"terminal_ambig_dna\">?</span><span class=\"terminal_ambig_dna\">?</span><span class=\"terminal_ambig_dna\">?</span><span class=\"terminal_ambig_dna\">?</span><span class=\"terminal_ambig_dna\">?</span><span class=\"terminal_ambig_dna\">?</span><span class=\"terminal_ambig_dna\">?</span><span class=\"terminal_ambig_dna\">?</span><span class=\"terminal_ambig_dna\">?</span><span class=\"terminal_ambig_dna\">?</span><span class=\"terminal_ambig_dna\">?</span><span class=\"terminal_ambig_dna\">?</span><span class=\"terminal_ambig_dna\">?</span><span class=\"terminal_ambig_dna\">?</span><span class=\"terminal_ambig_dna\">?</span><span class=\"terminal_ambig_dna\">?</span><span class=\"terminal_ambig_dna\">?</span><span class=\"terminal_ambig_dna\">?</span><span class=\"terminal_ambig_dna\">?</span><span class=\"terminal_ambig_dna\">?</span><span class=\"terminal_ambig_dna\">?</span><span class=\"terminal_ambig_dna\">?</span><span class=\"terminal_ambig_dna\">?</span><span class=\"terminal_ambig_dna\">?</span><span class=\"terminal_ambig_dna\">?</span><span class=\"terminal_ambig_dna\">?</span><span class=\"terminal_ambig_dna\">?</span><span class=\"terminal_ambig_dna\">?</span><span class=\"terminal_ambig_dna\">?</span><span class=\"terminal_ambig_dna\">?</span><span class=\"terminal_ambig_dna\">?</span><span class=\"terminal_ambig_dna\">?</span><span class=\"terminal_ambig_dna\">?</span><span class=\"terminal_ambig_dna\">?</span><span class=\"terminal_ambig_dna\">?</span><span class=\"terminal_ambig_dna\">?</span><span class=\"terminal_ambig_dna\">?</span><span class=\"terminal_ambig_dna\">?</span><span class=\"terminal_ambig_dna\">?</span><span class=\"terminal_ambig_dna\">?</span><span class=\"terminal_ambig_dna\">?</span><span class=\"terminal_ambig_dna\">?</span><span class=\"terminal_ambig_dna\">?</span><span class=\"terminal_ambig_dna\">?</span><span class=\"terminal_ambig_dna\">?</span></td></tr>\n",
       "<tr class=\"num_row\"><td></td><td><b>120</b></td></tr>\n",
       "<tr><td class=\"label\">homo_sapiens:22:16105098-16141765:-1</td><td><span class=\"terminal_ambig_dna\">?</span><span class=\"terminal_ambig_dna\">?</span><span class=\"terminal_ambig_dna\">?</span><span class=\"terminal_ambig_dna\">?</span><span class=\"terminal_ambig_dna\">?</span><span class=\"terminal_ambig_dna\">?</span><span class=\"terminal_ambig_dna\">?</span><span class=\"terminal_ambig_dna\">?</span><span class=\"terminal_ambig_dna\">?</span><span class=\"terminal_ambig_dna\">?</span><span class=\"terminal_ambig_dna\">?</span><span class=\"terminal_ambig_dna\">?</span><span class=\"terminal_ambig_dna\">?</span><span class=\"terminal_ambig_dna\">?</span><span class=\"terminal_ambig_dna\">?</span><span class=\"terminal_ambig_dna\">?</span><span class=\"terminal_ambig_dna\">?</span><span class=\"terminal_ambig_dna\">?</span><span class=\"terminal_ambig_dna\">?</span><span class=\"terminal_ambig_dna\">?</span><span class=\"terminal_ambig_dna\">?</span><span class=\"terminal_ambig_dna\">?</span><span class=\"terminal_ambig_dna\">?</span><span class=\"terminal_ambig_dna\">?</span><span class=\"terminal_ambig_dna\">?</span><span class=\"terminal_ambig_dna\">?</span><span class=\"terminal_ambig_dna\">?</span><span class=\"terminal_ambig_dna\">?</span><span class=\"terminal_ambig_dna\">?</span><span class=\"terminal_ambig_dna\">?</span><span class=\"terminal_ambig_dna\">?</span><span class=\"terminal_ambig_dna\">?</span><span class=\"terminal_ambig_dna\">?</span><span class=\"terminal_ambig_dna\">?</span><span class=\"terminal_ambig_dna\">?</span><span class=\"terminal_ambig_dna\">?</span><span class=\"terminal_ambig_dna\">?</span><span class=\"terminal_ambig_dna\">?</span><span class=\"terminal_ambig_dna\">?</span><span class=\"terminal_ambig_dna\">?</span><span class=\"terminal_ambig_dna\">?</span><span class=\"terminal_ambig_dna\">?</span><span class=\"terminal_ambig_dna\">?</span><span class=\"terminal_ambig_dna\">?</span><span class=\"terminal_ambig_dna\">?</span><span class=\"terminal_ambig_dna\">?</span><span class=\"terminal_ambig_dna\">?</span><span class=\"terminal_ambig_dna\">?</span><span class=\"terminal_ambig_dna\">?</span><span class=\"terminal_ambig_dna\">?</span><span class=\"terminal_ambig_dna\">?</span><span class=\"terminal_ambig_dna\">?</span><span class=\"terminal_ambig_dna\">?</span><span class=\"terminal_ambig_dna\">?</span><span class=\"terminal_ambig_dna\">?</span><span class=\"terminal_ambig_dna\">?</span><span class=\"terminal_ambig_dna\">?</span><span class=\"terminal_ambig_dna\">?</span><span class=\"terminal_ambig_dna\">?</span><span class=\"terminal_ambig_dna\">?</span></td></tr>\n",
       "<tr class=\"num_row\"><td></td><td><b>180</b></td></tr>\n",
       "<tr><td class=\"label\">homo_sapiens:22:16105098-16141765:-1</td><td><span class=\"terminal_ambig_dna\">?</span><span class=\"terminal_ambig_dna\">?</span><span class=\"terminal_ambig_dna\">?</span><span class=\"terminal_ambig_dna\">?</span><span class=\"terminal_ambig_dna\">?</span><span class=\"terminal_ambig_dna\">?</span><span class=\"terminal_ambig_dna\">?</span><span class=\"terminal_ambig_dna\">?</span><span class=\"terminal_ambig_dna\">?</span><span class=\"terminal_ambig_dna\">?</span><span class=\"terminal_ambig_dna\">?</span><span class=\"terminal_ambig_dna\">?</span><span class=\"terminal_ambig_dna\">?</span><span class=\"terminal_ambig_dna\">?</span><span class=\"terminal_ambig_dna\">?</span><span class=\"terminal_ambig_dna\">?</span><span class=\"terminal_ambig_dna\">?</span><span class=\"terminal_ambig_dna\">?</span><span class=\"terminal_ambig_dna\">?</span><span class=\"terminal_ambig_dna\">?</span><span class=\"terminal_ambig_dna\">?</span><span class=\"terminal_ambig_dna\">?</span><span class=\"terminal_ambig_dna\">?</span><span class=\"terminal_ambig_dna\">?</span><span class=\"terminal_ambig_dna\">?</span><span class=\"terminal_ambig_dna\">?</span><span class=\"terminal_ambig_dna\">?</span><span class=\"terminal_ambig_dna\">?</span><span class=\"terminal_ambig_dna\">?</span><span class=\"terminal_ambig_dna\">?</span><span class=\"terminal_ambig_dna\">?</span><span class=\"terminal_ambig_dna\">?</span><span class=\"terminal_ambig_dna\">?</span><span class=\"terminal_ambig_dna\">?</span><span class=\"terminal_ambig_dna\">?</span><span class=\"terminal_ambig_dna\">?</span><span class=\"terminal_ambig_dna\">?</span><span class=\"terminal_ambig_dna\">?</span><span class=\"terminal_ambig_dna\">?</span><span class=\"terminal_ambig_dna\">?</span><span class=\"terminal_ambig_dna\">?</span><span class=\"terminal_ambig_dna\">?</span><span class=\"terminal_ambig_dna\">?</span><span class=\"terminal_ambig_dna\">?</span><span class=\"terminal_ambig_dna\">?</span><span class=\"terminal_ambig_dna\">?</span><span class=\"terminal_ambig_dna\">?</span><span class=\"terminal_ambig_dna\">?</span><span class=\"terminal_ambig_dna\">?</span><span class=\"terminal_ambig_dna\">?</span><span class=\"terminal_ambig_dna\">?</span><span class=\"terminal_ambig_dna\">?</span><span class=\"terminal_ambig_dna\">?</span><span class=\"terminal_ambig_dna\">?</span><span class=\"terminal_ambig_dna\">?</span><span class=\"terminal_ambig_dna\">?</span><span class=\"terminal_ambig_dna\">?</span><span class=\"terminal_ambig_dna\">?</span><span class=\"terminal_ambig_dna\">?</span><span class=\"terminal_ambig_dna\">?</span></td></tr>\n",
       "<tr class=\"num_row\"><td></td><td><b>240</b></td></tr>\n",
       "<tr><td class=\"label\">homo_sapiens:22:16105098-16141765:-1</td><td><span class=\"terminal_ambig_dna\">?</span><span class=\"terminal_ambig_dna\">?</span><span class=\"terminal_ambig_dna\">?</span><span class=\"terminal_ambig_dna\">?</span><span class=\"terminal_ambig_dna\">?</span><span class=\"terminal_ambig_dna\">?</span><span class=\"terminal_ambig_dna\">?</span><span class=\"terminal_ambig_dna\">?</span><span class=\"terminal_ambig_dna\">?</span><span class=\"terminal_ambig_dna\">?</span><span class=\"terminal_ambig_dna\">?</span><span class=\"terminal_ambig_dna\">?</span><span class=\"terminal_ambig_dna\">?</span><span class=\"terminal_ambig_dna\">?</span><span class=\"terminal_ambig_dna\">?</span><span class=\"terminal_ambig_dna\">?</span><span class=\"terminal_ambig_dna\">?</span><span class=\"terminal_ambig_dna\">?</span><span class=\"terminal_ambig_dna\">?</span><span class=\"terminal_ambig_dna\">?</span><span class=\"terminal_ambig_dna\">?</span><span class=\"terminal_ambig_dna\">?</span><span class=\"terminal_ambig_dna\">?</span><span class=\"terminal_ambig_dna\">?</span><span class=\"terminal_ambig_dna\">?</span><span class=\"terminal_ambig_dna\">?</span><span class=\"terminal_ambig_dna\">?</span><span class=\"terminal_ambig_dna\">?</span><span class=\"terminal_ambig_dna\">?</span><span class=\"terminal_ambig_dna\">?</span><span class=\"terminal_ambig_dna\">?</span><span class=\"terminal_ambig_dna\">?</span><span class=\"terminal_ambig_dna\">?</span><span class=\"terminal_ambig_dna\">?</span><span class=\"terminal_ambig_dna\">?</span><span class=\"terminal_ambig_dna\">?</span><span class=\"terminal_ambig_dna\">?</span><span class=\"terminal_ambig_dna\">?</span><span class=\"terminal_ambig_dna\">?</span><span class=\"terminal_ambig_dna\">?</span><span class=\"terminal_ambig_dna\">?</span><span class=\"terminal_ambig_dna\">?</span><span class=\"terminal_ambig_dna\">?</span><span class=\"terminal_ambig_dna\">?</span><span class=\"terminal_ambig_dna\">?</span><span class=\"terminal_ambig_dna\">?</span><span class=\"terminal_ambig_dna\">?</span><span class=\"terminal_ambig_dna\">?</span><span class=\"terminal_ambig_dna\">?</span><span class=\"terminal_ambig_dna\">?</span><span class=\"terminal_ambig_dna\">?</span><span class=\"terminal_ambig_dna\">?</span><span class=\"terminal_ambig_dna\">?</span><span class=\"terminal_ambig_dna\">?</span><span class=\"terminal_ambig_dna\">?</span><span class=\"terminal_ambig_dna\">?</span><span class=\"terminal_ambig_dna\">?</span><span class=\"terminal_ambig_dna\">?</span><span class=\"terminal_ambig_dna\">?</span><span class=\"terminal_ambig_dna\">?</span></td></tr>\n",
       "<tr class=\"num_row\"><td></td><td><b>300</b></td></tr>\n",
       "<tr><td class=\"label\">homo_sapiens:22:16105098-16141765:-1</td><td><span class=\"terminal_ambig_dna\">?</span><span class=\"terminal_ambig_dna\">?</span><span class=\"terminal_ambig_dna\">?</span><span class=\"terminal_ambig_dna\">?</span><span class=\"terminal_ambig_dna\">?</span><span class=\"terminal_ambig_dna\">?</span><span class=\"terminal_ambig_dna\">?</span><span class=\"terminal_ambig_dna\">?</span><span class=\"terminal_ambig_dna\">?</span><span class=\"terminal_ambig_dna\">?</span><span class=\"terminal_ambig_dna\">?</span><span class=\"terminal_ambig_dna\">?</span><span class=\"terminal_ambig_dna\">?</span><span class=\"terminal_ambig_dna\">?</span><span class=\"terminal_ambig_dna\">?</span><span class=\"terminal_ambig_dna\">?</span><span class=\"terminal_ambig_dna\">?</span><span class=\"terminal_ambig_dna\">?</span><span class=\"terminal_ambig_dna\">?</span><span class=\"terminal_ambig_dna\">?</span><span class=\"terminal_ambig_dna\">?</span><span class=\"terminal_ambig_dna\">?</span><span class=\"terminal_ambig_dna\">?</span><span class=\"terminal_ambig_dna\">?</span><span class=\"terminal_ambig_dna\">?</span><span class=\"terminal_ambig_dna\">?</span><span class=\"terminal_ambig_dna\">?</span><span class=\"terminal_ambig_dna\">?</span><span class=\"terminal_ambig_dna\">?</span><span class=\"terminal_ambig_dna\">?</span><span class=\"terminal_ambig_dna\">?</span><span class=\"terminal_ambig_dna\">?</span><span class=\"terminal_ambig_dna\">?</span><span class=\"terminal_ambig_dna\">?</span><span class=\"terminal_ambig_dna\">?</span><span class=\"terminal_ambig_dna\">?</span><span class=\"terminal_ambig_dna\">?</span><span class=\"terminal_ambig_dna\">?</span><span class=\"terminal_ambig_dna\">?</span><span class=\"terminal_ambig_dna\">?</span><span class=\"terminal_ambig_dna\">?</span><span class=\"terminal_ambig_dna\">?</span><span class=\"terminal_ambig_dna\">?</span><span class=\"terminal_ambig_dna\">?</span><span class=\"terminal_ambig_dna\">?</span><span class=\"terminal_ambig_dna\">?</span><span class=\"terminal_ambig_dna\">?</span><span class=\"terminal_ambig_dna\">?</span><span class=\"terminal_ambig_dna\">?</span><span class=\"terminal_ambig_dna\">?</span><span class=\"terminal_ambig_dna\">?</span><span class=\"terminal_ambig_dna\">?</span><span class=\"terminal_ambig_dna\">?</span><span class=\"terminal_ambig_dna\">?</span><span class=\"terminal_ambig_dna\">?</span><span class=\"terminal_ambig_dna\">?</span><span class=\"terminal_ambig_dna\">?</span><span class=\"terminal_ambig_dna\">?</span><span class=\"terminal_ambig_dna\">?</span><span class=\"terminal_ambig_dna\">?</span></td></tr>\n",
       "<tr class=\"num_row\"><td></td><td><b>360</b></td></tr>\n",
       "<tr><td class=\"label\">homo_sapiens:22:16105098-16141765:-1</td><td><span class=\"terminal_ambig_dna\">?</span><span class=\"terminal_ambig_dna\">?</span><span class=\"terminal_ambig_dna\">?</span><span class=\"terminal_ambig_dna\">?</span><span class=\"terminal_ambig_dna\">?</span><span class=\"terminal_ambig_dna\">?</span><span class=\"terminal_ambig_dna\">?</span><span class=\"terminal_ambig_dna\">?</span><span class=\"terminal_ambig_dna\">?</span><span class=\"terminal_ambig_dna\">?</span><span class=\"terminal_ambig_dna\">?</span><span class=\"terminal_ambig_dna\">?</span><span class=\"terminal_ambig_dna\">?</span><span class=\"terminal_ambig_dna\">?</span><span class=\"terminal_ambig_dna\">?</span><span class=\"terminal_ambig_dna\">?</span><span class=\"terminal_ambig_dna\">?</span><span class=\"terminal_ambig_dna\">?</span><span class=\"terminal_ambig_dna\">?</span><span class=\"terminal_ambig_dna\">?</span><span class=\"terminal_ambig_dna\">?</span><span class=\"terminal_ambig_dna\">?</span><span class=\"terminal_ambig_dna\">?</span><span class=\"terminal_ambig_dna\">?</span><span class=\"terminal_ambig_dna\">?</span><span class=\"terminal_ambig_dna\">?</span><span class=\"terminal_ambig_dna\">?</span><span class=\"terminal_ambig_dna\">?</span><span class=\"terminal_ambig_dna\">?</span><span class=\"terminal_ambig_dna\">?</span><span class=\"terminal_ambig_dna\">?</span><span class=\"terminal_ambig_dna\">?</span><span class=\"terminal_ambig_dna\">?</span><span class=\"terminal_ambig_dna\">?</span><span class=\"terminal_ambig_dna\">?</span><span class=\"terminal_ambig_dna\">?</span><span class=\"terminal_ambig_dna\">?</span><span class=\"terminal_ambig_dna\">?</span><span class=\"terminal_ambig_dna\">?</span><span class=\"terminal_ambig_dna\">?</span><span class=\"terminal_ambig_dna\">?</span><span class=\"terminal_ambig_dna\">?</span><span class=\"terminal_ambig_dna\">?</span><span class=\"terminal_ambig_dna\">?</span><span class=\"terminal_ambig_dna\">?</span><span class=\"terminal_ambig_dna\">?</span><span class=\"terminal_ambig_dna\">?</span><span class=\"terminal_ambig_dna\">?</span><span class=\"terminal_ambig_dna\">?</span><span class=\"terminal_ambig_dna\">?</span><span class=\"terminal_ambig_dna\">?</span><span class=\"terminal_ambig_dna\">?</span><span class=\"terminal_ambig_dna\">?</span><span class=\"terminal_ambig_dna\">?</span><span class=\"terminal_ambig_dna\">?</span><span class=\"terminal_ambig_dna\">?</span><span class=\"terminal_ambig_dna\">?</span><span class=\"terminal_ambig_dna\">?</span><span class=\"terminal_ambig_dna\">?</span><span class=\"terminal_ambig_dna\">?</span></td></tr>\n",
       "<tr class=\"num_row\"><td></td><td><b>420</b></td></tr>\n",
       "<tr><td class=\"label\">homo_sapiens:22:16105098-16141765:-1</td><td><span class=\"terminal_ambig_dna\">?</span><span class=\"terminal_ambig_dna\">?</span><span class=\"terminal_ambig_dna\">?</span><span class=\"terminal_ambig_dna\">?</span><span class=\"terminal_ambig_dna\">?</span><span class=\"terminal_ambig_dna\">?</span><span class=\"terminal_ambig_dna\">?</span><span class=\"terminal_ambig_dna\">?</span><span class=\"terminal_ambig_dna\">?</span><span class=\"terminal_ambig_dna\">?</span><span class=\"terminal_ambig_dna\">?</span><span class=\"terminal_ambig_dna\">?</span><span class=\"terminal_ambig_dna\">?</span><span class=\"terminal_ambig_dna\">?</span><span class=\"terminal_ambig_dna\">?</span><span class=\"terminal_ambig_dna\">?</span><span class=\"terminal_ambig_dna\">-</span><span class=\"terminal_ambig_dna\">?</span><span class=\"terminal_ambig_dna\">?</span><span class=\"terminal_ambig_dna\">?</span><span class=\"terminal_ambig_dna\">?</span><span class=\"terminal_ambig_dna\">?</span><span class=\"terminal_ambig_dna\">?</span><span class=\"terminal_ambig_dna\">?</span><span class=\"terminal_ambig_dna\">?</span><span class=\"terminal_ambig_dna\">?</span><span class=\"terminal_ambig_dna\">?</span><span class=\"terminal_ambig_dna\">?</span><span class=\"terminal_ambig_dna\">?</span><span class=\"terminal_ambig_dna\">?</span><span class=\"terminal_ambig_dna\">?</span><span class=\"terminal_ambig_dna\">?</span><span class=\"terminal_ambig_dna\">?</span><span class=\"terminal_ambig_dna\">?</span><span class=\"terminal_ambig_dna\">?</span><span class=\"terminal_ambig_dna\">?</span><span class=\"terminal_ambig_dna\">?</span><span class=\"terminal_ambig_dna\">?</span><span class=\"terminal_ambig_dna\">?</span><span class=\"terminal_ambig_dna\">?</span><span class=\"terminal_ambig_dna\">?</span><span class=\"terminal_ambig_dna\">?</span><span class=\"terminal_ambig_dna\">?</span><span class=\"terminal_ambig_dna\">?</span><span class=\"terminal_ambig_dna\">?</span><span class=\"terminal_ambig_dna\">?</span><span class=\"terminal_ambig_dna\">?</span><span class=\"terminal_ambig_dna\">?</span><span class=\"terminal_ambig_dna\">?</span><span class=\"terminal_ambig_dna\">?</span><span class=\"terminal_ambig_dna\">?</span><span class=\"terminal_ambig_dna\">?</span><span class=\"terminal_ambig_dna\">?</span><span class=\"terminal_ambig_dna\">?</span><span class=\"terminal_ambig_dna\">?</span><span class=\"terminal_ambig_dna\">?</span><span class=\"terminal_ambig_dna\">?</span><span class=\"terminal_ambig_dna\">?</span><span class=\"terminal_ambig_dna\">?</span><span class=\"terminal_ambig_dna\">?</span></td></tr>\n",
       "<tr class=\"num_row\"><td></td><td><b>480</b></td></tr>\n",
       "<tr><td class=\"label\">homo_sapiens:22:16105098-16141765:-1</td><td><span class=\"terminal_ambig_dna\">?</span><span class=\"terminal_ambig_dna\">?</span><span class=\"terminal_ambig_dna\">?</span><span class=\"terminal_ambig_dna\">?</span><span class=\"terminal_ambig_dna\">?</span><span class=\"terminal_ambig_dna\">?</span><span class=\"terminal_ambig_dna\">?</span><span class=\"terminal_ambig_dna\">?</span><span class=\"terminal_ambig_dna\">?</span><span class=\"terminal_ambig_dna\">?</span><span class=\"terminal_ambig_dna\">?</span><span class=\"terminal_ambig_dna\">?</span><span class=\"terminal_ambig_dna\">?</span><span class=\"terminal_ambig_dna\">?</span><span class=\"terminal_ambig_dna\">?</span><span class=\"terminal_ambig_dna\">?</span><span class=\"terminal_ambig_dna\">?</span><span class=\"terminal_ambig_dna\">?</span><span class=\"terminal_ambig_dna\">?</span><span class=\"terminal_ambig_dna\">?</span><span class=\"terminal_ambig_dna\">?</span><span class=\"terminal_ambig_dna\">?</span><span class=\"terminal_ambig_dna\">?</span><span class=\"terminal_ambig_dna\">?</span><span class=\"terminal_ambig_dna\">?</span><span class=\"terminal_ambig_dna\">?</span><span class=\"terminal_ambig_dna\">?</span><span class=\"terminal_ambig_dna\">?</span><span class=\"terminal_ambig_dna\">?</span><span class=\"terminal_ambig_dna\">?</span><span class=\"terminal_ambig_dna\">?</span><span class=\"terminal_ambig_dna\">?</span><span class=\"terminal_ambig_dna\">?</span><span class=\"terminal_ambig_dna\">?</span><span class=\"terminal_ambig_dna\">?</span><span class=\"terminal_ambig_dna\">?</span><span class=\"terminal_ambig_dna\">?</span><span class=\"terminal_ambig_dna\">?</span><span class=\"terminal_ambig_dna\">?</span><span class=\"terminal_ambig_dna\">?</span><span class=\"terminal_ambig_dna\">?</span><span class=\"terminal_ambig_dna\">?</span><span class=\"terminal_ambig_dna\">?</span><span class=\"terminal_ambig_dna\">?</span><span class=\"terminal_ambig_dna\">?</span><span class=\"terminal_ambig_dna\">?</span><span class=\"terminal_ambig_dna\">?</span><span class=\"terminal_ambig_dna\">?</span><span class=\"terminal_ambig_dna\">?</span><span class=\"terminal_ambig_dna\">?</span><span class=\"terminal_ambig_dna\">?</span><span class=\"terminal_ambig_dna\">?</span><span class=\"terminal_ambig_dna\">?</span><span class=\"terminal_ambig_dna\">?</span><span class=\"terminal_ambig_dna\">?</span><span class=\"terminal_ambig_dna\">?</span><span class=\"terminal_ambig_dna\">?</span><span class=\"terminal_ambig_dna\">?</span><span class=\"terminal_ambig_dna\">?</span><span class=\"terminal_ambig_dna\">?</span></td></tr>\n",
       "<tr class=\"num_row\"><td></td><td><b>540</b></td></tr>\n",
       "<tr><td class=\"label\">homo_sapiens:22:16105098-16141765:-1</td><td><span class=\"terminal_ambig_dna\">?</span><span class=\"terminal_ambig_dna\">?</span><span class=\"terminal_ambig_dna\">?</span><span class=\"terminal_ambig_dna\">?</span><span class=\"terminal_ambig_dna\">?</span><span class=\"terminal_ambig_dna\">?</span><span class=\"terminal_ambig_dna\">?</span><span class=\"terminal_ambig_dna\">?</span><span class=\"terminal_ambig_dna\">?</span><span class=\"terminal_ambig_dna\">?</span><span class=\"terminal_ambig_dna\">?</span><span class=\"terminal_ambig_dna\">?</span><span class=\"terminal_ambig_dna\">?</span><span class=\"terminal_ambig_dna\">?</span><span class=\"terminal_ambig_dna\">?</span><span class=\"terminal_ambig_dna\">?</span><span class=\"terminal_ambig_dna\">?</span><span class=\"terminal_ambig_dna\">?</span><span class=\"terminal_ambig_dna\">?</span><span class=\"terminal_ambig_dna\">?</span><span class=\"terminal_ambig_dna\">?</span><span class=\"terminal_ambig_dna\">?</span><span class=\"terminal_ambig_dna\">?</span><span class=\"terminal_ambig_dna\">?</span><span class=\"terminal_ambig_dna\">?</span><span class=\"terminal_ambig_dna\">?</span><span class=\"terminal_ambig_dna\">?</span><span class=\"terminal_ambig_dna\">?</span><span class=\"terminal_ambig_dna\">?</span><span class=\"terminal_ambig_dna\">?</span><span class=\"terminal_ambig_dna\">?</span><span class=\"terminal_ambig_dna\">?</span><span class=\"terminal_ambig_dna\">?</span><span class=\"terminal_ambig_dna\">?</span><span class=\"terminal_ambig_dna\">?</span><span class=\"terminal_ambig_dna\">?</span><span class=\"terminal_ambig_dna\">?</span><span class=\"terminal_ambig_dna\">?</span><span class=\"terminal_ambig_dna\">?</span><span class=\"terminal_ambig_dna\">?</span><span class=\"terminal_ambig_dna\">?</span><span class=\"terminal_ambig_dna\">?</span><span class=\"terminal_ambig_dna\">?</span><span class=\"terminal_ambig_dna\">?</span><span class=\"terminal_ambig_dna\">?</span><span class=\"terminal_ambig_dna\">?</span><span class=\"terminal_ambig_dna\">?</span><span class=\"terminal_ambig_dna\">?</span><span class=\"terminal_ambig_dna\">?</span><span class=\"terminal_ambig_dna\">?</span><span class=\"terminal_ambig_dna\">?</span><span class=\"terminal_ambig_dna\">?</span><span class=\"terminal_ambig_dna\">?</span><span class=\"terminal_ambig_dna\">?</span><span class=\"terminal_ambig_dna\">?</span><span class=\"terminal_ambig_dna\">?</span><span class=\"terminal_ambig_dna\">?</span><span class=\"terminal_ambig_dna\">?</span><span class=\"terminal_ambig_dna\">?</span><span class=\"terminal_ambig_dna\">?</span></td></tr>\n",
       "<tr class=\"num_row\"><td></td><td><b>600</b></td></tr>\n",
       "<tr><td class=\"label\">homo_sapiens:22:16105098-16141765:-1</td><td><span class=\"terminal_ambig_dna\">?</span><span class=\"terminal_ambig_dna\">?</span><span class=\"terminal_ambig_dna\">?</span><span class=\"terminal_ambig_dna\">?</span><span class=\"terminal_ambig_dna\">?</span><span class=\"terminal_ambig_dna\">?</span><span class=\"terminal_ambig_dna\">?</span><span class=\"T_dna\">T</span><span class=\"G_dna\">G</span><span class=\"G_dna\">G</span><span class=\"C_dna\">C</span><span class=\"T_dna\">T</span><span class=\"G_dna\">G</span><span class=\"A_dna\">A</span><span class=\"G_dna\">G</span><span class=\"A_dna\">A</span><span class=\"A_dna\">A</span><span class=\"T_dna\">T</span><span class=\"A_dna\">A</span><span class=\"T_dna\">T</span><span class=\"G_dna\">G</span><span class=\"T_dna\">T</span><span class=\"A_dna\">A</span><span class=\"C_dna\">C</span><span class=\"A_dna\">A</span><span class=\"T_dna\">T</span><span class=\"G_dna\">G</span><span class=\"A_dna\">A</span><span class=\"A_dna\">A</span><span class=\"C_dna\">C</span><span class=\"T_dna\">T</span><span class=\"T_dna\">T</span><span class=\"T_dna\">T</span><span class=\"A_dna\">A</span><span class=\"A_dna\">A</span><span class=\"A_dna\">A</span><span class=\"A_dna\">A</span><span class=\"A_dna\">A</span><span class=\"C_dna\">C</span><span class=\"A_dna\">A</span><span class=\"T_dna\">T</span><span class=\"G_dna\">G</span><span class=\"T_dna\">T</span><span class=\"A_dna\">A</span><span class=\"G_dna\">G</span><span class=\"T_dna\">T</span><span class=\"A_dna\">A</span><span class=\"A_dna\">A</span><span class=\"C_dna\">C</span><span class=\"T_dna\">T</span><span class=\"T_dna\">T</span><span class=\"C_dna\">C</span><span class=\"A_dna\">A</span><span class=\"A_dna\">A</span><span class=\"A_dna\">A</span><span class=\"G_dna\">G</span><span class=\"T_dna\">T</span><span class=\"C_dna\">C</span><span class=\"T_dna\">T</span><span class=\"A_dna\">A</span></td></tr>\n",
       "<tr class=\"num_row\"><td></td><td><b>660</b></td></tr>\n",
       "<tr><td class=\"label\">homo_sapiens:22:16105098-16141765:-1</td><td><span class=\"C_dna\">C</span><span class=\"A_dna\">A</span><span class=\"C_dna\">C</span><span class=\"C_dna\">C</span><span class=\"A_dna\">A</span><span class=\"T_dna\">T</span><span class=\"G_dna\">G</span><span class=\"A_dna\">A</span><span class=\"A_dna\">A</span><span class=\"G_dna\">G</span><span class=\"A_dna\">A</span><span class=\"C_dna\">C</span><span class=\"T_dna\">T</span><span class=\"G_dna\">G</span><span class=\"A_dna\">A</span><span class=\"G_dna\">G</span><span class=\"G_dna\">G</span><span class=\"G_dna\">G</span><span class=\"A_dna\">A</span><span class=\"T_dna\">T</span><span class=\"C_dna\">C</span><span class=\"T_dna\">T</span><span class=\"G_dna\">G</span><span class=\"T_dna\">T</span><span class=\"G_dna\">G</span><span class=\"T_dna\">T</span><span class=\"T_dna\">T</span><span class=\"A_dna\">A</span><span class=\"A_dna\">A</span><span class=\"T_dna\">T</span><span class=\"A_dna\">A</span><span class=\"A_dna\">A</span><span class=\"G_dna\">G</span><span class=\"G_dna\">G</span><span class=\"G_dna\">G</span><span class=\"C_dna\">C</span><span class=\"A_dna\">A</span><span class=\"T_dna\">T</span><span class=\"C_dna\">C</span><span class=\"C_dna\">C</span><span class=\"T_dna\">T</span><span class=\"G_dna\">G</span><span class=\"G_dna\">G</span><span class=\"T_dna\">T</span><span class=\"C_dna\">C</span><span class=\"A_dna\">A</span><span class=\"C_dna\">C</span><span class=\"A_dna\">A</span></td></tr>\n",
       "</table>\n",
       "<p><i>1 x 708 dna alignment</i></p>\n",
       "</div>"
      ],
      "text/plain": [
       "1 x 708 dna alignment: homo_sapiens:22:16105098-16141765:-1[??????????...]"
      ]
     },
     "execution_count": 75,
     "metadata": {},
     "output_type": "execute_result"
    }
   ],
   "source": [
    "samplealn = aln.take_seqs(\"homo_sapiens:22:16105098-16141765:-1\")\n",
    "startSINEregion = 16105523\n",
    "endSINEregion = 16105806\n",
    "startposinframe = startSINEregion-16105098\n",
    "endposinframe = endSINEregion-16105098\n",
    "sample2 = samplealn[0:endposinframe]\n",
    "sample2.set_repr_policy(num_pos=4000)\n",
    "sample2"
   ]
  },
  {
   "cell_type": "code",
   "execution_count": 67,
   "metadata": {},
   "outputs": [
    {
     "name": "stderr",
     "output_type": "stream",
     "text": [
      "/home/uliseshmc/miniforge3/envs/delme/lib/python3.13/site-packages/cogent3/util/warning.py:134: DeprecationWarning: argument format which will be removed in version 2025.9, use format_name instead\n",
      "reason='no longer has an effect'\n",
      "  deprecated(\n"
     ]
    },
    {
     "data": {
      "text/html": [
       "<style>\n",
       ".c3align table {margin: 10px 0;}\n",
       ".c3align td { border: none !important; text-align: left !important; }\n",
       ".c3align tr:not(.num_row) td span {margin: 0 2px;}\n",
       ".c3align tr:nth-child(even) {background: #f7f7f7;}\n",
       ".c3align .num_row {background-color:rgba(161, 195, 209, 0.5) !important; border-top: solid 1px black; }\n",
       ".c3align .label { font-size: 12pt ; text-align: right !important; color: black !important; padding: 0 4px; display: table-cell !important; font-weight: normal !important; }\n",
       ".c3align .T_dna{font-family: \"Lucida Console\",monospace !important; font-size: 12pt !important; color: blue; }\n",
       ".c3align .C_dna{font-family: \"Lucida Console\",monospace !important; font-size: 12pt !important; color: black; }\n",
       ".c3align .A_dna{font-family: \"Lucida Console\",monospace !important; font-size: 12pt !important; color: #FF0102; }\n",
       ".c3align .G_dna{font-family: \"Lucida Console\",monospace !important; font-size: 12pt !important; color: green; }\n",
       ".c3align .terminal_ambig_dna{font-family: \"Lucida Console\",monospace !important; font-size: 12pt !important; color: gray; }\n",
       ".c3align .ambig_dna{font-family: \"Lucida Console\",monospace !important; font-size: 12pt !important; color: gray; }\n",
       "</style>\n",
       "<div class=\"c3align\">\n",
       "<table>\n",
       "<tr class=\"num_row\"><td></td><td><b>0</b></td></tr>\n",
       "<tr><td class=\"label\">homo_sapiens:14:18305967-18343036:-1</td><td><span class=\"T_dna\">T</span><span class=\"G_dna\">G</span><span class=\"G_dna\">G</span><span class=\"C_dna\">C</span><span class=\"T_dna\">T</span><span class=\"A_dna\">A</span><span class=\"A_dna\">A</span><span class=\"G_dna\">G</span><span class=\"A_dna\">A</span><span class=\"A_dna\">A</span><span class=\"T_dna\">T</span><span class=\"A_dna\">A</span><span class=\"T_dna\">T</span><span class=\"G_dna\">G</span><span class=\"T_dna\">T</span><span class=\"A_dna\">A</span><span class=\"C_dna\">C</span><span class=\"G_dna\">G</span><span class=\"T_dna\">T</span><span class=\"G_dna\">G</span><span class=\"A_dna\">A</span><span class=\"A_dna\">A</span><span class=\"T_dna\">T</span><span class=\"T_dna\">T</span><span class=\"T_dna\">T</span><span class=\"T_dna\">T</span><span class=\"A_dna\">A</span><span class=\"A_dna\">A</span><span class=\"A_dna\">A</span><span class=\"A_dna\">A</span><span class=\"A_dna\">A</span><span class=\"C_dna\">C</span><span class=\"G_dna\">G</span><span class=\"T_dna\">T</span><span class=\"A_dna\">A</span><span class=\"G_dna\">G</span><span class=\"T_dna\">T</span><span class=\"A_dna\">A</span><span class=\"A_dna\">A</span><span class=\"C_dna\">C</span></td></tr>\n",
       "<tr><td class=\"label\">homo_sapiens:18:15320945-15357916:1</td><td><span class=\"T_dna\">.</span><span class=\"G_dna\">.</span><span class=\"G_dna\">.</span><span class=\"C_dna\">.</span><span class=\"T_dna\">.</span><span class=\"G_dna\">G</span><span class=\"A_dna\">.</span><span class=\"G_dna\">.</span><span class=\"A_dna\">.</span><span class=\"A_dna\">.</span><span class=\"T_dna\">.</span><span class=\"A_dna\">.</span><span class=\"T_dna\">.</span><span class=\"G_dna\">.</span><span class=\"T_dna\">.</span><span class=\"A_dna\">.</span><span class=\"C_dna\">.</span><span class=\"G_dna\">.</span><span class=\"T_dna\">.</span><span class=\"G_dna\">.</span><span class=\"A_dna\">.</span><span class=\"A_dna\">.</span><span class=\"C_dna\">C</span><span class=\"T_dna\">.</span><span class=\"T_dna\">.</span><span class=\"T_dna\">.</span><span class=\"A_dna\">.</span><span class=\"A_dna\">.</span><span class=\"A_dna\">.</span><span class=\"A_dna\">.</span><span class=\"A_dna\">.</span><span class=\"C_dna\">.</span><span class=\"G_dna\">.</span><span class=\"T_dna\">.</span><span class=\"C_dna\">C</span><span class=\"A_dna\">A</span><span class=\"T_dna\">.</span><span class=\"A_dna\">.</span><span class=\"A_dna\">.</span><span class=\"C_dna\">.</span></td></tr>\n",
       "<tr><td class=\"label\">pan_troglodytes:KV420794.1:43768-80951:1</td><td><span class=\"T_dna\">.</span><span class=\"G_dna\">.</span><span class=\"G_dna\">.</span><span class=\"C_dna\">.</span><span class=\"T_dna\">.</span><span class=\"G_dna\">G</span><span class=\"A_dna\">.</span><span class=\"G_dna\">.</span><span class=\"A_dna\">.</span><span class=\"A_dna\">.</span><span class=\"T_dna\">.</span><span class=\"A_dna\">.</span><span class=\"T_dna\">.</span><span class=\"G_dna\">.</span><span class=\"T_dna\">.</span><span class=\"A_dna\">.</span><span class=\"T_dna\">T</span><span class=\"G_dna\">.</span><span class=\"T_dna\">.</span><span class=\"G_dna\">.</span><span class=\"A_dna\">.</span><span class=\"A_dna\">.</span><span class=\"C_dna\">C</span><span class=\"T_dna\">.</span><span class=\"T_dna\">.</span><span class=\"T_dna\">.</span><span class=\"A_dna\">.</span><span class=\"A_dna\">.</span><span class=\"A_dna\">.</span><span class=\"A_dna\">.</span><span class=\"A_dna\">.</span><span class=\"C_dna\">.</span><span class=\"G_dna\">.</span><span class=\"T_dna\">.</span><span class=\"A_dna\">.</span><span class=\"G_dna\">.</span><span class=\"T_dna\">.</span><span class=\"A_dna\">.</span><span class=\"A_dna\">.</span><span class=\"C_dna\">.</span></td></tr>\n",
       "<tr><td class=\"label\">homo_sapiens:22:16105098-16141765:-1</td><td><span class=\"T_dna\">.</span><span class=\"G_dna\">.</span><span class=\"G_dna\">.</span><span class=\"C_dna\">.</span><span class=\"T_dna\">.</span><span class=\"G_dna\">G</span><span class=\"A_dna\">.</span><span class=\"G_dna\">.</span><span class=\"A_dna\">.</span><span class=\"A_dna\">.</span><span class=\"T_dna\">.</span><span class=\"A_dna\">.</span><span class=\"T_dna\">.</span><span class=\"G_dna\">.</span><span class=\"T_dna\">.</span><span class=\"A_dna\">.</span><span class=\"C_dna\">.</span><span class=\"A_dna\">A</span><span class=\"T_dna\">.</span><span class=\"G_dna\">.</span><span class=\"A_dna\">.</span><span class=\"A_dna\">.</span><span class=\"C_dna\">C</span><span class=\"T_dna\">.</span><span class=\"T_dna\">.</span><span class=\"T_dna\">.</span><span class=\"A_dna\">.</span><span class=\"A_dna\">.</span><span class=\"A_dna\">.</span><span class=\"A_dna\">.</span><span class=\"A_dna\">.</span><span class=\"C_dna\">.</span><span class=\"G_dna\">.</span><span class=\"T_dna\">.</span><span class=\"A_dna\">.</span><span class=\"G_dna\">.</span><span class=\"T_dna\">.</span><span class=\"A_dna\">.</span><span class=\"A_dna\">.</span><span class=\"C_dna\">.</span></td></tr>\n",
       "<tr><td class=\"label\">homo_sapiens:21:13010300-13047581:-1</td><td><span class=\"T_dna\">.</span><span class=\"G_dna\">.</span><span class=\"G_dna\">.</span><span class=\"C_dna\">.</span><span class=\"T_dna\">.</span><span class=\"G_dna\">G</span><span class=\"A_dna\">.</span><span class=\"G_dna\">.</span><span class=\"A_dna\">.</span><span class=\"A_dna\">.</span><span class=\"T_dna\">.</span><span class=\"A_dna\">.</span><span class=\"T_dna\">.</span><span class=\"G_dna\">.</span><span class=\"T_dna\">.</span><span class=\"A_dna\">.</span><span class=\"C_dna\">.</span><span class=\"G_dna\">.</span><span class=\"T_dna\">.</span><span class=\"G_dna\">.</span><span class=\"A_dna\">.</span><span class=\"A_dna\">.</span><span class=\"C_dna\">C</span><span class=\"T_dna\">.</span><span class=\"T_dna\">.</span><span class=\"T_dna\">.</span><span class=\"A_dna\">.</span><span class=\"A_dna\">.</span><span class=\"A_dna\">.</span><span class=\"A_dna\">.</span><span class=\"A_dna\">.</span><span class=\"C_dna\">.</span><span class=\"G_dna\">.</span><span class=\"T_dna\">.</span><span class=\"C_dna\">C</span><span class=\"A_dna\">A</span><span class=\"T_dna\">.</span><span class=\"A_dna\">.</span><span class=\"A_dna\">.</span><span class=\"C_dna\">.</span></td></tr>\n",
       "<tr><td class=\"label\">pan_troglodytes:2B:18548621-18585375:1</td><td><span class=\"T_dna\">.</span><span class=\"G_dna\">.</span><span class=\"G_dna\">.</span><span class=\"C_dna\">.</span><span class=\"T_dna\">.</span><span class=\"G_dna\">G</span><span class=\"A_dna\">.</span><span class=\"G_dna\">.</span><span class=\"A_dna\">.</span><span class=\"A_dna\">.</span><span class=\"T_dna\">.</span><span class=\"A_dna\">.</span><span class=\"T_dna\">.</span><span class=\"G_dna\">.</span><span class=\"T_dna\">.</span><span class=\"A_dna\">.</span><span class=\"T_dna\">T</span><span class=\"G_dna\">.</span><span class=\"T_dna\">.</span><span class=\"G_dna\">.</span><span class=\"A_dna\">.</span><span class=\"A_dna\">.</span><span class=\"C_dna\">C</span><span class=\"T_dna\">.</span><span class=\"T_dna\">.</span><span class=\"T_dna\">.</span><span class=\"A_dna\">.</span><span class=\"A_dna\">.</span><span class=\"A_dna\">.</span><span class=\"A_dna\">.</span><span class=\"A_dna\">.</span><span class=\"C_dna\">.</span><span class=\"G_dna\">.</span><span class=\"T_dna\">.</span><span class=\"A_dna\">.</span><span class=\"G_dna\">.</span><span class=\"T_dna\">.</span><span class=\"A_dna\">.</span><span class=\"A_dna\">.</span><span class=\"C_dna\">.</span></td></tr>\n",
       "<tr><td class=\"label\">homo_sapiens:22:15236759-15273853:-1</td><td><span class=\"T_dna\">.</span><span class=\"G_dna\">.</span><span class=\"G_dna\">.</span><span class=\"C_dna\">.</span><span class=\"T_dna\">.</span><span class=\"A_dna\">.</span><span class=\"A_dna\">.</span><span class=\"G_dna\">.</span><span class=\"A_dna\">.</span><span class=\"A_dna\">.</span><span class=\"T_dna\">.</span><span class=\"A_dna\">.</span><span class=\"T_dna\">.</span><span class=\"G_dna\">.</span><span class=\"T_dna\">.</span><span class=\"A_dna\">.</span><span class=\"C_dna\">.</span><span class=\"G_dna\">.</span><span class=\"T_dna\">.</span><span class=\"G_dna\">.</span><span class=\"A_dna\">.</span><span class=\"A_dna\">.</span><span class=\"T_dna\">.</span><span class=\"T_dna\">.</span><span class=\"T_dna\">.</span><span class=\"T_dna\">.</span><span class=\"A_dna\">.</span><span class=\"A_dna\">.</span><span class=\"A_dna\">.</span><span class=\"A_dna\">.</span><span class=\"A_dna\">.</span><span class=\"C_dna\">.</span><span class=\"G_dna\">.</span><span class=\"T_dna\">.</span><span class=\"A_dna\">.</span><span class=\"G_dna\">.</span><span class=\"T_dna\">.</span><span class=\"A_dna\">.</span><span class=\"A_dna\">.</span><span class=\"C_dna\">.</span></td></tr>\n",
       "<tr><td class=\"label\">homo_sapiens:9:64880476-64916438:1</td><td><span class=\"T_dna\">.</span><span class=\"G_dna\">.</span><span class=\"G_dna\">.</span><span class=\"C_dna\">.</span><span class=\"T_dna\">.</span><span class=\"G_dna\">G</span><span class=\"A_dna\">.</span><span class=\"G_dna\">.</span><span class=\"A_dna\">.</span><span class=\"A_dna\">.</span><span class=\"T_dna\">.</span><span class=\"A_dna\">.</span><span class=\"T_dna\">.</span><span class=\"G_dna\">.</span><span class=\"T_dna\">.</span><span class=\"A_dna\">.</span><span class=\"C_dna\">.</span><span class=\"G_dna\">.</span><span class=\"T_dna\">.</span><span class=\"G_dna\">.</span><span class=\"A_dna\">.</span><span class=\"A_dna\">.</span><span class=\"C_dna\">C</span><span class=\"T_dna\">.</span><span class=\"T_dna\">.</span><span class=\"T_dna\">.</span><span class=\"A_dna\">.</span><span class=\"A_dna\">.</span><span class=\"A_dna\">.</span><span class=\"A_dna\">.</span><span class=\"A_dna\">.</span><span class=\"C_dna\">.</span><span class=\"G_dna\">.</span><span class=\"T_dna\">.</span><span class=\"A_dna\">.</span><span class=\"A_dna\">A</span><span class=\"T_dna\">.</span><span class=\"A_dna\">.</span><span class=\"A_dna\">.</span><span class=\"C_dna\">.</span></td></tr>\n",
       "</table>\n",
       "<p><i>8 x 1405 (truncated to 8 x 40) dna alignment</i></p>\n",
       "</div>"
      ],
      "text/plain": [
       "8 x 1405 dna alignment: homo_sapiens:18:15320945-15357916:1[TGGCTGAGAA...], pan_troglodytes:KV420794.1:43768-80951:1[TGGCTGAGAA...], homo_sapiens:22:16105098-16141765:-1[TGGCTGAGAA...], ..."
      ]
     },
     "execution_count": 67,
     "metadata": {},
     "output_type": "execute_result"
    }
   ],
   "source": [
    "folder_in = '/home/uliseshmc/Documents/Proyectos/EstimatingUd/Data/Gavin_apes114/intergenic_2column/'\n",
    "in_dstore = cogent3.open_data_store(folder_in, suffix='fa', mode='r')\n",
    "\n",
    "sequence = 'homo_sapiens-22-15915800-16141765.fa'\n",
    "aln = load_aligned_seqs(filename = folder_in + sequence, format=\"fasta\", moltype='dna')\n",
    "aln.set_repr_policy(num_pos=40)\n",
    "\n",
    "aln2 = aln.no_degenerates()\n",
    "aln2.set_repr_policy(num_pos=40)\n",
    "aln2"
   ]
  },
  {
   "cell_type": "code",
   "execution_count": 68,
   "metadata": {},
   "outputs": [
    {
     "data": {
      "text/html": [
       "<style>\n",
       ".c3align table {margin: 10px 0;}\n",
       ".c3align td { border: none !important; text-align: left !important; }\n",
       ".c3align tr:not(.num_row) td span {margin: 0 2px;}\n",
       ".c3align tr:nth-child(even) {background: #f7f7f7;}\n",
       ".c3align .num_row {background-color:rgba(161, 195, 209, 0.5) !important; border-top: solid 1px black; }\n",
       ".c3align .label { font-size: 12pt ; text-align: right !important; color: black !important; padding: 0 4px; display: table-cell !important; font-weight: normal !important; }\n",
       ".c3align .T_dna{font-family: \"Lucida Console\",monospace !important; font-size: 12pt !important; color: blue; }\n",
       ".c3align .C_dna{font-family: \"Lucida Console\",monospace !important; font-size: 12pt !important; color: black; }\n",
       ".c3align .A_dna{font-family: \"Lucida Console\",monospace !important; font-size: 12pt !important; color: #FF0102; }\n",
       ".c3align .G_dna{font-family: \"Lucida Console\",monospace !important; font-size: 12pt !important; color: green; }\n",
       ".c3align .terminal_ambig_dna{font-family: \"Lucida Console\",monospace !important; font-size: 12pt !important; color: gray; }\n",
       ".c3align .ambig_dna{font-family: \"Lucida Console\",monospace !important; font-size: 12pt !important; color: gray; }\n",
       "</style>\n",
       "<div class=\"c3align\">\n",
       "<table>\n",
       "<tr class=\"num_row\"><td></td><td><b>0</b></td></tr>\n",
       "<tr><td class=\"label\">homo_sapiens:22:16105098-16141765:-1</td><td><span class=\"terminal_ambig_dna\">?</span><span class=\"terminal_ambig_dna\">?</span><span class=\"terminal_ambig_dna\">?</span><span class=\"terminal_ambig_dna\">?</span><span class=\"terminal_ambig_dna\">?</span><span class=\"terminal_ambig_dna\">?</span><span class=\"terminal_ambig_dna\">?</span><span class=\"terminal_ambig_dna\">?</span><span class=\"terminal_ambig_dna\">?</span><span class=\"terminal_ambig_dna\">?</span><span class=\"terminal_ambig_dna\">?</span><span class=\"terminal_ambig_dna\">?</span><span class=\"terminal_ambig_dna\">?</span><span class=\"terminal_ambig_dna\">?</span><span class=\"terminal_ambig_dna\">?</span><span class=\"terminal_ambig_dna\">?</span><span class=\"terminal_ambig_dna\">?</span><span class=\"terminal_ambig_dna\">?</span><span class=\"terminal_ambig_dna\">?</span><span class=\"terminal_ambig_dna\">?</span><span class=\"terminal_ambig_dna\">?</span><span class=\"terminal_ambig_dna\">?</span><span class=\"terminal_ambig_dna\">?</span><span class=\"terminal_ambig_dna\">?</span><span class=\"terminal_ambig_dna\">?</span><span class=\"terminal_ambig_dna\">?</span><span class=\"terminal_ambig_dna\">?</span><span class=\"terminal_ambig_dna\">?</span><span class=\"terminal_ambig_dna\">?</span><span class=\"terminal_ambig_dna\">?</span><span class=\"terminal_ambig_dna\">?</span><span class=\"terminal_ambig_dna\">?</span><span class=\"terminal_ambig_dna\">?</span><span class=\"terminal_ambig_dna\">?</span><span class=\"terminal_ambig_dna\">?</span><span class=\"terminal_ambig_dna\">?</span><span class=\"terminal_ambig_dna\">?</span><span class=\"terminal_ambig_dna\">?</span><span class=\"terminal_ambig_dna\">?</span><span class=\"terminal_ambig_dna\">?</span><span class=\"terminal_ambig_dna\">?</span><span class=\"terminal_ambig_dna\">?</span><span class=\"terminal_ambig_dna\">?</span><span class=\"terminal_ambig_dna\">?</span><span class=\"terminal_ambig_dna\">?</span><span class=\"terminal_ambig_dna\">?</span><span class=\"terminal_ambig_dna\">?</span><span class=\"terminal_ambig_dna\">?</span><span class=\"terminal_ambig_dna\">?</span><span class=\"terminal_ambig_dna\">?</span><span class=\"terminal_ambig_dna\">?</span><span class=\"terminal_ambig_dna\">?</span><span class=\"terminal_ambig_dna\">?</span><span class=\"terminal_ambig_dna\">?</span><span class=\"terminal_ambig_dna\">?</span><span class=\"terminal_ambig_dna\">?</span><span class=\"terminal_ambig_dna\">?</span><span class=\"terminal_ambig_dna\">?</span><span class=\"terminal_ambig_dna\">?</span><span class=\"terminal_ambig_dna\">?</span></td></tr>\n",
       "<tr class=\"num_row\"><td></td><td><b>60</b></td></tr>\n",
       "<tr><td class=\"label\">homo_sapiens:22:16105098-16141765:-1</td><td><span class=\"terminal_ambig_dna\">?</span><span class=\"terminal_ambig_dna\">?</span><span class=\"terminal_ambig_dna\">?</span><span class=\"terminal_ambig_dna\">?</span><span class=\"terminal_ambig_dna\">?</span><span class=\"terminal_ambig_dna\">?</span><span class=\"terminal_ambig_dna\">?</span><span class=\"terminal_ambig_dna\">?</span><span class=\"terminal_ambig_dna\">?</span><span class=\"terminal_ambig_dna\">?</span><span class=\"terminal_ambig_dna\">?</span><span class=\"terminal_ambig_dna\">?</span><span class=\"terminal_ambig_dna\">?</span><span class=\"terminal_ambig_dna\">?</span><span class=\"terminal_ambig_dna\">?</span><span class=\"terminal_ambig_dna\">?</span><span class=\"terminal_ambig_dna\">?</span><span class=\"terminal_ambig_dna\">?</span><span class=\"terminal_ambig_dna\">?</span><span class=\"terminal_ambig_dna\">?</span><span class=\"terminal_ambig_dna\">?</span><span class=\"terminal_ambig_dna\">?</span><span class=\"terminal_ambig_dna\">?</span><span class=\"terminal_ambig_dna\">?</span><span class=\"terminal_ambig_dna\">?</span><span class=\"terminal_ambig_dna\">?</span><span class=\"terminal_ambig_dna\">?</span><span class=\"terminal_ambig_dna\">?</span><span class=\"terminal_ambig_dna\">?</span><span class=\"terminal_ambig_dna\">?</span><span class=\"terminal_ambig_dna\">?</span><span class=\"terminal_ambig_dna\">?</span><span class=\"terminal_ambig_dna\">?</span><span class=\"terminal_ambig_dna\">?</span><span class=\"terminal_ambig_dna\">?</span><span class=\"terminal_ambig_dna\">?</span><span class=\"terminal_ambig_dna\">?</span><span class=\"terminal_ambig_dna\">?</span><span class=\"terminal_ambig_dna\">?</span><span class=\"terminal_ambig_dna\">?</span><span class=\"terminal_ambig_dna\">?</span><span class=\"terminal_ambig_dna\">?</span><span class=\"terminal_ambig_dna\">?</span><span class=\"terminal_ambig_dna\">?</span><span class=\"terminal_ambig_dna\">?</span><span class=\"terminal_ambig_dna\">?</span><span class=\"terminal_ambig_dna\">?</span><span class=\"terminal_ambig_dna\">?</span><span class=\"terminal_ambig_dna\">?</span><span class=\"terminal_ambig_dna\">?</span><span class=\"terminal_ambig_dna\">?</span><span class=\"terminal_ambig_dna\">?</span><span class=\"terminal_ambig_dna\">?</span><span class=\"terminal_ambig_dna\">?</span><span class=\"terminal_ambig_dna\">?</span><span class=\"terminal_ambig_dna\">?</span><span class=\"terminal_ambig_dna\">?</span><span class=\"terminal_ambig_dna\">?</span><span class=\"terminal_ambig_dna\">?</span><span class=\"terminal_ambig_dna\">?</span></td></tr>\n",
       "<tr class=\"num_row\"><td></td><td><b>120</b></td></tr>\n",
       "<tr><td class=\"label\">homo_sapiens:22:16105098-16141765:-1</td><td><span class=\"terminal_ambig_dna\">?</span><span class=\"terminal_ambig_dna\">?</span><span class=\"terminal_ambig_dna\">?</span><span class=\"terminal_ambig_dna\">?</span><span class=\"terminal_ambig_dna\">?</span><span class=\"terminal_ambig_dna\">?</span><span class=\"terminal_ambig_dna\">?</span><span class=\"terminal_ambig_dna\">?</span><span class=\"terminal_ambig_dna\">?</span><span class=\"terminal_ambig_dna\">?</span><span class=\"terminal_ambig_dna\">?</span><span class=\"terminal_ambig_dna\">?</span><span class=\"terminal_ambig_dna\">?</span><span class=\"terminal_ambig_dna\">?</span><span class=\"terminal_ambig_dna\">?</span><span class=\"terminal_ambig_dna\">?</span><span class=\"terminal_ambig_dna\">?</span><span class=\"terminal_ambig_dna\">?</span><span class=\"terminal_ambig_dna\">?</span><span class=\"terminal_ambig_dna\">?</span><span class=\"terminal_ambig_dna\">?</span><span class=\"terminal_ambig_dna\">?</span><span class=\"terminal_ambig_dna\">?</span><span class=\"terminal_ambig_dna\">?</span><span class=\"terminal_ambig_dna\">?</span><span class=\"terminal_ambig_dna\">?</span><span class=\"terminal_ambig_dna\">?</span><span class=\"terminal_ambig_dna\">?</span><span class=\"terminal_ambig_dna\">?</span><span class=\"terminal_ambig_dna\">?</span><span class=\"terminal_ambig_dna\">?</span><span class=\"terminal_ambig_dna\">?</span><span class=\"terminal_ambig_dna\">?</span><span class=\"terminal_ambig_dna\">?</span><span class=\"terminal_ambig_dna\">?</span><span class=\"terminal_ambig_dna\">?</span><span class=\"terminal_ambig_dna\">?</span><span class=\"terminal_ambig_dna\">?</span><span class=\"terminal_ambig_dna\">?</span><span class=\"terminal_ambig_dna\">?</span><span class=\"terminal_ambig_dna\">?</span><span class=\"terminal_ambig_dna\">?</span><span class=\"terminal_ambig_dna\">?</span><span class=\"terminal_ambig_dna\">?</span><span class=\"terminal_ambig_dna\">?</span><span class=\"terminal_ambig_dna\">?</span><span class=\"terminal_ambig_dna\">?</span><span class=\"terminal_ambig_dna\">?</span><span class=\"terminal_ambig_dna\">?</span><span class=\"terminal_ambig_dna\">?</span><span class=\"terminal_ambig_dna\">?</span><span class=\"terminal_ambig_dna\">?</span><span class=\"terminal_ambig_dna\">?</span><span class=\"terminal_ambig_dna\">?</span><span class=\"terminal_ambig_dna\">?</span><span class=\"terminal_ambig_dna\">?</span><span class=\"terminal_ambig_dna\">?</span><span class=\"terminal_ambig_dna\">?</span><span class=\"terminal_ambig_dna\">?</span><span class=\"terminal_ambig_dna\">?</span></td></tr>\n",
       "<tr class=\"num_row\"><td></td><td><b>180</b></td></tr>\n",
       "<tr><td class=\"label\">homo_sapiens:22:16105098-16141765:-1</td><td><span class=\"terminal_ambig_dna\">?</span><span class=\"terminal_ambig_dna\">?</span><span class=\"terminal_ambig_dna\">?</span><span class=\"terminal_ambig_dna\">?</span><span class=\"terminal_ambig_dna\">?</span><span class=\"terminal_ambig_dna\">?</span><span class=\"terminal_ambig_dna\">?</span><span class=\"terminal_ambig_dna\">?</span><span class=\"terminal_ambig_dna\">?</span><span class=\"terminal_ambig_dna\">?</span><span class=\"terminal_ambig_dna\">?</span><span class=\"terminal_ambig_dna\">?</span><span class=\"terminal_ambig_dna\">?</span><span class=\"terminal_ambig_dna\">?</span><span class=\"terminal_ambig_dna\">?</span><span class=\"terminal_ambig_dna\">?</span><span class=\"terminal_ambig_dna\">?</span><span class=\"terminal_ambig_dna\">?</span><span class=\"terminal_ambig_dna\">?</span><span class=\"terminal_ambig_dna\">?</span><span class=\"terminal_ambig_dna\">?</span><span class=\"terminal_ambig_dna\">?</span><span class=\"terminal_ambig_dna\">?</span><span class=\"terminal_ambig_dna\">?</span><span class=\"terminal_ambig_dna\">?</span><span class=\"terminal_ambig_dna\">?</span><span class=\"terminal_ambig_dna\">?</span><span class=\"terminal_ambig_dna\">?</span><span class=\"terminal_ambig_dna\">?</span><span class=\"terminal_ambig_dna\">?</span><span class=\"terminal_ambig_dna\">?</span><span class=\"terminal_ambig_dna\">?</span><span class=\"terminal_ambig_dna\">?</span><span class=\"terminal_ambig_dna\">?</span><span class=\"terminal_ambig_dna\">?</span><span class=\"terminal_ambig_dna\">?</span><span class=\"terminal_ambig_dna\">?</span><span class=\"terminal_ambig_dna\">?</span><span class=\"terminal_ambig_dna\">?</span><span class=\"terminal_ambig_dna\">?</span><span class=\"terminal_ambig_dna\">?</span><span class=\"terminal_ambig_dna\">?</span><span class=\"terminal_ambig_dna\">?</span><span class=\"terminal_ambig_dna\">?</span><span class=\"terminal_ambig_dna\">?</span><span class=\"terminal_ambig_dna\">?</span><span class=\"terminal_ambig_dna\">?</span><span class=\"terminal_ambig_dna\">?</span><span class=\"terminal_ambig_dna\">?</span><span class=\"terminal_ambig_dna\">?</span><span class=\"terminal_ambig_dna\">?</span><span class=\"terminal_ambig_dna\">?</span><span class=\"terminal_ambig_dna\">?</span><span class=\"terminal_ambig_dna\">?</span><span class=\"terminal_ambig_dna\">?</span><span class=\"terminal_ambig_dna\">?</span><span class=\"terminal_ambig_dna\">?</span><span class=\"terminal_ambig_dna\">?</span><span class=\"terminal_ambig_dna\">?</span><span class=\"terminal_ambig_dna\">?</span></td></tr>\n",
       "<tr class=\"num_row\"><td></td><td><b>240</b></td></tr>\n",
       "<tr><td class=\"label\">homo_sapiens:22:16105098-16141765:-1</td><td><span class=\"terminal_ambig_dna\">?</span><span class=\"terminal_ambig_dna\">?</span><span class=\"terminal_ambig_dna\">?</span><span class=\"terminal_ambig_dna\">?</span><span class=\"terminal_ambig_dna\">?</span><span class=\"terminal_ambig_dna\">?</span><span class=\"terminal_ambig_dna\">?</span><span class=\"terminal_ambig_dna\">?</span><span class=\"terminal_ambig_dna\">?</span><span class=\"terminal_ambig_dna\">?</span><span class=\"terminal_ambig_dna\">?</span><span class=\"terminal_ambig_dna\">?</span><span class=\"terminal_ambig_dna\">?</span><span class=\"terminal_ambig_dna\">?</span><span class=\"terminal_ambig_dna\">?</span><span class=\"terminal_ambig_dna\">?</span><span class=\"terminal_ambig_dna\">?</span><span class=\"terminal_ambig_dna\">?</span><span class=\"terminal_ambig_dna\">?</span><span class=\"terminal_ambig_dna\">?</span><span class=\"terminal_ambig_dna\">?</span><span class=\"terminal_ambig_dna\">?</span><span class=\"terminal_ambig_dna\">?</span><span class=\"terminal_ambig_dna\">?</span><span class=\"terminal_ambig_dna\">?</span><span class=\"terminal_ambig_dna\">?</span><span class=\"terminal_ambig_dna\">?</span><span class=\"terminal_ambig_dna\">?</span><span class=\"terminal_ambig_dna\">?</span><span class=\"terminal_ambig_dna\">?</span><span class=\"terminal_ambig_dna\">?</span><span class=\"terminal_ambig_dna\">?</span><span class=\"terminal_ambig_dna\">?</span><span class=\"terminal_ambig_dna\">?</span><span class=\"terminal_ambig_dna\">?</span><span class=\"terminal_ambig_dna\">?</span><span class=\"terminal_ambig_dna\">?</span><span class=\"terminal_ambig_dna\">?</span><span class=\"terminal_ambig_dna\">?</span><span class=\"terminal_ambig_dna\">?</span><span class=\"terminal_ambig_dna\">?</span><span class=\"terminal_ambig_dna\">?</span><span class=\"terminal_ambig_dna\">?</span><span class=\"terminal_ambig_dna\">?</span><span class=\"terminal_ambig_dna\">?</span><span class=\"terminal_ambig_dna\">?</span><span class=\"terminal_ambig_dna\">?</span><span class=\"terminal_ambig_dna\">?</span><span class=\"terminal_ambig_dna\">?</span><span class=\"terminal_ambig_dna\">?</span><span class=\"terminal_ambig_dna\">?</span><span class=\"terminal_ambig_dna\">?</span><span class=\"terminal_ambig_dna\">?</span><span class=\"terminal_ambig_dna\">?</span><span class=\"terminal_ambig_dna\">?</span><span class=\"terminal_ambig_dna\">?</span><span class=\"terminal_ambig_dna\">?</span><span class=\"terminal_ambig_dna\">?</span><span class=\"terminal_ambig_dna\">?</span><span class=\"terminal_ambig_dna\">?</span></td></tr>\n",
       "<tr class=\"num_row\"><td></td><td><b>300</b></td></tr>\n",
       "<tr><td class=\"label\">homo_sapiens:22:16105098-16141765:-1</td><td><span class=\"terminal_ambig_dna\">?</span><span class=\"terminal_ambig_dna\">?</span><span class=\"terminal_ambig_dna\">?</span><span class=\"terminal_ambig_dna\">?</span><span class=\"terminal_ambig_dna\">?</span><span class=\"terminal_ambig_dna\">?</span><span class=\"terminal_ambig_dna\">?</span><span class=\"terminal_ambig_dna\">?</span><span class=\"terminal_ambig_dna\">?</span><span class=\"terminal_ambig_dna\">?</span><span class=\"terminal_ambig_dna\">?</span><span class=\"terminal_ambig_dna\">?</span><span class=\"terminal_ambig_dna\">?</span><span class=\"terminal_ambig_dna\">?</span><span class=\"terminal_ambig_dna\">?</span><span class=\"terminal_ambig_dna\">?</span><span class=\"terminal_ambig_dna\">?</span><span class=\"terminal_ambig_dna\">?</span><span class=\"terminal_ambig_dna\">?</span><span class=\"terminal_ambig_dna\">?</span><span class=\"terminal_ambig_dna\">?</span><span class=\"terminal_ambig_dna\">?</span><span class=\"terminal_ambig_dna\">?</span><span class=\"terminal_ambig_dna\">?</span><span class=\"terminal_ambig_dna\">?</span><span class=\"terminal_ambig_dna\">?</span><span class=\"terminal_ambig_dna\">?</span><span class=\"terminal_ambig_dna\">?</span><span class=\"terminal_ambig_dna\">?</span><span class=\"terminal_ambig_dna\">?</span><span class=\"terminal_ambig_dna\">?</span><span class=\"terminal_ambig_dna\">?</span><span class=\"terminal_ambig_dna\">?</span><span class=\"terminal_ambig_dna\">?</span><span class=\"terminal_ambig_dna\">?</span><span class=\"terminal_ambig_dna\">?</span><span class=\"terminal_ambig_dna\">?</span><span class=\"terminal_ambig_dna\">?</span><span class=\"terminal_ambig_dna\">?</span><span class=\"terminal_ambig_dna\">?</span><span class=\"terminal_ambig_dna\">?</span><span class=\"terminal_ambig_dna\">?</span><span class=\"terminal_ambig_dna\">?</span><span class=\"terminal_ambig_dna\">?</span><span class=\"terminal_ambig_dna\">?</span><span class=\"terminal_ambig_dna\">?</span><span class=\"terminal_ambig_dna\">?</span><span class=\"terminal_ambig_dna\">?</span><span class=\"terminal_ambig_dna\">?</span><span class=\"terminal_ambig_dna\">?</span><span class=\"terminal_ambig_dna\">?</span><span class=\"terminal_ambig_dna\">?</span><span class=\"terminal_ambig_dna\">?</span><span class=\"terminal_ambig_dna\">?</span><span class=\"terminal_ambig_dna\">?</span><span class=\"terminal_ambig_dna\">?</span><span class=\"terminal_ambig_dna\">?</span><span class=\"terminal_ambig_dna\">?</span><span class=\"terminal_ambig_dna\">?</span><span class=\"terminal_ambig_dna\">?</span></td></tr>\n",
       "<tr class=\"num_row\"><td></td><td><b>360</b></td></tr>\n",
       "<tr><td class=\"label\">homo_sapiens:22:16105098-16141765:-1</td><td><span class=\"terminal_ambig_dna\">?</span><span class=\"terminal_ambig_dna\">?</span><span class=\"terminal_ambig_dna\">?</span><span class=\"terminal_ambig_dna\">?</span><span class=\"terminal_ambig_dna\">?</span><span class=\"terminal_ambig_dna\">?</span><span class=\"terminal_ambig_dna\">?</span><span class=\"terminal_ambig_dna\">?</span><span class=\"terminal_ambig_dna\">?</span><span class=\"terminal_ambig_dna\">?</span><span class=\"terminal_ambig_dna\">?</span><span class=\"terminal_ambig_dna\">?</span><span class=\"terminal_ambig_dna\">?</span><span class=\"terminal_ambig_dna\">?</span><span class=\"terminal_ambig_dna\">?</span><span class=\"terminal_ambig_dna\">?</span><span class=\"terminal_ambig_dna\">?</span><span class=\"terminal_ambig_dna\">?</span><span class=\"terminal_ambig_dna\">?</span><span class=\"terminal_ambig_dna\">?</span><span class=\"terminal_ambig_dna\">?</span><span class=\"terminal_ambig_dna\">?</span><span class=\"terminal_ambig_dna\">?</span><span class=\"terminal_ambig_dna\">?</span><span class=\"terminal_ambig_dna\">?</span><span class=\"terminal_ambig_dna\">?</span><span class=\"terminal_ambig_dna\">?</span><span class=\"terminal_ambig_dna\">?</span><span class=\"terminal_ambig_dna\">?</span><span class=\"terminal_ambig_dna\">?</span><span class=\"terminal_ambig_dna\">?</span><span class=\"terminal_ambig_dna\">?</span><span class=\"terminal_ambig_dna\">?</span><span class=\"terminal_ambig_dna\">?</span><span class=\"terminal_ambig_dna\">?</span><span class=\"terminal_ambig_dna\">?</span><span class=\"terminal_ambig_dna\">?</span><span class=\"terminal_ambig_dna\">?</span><span class=\"terminal_ambig_dna\">?</span><span class=\"terminal_ambig_dna\">?</span><span class=\"terminal_ambig_dna\">?</span><span class=\"terminal_ambig_dna\">?</span><span class=\"terminal_ambig_dna\">?</span><span class=\"terminal_ambig_dna\">?</span><span class=\"terminal_ambig_dna\">?</span><span class=\"terminal_ambig_dna\">?</span><span class=\"terminal_ambig_dna\">?</span><span class=\"terminal_ambig_dna\">?</span><span class=\"terminal_ambig_dna\">?</span><span class=\"terminal_ambig_dna\">?</span><span class=\"terminal_ambig_dna\">?</span><span class=\"terminal_ambig_dna\">?</span><span class=\"terminal_ambig_dna\">?</span><span class=\"terminal_ambig_dna\">?</span><span class=\"terminal_ambig_dna\">?</span><span class=\"terminal_ambig_dna\">?</span><span class=\"terminal_ambig_dna\">?</span><span class=\"terminal_ambig_dna\">?</span><span class=\"terminal_ambig_dna\">?</span><span class=\"terminal_ambig_dna\">?</span></td></tr>\n",
       "<tr class=\"num_row\"><td></td><td><b>420</b></td></tr>\n",
       "<tr><td class=\"label\">homo_sapiens:22:16105098-16141765:-1</td><td><span class=\"terminal_ambig_dna\">?</span><span class=\"terminal_ambig_dna\">?</span><span class=\"terminal_ambig_dna\">?</span><span class=\"terminal_ambig_dna\">?</span><span class=\"terminal_ambig_dna\">?</span><span class=\"terminal_ambig_dna\">?</span><span class=\"terminal_ambig_dna\">?</span><span class=\"terminal_ambig_dna\">?</span><span class=\"terminal_ambig_dna\">?</span><span class=\"terminal_ambig_dna\">?</span><span class=\"terminal_ambig_dna\">?</span><span class=\"terminal_ambig_dna\">?</span><span class=\"terminal_ambig_dna\">?</span><span class=\"terminal_ambig_dna\">?</span><span class=\"terminal_ambig_dna\">?</span><span class=\"terminal_ambig_dna\">?</span><span class=\"terminal_ambig_dna\">-</span><span class=\"terminal_ambig_dna\">?</span><span class=\"terminal_ambig_dna\">?</span><span class=\"terminal_ambig_dna\">?</span><span class=\"terminal_ambig_dna\">?</span><span class=\"terminal_ambig_dna\">?</span><span class=\"terminal_ambig_dna\">?</span><span class=\"terminal_ambig_dna\">?</span><span class=\"terminal_ambig_dna\">?</span><span class=\"terminal_ambig_dna\">?</span><span class=\"terminal_ambig_dna\">?</span><span class=\"terminal_ambig_dna\">?</span><span class=\"terminal_ambig_dna\">?</span><span class=\"terminal_ambig_dna\">?</span><span class=\"terminal_ambig_dna\">?</span><span class=\"terminal_ambig_dna\">?</span><span class=\"terminal_ambig_dna\">?</span><span class=\"terminal_ambig_dna\">?</span><span class=\"terminal_ambig_dna\">?</span><span class=\"terminal_ambig_dna\">?</span><span class=\"terminal_ambig_dna\">?</span><span class=\"terminal_ambig_dna\">?</span><span class=\"terminal_ambig_dna\">?</span><span class=\"terminal_ambig_dna\">?</span><span class=\"terminal_ambig_dna\">?</span><span class=\"terminal_ambig_dna\">?</span><span class=\"terminal_ambig_dna\">?</span><span class=\"terminal_ambig_dna\">?</span><span class=\"terminal_ambig_dna\">?</span><span class=\"terminal_ambig_dna\">?</span><span class=\"terminal_ambig_dna\">?</span><span class=\"terminal_ambig_dna\">?</span><span class=\"terminal_ambig_dna\">?</span><span class=\"terminal_ambig_dna\">?</span><span class=\"terminal_ambig_dna\">?</span><span class=\"terminal_ambig_dna\">?</span><span class=\"terminal_ambig_dna\">?</span><span class=\"terminal_ambig_dna\">?</span><span class=\"terminal_ambig_dna\">?</span><span class=\"terminal_ambig_dna\">?</span><span class=\"terminal_ambig_dna\">?</span><span class=\"terminal_ambig_dna\">?</span><span class=\"terminal_ambig_dna\">?</span><span class=\"terminal_ambig_dna\">?</span></td></tr>\n",
       "<tr class=\"num_row\"><td></td><td><b>480</b></td></tr>\n",
       "<tr><td class=\"label\">homo_sapiens:22:16105098-16141765:-1</td><td><span class=\"terminal_ambig_dna\">?</span><span class=\"terminal_ambig_dna\">?</span><span class=\"terminal_ambig_dna\">?</span><span class=\"terminal_ambig_dna\">?</span><span class=\"terminal_ambig_dna\">?</span><span class=\"terminal_ambig_dna\">?</span><span class=\"terminal_ambig_dna\">?</span><span class=\"terminal_ambig_dna\">?</span><span class=\"terminal_ambig_dna\">?</span><span class=\"terminal_ambig_dna\">?</span><span class=\"terminal_ambig_dna\">?</span><span class=\"terminal_ambig_dna\">?</span><span class=\"terminal_ambig_dna\">?</span><span class=\"terminal_ambig_dna\">?</span><span class=\"terminal_ambig_dna\">?</span><span class=\"terminal_ambig_dna\">?</span><span class=\"terminal_ambig_dna\">?</span><span class=\"terminal_ambig_dna\">?</span><span class=\"terminal_ambig_dna\">?</span><span class=\"terminal_ambig_dna\">?</span><span class=\"terminal_ambig_dna\">?</span><span class=\"terminal_ambig_dna\">?</span><span class=\"terminal_ambig_dna\">?</span><span class=\"terminal_ambig_dna\">?</span><span class=\"terminal_ambig_dna\">?</span><span class=\"terminal_ambig_dna\">?</span><span class=\"terminal_ambig_dna\">?</span><span class=\"terminal_ambig_dna\">?</span><span class=\"terminal_ambig_dna\">?</span><span class=\"terminal_ambig_dna\">?</span><span class=\"terminal_ambig_dna\">?</span><span class=\"terminal_ambig_dna\">?</span><span class=\"terminal_ambig_dna\">?</span><span class=\"terminal_ambig_dna\">?</span><span class=\"terminal_ambig_dna\">?</span><span class=\"terminal_ambig_dna\">?</span><span class=\"terminal_ambig_dna\">?</span><span class=\"terminal_ambig_dna\">?</span><span class=\"terminal_ambig_dna\">?</span><span class=\"terminal_ambig_dna\">?</span><span class=\"terminal_ambig_dna\">?</span><span class=\"terminal_ambig_dna\">?</span><span class=\"terminal_ambig_dna\">?</span><span class=\"terminal_ambig_dna\">?</span><span class=\"terminal_ambig_dna\">?</span><span class=\"terminal_ambig_dna\">?</span><span class=\"terminal_ambig_dna\">?</span><span class=\"terminal_ambig_dna\">?</span><span class=\"terminal_ambig_dna\">?</span><span class=\"terminal_ambig_dna\">?</span><span class=\"terminal_ambig_dna\">?</span><span class=\"terminal_ambig_dna\">?</span><span class=\"terminal_ambig_dna\">?</span><span class=\"terminal_ambig_dna\">?</span><span class=\"terminal_ambig_dna\">?</span><span class=\"terminal_ambig_dna\">?</span><span class=\"terminal_ambig_dna\">?</span><span class=\"terminal_ambig_dna\">?</span><span class=\"terminal_ambig_dna\">?</span><span class=\"terminal_ambig_dna\">?</span></td></tr>\n",
       "<tr class=\"num_row\"><td></td><td><b>540</b></td></tr>\n",
       "<tr><td class=\"label\">homo_sapiens:22:16105098-16141765:-1</td><td><span class=\"terminal_ambig_dna\">?</span><span class=\"terminal_ambig_dna\">?</span><span class=\"terminal_ambig_dna\">?</span><span class=\"terminal_ambig_dna\">?</span><span class=\"terminal_ambig_dna\">?</span><span class=\"terminal_ambig_dna\">?</span><span class=\"terminal_ambig_dna\">?</span><span class=\"terminal_ambig_dna\">?</span><span class=\"terminal_ambig_dna\">?</span><span class=\"terminal_ambig_dna\">?</span><span class=\"terminal_ambig_dna\">?</span><span class=\"terminal_ambig_dna\">?</span><span class=\"terminal_ambig_dna\">?</span><span class=\"terminal_ambig_dna\">?</span><span class=\"terminal_ambig_dna\">?</span><span class=\"terminal_ambig_dna\">?</span><span class=\"terminal_ambig_dna\">?</span><span class=\"terminal_ambig_dna\">?</span><span class=\"terminal_ambig_dna\">?</span><span class=\"terminal_ambig_dna\">?</span><span class=\"terminal_ambig_dna\">?</span><span class=\"terminal_ambig_dna\">?</span><span class=\"terminal_ambig_dna\">?</span><span class=\"terminal_ambig_dna\">?</span><span class=\"terminal_ambig_dna\">?</span><span class=\"terminal_ambig_dna\">?</span><span class=\"terminal_ambig_dna\">?</span><span class=\"terminal_ambig_dna\">?</span><span class=\"terminal_ambig_dna\">?</span><span class=\"terminal_ambig_dna\">?</span><span class=\"terminal_ambig_dna\">?</span><span class=\"terminal_ambig_dna\">?</span><span class=\"terminal_ambig_dna\">?</span><span class=\"terminal_ambig_dna\">?</span><span class=\"terminal_ambig_dna\">?</span><span class=\"terminal_ambig_dna\">?</span><span class=\"terminal_ambig_dna\">?</span><span class=\"terminal_ambig_dna\">?</span><span class=\"terminal_ambig_dna\">?</span><span class=\"terminal_ambig_dna\">?</span><span class=\"terminal_ambig_dna\">?</span><span class=\"terminal_ambig_dna\">?</span><span class=\"terminal_ambig_dna\">?</span><span class=\"terminal_ambig_dna\">?</span><span class=\"terminal_ambig_dna\">?</span><span class=\"terminal_ambig_dna\">?</span><span class=\"terminal_ambig_dna\">?</span><span class=\"terminal_ambig_dna\">?</span><span class=\"terminal_ambig_dna\">?</span><span class=\"terminal_ambig_dna\">?</span><span class=\"terminal_ambig_dna\">?</span><span class=\"terminal_ambig_dna\">?</span><span class=\"terminal_ambig_dna\">?</span><span class=\"terminal_ambig_dna\">?</span><span class=\"terminal_ambig_dna\">?</span><span class=\"terminal_ambig_dna\">?</span><span class=\"terminal_ambig_dna\">?</span><span class=\"terminal_ambig_dna\">?</span><span class=\"terminal_ambig_dna\">?</span><span class=\"terminal_ambig_dna\">?</span></td></tr>\n",
       "<tr class=\"num_row\"><td></td><td><b>600</b></td></tr>\n",
       "<tr><td class=\"label\">homo_sapiens:22:16105098-16141765:-1</td><td><span class=\"terminal_ambig_dna\">?</span><span class=\"terminal_ambig_dna\">?</span><span class=\"terminal_ambig_dna\">?</span><span class=\"terminal_ambig_dna\">?</span><span class=\"terminal_ambig_dna\">?</span><span class=\"terminal_ambig_dna\">?</span><span class=\"terminal_ambig_dna\">?</span></td></tr>\n",
       "</table>\n",
       "<p><i>1 x 607 dna alignment</i></p>\n",
       "</div>"
      ],
      "text/plain": [
       "1 x 607 dna alignment: homo_sapiens:22:16105098-16141765:-1[??????????...]"
      ]
     },
     "execution_count": 68,
     "metadata": {},
     "output_type": "execute_result"
    }
   ],
   "source": [
    "samplealn = aln.take_seqs(\"homo_sapiens:22:16105098-16141765:-1\")\n",
    "startSINEregion = 16105523\n",
    "startposinframe = 16105523-16105098\n",
    "SINEregion = \"GGCAGGGCGCGGTGGCTCACGCCTATAATCCCAGTACTTTGGGAGGCTGA\"\n",
    "sample2 = samplealn[startposinframe-425:startposinframe+182]\n",
    "sample2.set_repr_policy(num_pos=4000)\n",
    "sample2"
   ]
  },
  {
   "cell_type": "code",
   "execution_count": 38,
   "metadata": {},
   "outputs": [
    {
     "ename": "AttributeError",
     "evalue": "'NotCompleted' object has no attribute 'set_repr_policy'",
     "output_type": "error",
     "traceback": [
      "\u001b[31m---------------------------------------------------------------------------\u001b[39m",
      "\u001b[31mAttributeError\u001b[39m                            Traceback (most recent call last)",
      "\u001b[36mCell\u001b[39m\u001b[36m \u001b[39m\u001b[32mIn[38]\u001b[39m\u001b[32m, line 10\u001b[39m\n\u001b[32m      8\u001b[39m results_allpos = [r \u001b[38;5;28;01mfor\u001b[39;00m r \u001b[38;5;129;01min\u001b[39;00m app.as_completed(in_dstore[\u001b[32m7\u001b[39m:\u001b[32m8\u001b[39m], parallel=\u001b[38;5;28;01mTrue\u001b[39;00m) \u001b[38;5;28;01mif\u001b[39;00m r]\n\u001b[32m      9\u001b[39m results_allpos = concat(results_allpos)\n\u001b[32m---> \u001b[39m\u001b[32m10\u001b[39m \u001b[43mresults_allpos\u001b[49m\u001b[43m.\u001b[49m\u001b[43mset_repr_policy\u001b[49m(num_pos=\u001b[32m10\u001b[39m)\n\u001b[32m     11\u001b[39m results_allpos\n",
      "\u001b[31mAttributeError\u001b[39m: 'NotCompleted' object has no attribute 'set_repr_policy'"
     ]
    }
   ],
   "source": [
    "loader = get_app(\"load_aligned\", moltype=\"dna\") \n",
    "rename = renamer()\n",
    "concat = get_app(\"concat\", moltype=\"dna\")\n",
    "\n",
    "#app = loader + rename\n",
    "app = loader\n",
    "\n",
    "results_allpos = [r for r in app.as_completed(in_dstore[7:8], parallel=True) if r]\n",
    "results_allpos = concat(results_allpos)\n",
    "results_allpos.set_repr_policy(num_pos=10)\n",
    "results_allpos"
   ]
  }
 ],
 "metadata": {
  "kernelspec": {
   "display_name": "delme",
   "language": "python",
   "name": "python3"
  },
  "language_info": {
   "codemirror_mode": {
    "name": "ipython",
    "version": 3
   },
   "file_extension": ".py",
   "mimetype": "text/x-python",
   "name": "python",
   "nbconvert_exporter": "python",
   "pygments_lexer": "ipython3",
   "version": "3.13.7"
  },
  "orig_nbformat": 4
 },
 "nbformat": 4,
 "nbformat_minor": 2
}

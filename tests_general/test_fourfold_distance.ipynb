{
 "cells": [
  {
   "cell_type": "code",
   "execution_count": 1,
   "metadata": {},
   "outputs": [],
   "source": [
    "import cogent3\n",
    "from cogent3 import load_unaligned_seqs\n",
    "from cogent3 import get_app\n",
    "from cogent3 import make_aligned_seqs\n",
    "from cogent3 import open_data_store\n",
    "\n",
    "@cogent3.app.composable.define_app\n",
    "def renamer(seqs: cogent3.app.typing.UnalignedSeqsType) -> cogent3.app.typing.UnalignedSeqsType:\n",
    "    \"\"\"\n",
    "    A function to rename sequences in a dataset.\n",
    "    \"\"\"\n",
    "\n",
    "    name_map = {\n",
    "        \"homo_sapiens\": \"Human\",\n",
    "        \"pan_troglodytes\": \"Chimpanzee\",\n",
    "        \"gorilla_gorilla\": \"Gorilla\"\n",
    "    }\n",
    "\n",
    "    seqs = seqs.rename_seqs(lambda x: name_map.get(x.split(\"-\")[0], x))\n",
    "\n",
    "    return seqs.take_seqs(list(name_map.values()))"
   ]
  },
  {
   "cell_type": "code",
   "execution_count": 2,
   "metadata": {},
   "outputs": [
    {
     "name": "stdout",
     "output_type": "stream",
     "text": [
      "Directory datastore\n",
      "=======================\n",
      "record type      number\n",
      "-----------------------\n",
      "completed          1916\n",
      "not_completed         0\n",
      "logs                  1\n",
      "-----------------------\n",
      "Cannot summarise not_completed as they are all bytes, use an appropriate reader\n",
      "==========================================\n",
      "type    origin    message    num    source\n",
      "------------------------------------------\n",
      "------------------------------------------\n"
     ]
    }
   ],
   "source": [
    "folder_in = '/xdisk/masel/uliseshmc/EstimatingUd/primates10_114/aligns_cds/'\n",
    "dstore = open_data_store(folder_in, suffix=\"fa\", mode=\"r\")\n",
    "\n",
    "print(dstore.describe)\n",
    "print(dstore.summary_not_completed)"
   ]
  },
  {
   "cell_type": "code",
   "execution_count": 40,
   "metadata": {},
   "outputs": [
    {
     "data": {
      "text/html": [
       "<style>\n",
       ".c3align table {margin: 10px 0;}\n",
       ".c3align td { border: none !important; text-align: left !important; }\n",
       ".c3align tr:not(.num_row) td span {margin: 0 2px;}\n",
       ".c3align tr:nth-child(even) {background: #f7f7f7;}\n",
       ".c3align .num_row {background-color:rgba(161, 195, 209, 0.5) !important; border-top: solid 1px black; }\n",
       ".c3align .label { font-size: 12pt ; text-align: right !important; color: black !important; padding: 0 4px; display: table-cell !important; font-weight: normal !important; }\n",
       ".c3align .T_dna{font-family: \"Lucida Console\",monospace !important; font-size: 12pt !important; color: blue; }\n",
       ".c3align .C_dna{font-family: \"Lucida Console\",monospace !important; font-size: 12pt !important; color: black; }\n",
       ".c3align .A_dna{font-family: \"Lucida Console\",monospace !important; font-size: 12pt !important; color: #FF0102; }\n",
       ".c3align .G_dna{font-family: \"Lucida Console\",monospace !important; font-size: 12pt !important; color: green; }\n",
       ".c3align .terminal_ambig_dna{font-family: \"Lucida Console\",monospace !important; font-size: 12pt !important; color: gray; }\n",
       ".c3align .ambig_dna{font-family: \"Lucida Console\",monospace !important; font-size: 12pt !important; color: gray; }\n",
       "</style>\n",
       "<div class=\"c3align\">\n",
       "<table>\n",
       "<tr class=\"num_row\"><td></td><td><b>0</b></td></tr>\n",
       "<tr><td class=\"label\">pan_paniscus-ENSPPAG00000035584</td><td><span class=\"A_dna\">A</span><span class=\"T_dna\">T</span><span class=\"G_dna\">G</span><span class=\"G_dna\">G</span><span class=\"C_dna\">C</span><span class=\"G_dna\">G</span><span class=\"T_dna\">T</span><span class=\"T_dna\">T</span><span class=\"A_dna\">A</span><span class=\"G_dna\">G</span><span class=\"C_dna\">C</span><span class=\"C_dna\">C</span><span class=\"A_dna\">A</span><span class=\"A_dna\">A</span><span class=\"G_dna\">G</span><span class=\"A_dna\">A</span><span class=\"C_dna\">C</span><span class=\"C_dna\">C</span><span class=\"T_dna\">T</span><span class=\"A_dna\">A</span><span class=\"C_dna\">C</span><span class=\"C_dna\">C</span><span class=\"C_dna\">C</span><span class=\"G_dna\">G</span><span class=\"G_dna\">G</span><span class=\"C_dna\">C</span><span class=\"G_dna\">G</span><span class=\"A_dna\">A</span><span class=\"C_dna\">C</span><span class=\"A_dna\">A</span><span class=\"T_dna\">T</span><span class=\"C_dna\">C</span><span class=\"C_dna\">C</span><span class=\"T_dna\">T</span><span class=\"C_dna\">C</span><span class=\"C_dna\">C</span><span class=\"C_dna\">C</span><span class=\"T_dna\">T</span><span class=\"G_dna\">G</span><span class=\"C_dna\">C</span><span class=\"C_dna\">C</span><span class=\"C_dna\">C</span><span class=\"A_dna\">A</span><span class=\"A_dna\">A</span><span class=\"C_dna\">C</span><span class=\"G_dna\">G</span><span class=\"G_dna\">G</span><span class=\"C_dna\">C</span><span class=\"G_dna\">G</span><span class=\"A_dna\">A</span><span class=\"T_dna\">T</span><span class=\"T_dna\">T</span><span class=\"G_dna\">G</span><span class=\"C_dna\">C</span><span class=\"G_dna\">G</span><span class=\"G_dna\">G</span><span class=\"C_dna\">C</span><span class=\"C_dna\">C</span><span class=\"G_dna\">G</span><span class=\"C_dna\">C</span></td></tr>\n",
       "<tr><td class=\"label\">gorilla_gorilla-ENSGGOG00000011109</td><td><span class=\"A_dna\">A</span><span class=\"T_dna\">T</span><span class=\"G_dna\">G</span><span class=\"G_dna\">G</span><span class=\"C_dna\">C</span><span class=\"G_dna\">G</span><span class=\"T_dna\">T</span><span class=\"T_dna\">T</span><span class=\"A_dna\">A</span><span class=\"G_dna\">G</span><span class=\"C_dna\">C</span><span class=\"C_dna\">C</span><span class=\"A_dna\">A</span><span class=\"A_dna\">A</span><span class=\"G_dna\">G</span><span class=\"A_dna\">A</span><span class=\"C_dna\">C</span><span class=\"C_dna\">C</span><span class=\"T_dna\">T</span><span class=\"A_dna\">A</span><span class=\"C_dna\">C</span><span class=\"C_dna\">C</span><span class=\"C_dna\">C</span><span class=\"G_dna\">G</span><span class=\"G_dna\">G</span><span class=\"C_dna\">C</span><span class=\"G_dna\">G</span><span class=\"A_dna\">A</span><span class=\"C_dna\">C</span><span class=\"A_dna\">A</span><span class=\"T_dna\">T</span><span class=\"C_dna\">C</span><span class=\"C_dna\">C</span><span class=\"T_dna\">T</span><span class=\"C_dna\">C</span><span class=\"C_dna\">C</span><span class=\"C_dna\">C</span><span class=\"T_dna\">T</span><span class=\"G_dna\">G</span><span class=\"C_dna\">C</span><span class=\"C_dna\">C</span><span class=\"C_dna\">C</span><span class=\"A_dna\">A</span><span class=\"A_dna\">A</span><span class=\"C_dna\">C</span><span class=\"G_dna\">G</span><span class=\"G_dna\">G</span><span class=\"C_dna\">C</span><span class=\"G_dna\">G</span><span class=\"A_dna\">A</span><span class=\"T_dna\">T</span><span class=\"T_dna\">T</span><span class=\"G_dna\">G</span><span class=\"C_dna\">C</span><span class=\"G_dna\">G</span><span class=\"G_dna\">G</span><span class=\"C_dna\">C</span><span class=\"C_dna\">C</span><span class=\"G_dna\">G</span><span class=\"C_dna\">C</span></td></tr>\n",
       "<tr><td class=\"label\">nomascus_leucogenys-ENSNLEG00000028310</td><td><span class=\"A_dna\">A</span><span class=\"T_dna\">T</span><span class=\"G_dna\">G</span><span class=\"G_dna\">G</span><span class=\"C_dna\">C</span><span class=\"G_dna\">G</span><span class=\"T_dna\">T</span><span class=\"T_dna\">T</span><span class=\"C_dna\">C</span><span class=\"G_dna\">G</span><span class=\"C_dna\">C</span><span class=\"C_dna\">C</span><span class=\"G_dna\">G</span><span class=\"A_dna\">A</span><span class=\"G_dna\">G</span><span class=\"A_dna\">A</span><span class=\"C_dna\">C</span><span class=\"C_dna\">C</span><span class=\"T_dna\">T</span><span class=\"A_dna\">A</span><span class=\"C_dna\">C</span><span class=\"C_dna\">C</span><span class=\"C_dna\">C</span><span class=\"G_dna\">G</span><span class=\"G_dna\">G</span><span class=\"C_dna\">C</span><span class=\"G_dna\">G</span><span class=\"G_dna\">G</span><span class=\"C_dna\">C</span><span class=\"A_dna\">A</span><span class=\"T_dna\">T</span><span class=\"C_dna\">C</span><span class=\"C_dna\">C</span><span class=\"T_dna\">T</span><span class=\"C_dna\">C</span><span class=\"C_dna\">C</span><span class=\"C_dna\">C</span><span class=\"T_dna\">T</span><span class=\"G_dna\">G</span><span class=\"C_dna\">C</span><span class=\"C_dna\">C</span><span class=\"C_dna\">C</span><span class=\"A_dna\">A</span><span class=\"A_dna\">A</span><span class=\"C_dna\">C</span><span class=\"G_dna\">G</span><span class=\"G_dna\">G</span><span class=\"C_dna\">C</span><span class=\"G_dna\">G</span><span class=\"A_dna\">A</span><span class=\"T_dna\">T</span><span class=\"T_dna\">T</span><span class=\"G_dna\">G</span><span class=\"C_dna\">C</span><span class=\"G_dna\">G</span><span class=\"G_dna\">G</span><span class=\"C_dna\">C</span><span class=\"C_dna\">C</span><span class=\"G_dna\">G</span><span class=\"C_dna\">C</span></td></tr>\n",
       "<tr><td class=\"label\">chlorocebus_sabaeus-ENSCSAG00000009306</td><td><span class=\"A_dna\">A</span><span class=\"T_dna\">T</span><span class=\"G_dna\">G</span><span class=\"G_dna\">G</span><span class=\"C_dna\">C</span><span class=\"G_dna\">G</span><span class=\"T_dna\">T</span><span class=\"T_dna\">T</span><span class=\"A_dna\">A</span><span class=\"G_dna\">G</span><span class=\"C_dna\">C</span><span class=\"C_dna\">C</span><span class=\"A_dna\">A</span><span class=\"A_dna\">A</span><span class=\"G_dna\">G</span><span class=\"A_dna\">A</span><span class=\"C_dna\">C</span><span class=\"C_dna\">C</span><span class=\"T_dna\">T</span><span class=\"A_dna\">A</span><span class=\"C_dna\">C</span><span class=\"C_dna\">C</span><span class=\"C_dna\">C</span><span class=\"G_dna\">G</span><span class=\"G_dna\">G</span><span class=\"C_dna\">C</span><span class=\"G_dna\">G</span><span class=\"G_dna\">G</span><span class=\"C_dna\">C</span><span class=\"A_dna\">A</span><span class=\"T_dna\">T</span><span class=\"C_dna\">C</span><span class=\"C_dna\">C</span><span class=\"T_dna\">T</span><span class=\"C_dna\">C</span><span class=\"C_dna\">C</span><span class=\"C_dna\">C</span><span class=\"T_dna\">T</span><span class=\"G_dna\">G</span><span class=\"C_dna\">C</span><span class=\"C_dna\">C</span><span class=\"C_dna\">C</span><span class=\"A_dna\">A</span><span class=\"A_dna\">A</span><span class=\"C_dna\">C</span><span class=\"G_dna\">G</span><span class=\"G_dna\">G</span><span class=\"C_dna\">C</span><span class=\"G_dna\">G</span><span class=\"A_dna\">A</span><span class=\"T_dna\">T</span><span class=\"T_dna\">T</span><span class=\"G_dna\">G</span><span class=\"C_dna\">C</span><span class=\"G_dna\">G</span><span class=\"G_dna\">G</span><span class=\"C_dna\">C</span><span class=\"C_dna\">C</span><span class=\"G_dna\">G</span><span class=\"C_dna\">C</span></td></tr>\n",
       "<tr><td class=\"label\">pan_troglodytes-ENSPTRG00000002178</td><td><span class=\"A_dna\">A</span><span class=\"T_dna\">T</span><span class=\"G_dna\">G</span><span class=\"G_dna\">G</span><span class=\"C_dna\">C</span><span class=\"G_dna\">G</span><span class=\"T_dna\">T</span><span class=\"T_dna\">T</span><span class=\"A_dna\">A</span><span class=\"G_dna\">G</span><span class=\"C_dna\">C</span><span class=\"C_dna\">C</span><span class=\"A_dna\">A</span><span class=\"A_dna\">A</span><span class=\"G_dna\">G</span><span class=\"A_dna\">A</span><span class=\"C_dna\">C</span><span class=\"C_dna\">C</span><span class=\"T_dna\">T</span><span class=\"A_dna\">A</span><span class=\"C_dna\">C</span><span class=\"C_dna\">C</span><span class=\"C_dna\">C</span><span class=\"G_dna\">G</span><span class=\"G_dna\">G</span><span class=\"C_dna\">C</span><span class=\"G_dna\">G</span><span class=\"A_dna\">A</span><span class=\"C_dna\">C</span><span class=\"A_dna\">A</span><span class=\"T_dna\">T</span><span class=\"C_dna\">C</span><span class=\"C_dna\">C</span><span class=\"T_dna\">T</span><span class=\"C_dna\">C</span><span class=\"C_dna\">C</span><span class=\"C_dna\">C</span><span class=\"T_dna\">T</span><span class=\"G_dna\">G</span><span class=\"C_dna\">C</span><span class=\"C_dna\">C</span><span class=\"C_dna\">C</span><span class=\"A_dna\">A</span><span class=\"A_dna\">A</span><span class=\"C_dna\">C</span><span class=\"G_dna\">G</span><span class=\"G_dna\">G</span><span class=\"C_dna\">C</span><span class=\"G_dna\">G</span><span class=\"A_dna\">A</span><span class=\"T_dna\">T</span><span class=\"T_dna\">T</span><span class=\"G_dna\">G</span><span class=\"C_dna\">C</span><span class=\"G_dna\">G</span><span class=\"G_dna\">G</span><span class=\"C_dna\">C</span><span class=\"C_dna\">C</span><span class=\"G_dna\">G</span><span class=\"C_dna\">C</span></td></tr>\n",
       "<tr><td class=\"label\">pan_troglodytes-ENSPTRG00000044720</td><td><span class=\"A_dna\">A</span><span class=\"T_dna\">T</span><span class=\"G_dna\">G</span><span class=\"T_dna\">T</span><span class=\"C_dna\">C</span><span class=\"G_dna\">G</span><span class=\"T_dna\">T</span><span class=\"T_dna\">T</span><span class=\"C_dna\">C</span><span class=\"G_dna\">G</span><span class=\"A_dna\">A</span><span class=\"C_dna\">C</span><span class=\"G_dna\">G</span><span class=\"A_dna\">A</span><span class=\"G_dna\">G</span><span class=\"A_dna\">A</span><span class=\"C_dna\">C</span><span class=\"C_dna\">C</span><span class=\"A_dna\">A</span><span class=\"A_dna\">A</span><span class=\"C_dna\">C</span><span class=\"C_dna\">C</span><span class=\"C_dna\">C</span><span class=\"G_dna\">G</span><span class=\"C_dna\">C</span><span class=\"C_dna\">C</span><span class=\"G_dna\">G</span><span class=\"G_dna\">G</span><span class=\"C_dna\">C</span><span class=\"A_dna\">A</span><span class=\"T_dna\">T</span><span class=\"C_dna\">C</span><span class=\"C_dna\">C</span><span class=\"T_dna\">T</span><span class=\"C_dna\">C</span><span class=\"C_dna\">C</span><span class=\"C_dna\">C</span><span class=\"T_dna\">T</span><span class=\"G_dna\">G</span><span class=\"C_dna\">C</span><span class=\"C_dna\">C</span><span class=\"C_dna\">C</span><span class=\"A_dna\">A</span><span class=\"A_dna\">A</span><span class=\"C_dna\">C</span><span class=\"G_dna\">G</span><span class=\"G_dna\">G</span><span class=\"C_dna\">C</span><span class=\"G_dna\">G</span><span class=\"A_dna\">A</span><span class=\"C_dna\">C</span><span class=\"T_dna\">T</span><span class=\"A_dna\">A</span><span class=\"C_dna\">C</span><span class=\"G_dna\">G</span><span class=\"G_dna\">G</span><span class=\"C_dna\">C</span><span class=\"C_dna\">C</span><span class=\"G_dna\">G</span><span class=\"C_dna\">C</span></td></tr>\n",
       "<tr><td class=\"label\">homo_sapiens-ENSG00000035687</td><td><span class=\"A_dna\">A</span><span class=\"T_dna\">T</span><span class=\"G_dna\">G</span><span class=\"G_dna\">G</span><span class=\"C_dna\">C</span><span class=\"G_dna\">G</span><span class=\"T_dna\">T</span><span class=\"T_dna\">T</span><span class=\"A_dna\">A</span><span class=\"G_dna\">G</span><span class=\"C_dna\">C</span><span class=\"C_dna\">C</span><span class=\"A_dna\">A</span><span class=\"A_dna\">A</span><span class=\"G_dna\">G</span><span class=\"A_dna\">A</span><span class=\"C_dna\">C</span><span class=\"C_dna\">C</span><span class=\"T_dna\">T</span><span class=\"A_dna\">A</span><span class=\"C_dna\">C</span><span class=\"C_dna\">C</span><span class=\"C_dna\">C</span><span class=\"G_dna\">G</span><span class=\"G_dna\">G</span><span class=\"C_dna\">C</span><span class=\"G_dna\">G</span><span class=\"A_dna\">A</span><span class=\"C_dna\">C</span><span class=\"A_dna\">A</span><span class=\"T_dna\">T</span><span class=\"C_dna\">C</span><span class=\"C_dna\">C</span><span class=\"T_dna\">T</span><span class=\"C_dna\">C</span><span class=\"C_dna\">C</span><span class=\"C_dna\">C</span><span class=\"T_dna\">T</span><span class=\"G_dna\">G</span><span class=\"C_dna\">C</span><span class=\"C_dna\">C</span><span class=\"C_dna\">C</span><span class=\"A_dna\">A</span><span class=\"A_dna\">A</span><span class=\"C_dna\">C</span><span class=\"G_dna\">G</span><span class=\"G_dna\">G</span><span class=\"C_dna\">C</span><span class=\"G_dna\">G</span><span class=\"A_dna\">A</span><span class=\"T_dna\">T</span><span class=\"T_dna\">T</span><span class=\"G_dna\">G</span><span class=\"C_dna\">C</span><span class=\"G_dna\">G</span><span class=\"G_dna\">G</span><span class=\"C_dna\">C</span><span class=\"C_dna\">C</span><span class=\"G_dna\">G</span><span class=\"C_dna\">C</span></td></tr>\n",
       "<tr><td class=\"label\">macaca_mulatta-ENSMMUG00000000016</td><td><span class=\"A_dna\">A</span><span class=\"T_dna\">T</span><span class=\"G_dna\">G</span><span class=\"G_dna\">G</span><span class=\"C_dna\">C</span><span class=\"G_dna\">G</span><span class=\"T_dna\">T</span><span class=\"T_dna\">T</span><span class=\"A_dna\">A</span><span class=\"G_dna\">G</span><span class=\"C_dna\">C</span><span class=\"C_dna\">C</span><span class=\"A_dna\">A</span><span class=\"A_dna\">A</span><span class=\"G_dna\">G</span><span class=\"A_dna\">A</span><span class=\"C_dna\">C</span><span class=\"C_dna\">C</span><span class=\"T_dna\">T</span><span class=\"A_dna\">A</span><span class=\"C_dna\">C</span><span class=\"C_dna\">C</span><span class=\"C_dna\">C</span><span class=\"G_dna\">G</span><span class=\"G_dna\">G</span><span class=\"C_dna\">C</span><span class=\"G_dna\">G</span><span class=\"A_dna\">A</span><span class=\"C_dna\">C</span><span class=\"A_dna\">A</span><span class=\"T_dna\">T</span><span class=\"C_dna\">C</span><span class=\"C_dna\">C</span><span class=\"T_dna\">T</span><span class=\"C_dna\">C</span><span class=\"C_dna\">C</span><span class=\"C_dna\">C</span><span class=\"T_dna\">T</span><span class=\"G_dna\">G</span><span class=\"C_dna\">C</span><span class=\"C_dna\">C</span><span class=\"C_dna\">C</span><span class=\"A_dna\">A</span><span class=\"A_dna\">A</span><span class=\"C_dna\">C</span><span class=\"G_dna\">G</span><span class=\"G_dna\">G</span><span class=\"C_dna\">C</span><span class=\"G_dna\">G</span><span class=\"A_dna\">A</span><span class=\"T_dna\">T</span><span class=\"T_dna\">T</span><span class=\"G_dna\">G</span><span class=\"C_dna\">C</span><span class=\"G_dna\">G</span><span class=\"G_dna\">G</span><span class=\"C_dna\">C</span><span class=\"C_dna\">C</span><span class=\"G_dna\">G</span><span class=\"C_dna\">C</span></td></tr>\n",
       "<tr><td class=\"label\">pongo_abelii-ENSPPYG00000000057</td><td><span class=\"A_dna\">A</span><span class=\"T_dna\">T</span><span class=\"G_dna\">G</span><span class=\"G_dna\">G</span><span class=\"C_dna\">C</span><span class=\"G_dna\">G</span><span class=\"T_dna\">T</span><span class=\"T_dna\">T</span><span class=\"A_dna\">A</span><span class=\"G_dna\">G</span><span class=\"C_dna\">C</span><span class=\"C_dna\">C</span><span class=\"A_dna\">A</span><span class=\"A_dna\">A</span><span class=\"G_dna\">G</span><span class=\"A_dna\">A</span><span class=\"C_dna\">C</span><span class=\"C_dna\">C</span><span class=\"T_dna\">T</span><span class=\"A_dna\">A</span><span class=\"C_dna\">C</span><span class=\"C_dna\">C</span><span class=\"C_dna\">C</span><span class=\"G_dna\">G</span><span class=\"G_dna\">G</span><span class=\"C_dna\">C</span><span class=\"G_dna\">G</span><span class=\"A_dna\">A</span><span class=\"C_dna\">C</span><span class=\"A_dna\">A</span><span class=\"T_dna\">T</span><span class=\"C_dna\">C</span><span class=\"C_dna\">C</span><span class=\"T_dna\">T</span><span class=\"C_dna\">C</span><span class=\"C_dna\">C</span><span class=\"C_dna\">C</span><span class=\"T_dna\">T</span><span class=\"G_dna\">G</span><span class=\"C_dna\">C</span><span class=\"C_dna\">C</span><span class=\"C_dna\">C</span><span class=\"A_dna\">A</span><span class=\"A_dna\">A</span><span class=\"C_dna\">C</span><span class=\"G_dna\">G</span><span class=\"G_dna\">G</span><span class=\"C_dna\">C</span><span class=\"G_dna\">G</span><span class=\"A_dna\">A</span><span class=\"T_dna\">T</span><span class=\"T_dna\">T</span><span class=\"G_dna\">G</span><span class=\"C_dna\">C</span><span class=\"G_dna\">G</span><span class=\"G_dna\">G</span><span class=\"C_dna\">C</span><span class=\"C_dna\">C</span><span class=\"G_dna\">G</span><span class=\"C_dna\">C</span></td></tr>\n",
       "<tr><td class=\"label\">microcebus_murinus-ENSMICG00000035421</td><td><span class=\"A_dna\">A</span><span class=\"T_dna\">T</span><span class=\"G_dna\">G</span><span class=\"T_dna\">T</span><span class=\"C_dna\">C</span><span class=\"G_dna\">G</span><span class=\"T_dna\">T</span><span class=\"T_dna\">T</span><span class=\"C_dna\">C</span><span class=\"G_dna\">G</span><span class=\"A_dna\">A</span><span class=\"C_dna\">C</span><span class=\"G_dna\">G</span><span class=\"A_dna\">A</span><span class=\"G_dna\">G</span><span class=\"A_dna\">A</span><span class=\"C_dna\">C</span><span class=\"C_dna\">C</span><span class=\"A_dna\">A</span><span class=\"A_dna\">A</span><span class=\"C_dna\">C</span><span class=\"C_dna\">C</span><span class=\"C_dna\">C</span><span class=\"G_dna\">G</span><span class=\"C_dna\">C</span><span class=\"C_dna\">C</span><span class=\"G_dna\">G</span><span class=\"G_dna\">G</span><span class=\"C_dna\">C</span><span class=\"A_dna\">A</span><span class=\"T_dna\">T</span><span class=\"C_dna\">C</span><span class=\"C_dna\">C</span><span class=\"T_dna\">T</span><span class=\"C_dna\">C</span><span class=\"C_dna\">C</span><span class=\"C_dna\">C</span><span class=\"T_dna\">T</span><span class=\"G_dna\">G</span><span class=\"C_dna\">C</span><span class=\"C_dna\">C</span><span class=\"C_dna\">C</span><span class=\"A_dna\">A</span><span class=\"A_dna\">A</span><span class=\"C_dna\">C</span><span class=\"G_dna\">G</span><span class=\"G_dna\">G</span><span class=\"C_dna\">C</span><span class=\"G_dna\">G</span><span class=\"A_dna\">A</span><span class=\"C_dna\">C</span><span class=\"T_dna\">T</span><span class=\"A_dna\">A</span><span class=\"C_dna\">C</span><span class=\"G_dna\">G</span><span class=\"G_dna\">G</span><span class=\"C_dna\">C</span><span class=\"C_dna\">C</span><span class=\"G_dna\">G</span><span class=\"C_dna\">C</span></td></tr>\n",
       "</table>\n",
       "<p><i>11 x {min=1344, median=1344.0, max=1377} dna sequence collection</i></p>\n",
       "</div>"
      ],
      "text/plain": [
       "11x dna seqcollection: (pan_paniscus-ENSPPAG00000035584[ATGGCGTTAG...], ..., nomascus_leucogenys-ENSNLEG00000028310[ATGGCGTTCG...])"
      ]
     },
     "execution_count": 40,
     "metadata": {},
     "output_type": "execute_result"
    }
   ],
   "source": [
    "whichseq = 1\n",
    "loader = get_app(\"load_unaligned\", moltype=\"dna\")\n",
    "aln = loader(dstore[whichseq])\n",
    "aln"
   ]
  },
  {
   "cell_type": "code",
   "execution_count": 39,
   "metadata": {},
   "outputs": [
    {
     "data": {
      "text/plain": [
       "NotCompleted(type=ERROR, origin=renamer, source=\"ENSG00000035687.fa\", message=\"Traceback (most recent call last):\n",
       "  File \"/home/u12/uliseshmc/repos/cogent3/src/cogent3/app/composable.py\", line 407, in _call\n",
       "    result = self.main(val, *args, **kwargs)\n",
       "  File \"/home/u12/uliseshmc/repos/cogent3/src/cogent3/app/composable.py\", line 468, in _main\n",
       "    return self._user_func(**bound.arguments)\n",
       "           ~~~~~~~~~~~~~~~^^^^^^^^^^^^^^^^^^^\n",
       "  File \"/tmp/ipykernel_1879/4222804600.py\", line 19, in renamer\n",
       "    seqs = seqs.rename_seqs(lambda x: name_map.get(x.split(\"-\")[0], x))\n",
       "  File \"/home/u12/uliseshmc/repos/cogent3/src/cogent3/core/alignment.py\", line 1046, in rename_seqs\n",
       "    raise ValueError(msg)\n",
       "ValueError: non-unique names produced by renamer=<function renamer.<locals>.<lambda> at 0x7f0a6e7e3a60>\n",
       "\")"
      ]
     },
     "execution_count": 39,
     "metadata": {},
     "output_type": "execute_result"
    }
   ],
   "source": [
    "whichseq = 1\n",
    "loader = get_app(\"load_unaligned\", moltype=\"dna\")\n",
    "aln = loader(dstore[whichseq])\n",
    "\n",
    "rename = renamer()\n",
    "trim_stops = get_app(\"trim_stop_codons\")\n",
    "codon_align = get_app(\"progressive_align\", \"codon\", guide_tree=\"(Human:0.06,Chimpanzee:0.06,Gorilla:0.1)\")\n",
    "#writer = get_app(\"write_seqs\", data_store = out_dstore)\n",
    "app = rename \n",
    "app(aln)"
   ]
  },
  {
   "cell_type": "code",
   "execution_count": 14,
   "metadata": {},
   "outputs": [
    {
     "name": "stdout",
     "output_type": "stream",
     "text": [
      "Overview\n",
      "--------\n",
      "Loads unaligned sequences. Returns a SequenceCollection.\n",
      "\n",
      "Options for making the app\n",
      "--------------------------\n",
      "load_unaligned_app = get_app(\n",
      "    'load_unaligned',\n",
      "    moltype=None,\n",
      "    format='fasta',\n",
      ")\n",
      "\n",
      "Parameters\n",
      "----------\n",
      "moltype\n",
      "    molecular type, string or instance\n",
      "format\n",
      "    sequence file format\n",
      "\n",
      "Examples\n",
      "--------\n",
      "See https://cogent3.org/doc/app/app_cookbook/load-unaligned.html\n",
      "\n",
      "Input type\n",
      "----------\n",
      "IdentifierType\n",
      "\n",
      "Output type\n",
      "-----------\n",
      "SequenceCollection, SerialisableType\n"
     ]
    }
   ],
   "source": [
    "cogent3.app_help(\"load_unaligned\")"
   ]
  },
  {
   "cell_type": "code",
   "execution_count": 20,
   "metadata": {},
   "outputs": [
    {
     "name": "stdout",
     "output_type": "stream",
     "text": [
      "Directory datastore\n",
      "=======================\n",
      "record type      number\n",
      "-----------------------\n",
      "completed             0\n",
      "not_completed       100\n",
      "logs                  1\n",
      "-----------------------\n",
      "not completed records\n",
      "=====================================================================================================================\n",
      "type     origin         message                                          num    source                               \n",
      "---------------------------------------------------------------------------------------------------------------------\n",
      "ERROR    collect_cds    'TypeError: make_unal... positional argument'    100    ENSG00000243480, ENSG00000240038, ...\n",
      "---------------------------------------------------------------------------------------------------------------------\n"
     ]
    }
   ],
   "source": []
  },
  {
   "cell_type": "code",
   "execution_count": 56,
   "metadata": {},
   "outputs": [
    {
     "data": {
      "text/html": [
       "<style>\n",
       ".c3align table {margin: 10px 0;}\n",
       ".c3align td { border: none !important; text-align: left !important; }\n",
       ".c3align tr:not(.num_row) td span {margin: 0 2px;}\n",
       ".c3align tr:nth-child(even) {background: #f7f7f7;}\n",
       ".c3align .num_row {background-color:rgba(161, 195, 209, 0.5) !important; border-top: solid 1px black; }\n",
       ".c3align .label { font-size: 12pt ; text-align: right !important; color: black !important; padding: 0 4px; display: table-cell !important; font-weight: normal !important; }\n",
       ".c3align .T_dna{font-family: \"Lucida Console\",monospace !important; font-size: 12pt !important; color: blue; }\n",
       ".c3align .C_dna{font-family: \"Lucida Console\",monospace !important; font-size: 12pt !important; color: black; }\n",
       ".c3align .A_dna{font-family: \"Lucida Console\",monospace !important; font-size: 12pt !important; color: #FF0102; }\n",
       ".c3align .G_dna{font-family: \"Lucida Console\",monospace !important; font-size: 12pt !important; color: green; }\n",
       ".c3align .terminal_ambig_dna{font-family: \"Lucida Console\",monospace !important; font-size: 12pt !important; color: gray; }\n",
       ".c3align .ambig_dna{font-family: \"Lucida Console\",monospace !important; font-size: 12pt !important; color: gray; }\n",
       "</style>\n",
       "<div class=\"c3align\">\n",
       "<table>\n",
       "<tr class=\"num_row\"><td></td><td><b>0</b></td></tr>\n",
       "<tr><td class=\"label\">Human</td><td><span class=\"T_dna\">T</span><span class=\"G_dna\">G</span><span class=\"A_dna\">A</span><span class=\"C_dna\">C</span><span class=\"C_dna\">C</span><span class=\"C_dna\">C</span><span class=\"T_dna\">T</span><span class=\"T_dna\">T</span><span class=\"C_dna\">C</span><span class=\"T_dna\">T</span><span class=\"G_dna\">G</span><span class=\"T_dna\">T</span><span class=\"A_dna\">A</span><span class=\"C_dna\">C</span><span class=\"C_dna\">C</span><span class=\"C_dna\">C</span><span class=\"C_dna\">C</span><span class=\"A_dna\">A</span><span class=\"C_dna\">C</span><span class=\"C_dna\">C</span><span class=\"A_dna\">A</span><span class=\"G_dna\">G</span><span class=\"A_dna\">A</span><span class=\"A_dna\">A</span><span class=\"C_dna\">C</span><span class=\"A_dna\">A</span><span class=\"T_dna\">T</span><span class=\"G_dna\">G</span><span class=\"C_dna\">C</span><span class=\"C_dna\">C</span><span class=\"C_dna\">C</span><span class=\"G_dna\">G</span><span class=\"G_dna\">G</span><span class=\"G_dna\">G</span><span class=\"T_dna\">T</span><span class=\"G_dna\">G</span><span class=\"A_dna\">A</span><span class=\"C_dna\">C</span><span class=\"C_dna\">C</span><span class=\"T_dna\">T</span><span class=\"C_dna\">C</span><span class=\"C_dna\">C</span><span class=\"T_dna\">T</span><span class=\"C_dna\">C</span><span class=\"C_dna\">C</span><span class=\"C_dna\">C</span><span class=\"A_dna\">A</span><span class=\"G_dna\">G</span><span class=\"A_dna\">A</span><span class=\"T_dna\">T</span><span class=\"C_dna\">C</span><span class=\"T_dna\">T</span><span class=\"T_dna\">T</span><span class=\"C_dna\">C</span><span class=\"C_dna\">C</span><span class=\"T_dna\">T</span><span class=\"T_dna\">T</span><span class=\"G_dna\">G</span><span class=\"T_dna\">T</span><span class=\"G_dna\">G</span></td></tr>\n",
       "<tr><td class=\"label\">Chimpanzee</td><td><span class=\"T_dna\">T</span><span class=\"G_dna\">G</span><span class=\"A_dna\">A</span><span class=\"C_dna\">C</span><span class=\"C_dna\">C</span><span class=\"C_dna\">C</span><span class=\"T_dna\">T</span><span class=\"T_dna\">T</span><span class=\"C_dna\">C</span><span class=\"T_dna\">T</span><span class=\"G_dna\">G</span><span class=\"T_dna\">T</span><span class=\"A_dna\">A</span><span class=\"C_dna\">C</span><span class=\"C_dna\">C</span><span class=\"C_dna\">C</span><span class=\"C_dna\">C</span><span class=\"A_dna\">A</span><span class=\"C_dna\">C</span><span class=\"C_dna\">C</span><span class=\"A_dna\">A</span><span class=\"G_dna\">G</span><span class=\"A_dna\">A</span><span class=\"A_dna\">A</span><span class=\"C_dna\">C</span><span class=\"A_dna\">A</span><span class=\"T_dna\">T</span><span class=\"G_dna\">G</span><span class=\"C_dna\">C</span><span class=\"C_dna\">C</span><span class=\"C_dna\">C</span><span class=\"G_dna\">G</span><span class=\"G_dna\">G</span><span class=\"G_dna\">G</span><span class=\"T_dna\">T</span><span class=\"G_dna\">G</span><span class=\"A_dna\">A</span><span class=\"C_dna\">C</span><span class=\"C_dna\">C</span><span class=\"T_dna\">T</span><span class=\"C_dna\">C</span><span class=\"C_dna\">C</span><span class=\"T_dna\">T</span><span class=\"C_dna\">C</span><span class=\"C_dna\">C</span><span class=\"C_dna\">C</span><span class=\"A_dna\">A</span><span class=\"G_dna\">G</span><span class=\"A_dna\">A</span><span class=\"T_dna\">T</span><span class=\"C_dna\">C</span><span class=\"T_dna\">T</span><span class=\"T_dna\">T</span><span class=\"C_dna\">C</span><span class=\"C_dna\">C</span><span class=\"T_dna\">T</span><span class=\"T_dna\">T</span><span class=\"G_dna\">G</span><span class=\"T_dna\">T</span><span class=\"G_dna\">G</span></td></tr>\n",
       "<tr><td class=\"label\">Gorilla</td><td><span class=\"T_dna\">T</span><span class=\"G_dna\">G</span><span class=\"A_dna\">A</span><span class=\"C_dna\">C</span><span class=\"C_dna\">C</span><span class=\"C_dna\">C</span><span class=\"T_dna\">T</span><span class=\"T_dna\">T</span><span class=\"C_dna\">C</span><span class=\"T_dna\">T</span><span class=\"G_dna\">G</span><span class=\"T_dna\">T</span><span class=\"A_dna\">A</span><span class=\"C_dna\">C</span><span class=\"C_dna\">C</span><span class=\"C_dna\">C</span><span class=\"C_dna\">C</span><span class=\"A_dna\">A</span><span class=\"C_dna\">C</span><span class=\"C_dna\">C</span><span class=\"A_dna\">A</span><span class=\"G_dna\">G</span><span class=\"A_dna\">A</span><span class=\"A_dna\">A</span><span class=\"C_dna\">C</span><span class=\"A_dna\">A</span><span class=\"T_dna\">T</span><span class=\"G_dna\">G</span><span class=\"C_dna\">C</span><span class=\"C_dna\">C</span><span class=\"C_dna\">C</span><span class=\"G_dna\">G</span><span class=\"G_dna\">G</span><span class=\"G_dna\">G</span><span class=\"T_dna\">T</span><span class=\"G_dna\">G</span><span class=\"A_dna\">A</span><span class=\"C_dna\">C</span><span class=\"C_dna\">C</span><span class=\"T_dna\">T</span><span class=\"C_dna\">C</span><span class=\"C_dna\">C</span><span class=\"T_dna\">T</span><span class=\"C_dna\">C</span><span class=\"C_dna\">C</span><span class=\"C_dna\">C</span><span class=\"A_dna\">A</span><span class=\"G_dna\">G</span><span class=\"A_dna\">A</span><span class=\"T_dna\">T</span><span class=\"C_dna\">C</span><span class=\"T_dna\">T</span><span class=\"T_dna\">T</span><span class=\"C_dna\">C</span><span class=\"C_dna\">C</span><span class=\"T_dna\">T</span><span class=\"T_dna\">T</span><span class=\"G_dna\">G</span><span class=\"T_dna\">T</span><span class=\"G_dna\">G</span></td></tr>\n",
       "</table>\n",
       "<p><i>3 x {min=1569, median=1569, max=1569} (truncated to 3 x 60) dna sequence collection</i></p>\n",
       "</div>"
      ],
      "text/plain": [
       "3x (Human[TGACCCTTCT...], ..., Gorilla[TGACCCTTCT...]) dna seqcollection"
      ]
     },
     "execution_count": 56,
     "metadata": {},
     "output_type": "execute_result"
    }
   ],
   "source": [
    "hcm = aln.take_seqs([\"homo_sapiens\", \"pan_troglodytes\", \"gorilla_gorilla\"]).degap()\n",
    "name_map = {\n",
    "    \"homo_sapiens\": \"Human\",\n",
    "    \"pan_troglodytes\": \"Chimpanzee\",\n",
    "    \"gorilla_gorilla\": \"Gorilla\"\n",
    "}\n",
    "def renamer(name):\n",
    "    return name_map.get(name, name)\n",
    "hcm = hcm.rename_seqs(renamer)\n",
    "hcm"
   ]
  },
  {
   "cell_type": "code",
   "execution_count": 57,
   "metadata": {},
   "outputs": [
    {
     "name": "stdout",
     "output_type": "stream",
     "text": [
      "0\n",
      "522\n"
     ]
    }
   ],
   "source": [
    "homoseq = hcm.get_seq(\"Human\")\n",
    "translated = homoseq.get_translation(include_stop=True)\n",
    "for i in range(0, len(translated)):\n",
    "    if translated[i] == \"*\":\n",
    "        print(i)"
   ]
  },
  {
   "cell_type": "code",
   "execution_count": 58,
   "metadata": {},
   "outputs": [
    {
     "name": "stdout",
     "output_type": "stream",
     "text": [
      "0\n"
     ]
    }
   ],
   "source": [
    "trimmed_hcm = trim_stops(hcm)\n",
    "\n",
    "homoseq = trimmed_hcm.get_seq(\"Human\")\n",
    "translated = homoseq.get_translation(include_stop=True)\n",
    "for i in range(0, len(translated)):\n",
    "    if translated[i] == \"*\":\n",
    "        print(i)"
   ]
  },
  {
   "cell_type": "code",
   "execution_count": 59,
   "metadata": {},
   "outputs": [
    {
     "data": {
      "text/plain": [
       "NotCompleted(type=ERROR, origin=progressive_align, source=\"ENSG00000181754.fa\", message=\"'TGA' at 'Human':0 not in alphabet\")"
      ]
     },
     "execution_count": 59,
     "metadata": {},
     "output_type": "execute_result"
    }
   ],
   "source": [
    "#Doing nucleotide model meanwhile. I got to change this for codon eventually\n",
    "trim_stops = get_app(\"trim_stop_codons\")\n",
    "\n",
    "#Check the tree! \n",
    "tree = \"(Human:0.06,Chimpanzee:0.06,Gorilla:0.1)\"\n",
    "codon_aligner = get_app(\"progressive_align\", \"codon\", guide_tree=tree)\n",
    "\n",
    "align_app = trim_stops + codon_aligner\n",
    "\n",
    "aln_codonaligned = align_app(hcm)\n",
    "aln_codonaligned"
   ]
  },
  {
   "cell_type": "code",
   "execution_count": 60,
   "metadata": {},
   "outputs": [
    {
     "ename": "AttributeError",
     "evalue": "'NotCompleted' object has no attribute 'omit_gap_pos'",
     "output_type": "error",
     "traceback": [
      "\u001b[0;31m---------------------------------------------------------------------------\u001b[0m",
      "\u001b[0;31mAttributeError\u001b[0m                            Traceback (most recent call last)",
      "Cell \u001b[0;32mIn[60], line 3\u001b[0m\n\u001b[1;32m      1\u001b[0m ffold \u001b[38;5;241m=\u001b[39m get_app(\u001b[38;5;124m\"\u001b[39m\u001b[38;5;124mtake_codon_positions\u001b[39m\u001b[38;5;124m\"\u001b[39m, fourfold_degenerate\u001b[38;5;241m=\u001b[39m\u001b[38;5;28;01mTrue\u001b[39;00m)\n\u001b[1;32m      2\u001b[0m \u001b[38;5;66;03m#Do I need omit_gap_pos() or degap()\u001b[39;00m\n\u001b[0;32m----> 3\u001b[0m aln_ffold \u001b[38;5;241m=\u001b[39m \u001b[43mffold\u001b[49m\u001b[43m(\u001b[49m\u001b[43maln_codonaligned\u001b[49m\u001b[43m)\u001b[49m\u001b[38;5;241;43m.\u001b[39;49m\u001b[43momit_gap_pos\u001b[49m()\n",
      "\u001b[0;31mAttributeError\u001b[0m: 'NotCompleted' object has no attribute 'omit_gap_pos'"
     ]
    }
   ],
   "source": [
    "ffold = get_app(\"take_codon_positions\", fourfold_degenerate=True)\n",
    "#Do I need omit_gap_pos() or degap()\n",
    "aln_ffold = ffold(aln_codonaligned).omit_gap_pos()"
   ]
  },
  {
   "cell_type": "code",
   "execution_count": null,
   "metadata": {},
   "outputs": [
    {
     "data": {
      "application/vnd.jupyter.widget-view+json": {
       "model_id": "a42bea58be7c4bcba2a8cc0902549b70",
       "version_major": 2,
       "version_minor": 0
      },
      "text/plain": [
       "   0%|          |00:00<?"
      ]
     },
     "metadata": {},
     "output_type": "display_data"
    },
    {
     "data": {
      "application/vnd.jupyter.widget-view+json": {
       "model_id": "e5f55b5e9e0b4b4f9a4f73c59b9e65fd",
       "version_major": 2,
       "version_minor": 0
      },
      "text/plain": [
       "   0%|          |00:00<?"
      ]
     },
     "metadata": {},
     "output_type": "display_data"
    },
    {
     "data": {
      "text/plain": [
       "{'Human': np.float64(9.99997582679352e-07),\n",
       " 'Chimpanzee': np.float64(9.999981644403043e-07),\n",
       " 'Gorilla': np.float64(1.0000012313770403e-06)}"
      ]
     },
     "execution_count": 53,
     "metadata": {},
     "output_type": "execute_result"
    }
   ],
   "source": [
    "sm = get_app(\"model\", \"GN\", time_het=\"max\", optimise_motif_probs=True, show_progress=True)\n",
    "result = sm(aln_ffold)\n",
    "lengthstree = result.lf.get_lengths_as_ens()\n",
    "lengthstree"
   ]
  }
 ],
 "metadata": {
  "kernelspec": {
   "display_name": "Python 3.10.16 ('EstimatingUd')",
   "language": "python",
   "name": "python3"
  },
  "language_info": {
   "codemirror_mode": {
    "name": "ipython",
    "version": 3
   },
   "file_extension": ".py",
   "mimetype": "text/x-python",
   "name": "python",
   "nbconvert_exporter": "python",
   "pygments_lexer": "ipython3",
   "version": "3.13.5"
  },
  "orig_nbformat": 4,
  "vscode": {
   "interpreter": {
    "hash": "53a0ee2834e5a3220609a583c5db6d166b18855c93dee771c0346263a6405663"
   }
  }
 },
 "nbformat": 4,
 "nbformat_minor": 2
}

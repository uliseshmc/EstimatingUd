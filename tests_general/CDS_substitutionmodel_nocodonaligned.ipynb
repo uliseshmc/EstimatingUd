{
 "cells": [
  {
   "cell_type": "markdown",
   "metadata": {},
   "source": [
    "Testing analysing cds data without aligning it first "
   ]
  },
  {
   "cell_type": "code",
   "execution_count": 1,
   "metadata": {},
   "outputs": [],
   "source": [
    "import cogent3\n",
    "from cogent3 import get_app\n",
    "import paths\n",
    "import libs\n"
   ]
  },
  {
   "cell_type": "code",
   "execution_count": 2,
   "metadata": {},
   "outputs": [
    {
     "name": "stdout",
     "output_type": "stream",
     "text": [
      "Directory datastore\n",
      "=======================\n",
      "record type      number\n",
      "-----------------------\n",
      "completed           396\n",
      "not_completed         0\n",
      "logs                  1\n",
      "-----------------------\n"
     ]
    }
   ],
   "source": [
    "folder_in = paths.DATA_APES114 + 'cds'\n",
    "in_dstore = cogent3.open_data_store(folder_in, suffix='fa', mode='r')\n",
    "\n",
    "print(in_dstore.describe)"
   ]
  },
  {
   "cell_type": "code",
   "execution_count": 3,
   "metadata": {},
   "outputs": [
    {
     "data": {
      "application/vnd.jupyter.widget-view+json": {
       "model_id": "af870f3079474d00ba5dd70d3cbabcdc",
       "version_major": 2,
       "version_minor": 0
      },
      "text/plain": [
       "   0%|          |00:00<?"
      ]
     },
     "metadata": {},
     "output_type": "display_data"
    }
   ],
   "source": [
    "loader = get_app(\"load_aligned\", moltype=\"dna\")\n",
    "omit_degs = get_app(\"omit_degenerates\", moltype=\"dna\")\n",
    "\n",
    "#rename app makes sure that each alignment contains only one alignment per species\n",
    "#some alignment files include duplicates. We take randomly a sequence per species and discard the others\n",
    "rename = libs.temp_renamer_aligned_cds()\n",
    "concat = get_app(\"concat\", moltype=\"dna\")\n",
    "\n",
    "#create a concatenated alignment with all coding positions\n",
    "allposprocess = loader + omit_degs + rename\n",
    "# result below is only valid alignments (no NotCompleted).\n",
    "results_allpos = [r for r in allposprocess.as_completed(in_dstore[:], parallel=True) if r]\n",
    "alpos_alns = concat(results_allpos)\n",
    "alpos_alns.source = \"cds_alignments\"\n"
   ]
  },
  {
   "cell_type": "code",
   "execution_count": 4,
   "metadata": {},
   "outputs": [
    {
     "data": {
      "text/html": [
       "<style>\n",
       ".c3align table {margin: 10px 0;}\n",
       ".c3align td { border: none !important; text-align: left !important; }\n",
       ".c3align tr:not(.num_row) td span {margin: 0 2px;}\n",
       ".c3align tr:nth-child(even) {background: #f7f7f7;}\n",
       ".c3align .num_row {background-color:rgba(161, 195, 209, 0.5) !important; border-top: solid 1px black; }\n",
       ".c3align .label { font-size: 12pt ; text-align: right !important; color: black !important; padding: 0 4px; display: table-cell !important; font-weight: normal !important; }\n",
       ".c3align .T_dna{font-family: \"Lucida Console\",monospace !important; font-size: 12pt !important; color: blue; }\n",
       ".c3align .C_dna{font-family: \"Lucida Console\",monospace !important; font-size: 12pt !important; color: black; }\n",
       ".c3align .A_dna{font-family: \"Lucida Console\",monospace !important; font-size: 12pt !important; color: #FF0102; }\n",
       ".c3align .G_dna{font-family: \"Lucida Console\",monospace !important; font-size: 12pt !important; color: green; }\n",
       ".c3align .terminal_ambig_dna{font-family: \"Lucida Console\",monospace !important; font-size: 12pt !important; color: gray; }\n",
       ".c3align .ambig_dna{font-family: \"Lucida Console\",monospace !important; font-size: 12pt !important; color: gray; }\n",
       "</style>\n",
       "<div class=\"c3align\">\n",
       "<table>\n",
       "<tr class=\"num_row\"><td></td><td><b>0</b></td></tr>\n",
       "<tr><td class=\"label\">Chimpanzee</td><td><span class=\"A_dna\">A</span><span class=\"T_dna\">T</span><span class=\"G_dna\">G</span><span class=\"C_dna\">C</span><span class=\"A_dna\">A</span><span class=\"G_dna\">G</span><span class=\"G_dna\">G</span><span class=\"C_dna\">C</span><span class=\"G_dna\">G</span><span class=\"G_dna\">G</span><span class=\"T_dna\">T</span><span class=\"G_dna\">G</span><span class=\"C_dna\">C</span><span class=\"G_dna\">G</span><span class=\"G_dna\">G</span><span class=\"C_dna\">C</span><span class=\"A_dna\">A</span><span class=\"C_dna\">C</span><span class=\"G_dna\">G</span><span class=\"T_dna\">T</span><span class=\"C_dna\">C</span><span class=\"G_dna\">G</span><span class=\"T_dna\">T</span><span class=\"G_dna\">G</span><span class=\"T_dna\">T</span><span class=\"G_dna\">G</span><span class=\"C_dna\">C</span><span class=\"G_dna\">G</span><span class=\"C_dna\">C</span><span class=\"C_dna\">C</span><span class=\"C_dna\">C</span><span class=\"T_dna\">T</span><span class=\"G_dna\">G</span><span class=\"T_dna\">T</span><span class=\"C_dna\">C</span><span class=\"C_dna\">C</span><span class=\"G_dna\">G</span><span class=\"G_dna\">G</span><span class=\"C_dna\">C</span><span class=\"G_dna\">G</span><span class=\"G_dna\">G</span><span class=\"C_dna\">C</span><span class=\"G_dna\">G</span><span class=\"T_dna\">T</span><span class=\"G_dna\">G</span><span class=\"G_dna\">G</span><span class=\"A_dna\">A</span><span class=\"C_dna\">C</span><span class=\"A_dna\">A</span><span class=\"G_dna\">G</span><span class=\"C_dna\">C</span><span class=\"G_dna\">G</span><span class=\"C_dna\">C</span><span class=\"C_dna\">C</span><span class=\"G_dna\">G</span><span class=\"T_dna\">T</span><span class=\"G_dna\">G</span><span class=\"G_dna\">G</span><span class=\"C_dna\">C</span><span class=\"C_dna\">C</span></td></tr>\n",
       "<tr><td class=\"label\">Gorilla</td><td><span class=\"A_dna\">.</span><span class=\"T_dna\">.</span><span class=\"G_dna\">.</span><span class=\"C_dna\">.</span><span class=\"A_dna\">.</span><span class=\"G_dna\">.</span><span class=\"G_dna\">.</span><span class=\"C_dna\">.</span><span class=\"G_dna\">.</span><span class=\"G_dna\">.</span><span class=\"T_dna\">.</span><span class=\"G_dna\">.</span><span class=\"C_dna\">.</span><span class=\"G_dna\">.</span><span class=\"G_dna\">.</span><span class=\"C_dna\">.</span><span class=\"A_dna\">.</span><span class=\"C_dna\">.</span><span class=\"G_dna\">.</span><span class=\"T_dna\">.</span><span class=\"C_dna\">.</span><span class=\"G_dna\">.</span><span class=\"T_dna\">.</span><span class=\"G_dna\">.</span><span class=\"T_dna\">.</span><span class=\"G_dna\">.</span><span class=\"C_dna\">.</span><span class=\"G_dna\">.</span><span class=\"C_dna\">.</span><span class=\"C_dna\">.</span><span class=\"C_dna\">.</span><span class=\"T_dna\">.</span><span class=\"G_dna\">.</span><span class=\"T_dna\">.</span><span class=\"C_dna\">.</span><span class=\"C_dna\">.</span><span class=\"G_dna\">.</span><span class=\"G_dna\">.</span><span class=\"C_dna\">.</span><span class=\"G_dna\">.</span><span class=\"G_dna\">.</span><span class=\"C_dna\">.</span><span class=\"G_dna\">.</span><span class=\"T_dna\">.</span><span class=\"G_dna\">.</span><span class=\"G_dna\">.</span><span class=\"A_dna\">.</span><span class=\"C_dna\">.</span><span class=\"A_dna\">.</span><span class=\"G_dna\">.</span><span class=\"C_dna\">.</span><span class=\"G_dna\">.</span><span class=\"C_dna\">.</span><span class=\"C_dna\">.</span><span class=\"G_dna\">.</span><span class=\"T_dna\">.</span><span class=\"G_dna\">.</span><span class=\"G_dna\">.</span><span class=\"C_dna\">.</span><span class=\"C_dna\">.</span></td></tr>\n",
       "<tr><td class=\"label\">Human</td><td><span class=\"A_dna\">.</span><span class=\"T_dna\">.</span><span class=\"G_dna\">.</span><span class=\"C_dna\">.</span><span class=\"A_dna\">.</span><span class=\"G_dna\">.</span><span class=\"G_dna\">.</span><span class=\"C_dna\">.</span><span class=\"G_dna\">.</span><span class=\"G_dna\">.</span><span class=\"T_dna\">.</span><span class=\"G_dna\">.</span><span class=\"C_dna\">.</span><span class=\"G_dna\">.</span><span class=\"G_dna\">.</span><span class=\"C_dna\">.</span><span class=\"A_dna\">.</span><span class=\"C_dna\">.</span><span class=\"G_dna\">.</span><span class=\"T_dna\">.</span><span class=\"C_dna\">.</span><span class=\"G_dna\">.</span><span class=\"T_dna\">.</span><span class=\"G_dna\">.</span><span class=\"T_dna\">.</span><span class=\"G_dna\">.</span><span class=\"C_dna\">.</span><span class=\"G_dna\">.</span><span class=\"C_dna\">.</span><span class=\"C_dna\">.</span><span class=\"C_dna\">.</span><span class=\"T_dna\">.</span><span class=\"G_dna\">.</span><span class=\"T_dna\">.</span><span class=\"C_dna\">.</span><span class=\"C_dna\">.</span><span class=\"G_dna\">.</span><span class=\"G_dna\">.</span><span class=\"C_dna\">.</span><span class=\"G_dna\">.</span><span class=\"G_dna\">.</span><span class=\"C_dna\">.</span><span class=\"G_dna\">.</span><span class=\"T_dna\">.</span><span class=\"G_dna\">.</span><span class=\"G_dna\">.</span><span class=\"A_dna\">.</span><span class=\"C_dna\">.</span><span class=\"A_dna\">.</span><span class=\"G_dna\">.</span><span class=\"C_dna\">.</span><span class=\"G_dna\">.</span><span class=\"C_dna\">.</span><span class=\"C_dna\">.</span><span class=\"G_dna\">.</span><span class=\"T_dna\">.</span><span class=\"G_dna\">.</span><span class=\"G_dna\">.</span><span class=\"C_dna\">.</span><span class=\"C_dna\">.</span></td></tr>\n",
       "</table>\n",
       "<p><i>3 x 562040 (truncated to 3 x 60) dna alignment</i></p>\n",
       "</div>"
      ],
      "text/plain": [
       "3 x 562040 dna alignment: Chimpanzee[ATGCAGGCGG...], Gorilla[ATGCAGGCGG...], Human[ATGCAGGCGG...]"
      ]
     },
     "execution_count": 4,
     "metadata": {},
     "output_type": "execute_result"
    }
   ],
   "source": [
    "alpos_alns"
   ]
  },
  {
   "cell_type": "code",
   "execution_count": 5,
   "metadata": {},
   "outputs": [
    {
     "data": {
      "text/html": [
       "<style>\n",
       ".c3align table {margin: 10px 0;}\n",
       ".c3align td { border: none !important; text-align: left !important; }\n",
       ".c3align tr:not(.num_row) td span {margin: 0 2px;}\n",
       ".c3align tr:nth-child(even) {background: #f7f7f7;}\n",
       ".c3align .num_row {background-color:rgba(161, 195, 209, 0.5) !important; border-top: solid 1px black; }\n",
       ".c3align .label { font-size: 12pt ; text-align: right !important; color: black !important; padding: 0 4px; display: table-cell !important; font-weight: normal !important; }\n",
       ".c3align .T_dna{font-family: \"Lucida Console\",monospace !important; font-size: 12pt !important; color: blue; }\n",
       ".c3align .C_dna{font-family: \"Lucida Console\",monospace !important; font-size: 12pt !important; color: black; }\n",
       ".c3align .A_dna{font-family: \"Lucida Console\",monospace !important; font-size: 12pt !important; color: #FF0102; }\n",
       ".c3align .G_dna{font-family: \"Lucida Console\",monospace !important; font-size: 12pt !important; color: green; }\n",
       ".c3align .terminal_ambig_dna{font-family: \"Lucida Console\",monospace !important; font-size: 12pt !important; color: gray; }\n",
       ".c3align .ambig_dna{font-family: \"Lucida Console\",monospace !important; font-size: 12pt !important; color: gray; }\n",
       "</style>\n",
       "<div class=\"c3align\">\n",
       "<table>\n",
       "<tr class=\"num_row\"><td></td><td><b>0</b></td></tr>\n",
       "<tr><td class=\"label\">Chimpanzee</td><td><span class=\"A_dna\">A</span><span class=\"C_dna\">C</span><span class=\"T_dna\">T</span><span class=\"T_dna\">T</span><span class=\"A_dna\">A</span><span class=\"C_dna\">C</span><span class=\"T_dna\">T</span><span class=\"A_dna\">A</span><span class=\"A_dna\">A</span><span class=\"A_dna\">A</span><span class=\"G_dna\">G</span><span class=\"A_dna\">A</span><span class=\"C_dna\">C</span><span class=\"C_dna\">C</span><span class=\"A_dna\">A</span><span class=\"C_dna\">C</span><span class=\"A_dna\">A</span><span class=\"G_dna\">G</span><span class=\"T_dna\">T</span><span class=\"T_dna\">T</span><span class=\"A_dna\">A</span><span class=\"C_dna\">C</span><span class=\"G_dna\">G</span><span class=\"C_dna\">C</span><span class=\"C_dna\">C</span><span class=\"A_dna\">A</span><span class=\"G_dna\">G</span></td></tr>\n",
       "<tr><td class=\"label\">Gorilla</td><td><span class=\"G_dna\">G</span><span class=\"T_dna\">T</span><span class=\"C_dna\">C</span><span class=\"C_dna\">C</span><span class=\"G_dna\">G</span><span class=\"T_dna\">T</span><span class=\"C_dna\">C</span><span class=\"C_dna\">C</span><span class=\"G_dna\">G</span><span class=\"T_dna\">T</span><span class=\"A_dna\">A</span><span class=\"G_dna\">G</span><span class=\"T_dna\">T</span><span class=\"T_dna\">T</span><span class=\"G_dna\">G</span><span class=\"T_dna\">T</span><span class=\"G_dna\">G</span><span class=\"A_dna\">A</span><span class=\"G_dna\">G</span><span class=\"C_dna\">C</span><span class=\"C_dna\">C</span><span class=\"A_dna\">A</span><span class=\"A_dna\">A</span><span class=\"T_dna\">T</span><span class=\"T_dna\">T</span><span class=\"G_dna\">G</span><span class=\"A_dna\">A</span></td></tr>\n",
       "<tr><td class=\"label\">Human</td><td><span class=\"A_dna\">.</span><span class=\"C_dna\">.</span><span class=\"T_dna\">.</span><span class=\"T_dna\">.</span><span class=\"A_dna\">.</span><span class=\"C_dna\">.</span><span class=\"T_dna\">.</span><span class=\"A_dna\">.</span><span class=\"A_dna\">.</span><span class=\"A_dna\">.</span><span class=\"G_dna\">.</span><span class=\"A_dna\">.</span><span class=\"C_dna\">.</span><span class=\"C_dna\">.</span><span class=\"A_dna\">.</span><span class=\"C_dna\">.</span><span class=\"A_dna\">.</span><span class=\"G_dna\">.</span><span class=\"T_dna\">.</span><span class=\"T_dna\">.</span><span class=\"A_dna\">.</span><span class=\"C_dna\">.</span><span class=\"G_dna\">.</span><span class=\"T_dna\">T</span><span class=\"C_dna\">.</span><span class=\"A_dna\">.</span><span class=\"G_dna\">.</span></td></tr>\n",
       "</table>\n",
       "<p><i>3 x 27 dna alignment</i></p>\n",
       "</div>"
      ],
      "text/plain": [
       "3 x 27 dna alignment: Chimpanzee[ACTTACTAAA...], Gorilla[GTCCGTCCGT...], Human[ACTTACTAAA...]"
      ]
     },
     "execution_count": 5,
     "metadata": {},
     "output_type": "execute_result"
    }
   ],
   "source": [
    "#Testing that the concatenated alignemnts have non degenerate variable positions \n",
    "#new_subset = alpos_alns.take_seqs([\"Human\", \"Gorilla\"])\n",
    "new_subset = alpos_alns\n",
    "\n",
    "#after degap and omit_gap_pos the gaps in Gorilla stay there\n",
    "new_subset.degap()\n",
    "varpos = new_subset.variable_positions()\n",
    "just_variable_aln = new_subset.take_positions(varpos)\n",
    "just_variable_aln"
   ]
  },
  {
   "cell_type": "code",
   "execution_count": 6,
   "metadata": {},
   "outputs": [
    {
     "data": {
      "application/vnd.jupyter.widget-view+json": {
       "model_id": "e1122d9e0e1245e1ab952a12bf1da391",
       "version_major": 2,
       "version_minor": 0
      },
      "text/plain": [
       "   0%|          |00:00<?"
      ]
     },
     "metadata": {},
     "output_type": "display_data"
    },
    {
     "data": {
      "application/vnd.jupyter.widget-view+json": {
       "model_id": "c6a7fb9653da47a0b6f6a01d98a313e1",
       "version_major": 2,
       "version_minor": 0
      },
      "text/plain": [
       "   0%|          |00:00<?"
      ]
     },
     "metadata": {},
     "output_type": "display_data"
    },
    {
     "data": {
      "application/vnd.jupyter.widget-view+json": {
       "model_id": "c8ca35de2ecc481a964915374b1776e1",
       "version_major": 2,
       "version_minor": 0
      },
      "text/plain": [
       "   0%|          |00:00<?"
      ]
     },
     "metadata": {},
     "output_type": "display_data"
    },
    {
     "data": {
      "application/vnd.jupyter.widget-view+json": {
       "model_id": "720c78a10bc34bf59edf53cae76b04e3",
       "version_major": 2,
       "version_minor": 0
      },
      "text/plain": [
       "   0%|          |00:00<?"
      ]
     },
     "metadata": {},
     "output_type": "display_data"
    },
    {
     "data": {
      "application/vnd.jupyter.widget-view+json": {
       "model_id": "78e534d07c3742b69134c55fdafa24bd",
       "version_major": 2,
       "version_minor": 0
      },
      "text/plain": [
       "   0%|          |00:00<?"
      ]
     },
     "metadata": {},
     "output_type": "display_data"
    },
    {
     "data": {
      "application/vnd.jupyter.widget-view+json": {
       "model_id": "6393f89660154565bed8ff1bf2de4701",
       "version_major": 2,
       "version_minor": 0
      },
      "text/plain": [
       "   0%|          |00:00<?"
      ]
     },
     "metadata": {},
     "output_type": "display_data"
    },
    {
     "name": "stdout",
     "output_type": "stream",
     "text": [
      "Model results : \n",
      "OrderedDict({1: GN pos-1\n",
      "log-likelihood = -257562.2835\n",
      "number of free parameters = 39\n",
      "========================================================================\n",
      "edge          parent    length      A>C      A>G     A>T     C>A     C>G\n",
      "------------------------------------------------------------------------\n",
      "Chimpanzee    root        0.00     0.00    50.00    0.00    0.00    0.00\n",
      "Gorilla       root        0.00    50.00    50.00    0.00    0.00    0.00\n",
      "Human         root        0.00     0.00    50.00    0.00    0.00    0.00\n",
      "------------------------------------------------------------------------\n",
      "\n",
      "continued: \n",
      "=============================================\n",
      " C>T      G>A     G>C     G>T     T>A     T>C\n",
      "---------------------------------------------\n",
      "0.00     0.00    0.00    0.00    0.00    0.00\n",
      "0.00    23.56    0.00    0.00    0.00    0.00\n",
      "0.00     0.00    0.00    0.00    0.00    0.00\n",
      "---------------------------------------------\n",
      "\n",
      "============================\n",
      "   A       C       G       T\n",
      "----------------------------\n",
      "0.26    0.27    0.28    0.19\n",
      "----------------------------, 2: GN pos-2\n",
      "log-likelihood = -259018.3287\n",
      "number of free parameters = 39\n",
      "=======================================================================\n",
      "edge          parent    length     A>C      A>G     A>T     C>A     C>G\n",
      "-----------------------------------------------------------------------\n",
      "Chimpanzee    root        0.00    0.00     0.00    0.00    0.00    0.00\n",
      "Gorilla       root        0.00    0.00    50.00    0.00    0.00    0.00\n",
      "Human         root        0.00    0.00     0.00    0.00    0.00    0.00\n",
      "-----------------------------------------------------------------------\n",
      "\n",
      "continued: \n",
      "===============================================\n",
      "  C>T      G>A     G>C     G>T     T>A      T>C\n",
      "-----------------------------------------------\n",
      " 0.00     0.00    0.00    0.00    0.00    50.00\n",
      "14.39    33.13    0.00    0.00    0.00     0.00\n",
      "49.96     0.00    0.00    0.00    0.00     0.00\n",
      "-----------------------------------------------\n",
      "\n",
      "============================\n",
      "   A       C       G       T\n",
      "----------------------------\n",
      "0.24    0.29    0.25    0.22\n",
      "----------------------------, 3: GN pos-3\n",
      "log-likelihood = -248638.4143\n",
      "number of free parameters = 39\n",
      "======================================================================\n",
      "edge          parent    length     A>C     A>G     A>T     C>A     C>G\n",
      "----------------------------------------------------------------------\n",
      "Chimpanzee    root        0.00    0.00    0.00    0.00    0.00    0.00\n",
      "Gorilla       root        0.00    0.00    1.84    0.92    0.47    0.00\n",
      "Human         root        0.00    0.00    0.00    0.00    0.00    0.00\n",
      "----------------------------------------------------------------------\n",
      "\n",
      "continued: \n",
      "=============================================\n",
      " C>T     G>A     G>C     G>T     T>A      T>C\n",
      "---------------------------------------------\n",
      "0.00    0.00    0.00    0.00    0.00    49.93\n",
      "2.37    0.47    0.00    0.00    0.00     4.00\n",
      "0.00    0.00    0.00    0.00    0.00    49.85\n",
      "---------------------------------------------\n",
      "\n",
      "============================\n",
      "   A       C       G       T\n",
      "----------------------------\n",
      "0.17    0.33    0.34    0.16\n",
      "----------------------------})\n",
      "\n",
      "Distances: \n",
      "{'Chimpanzee': np.float64(1.0000063504046007e-06), 'Gorilla': np.float64(2.6688961450311407e-05), 'Human': np.float64(1.0000071939905418e-06)}\n",
      "{'Chimpanzee': np.float64(5.337659820461585e-06), 'Gorilla': np.float64(3.202753942233662e-05), 'Human': np.float64(9.99999018670744e-07)}\n",
      "{'Chimpanzee': np.float64(9.99997510540699e-07), 'Gorilla': np.float64(8.007190825122285e-05), 'Human': np.float64(9.999975103250148e-07)}\n"
     ]
    }
   ],
   "source": [
    "#Do a general nucleotide model of conncatenated sequences concatenated sequences \n",
    "#time_het=max sets a 36 params substitution model\n",
    "sm = get_app(\"model\", \"GN\", time_het=\"max\", optimise_motif_probs=True, show_progress=True, split_codons=True)\n",
    "result_allpos = sm(alpos_alns)\n",
    "print(\"Model results : \\n\" + str(result_allpos.lf) + \"\\n\")\n",
    "\n",
    "print(\"Distances: \")\n",
    "lengthstree_pos1 = result_allpos[1].get_lengths_as_ens()\n",
    "print(lengthstree_pos1)\n",
    "\n",
    "lengthstree_pos2 = result_allpos[2].get_lengths_as_ens()\n",
    "print(lengthstree_pos2)\n",
    "\n",
    "lengthstree_pos3 = result_allpos[3].get_lengths_as_ens()\n",
    "print(lengthstree_pos3)"
   ]
  },
  {
   "cell_type": "code",
   "execution_count": 7,
   "metadata": {},
   "outputs": [
    {
     "data": {
      "text/html": [
       "\n",
       "<div class=\"c3table\">\n",
       "\n",
       "<style>\n",
       ".c3table table {margin: 10px 0;}\n",
       ".c3table tr:last-child {border-bottom: 1px solid #000;} \n",
       ".c3table tr > th {text-align: left; padding: 0 5px;}\n",
       ".c3table tr > td {text-align: left; padding: 5px;}\n",
       ".c3table tr:nth-child(even) {background: #f7f7f7 !important;}\n",
       ".c3table .ellipsis {background: rgba(0, 0, 0, .01);}\n",
       ".c3table .index {background: rgba(161, 195, 209, 0.0); margin: 10px; font-weight: 600;}\n",
       ".c3table .head_cell {background: rgba(161, 195, 209, 0.75); font-weight: bold; text-align: center;}\n",
       ".c3table caption {color: rgb(250, 250, 250); background: rgba(30, 140, 200, 1); padding: 3px; white-space: nowrap; caption-side: top;}\n",
       ".c3table .cell_title {font-weight: bold;}\n",
       ".c3col_left { text-align: left !important; display: block;}\n",
       ".c3col_right { text-align: right !important; display: block;}\n",
       ".c3col_center { text-align: center !important; display: block;}\n",
       "</style>\n",
       "\n",
       "<table>\n",
       "\n",
       "<caption>\n",
       "<span class=\"cell_title\">Phylo Limits Record</span>\n",
       "</caption>\n",
       "<thead class=\"head_cell\">\n",
       "<th>source</th><th>model name</th><th>identifiable</th><th>has boundary values</th><th>version</th>\n",
       "</thead>\n",
       "<tbody>\n",
       "<tr><td><span class=\"c3col_left\">cds_alignments</span></td><td><span class=\"c3col_left\">GN</span></td><td><span class=\"c3col_left\">True</span></td><td><span class=\"c3col_left\">True</span></td><td><span class=\"c3col_left\">2025.8.27</span></td></tr>\n",
       "</tbody>\n",
       "</table>\n",
       "\n",
       "</div>"
      ],
      "text/plain": [
       "PhyloLimitRec(check=IdentCheckRes(source='cds_alignments', strict=False, names=None, violation_type=<ViolationType.none: 'none'>), model_name='GN', boundary_values=[{'par_name': 'G>T', 'edge': 'Gorilla', 'init': np.float64(1.000002342722029e-06), 'lower': 1e-06, 'upper': 50}, {'par_name': 'G>C', 'edge': 'Gorilla', 'init': np.float64(1.0000059757745235e-06), 'lower': 1e-06, 'upper': 50}, {'par_name': 'T>A', 'edge': 'Gorilla', 'init': np.float64(1.0000048088435781e-06), 'lower': 1e-06, 'upper': 50}, {'par_name': 'C>G', 'edge': 'Gorilla', 'init': np.float64(1.000007405737644e-06), 'lower': 1e-06, 'upper': 50}, {'par_name': 'A>C', 'edge': 'Gorilla', 'init': np.float64(1.0000211650573937e-06), 'lower': 1e-06, 'upper': 50}], nondlc_and_identity={})"
      ]
     },
     "execution_count": 7,
     "metadata": {},
     "output_type": "execute_result"
    }
   ],
   "source": [
    "checker = get_app(\"phylim\")\n",
    "\n",
    "checked_fitted = libs.phylim_split_codon(checker)\n",
    "checked = checked_fitted(result_allpos)\n",
    "checked"
   ]
  },
  {
   "cell_type": "code",
   "execution_count": 8,
   "metadata": {},
   "outputs": [
    {
     "data": {
      "application/vnd.jupyter.widget-view+json": {
       "model_id": "f153cbb9b9cc48f88544cee0374127fd",
       "version_major": 2,
       "version_minor": 0
      },
      "text/plain": [
       "   0%|          |00:00<?"
      ]
     },
     "metadata": {},
     "output_type": "display_data"
    },
    {
     "data": {
      "application/vnd.jupyter.widget-view+json": {
       "model_id": "e12effc1977e462e986f8753024dd86d",
       "version_major": 2,
       "version_minor": 0
      },
      "text/plain": [
       "   0%|          |00:00<?"
      ]
     },
     "metadata": {},
     "output_type": "display_data"
    },
    {
     "name": "stdout",
     "output_type": "stream",
     "text": [
      "Is model identifiable? True\n",
      "\n",
      "Model results : \n",
      "GN\n",
      "log-likelihood = -770287.6904\n",
      "number of free parameters = 39\n",
      "======================================================================\n",
      "edge          parent    length     A>C     A>G     A>T     C>A     C>G\n",
      "----------------------------------------------------------------------\n",
      "Chimpanzee    root        0.00    0.00    0.00    0.00    0.00    0.00\n",
      "Gorilla       root        0.00    1.68    5.88    0.84    0.64    0.00\n",
      "Human         root        0.00    0.00    0.00    0.00    0.00    0.00\n",
      "----------------------------------------------------------------------\n",
      "\n",
      "continued: \n",
      "==============================================\n",
      "  C>T     G>A     G>C     G>T     T>A      T>C\n",
      "----------------------------------------------\n",
      " 0.00    0.00    0.00    0.00    0.00    50.00\n",
      " 3.84    2.62    0.00    0.00    0.00     4.01\n",
      "49.97    0.00    0.00    0.00    0.00     0.00\n",
      "----------------------------------------------\n",
      "\n",
      "============================\n",
      "   A       C       G       T\n",
      "----------------------------\n",
      "0.23    0.30    0.29    0.19\n",
      "----------------------------\n",
      "\n",
      "Distances: {'Chimpanzee': np.float64(1.7791928039760448e-06), 'Gorilla': np.float64(4.626161299464341e-05), 'Human': np.float64(1.0000049961697273e-06)}\n"
     ]
    }
   ],
   "source": [
    "#Get distances of concatenated sequences \n",
    "#time_het=max sets a 36 params substitution model\n",
    "sm = get_app(\"model\", \"GN\", time_het=\"max\", optimise_motif_probs=True, show_progress=True)\n",
    "result_allcodons = sm(alpos_alns)\n",
    "\n",
    "checked = checker(result_allcodons)\n",
    "lengthstree = result_allcodons.lf.get_lengths_as_ens()\n",
    "print(\"Is model identifiable? \" + str(checked.is_identifiable) + \"\\n\")\n",
    "print(\"Model results : \\n\" + str(result_allcodons.lf) + \"\\n\")\n",
    "print(\"Distances: \" + str(lengthstree))"
   ]
  }
 ],
 "metadata": {
  "kernelspec": {
   "display_name": "delme",
   "language": "python",
   "name": "python3"
  },
  "language_info": {
   "codemirror_mode": {
    "name": "ipython",
    "version": 3
   },
   "file_extension": ".py",
   "mimetype": "text/x-python",
   "name": "python",
   "nbconvert_exporter": "python",
   "pygments_lexer": "ipython3",
   "version": "3.13.7"
  },
  "orig_nbformat": 4
 },
 "nbformat": 4,
 "nbformat_minor": 2
}

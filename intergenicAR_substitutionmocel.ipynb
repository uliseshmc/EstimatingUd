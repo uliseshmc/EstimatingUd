{
 "cells": [
  {
   "cell_type": "code",
   "execution_count": 1,
   "metadata": {},
   "outputs": [],
   "source": [
    "import cogent3\n",
    "from cogent3 import get_app\n",
    "from phylim.apps import phylim\n",
    "import libs\n",
    "import paths"
   ]
  },
  {
   "cell_type": "code",
   "execution_count": null,
   "metadata": {},
   "outputs": [
    {
     "name": "stdout",
     "output_type": "stream",
     "text": [
      "Directory datastore\n",
      "=======================\n",
      "record type      number\n",
      "-----------------------\n",
      "completed           644\n",
      "not_completed         0\n",
      "logs                  0\n",
      "-----------------------\n"
     ]
    }
   ],
   "source": [
    "folder_in = paths.DATA_APES114\n",
    "in_dstore = cogent3.open_data_store(folder_in, suffix='fa', mode='r')\n",
    "\n",
    "print(in_dstore.describe)"
   ]
  },
  {
   "cell_type": "code",
   "execution_count": null,
   "metadata": {},
   "outputs": [],
   "source": [
    "#perform a codon alignment and remove stop codons\n",
    "loader = get_app(\"load_aligned\", moltype=\"dna\")\n",
    "omit_degs = get_app(\"omit_degenerates\", moltype=\"dna\")\n",
    "#rename app makes sure that each alignment contains only one alignment per species\n",
    "#some alignment files include duplicates. We take randomly a sequence per species and discard the others\n",
    "rename = libs.renamer()\n",
    "concat = get_app(\"concat\", moltype=\"dna\")\n",
    "\n",
    "app = loader + omit_degs + rename\n",
    "results_allpos = [r for r in app.as_completed(in_dstore[:], parallel=True) if r]\n",
    "alpos_alns = concat(results_allpos)\n",
    "alpos_alns.source = \"intergenicAR_test_alignments\"\n",
    "alpos_alns"
   ]
  },
  {
   "cell_type": "code",
   "execution_count": 4,
   "metadata": {},
   "outputs": [
    {
     "data": {
      "application/vnd.jupyter.widget-view+json": {
       "model_id": "cc65cff671a74fa0b80dafe4dc075450",
       "version_major": 2,
       "version_minor": 0
      },
      "text/plain": [
       "   0%|          |00:00<?"
      ]
     },
     "metadata": {},
     "output_type": "display_data"
    },
    {
     "data": {
      "application/vnd.jupyter.widget-view+json": {
       "model_id": "72130ce82c494df29b69f1ee4db5130c",
       "version_major": 2,
       "version_minor": 0
      },
      "text/plain": [
       "   0%|          |00:00<?"
      ]
     },
     "metadata": {},
     "output_type": "display_data"
    },
    {
     "name": "stdout",
     "output_type": "stream",
     "text": [
      "Is model identifiable? True\n",
      "\n",
      "Model results : \n",
      "GN\n",
      "log-likelihood = -11266720.1739\n",
      "number of free parameters = 39\n",
      "======================================================================\n",
      "edge          parent    length     A>C     A>G     A>T     C>A     C>G\n",
      "----------------------------------------------------------------------\n",
      "Gorilla       root        0.01    0.94    4.25    0.73    1.25    1.42\n",
      "Human         root        0.01    0.99    3.99    0.82    1.42    1.41\n",
      "Chimpanzee    root        0.01    1.01    3.66    0.87    1.28    1.37\n",
      "----------------------------------------------------------------------\n",
      "\n",
      "continued: \n",
      "============================================\n",
      " C>T     G>A     G>C     G>T     T>A     T>C\n",
      "--------------------------------------------\n",
      "6.57    6.67    1.37    1.30    0.78    4.19\n",
      "7.44    7.52    1.41    1.41    0.77    3.90\n",
      "7.03    6.94    1.37    1.28    0.83    3.68\n",
      "--------------------------------------------\n",
      "\n",
      "============================\n",
      "   A       C       G       T\n",
      "----------------------------\n",
      "0.27    0.23    0.23    0.27\n",
      "----------------------------\n",
      "\n",
      "Distances: {'Gorilla': np.float64(0.012332691914139379), 'Human': np.float64(0.007159971387306554), 'Chimpanzee': np.float64(0.007726148558111177)}\n"
     ]
    }
   ],
   "source": [
    "#Get distances of concatenated sequences \n",
    "#time_het=max sets a 36 params substitution model\n",
    "sm = get_app(\"model\", \"GN\", time_het=\"max\", optimise_motif_probs=True, show_progress=True)\n",
    "result_intergenic = sm(alpos_alns)\n",
    "\n",
    "checker = get_app(\"phylim\")\n",
    "checked = checker(result_intergenic)\n",
    "lengthstree = result_intergenic.lf.get_lengths_as_ens()\n",
    "print(\"Is model identifiable? \" + str(checked.is_identifiable) + \"\\n\")\n",
    "print(\"Model results : \\n\" + str(result_intergenic.lf) + \"\\n\")\n",
    "print(\"Distances: \" + str(lengthstree))"
   ]
  }
 ],
 "metadata": {
  "kernelspec": {
   "display_name": "delme",
   "language": "python",
   "name": "python3"
  },
  "language_info": {
   "codemirror_mode": {
    "name": "ipython",
    "version": 3
   },
   "file_extension": ".py",
   "mimetype": "text/x-python",
   "name": "python",
   "nbconvert_exporter": "python",
   "pygments_lexer": "ipython3",
   "version": "3.13.7"
  },
  "orig_nbformat": 4
 },
 "nbformat": 4,
 "nbformat_minor": 2
}

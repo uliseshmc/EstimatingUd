{
 "cells": [
  {
   "cell_type": "code",
   "execution_count": 1,
   "metadata": {},
   "outputs": [
    {
     "ename": "AttributeError",
     "evalue": "module 'cogent3' has no attribute 'get_dataset'",
     "output_type": "error",
     "traceback": [
      "\u001b[0;31m---------------------------------------------------------------------------\u001b[0m",
      "\u001b[0;31mAttributeError\u001b[0m                            Traceback (most recent call last)",
      "Cell \u001b[0;32mIn[1], line 7\u001b[0m\n\u001b[1;32m      3\u001b[0m os\u001b[38;5;241m.\u001b[39menviron[\u001b[38;5;124m\"\u001b[39m\u001b[38;5;124mCOGENT3_NEW_TYPE\u001b[39m\u001b[38;5;124m\"\u001b[39m] \u001b[38;5;241m=\u001b[39m \u001b[38;5;124m\"\u001b[39m\u001b[38;5;124m1\u001b[39m\u001b[38;5;124m\"\u001b[39m\n\u001b[1;32m      5\u001b[0m \u001b[38;5;28;01mimport\u001b[39;00m\u001b[38;5;250m \u001b[39m\u001b[38;5;21;01mcogent3\u001b[39;00m\n\u001b[0;32m----> 7\u001b[0m aln \u001b[38;5;241m=\u001b[39m \u001b[43mcogent3\u001b[49m\u001b[38;5;241;43m.\u001b[39;49m\u001b[43mget_dataset\u001b[49m(\u001b[38;5;124m\"\u001b[39m\u001b[38;5;124mbrca1\u001b[39m\u001b[38;5;124m\"\u001b[39m)\n\u001b[1;32m      8\u001b[0m hcm \u001b[38;5;241m=\u001b[39m aln\u001b[38;5;241m.\u001b[39mtake_seqs([\u001b[38;5;124m\"\u001b[39m\u001b[38;5;124mHuman\u001b[39m\u001b[38;5;124m\"\u001b[39m, \u001b[38;5;124m\"\u001b[39m\u001b[38;5;124mChimpanzee\u001b[39m\u001b[38;5;124m\"\u001b[39m, \u001b[38;5;124m\"\u001b[39m\u001b[38;5;124mRhesus\u001b[39m\u001b[38;5;124m\"\u001b[39m])\u001b[38;5;241m.\u001b[39mdegap()\n\u001b[1;32m      9\u001b[0m codon_align \u001b[38;5;241m=\u001b[39m cogent3\u001b[38;5;241m.\u001b[39mget_app(\u001b[38;5;124m\"\u001b[39m\u001b[38;5;124mprogressive_align\u001b[39m\u001b[38;5;124m\"\u001b[39m, \u001b[38;5;124m\"\u001b[39m\u001b[38;5;124mcodon\u001b[39m\u001b[38;5;124m\"\u001b[39m, guide_tree\u001b[38;5;241m=\u001b[39m\u001b[38;5;124m\"\u001b[39m\u001b[38;5;124m(Human:0.06,Chimpanzee:0.06,Rhesus:0.1)\u001b[39m\u001b[38;5;124m\"\u001b[39m)\n",
      "\u001b[0;31mAttributeError\u001b[0m: module 'cogent3' has no attribute 'get_dataset'"
     ]
    }
   ],
   "source": [
    "import os\n",
    "\n",
    "os.environ[\"COGENT3_NEW_TYPE\"] = \"1\"\n",
    "\n",
    "import cogent3\n",
    "\n",
    "aln = cogent3.get_dataset(\"brca1\")\n",
    "hcm = aln.take_seqs([\"Human\", \"Chimpanzee\", \"Rhesus\"]).degap()\n",
    "codon_align = cogent3.get_app(\"progressive_align\", \"codon\", guide_tree=\"(Human:0.06,Chimpanzee:0.06,Rhesus:0.1)\")\n",
    "aln = codon_align(hcm)"
   ]
  },
  {
   "cell_type": "code",
   "execution_count": 2,
   "metadata": {},
   "outputs": [
    {
     "ename": "AttributeError",
     "evalue": "module 'cogent3' has no attribute 'get_dataset'",
     "output_type": "error",
     "traceback": [
      "\u001b[0;31m---------------------------------------------------------------------------\u001b[0m",
      "\u001b[0;31mAttributeError\u001b[0m                            Traceback (most recent call last)",
      "Cell \u001b[0;32mIn[2], line 1\u001b[0m\n\u001b[0;32m----> 1\u001b[0m aln \u001b[38;5;241m=\u001b[39m \u001b[43mcogent3\u001b[49m\u001b[38;5;241;43m.\u001b[39;49m\u001b[43mget_dataset\u001b[49m(\u001b[38;5;124m\"\u001b[39m\u001b[38;5;124mbrca1\u001b[39m\u001b[38;5;124m\"\u001b[39m)\n\u001b[1;32m      2\u001b[0m hcm \u001b[38;5;241m=\u001b[39m aln\u001b[38;5;241m.\u001b[39mtake_seqs([\u001b[38;5;124m\"\u001b[39m\u001b[38;5;124mHuman\u001b[39m\u001b[38;5;124m\"\u001b[39m, \u001b[38;5;124m\"\u001b[39m\u001b[38;5;124mChimpanzee\u001b[39m\u001b[38;5;124m\"\u001b[39m, \u001b[38;5;124m\"\u001b[39m\u001b[38;5;124mRhesus\u001b[39m\u001b[38;5;124m\"\u001b[39m])\u001b[38;5;241m.\u001b[39momit_gap_pos()\n\u001b[1;32m      3\u001b[0m ffold \u001b[38;5;241m=\u001b[39m cogent3\u001b[38;5;241m.\u001b[39mget_app(\u001b[38;5;124m\"\u001b[39m\u001b[38;5;124mtake_codon_positions\u001b[39m\u001b[38;5;124m\"\u001b[39m, fourfold_degenerate\u001b[38;5;241m=\u001b[39m\u001b[38;5;28;01mTrue\u001b[39;00m)\n",
      "\u001b[0;31mAttributeError\u001b[0m: module 'cogent3' has no attribute 'get_dataset'"
     ]
    }
   ],
   "source": [
    "aln = cogent3.get_dataset(\"brca1\")\n",
    "hcm = aln.take_seqs([\"Human\", \"Chimpanzee\", \"Rhesus\"]).omit_gap_pos()\n",
    "ffold = cogent3.get_app(\"take_codon_positions\", fourfold_degenerate=True)\n",
    "ffold(hcm)"
   ]
  }
 ],
 "metadata": {
  "kernelspec": {
   "display_name": "Python 3.10.16 ('EstimatingUd')",
   "language": "python",
   "name": "python3"
  },
  "language_info": {
   "codemirror_mode": {
    "name": "ipython",
    "version": 3
   },
   "file_extension": ".py",
   "mimetype": "text/x-python",
   "name": "python",
   "nbconvert_exporter": "python",
   "pygments_lexer": "ipython3",
   "version": "3.10.16"
  },
  "orig_nbformat": 4,
  "vscode": {
   "interpreter": {
    "hash": "53a0ee2834e5a3220609a583c5db6d166b18855c93dee771c0346263a6405663"
   }
  }
 },
 "nbformat": 4,
 "nbformat_minor": 2
}

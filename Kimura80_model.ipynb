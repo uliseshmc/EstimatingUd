{
 "cells": [
  {
   "cell_type": "code",
   "execution_count": 2,
   "metadata": {},
   "outputs": [],
   "source": [
    "import cogent3\n",
    "from cogent3 import get_app\n",
    "import matplotlib.pyplot as plt\n",
    "import paths\n",
    "import libs"
   ]
  },
  {
   "cell_type": "markdown",
   "metadata": {},
   "source": [
    "# CDS sample alignment\n",
    "\n",
    "I sampled chromosome 22 cds using \n",
    "```\n",
    "eti homologs -i install/ --outdir cds --ref human --coord_names 22 \n",
    "```\n",
    "Then I trim stop codons and use a codon alignment model for all the sequences using\n",
    "```\n",
    "trim_stops = get_app(\"trim_stop_codons\")\n",
    "codon_align = get_app(\"progressive_align\", \"codon\", guide_tree=\"(Human:0.06,Chimpanzee:0.06,Gorilla:0.1)\")\n",
    "```\n",
    "I store the aligned sequences in the folder cds/codon_aligned/"
   ]
  },
  {
   "cell_type": "code",
   "execution_count": 3,
   "metadata": {},
   "outputs": [
    {
     "name": "stdout",
     "output_type": "stream",
     "text": [
      "Directory datastore\n",
      "=======================\n",
      "record type      number\n",
      "-----------------------\n",
      "completed           348\n",
      "not_completed        48\n",
      "logs                  3\n",
      "-----------------------\n"
     ]
    }
   ],
   "source": [
    "folder_in = paths.DATA_APES114 + 'cds/codon_aligned/'\n",
    "in_dstore = cogent3.open_data_store(folder_in, suffix='fa', mode='r')\n",
    "\n",
    "print(in_dstore.describe)"
   ]
  },
  {
   "cell_type": "code",
   "execution_count": 4,
   "metadata": {},
   "outputs": [
    {
     "data": {
      "application/vnd.jupyter.widget-view+json": {
       "model_id": "c9d48ba72f314a62a00d8801df506641",
       "version_major": 2,
       "version_minor": 0
      },
      "text/plain": [
       "   0%|          |00:00<?"
      ]
     },
     "metadata": {},
     "output_type": "display_data"
    },
    {
     "data": {
      "text/html": [
       "<style>\n",
       ".c3align table {margin: 10px 0;}\n",
       ".c3align td { border: none !important; text-align: left !important; }\n",
       ".c3align tr:not(.num_row) td span {margin: 0 2px;}\n",
       ".c3align tr:nth-child(even) {background: #f7f7f7;}\n",
       ".c3align .num_row {background-color:rgba(161, 195, 209, 0.5) !important; border-top: solid 1px black; }\n",
       ".c3align .label { font-size: 12pt ; text-align: right !important; color: black !important; padding: 0 4px; display: table-cell !important; font-weight: normal !important; }\n",
       ".c3align .T_dna{font-family: \"Lucida Console\",monospace !important; font-size: 12pt !important; color: blue; }\n",
       ".c3align .C_dna{font-family: \"Lucida Console\",monospace !important; font-size: 12pt !important; color: black; }\n",
       ".c3align .A_dna{font-family: \"Lucida Console\",monospace !important; font-size: 12pt !important; color: #FF0102; }\n",
       ".c3align .G_dna{font-family: \"Lucida Console\",monospace !important; font-size: 12pt !important; color: green; }\n",
       ".c3align .terminal_ambig_dna{font-family: \"Lucida Console\",monospace !important; font-size: 12pt !important; color: gray; }\n",
       ".c3align .ambig_dna{font-family: \"Lucida Console\",monospace !important; font-size: 12pt !important; color: gray; }\n",
       "</style>\n",
       "<div class=\"c3align\">\n",
       "<table>\n",
       "<tr class=\"num_row\"><td></td><td><b>0</b></td></tr>\n",
       "<tr><td class=\"label\">Chimpanzee</td><td><span class=\"G_dna\">G</span><span class=\"A_dna\">A</span><span class=\"C_dna\">C</span><span class=\"T_dna\">T</span><span class=\"G_dna\">G</span><span class=\"G_dna\">G</span><span class=\"G_dna\">G</span><span class=\"A_dna\">A</span><span class=\"G_dna\">G</span><span class=\"A_dna\">A</span><span class=\"G_dna\">G</span><span class=\"C_dna\">C</span><span class=\"C_dna\">C</span><span class=\"C_dna\">C</span><span class=\"C_dna\">C</span><span class=\"G_dna\">G</span><span class=\"A_dna\">A</span><span class=\"T_dna\">T</span><span class=\"C_dna\">C</span><span class=\"C_dna\">C</span><span class=\"C_dna\">C</span><span class=\"G_dna\">G</span><span class=\"G_dna\">G</span><span class=\"G_dna\">G</span><span class=\"C_dna\">C</span><span class=\"C_dna\">C</span><span class=\"T_dna\">T</span><span class=\"A_dna\">A</span><span class=\"C_dna\">C</span><span class=\"T_dna\">T</span><span class=\"C_dna\">C</span><span class=\"C_dna\">C</span><span class=\"G_dna\">G</span><span class=\"G_dna\">G</span><span class=\"G_dna\">G</span><span class=\"T_dna\">T</span><span class=\"C_dna\">C</span><span class=\"C_dna\">C</span><span class=\"G_dna\">G</span><span class=\"C_dna\">C</span><span class=\"G_dna\">G</span><span class=\"C_dna\">C</span><span class=\"A_dna\">A</span><span class=\"T_dna\">T</span><span class=\"T_dna\">T</span><span class=\"C_dna\">C</span><span class=\"G_dna\">G</span><span class=\"G_dna\">G</span><span class=\"C_dna\">C</span><span class=\"C_dna\">C</span><span class=\"C_dna\">C</span><span class=\"C_dna\">C</span><span class=\"C_dna\">C</span><span class=\"G_dna\">G</span><span class=\"C_dna\">C</span><span class=\"G_dna\">G</span><span class=\"C_dna\">C</span><span class=\"G_dna\">G</span><span class=\"C_dna\">C</span><span class=\"C_dna\">C</span></td></tr>\n",
       "<tr><td class=\"label\">Human</td><td><span class=\"G_dna\">.</span><span class=\"A_dna\">.</span><span class=\"C_dna\">.</span><span class=\"T_dna\">.</span><span class=\"G_dna\">.</span><span class=\"G_dna\">.</span><span class=\"G_dna\">.</span><span class=\"A_dna\">.</span><span class=\"G_dna\">.</span><span class=\"A_dna\">.</span><span class=\"G_dna\">.</span><span class=\"C_dna\">.</span><span class=\"C_dna\">.</span><span class=\"C_dna\">.</span><span class=\"C_dna\">.</span><span class=\"G_dna\">.</span><span class=\"A_dna\">.</span><span class=\"T_dna\">.</span><span class=\"C_dna\">.</span><span class=\"C_dna\">.</span><span class=\"C_dna\">.</span><span class=\"G_dna\">.</span><span class=\"G_dna\">.</span><span class=\"G_dna\">.</span><span class=\"C_dna\">.</span><span class=\"C_dna\">.</span><span class=\"T_dna\">.</span><span class=\"A_dna\">.</span><span class=\"C_dna\">.</span><span class=\"T_dna\">.</span><span class=\"C_dna\">.</span><span class=\"C_dna\">.</span><span class=\"G_dna\">.</span><span class=\"G_dna\">.</span><span class=\"G_dna\">.</span><span class=\"T_dna\">.</span><span class=\"C_dna\">.</span><span class=\"C_dna\">.</span><span class=\"G_dna\">.</span><span class=\"C_dna\">.</span><span class=\"G_dna\">.</span><span class=\"C_dna\">.</span><span class=\"A_dna\">.</span><span class=\"T_dna\">.</span><span class=\"T_dna\">.</span><span class=\"C_dna\">.</span><span class=\"G_dna\">.</span><span class=\"G_dna\">.</span><span class=\"C_dna\">.</span><span class=\"C_dna\">.</span><span class=\"C_dna\">.</span><span class=\"C_dna\">.</span><span class=\"C_dna\">.</span><span class=\"G_dna\">.</span><span class=\"C_dna\">.</span><span class=\"G_dna\">.</span><span class=\"C_dna\">.</span><span class=\"G_dna\">.</span><span class=\"C_dna\">.</span><span class=\"C_dna\">.</span></td></tr>\n",
       "</table>\n",
       "<p><i>2 x 95938 (truncated to 2 x 60) dna alignment</i></p>\n",
       "</div>"
      ],
      "text/plain": [
       "2 x 95938 dna alignment: Human[GACTGGGAGA...], Chimpanzee[GACTGGGAGA...]"
      ]
     },
     "execution_count": 4,
     "metadata": {},
     "output_type": "execute_result"
    }
   ],
   "source": [
    "loader = get_app(\"load_aligned\", moltype=\"dna\")   \n",
    "omit_degs = get_app(\"omit_degenerates\", moltype=\"dna\", motif_length=3)\n",
    "ffold = get_app(\"take_codon_positions\", fourfold_degenerate=True)\n",
    "concat = get_app(\"concat\", moltype=\"dna\")\n",
    "\n",
    "#create a concatenated alignment with all coding positions\n",
    "ffoldprocess = loader+omit_degs+ffold\n",
    "# result below is only valid alignments (no NotCompleted).\n",
    "results_ffold = [r for r in ffoldprocess.as_completed(in_dstore[:], parallel=True) if r]\n",
    "ffold_alns = concat(results_ffold)\n",
    "ffold_alns.source = \"cds_alignments\"\n",
    "\n",
    "hum_chimps_aln = ffold_alns.take_seqs([\"Human\", \"Chimpanzee\"])\n",
    "hum_chimps_aln"
   ]
  },
  {
   "cell_type": "code",
   "execution_count": 5,
   "metadata": {},
   "outputs": [
    {
     "data": {
      "application/vnd.jupyter.widget-view+json": {
       "model_id": "ed96e6d949ac48ebbc46e4830b171dc4",
       "version_major": 2,
       "version_minor": 0
      },
      "text/plain": [
       "   0%|          |00:00<?"
      ]
     },
     "metadata": {},
     "output_type": "display_data"
    },
    {
     "name": "stdout",
     "output_type": "stream",
     "text": [
      "Model results : \n",
      "K80\n",
      "log-likelihood = -133126.9737\n",
      "number of free parameters = 3\n",
      "=====\n",
      "kappa\n",
      "-----\n",
      " 6.00\n",
      "-----\n",
      "==============================\n",
      "edge          parent    length\n",
      "------------------------------\n",
      "Human         root        0.00\n",
      "Chimpanzee    root        0.00\n",
      "------------------------------\n",
      "============================\n",
      "   A       C       G       T\n",
      "----------------------------\n",
      "0.25    0.25    0.25    0.25\n",
      "----------------------------\n",
      "\n",
      "Distances: \n",
      "{'Human': np.float64(0.00012378350209387316), 'Chimpanzee': np.float64(1.3097406828687425e-06)}\n"
     ]
    }
   ],
   "source": [
    "#Do a Kimura 1980 substitution model\n",
    "sm = get_app(\"model\", \"K80\", optimise_motif_probs=True, show_progress=True)\n",
    "result = sm(hum_chimps_aln)\n",
    "print(\"Model results : \\n\" + str(result.lf) + \"\\n\")\n",
    "\n",
    "print(\"Distances: \")\n",
    "lengthstree_pos1 = result.lf.get_lengths_as_ens()\n",
    "humanENS_cdsffold = lengthstree_pos1[\"Human\"]\n",
    "print(lengthstree_pos1)"
   ]
  },
  {
   "cell_type": "markdown",
   "metadata": {},
   "source": [
    "# Intron sample alignment\n",
    "\n",
    "I sampled chromosome 22 introns masking ancestral repeats and cds using \n",
    "```\n",
    "eti alignments -i install -od introns --align_name 10_primates* --ref human --mask cds_allAR_1column.txt --coord_names 22 \n",
    "```\n",
    "where cds_allAR_1column.txt is a list containing all the biotypes for ancestral repeats and cds"
   ]
  },
  {
   "cell_type": "code",
   "execution_count": 6,
   "metadata": {},
   "outputs": [
    {
     "name": "stdout",
     "output_type": "stream",
     "text": [
      "Directory datastore\n",
      "=======================\n",
      "record type      number\n",
      "-----------------------\n",
      "completed           543\n",
      "not_completed         0\n",
      "logs                  1\n",
      "-----------------------\n"
     ]
    }
   ],
   "source": [
    "folder_in = paths.DATA_APES114 + 'introns/'\n",
    "in_dstore = cogent3.open_data_store(folder_in, suffix='fa', mode='r')\n",
    "\n",
    "print(in_dstore.describe)"
   ]
  },
  {
   "cell_type": "code",
   "execution_count": 7,
   "metadata": {},
   "outputs": [
    {
     "data": {
      "application/vnd.jupyter.widget-view+json": {
       "model_id": "daa33bceb20b453d8ac598ff4fb6b36c",
       "version_major": 2,
       "version_minor": 0
      },
      "text/plain": [
       "   0%|          |00:00<?"
      ]
     },
     "metadata": {},
     "output_type": "display_data"
    },
    {
     "data": {
      "text/html": [
       "<style>\n",
       ".c3align table {margin: 10px 0;}\n",
       ".c3align td { border: none !important; text-align: left !important; }\n",
       ".c3align tr:not(.num_row) td span {margin: 0 2px;}\n",
       ".c3align tr:nth-child(even) {background: #f7f7f7;}\n",
       ".c3align .num_row {background-color:rgba(161, 195, 209, 0.5) !important; border-top: solid 1px black; }\n",
       ".c3align .label { font-size: 12pt ; text-align: right !important; color: black !important; padding: 0 4px; display: table-cell !important; font-weight: normal !important; }\n",
       ".c3align .T_dna{font-family: \"Lucida Console\",monospace !important; font-size: 12pt !important; color: blue; }\n",
       ".c3align .C_dna{font-family: \"Lucida Console\",monospace !important; font-size: 12pt !important; color: black; }\n",
       ".c3align .A_dna{font-family: \"Lucida Console\",monospace !important; font-size: 12pt !important; color: #FF0102; }\n",
       ".c3align .G_dna{font-family: \"Lucida Console\",monospace !important; font-size: 12pt !important; color: green; }\n",
       ".c3align .terminal_ambig_dna{font-family: \"Lucida Console\",monospace !important; font-size: 12pt !important; color: gray; }\n",
       ".c3align .ambig_dna{font-family: \"Lucida Console\",monospace !important; font-size: 12pt !important; color: gray; }\n",
       "</style>\n",
       "<div class=\"c3align\">\n",
       "<table>\n",
       "<tr class=\"num_row\"><td></td><td><b>0</b></td></tr>\n",
       "<tr><td class=\"label\">Chimpanzee</td><td><span class=\"A_dna\">A</span><span class=\"T_dna\">T</span><span class=\"G_dna\">G</span><span class=\"C_dna\">C</span><span class=\"C_dna\">C</span><span class=\"C_dna\">C</span><span class=\"G_dna\">G</span><span class=\"C_dna\">C</span><span class=\"C_dna\">C</span><span class=\"C_dna\">C</span><span class=\"A_dna\">A</span><span class=\"G_dna\">G</span><span class=\"C_dna\">C</span><span class=\"A_dna\">A</span><span class=\"T_dna\">T</span><span class=\"C_dna\">C</span><span class=\"C_dna\">C</span><span class=\"G_dna\">G</span><span class=\"C_dna\">C</span><span class=\"G_dna\">G</span><span class=\"T_dna\">T</span><span class=\"C_dna\">C</span><span class=\"T_dna\">T</span><span class=\"G_dna\">G</span><span class=\"G_dna\">G</span><span class=\"C_dna\">C</span><span class=\"A_dna\">A</span><span class=\"C_dna\">C</span><span class=\"G_dna\">G</span><span class=\"T_dna\">T</span><span class=\"G_dna\">G</span><span class=\"G_dna\">G</span><span class=\"G_dna\">G</span><span class=\"G_dna\">G</span><span class=\"G_dna\">G</span><span class=\"C_dna\">C</span><span class=\"G_dna\">G</span><span class=\"T_dna\">T</span><span class=\"C_dna\">C</span><span class=\"T_dna\">T</span><span class=\"C_dna\">C</span><span class=\"A_dna\">A</span><span class=\"A_dna\">A</span><span class=\"G_dna\">G</span><span class=\"T_dna\">T</span><span class=\"T_dna\">T</span><span class=\"C_dna\">C</span><span class=\"C_dna\">C</span><span class=\"C_dna\">C</span><span class=\"T_dna\">T</span><span class=\"C_dna\">C</span><span class=\"T_dna\">T</span><span class=\"G_dna\">G</span><span class=\"G_dna\">G</span><span class=\"A_dna\">A</span><span class=\"G_dna\">G</span><span class=\"G_dna\">G</span><span class=\"C_dna\">C</span><span class=\"C_dna\">C</span><span class=\"A_dna\">A</span></td></tr>\n",
       "<tr><td class=\"label\">Human</td><td><span class=\"A_dna\">.</span><span class=\"T_dna\">.</span><span class=\"G_dna\">.</span><span class=\"C_dna\">.</span><span class=\"C_dna\">.</span><span class=\"C_dna\">.</span><span class=\"G_dna\">.</span><span class=\"C_dna\">.</span><span class=\"C_dna\">.</span><span class=\"C_dna\">.</span><span class=\"A_dna\">.</span><span class=\"G_dna\">.</span><span class=\"C_dna\">.</span><span class=\"A_dna\">.</span><span class=\"T_dna\">.</span><span class=\"C_dna\">.</span><span class=\"C_dna\">.</span><span class=\"G_dna\">.</span><span class=\"C_dna\">.</span><span class=\"G_dna\">.</span><span class=\"T_dna\">.</span><span class=\"C_dna\">.</span><span class=\"T_dna\">.</span><span class=\"G_dna\">.</span><span class=\"G_dna\">.</span><span class=\"C_dna\">.</span><span class=\"A_dna\">.</span><span class=\"C_dna\">.</span><span class=\"G_dna\">.</span><span class=\"T_dna\">.</span><span class=\"G_dna\">.</span><span class=\"G_dna\">.</span><span class=\"G_dna\">.</span><span class=\"G_dna\">.</span><span class=\"G_dna\">.</span><span class=\"C_dna\">.</span><span class=\"G_dna\">.</span><span class=\"T_dna\">.</span><span class=\"C_dna\">.</span><span class=\"T_dna\">.</span><span class=\"C_dna\">.</span><span class=\"A_dna\">.</span><span class=\"A_dna\">.</span><span class=\"G_dna\">.</span><span class=\"T_dna\">.</span><span class=\"T_dna\">.</span><span class=\"C_dna\">.</span><span class=\"C_dna\">.</span><span class=\"C_dna\">.</span><span class=\"T_dna\">.</span><span class=\"C_dna\">.</span><span class=\"T_dna\">.</span><span class=\"G_dna\">.</span><span class=\"G_dna\">.</span><span class=\"A_dna\">.</span><span class=\"G_dna\">.</span><span class=\"G_dna\">.</span><span class=\"C_dna\">.</span><span class=\"C_dna\">.</span><span class=\"A_dna\">.</span></td></tr>\n",
       "</table>\n",
       "<p><i>2 x 6890782 (truncated to 2 x 60) dna alignment</i></p>\n",
       "</div>"
      ],
      "text/plain": [
       "2 x 6890782 dna alignment: Human[ATGCCCGCCC...], Chimpanzee[ATGCCCGCCC...]"
      ]
     },
     "execution_count": 7,
     "metadata": {},
     "output_type": "execute_result"
    }
   ],
   "source": [
    "#perform a codon alignment and remove stop codons\n",
    "loader = get_app(\"load_aligned\", moltype=\"dna\")\n",
    "omit_degs = get_app(\"omit_degenerates\", moltype=\"dna\")\n",
    "rename = libs.renamer_aligned()\n",
    "concat = get_app(\"concat\", moltype=\"dna\")\n",
    "\n",
    "app = loader + omit_degs + rename\n",
    "#By using this renamer_aligned function I throw away sequences with paralogs\n",
    "results_allpos = [r for r in app.as_completed(in_dstore[:], parallel=True) if r]\n",
    "alpos_alns = concat(results_allpos)\n",
    "alpos_alns.source = \"introns_alignments\"\n",
    "alpos_alns\n",
    "\n",
    "hum_chimps_aln = alpos_alns.take_seqs([\"Human\", \"Chimpanzee\"])\n",
    "hum_chimps_aln"
   ]
  },
  {
   "cell_type": "code",
   "execution_count": 8,
   "metadata": {},
   "outputs": [
    {
     "data": {
      "application/vnd.jupyter.widget-view+json": {
       "model_id": "22655b65d02e4b51bfd8aa5094ab149d",
       "version_major": 2,
       "version_minor": 0
      },
      "text/plain": [
       "   0%|          |00:00<?"
      ]
     },
     "metadata": {},
     "output_type": "display_data"
    },
    {
     "name": "stdout",
     "output_type": "stream",
     "text": [
      "Model results : \n",
      "K80\n",
      "log-likelihood = -10058737.0663\n",
      "number of free parameters = 3\n",
      "=====\n",
      "kappa\n",
      "-----\n",
      " 4.85\n",
      "-----\n",
      "==============================\n",
      "edge          parent    length\n",
      "------------------------------\n",
      "Human         root        0.01\n",
      "Chimpanzee    root        0.00\n",
      "------------------------------\n",
      "============================\n",
      "   A       C       G       T\n",
      "----------------------------\n",
      "0.25    0.25    0.25    0.25\n",
      "----------------------------\n",
      "\n",
      "Distances: \n",
      "{'Human': np.float64(0.011472071646723566), 'Chimpanzee': np.float64(0.0003939427618260138)}\n"
     ]
    }
   ],
   "source": [
    "#Do a Kimura 1980 substitution model\n",
    "sm = get_app(\"model\", \"K80\", optimise_motif_probs=True, show_progress=True)\n",
    "result = sm(hum_chimps_aln)\n",
    "print(\"Model results : \\n\" + str(result.lf) + \"\\n\")\n",
    "\n",
    "print(\"Distances: \")\n",
    "lengthstree_pos1 = result.lf.get_lengths_as_ens()\n",
    "humanENS_intron = lengthstree_pos1[\"Human\"]\n",
    "print(lengthstree_pos1)"
   ]
  },
  {
   "cell_type": "markdown",
   "metadata": {},
   "source": [
    "# Intron AR sample alignment\n",
    "\n",
    "I sampled chromosome 22 introns masking everythin but ancestral repeats using \n",
    "```\n",
    "eti alignments -i install -od intronsAR --align_name 10_primates* --ref human --mask_shadow ancestralrepeats_1column.txt --coord_names 22 \n",
    "```\n",
    "where ancestralrepeats_1column.txt is a list containing the ancestral repeats biotypes: \n",
    "Type I Transposons/LINE,\n",
    "Type I Transposons/SINE,\n",
    "Type II Transposons,\n",
    "LTRs"
   ]
  },
  {
   "cell_type": "code",
   "execution_count": 9,
   "metadata": {},
   "outputs": [
    {
     "name": "stdout",
     "output_type": "stream",
     "text": [
      "Directory datastore\n",
      "=======================\n",
      "record type      number\n",
      "-----------------------\n",
      "completed           553\n",
      "not_completed         0\n",
      "logs                  1\n",
      "-----------------------\n"
     ]
    }
   ],
   "source": [
    "folder_in = paths.DATA_APES114 + 'intronsAR/'\n",
    "in_dstore = cogent3.open_data_store(folder_in, suffix='fa', mode='r')\n",
    "\n",
    "print(in_dstore.describe)"
   ]
  },
  {
   "cell_type": "code",
   "execution_count": 10,
   "metadata": {},
   "outputs": [
    {
     "data": {
      "application/vnd.jupyter.widget-view+json": {
       "model_id": "7460dbb03b404288a414db93b1d0c665",
       "version_major": 2,
       "version_minor": 0
      },
      "text/plain": [
       "   0%|          |00:00<?"
      ]
     },
     "metadata": {},
     "output_type": "display_data"
    },
    {
     "data": {
      "text/html": [
       "<style>\n",
       ".c3align table {margin: 10px 0;}\n",
       ".c3align td { border: none !important; text-align: left !important; }\n",
       ".c3align tr:not(.num_row) td span {margin: 0 2px;}\n",
       ".c3align tr:nth-child(even) {background: #f7f7f7;}\n",
       ".c3align .num_row {background-color:rgba(161, 195, 209, 0.5) !important; border-top: solid 1px black; }\n",
       ".c3align .label { font-size: 12pt ; text-align: right !important; color: black !important; padding: 0 4px; display: table-cell !important; font-weight: normal !important; }\n",
       ".c3align .T_dna{font-family: \"Lucida Console\",monospace !important; font-size: 12pt !important; color: blue; }\n",
       ".c3align .C_dna{font-family: \"Lucida Console\",monospace !important; font-size: 12pt !important; color: black; }\n",
       ".c3align .A_dna{font-family: \"Lucida Console\",monospace !important; font-size: 12pt !important; color: #FF0102; }\n",
       ".c3align .G_dna{font-family: \"Lucida Console\",monospace !important; font-size: 12pt !important; color: green; }\n",
       ".c3align .terminal_ambig_dna{font-family: \"Lucida Console\",monospace !important; font-size: 12pt !important; color: gray; }\n",
       ".c3align .ambig_dna{font-family: \"Lucida Console\",monospace !important; font-size: 12pt !important; color: gray; }\n",
       "</style>\n",
       "<div class=\"c3align\">\n",
       "<table>\n",
       "<tr class=\"num_row\"><td></td><td><b>0</b></td></tr>\n",
       "<tr><td class=\"label\">Chimpanzee</td><td><span class=\"G_dna\">G</span><span class=\"A_dna\">A</span><span class=\"A_dna\">A</span><span class=\"A_dna\">A</span><span class=\"C_dna\">C</span><span class=\"T_dna\">T</span><span class=\"G_dna\">G</span><span class=\"G_dna\">G</span><span class=\"A_dna\">A</span><span class=\"A_dna\">A</span><span class=\"G_dna\">G</span><span class=\"T_dna\">T</span><span class=\"C_dna\">C</span><span class=\"C_dna\">C</span><span class=\"A_dna\">A</span><span class=\"G_dna\">G</span><span class=\"G_dna\">G</span><span class=\"G_dna\">G</span><span class=\"A_dna\">A</span><span class=\"G_dna\">G</span><span class=\"G_dna\">G</span><span class=\"T_dna\">T</span><span class=\"G_dna\">G</span><span class=\"G_dna\">G</span><span class=\"A_dna\">A</span><span class=\"T_dna\">T</span><span class=\"T_dna\">T</span><span class=\"G_dna\">G</span><span class=\"T_dna\">T</span><span class=\"G_dna\">G</span><span class=\"C_dna\">C</span><span class=\"C_dna\">C</span><span class=\"G_dna\">G</span><span class=\"G_dna\">G</span><span class=\"G_dna\">G</span><span class=\"G_dna\">G</span><span class=\"T_dna\">T</span><span class=\"C_dna\">C</span><span class=\"A_dna\">A</span><span class=\"A_dna\">A</span><span class=\"A_dna\">A</span><span class=\"T_dna\">T</span><span class=\"C_dna\">C</span><span class=\"G_dna\">G</span><span class=\"G_dna\">G</span><span class=\"C_dna\">C</span><span class=\"T_dna\">T</span><span class=\"G_dna\">G</span><span class=\"C_dna\">C</span><span class=\"T_dna\">T</span><span class=\"G_dna\">G</span><span class=\"A_dna\">A</span><span class=\"C_dna\">C</span><span class=\"A_dna\">A</span><span class=\"C_dna\">C</span><span class=\"G_dna\">G</span><span class=\"A_dna\">A</span><span class=\"G_dna\">G</span><span class=\"C_dna\">C</span><span class=\"C_dna\">C</span></td></tr>\n",
       "<tr><td class=\"label\">Human</td><td><span class=\"G_dna\">.</span><span class=\"A_dna\">.</span><span class=\"A_dna\">.</span><span class=\"A_dna\">.</span><span class=\"C_dna\">.</span><span class=\"T_dna\">.</span><span class=\"G_dna\">.</span><span class=\"G_dna\">.</span><span class=\"A_dna\">.</span><span class=\"A_dna\">.</span><span class=\"G_dna\">.</span><span class=\"T_dna\">.</span><span class=\"C_dna\">.</span><span class=\"C_dna\">.</span><span class=\"A_dna\">.</span><span class=\"G_dna\">.</span><span class=\"G_dna\">.</span><span class=\"G_dna\">.</span><span class=\"A_dna\">.</span><span class=\"G_dna\">.</span><span class=\"G_dna\">.</span><span class=\"T_dna\">.</span><span class=\"G_dna\">.</span><span class=\"G_dna\">.</span><span class=\"A_dna\">.</span><span class=\"T_dna\">.</span><span class=\"T_dna\">.</span><span class=\"G_dna\">.</span><span class=\"T_dna\">.</span><span class=\"G_dna\">.</span><span class=\"C_dna\">.</span><span class=\"C_dna\">.</span><span class=\"A_dna\">A</span><span class=\"G_dna\">.</span><span class=\"G_dna\">.</span><span class=\"G_dna\">.</span><span class=\"T_dna\">.</span><span class=\"C_dna\">.</span><span class=\"A_dna\">.</span><span class=\"A_dna\">.</span><span class=\"A_dna\">.</span><span class=\"T_dna\">.</span><span class=\"C_dna\">.</span><span class=\"G_dna\">.</span><span class=\"G_dna\">.</span><span class=\"C_dna\">.</span><span class=\"T_dna\">.</span><span class=\"G_dna\">.</span><span class=\"C_dna\">.</span><span class=\"T_dna\">.</span><span class=\"G_dna\">.</span><span class=\"A_dna\">.</span><span class=\"C_dna\">.</span><span class=\"A_dna\">.</span><span class=\"G_dna\">G</span><span class=\"G_dna\">.</span><span class=\"A_dna\">.</span><span class=\"G_dna\">.</span><span class=\"C_dna\">.</span><span class=\"C_dna\">.</span></td></tr>\n",
       "</table>\n",
       "<p><i>2 x 5463116 (truncated to 2 x 60) dna alignment</i></p>\n",
       "</div>"
      ],
      "text/plain": [
       "2 x 5463116 dna alignment: Human[GAAACTGGAA...], Chimpanzee[GAAACTGGAA...]"
      ]
     },
     "execution_count": 10,
     "metadata": {},
     "output_type": "execute_result"
    }
   ],
   "source": [
    "#perform a codon alignment and remove stop codons\n",
    "loader = get_app(\"load_aligned\", moltype=\"dna\")\n",
    "omit_degs = get_app(\"omit_degenerates\", moltype=\"dna\")\n",
    "rename = libs.renamer_aligned()\n",
    "concat = get_app(\"concat\", moltype=\"dna\")\n",
    "\n",
    "app = loader + omit_degs + rename\n",
    "#By using this renamer_aligned function I throw away sequences with paralogs\n",
    "results_allpos = [r for r in app.as_completed(in_dstore[:], parallel=True) if r]\n",
    "alpos_alns = concat(results_allpos)\n",
    "alpos_alns.source = \"intronsAR_alignments\"\n",
    "alpos_alns\n",
    "\n",
    "hum_chimps_aln = alpos_alns.take_seqs([\"Human\", \"Chimpanzee\"])\n",
    "\n",
    "hum_chimps_aln"
   ]
  },
  {
   "cell_type": "code",
   "execution_count": 11,
   "metadata": {},
   "outputs": [
    {
     "data": {
      "application/vnd.jupyter.widget-view+json": {
       "model_id": "ee80de9de0fd41fa8ef40de403f73ed1",
       "version_major": 2,
       "version_minor": 0
      },
      "text/plain": [
       "   0%|          |00:00<?"
      ]
     },
     "metadata": {},
     "output_type": "display_data"
    },
    {
     "name": "stdout",
     "output_type": "stream",
     "text": [
      "Model results : \n",
      "K80\n",
      "log-likelihood = -8026050.5094\n",
      "number of free parameters = 3\n",
      "=====\n",
      "kappa\n",
      "-----\n",
      " 5.04\n",
      "-----\n",
      "==============================\n",
      "edge          parent    length\n",
      "------------------------------\n",
      "Human         root        0.01\n",
      "Chimpanzee    root        0.00\n",
      "------------------------------\n",
      "============================\n",
      "   A       C       G       T\n",
      "----------------------------\n",
      "0.25    0.25    0.25    0.25\n",
      "----------------------------\n",
      "\n",
      "Distances: \n",
      "{'Human': np.float64(0.011531965504852136), 'Chimpanzee': np.float64(0.002224050517503871)}\n"
     ]
    }
   ],
   "source": [
    "#Do a Kimura 1980 substitution model\n",
    "sm = get_app(\"model\", \"K80\", optimise_motif_probs=True, show_progress=True)\n",
    "result = sm(hum_chimps_aln)\n",
    "print(\"Model results : \\n\" + str(result.lf) + \"\\n\")\n",
    "\n",
    "print(\"Distances: \")\n",
    "lengthstree_pos1 = result.lf.get_lengths_as_ens()\n",
    "humanENS_intronAR = lengthstree_pos1[\"Human\"]\n",
    "print(lengthstree_pos1)"
   ]
  },
  {
   "cell_type": "code",
   "execution_count": 12,
   "metadata": {},
   "outputs": [
    {
     "data": {
      "image/png": "[encoded data removed]",
      "text/plain": [
       "<Figure size 640x480 with 1 Axes>"
      ]
     },
     "metadata": {},
     "output_type": "display_data"
    },
    {
     "data": {
      "text/plain": [
       "{'four fold': np.float64(0.00012378350209387316),\n",
       " 'intron': np.float64(0.011472071646723566),\n",
       " 'intronAR': np.float64(0.011531965504852136)}"
      ]
     },
     "execution_count": 12,
     "metadata": {},
     "output_type": "execute_result"
    }
   ],
   "source": [
    "ENS_human_K80 = {\n",
    "    \"four fold\": humanENS_cdsffold,\n",
    "    \"intron\": humanENS_intron,\n",
    "    \"intronAR\": humanENS_intronAR\n",
    "}\n",
    "\n",
    "plt.figure()\n",
    "plt.bar(ENS_human_K80.keys(), ENS_human_K80.values())\n",
    "plt.yscale(\"log\")\n",
    "plt.ylabel(\"Expected number of substitutions\")\n",
    "plt.title(\"Human-Chimp K80\")\n",
    "plt.xticks(rotation=45)\n",
    "plt.tight_layout()\n",
    "plt.show()\n",
    "\n",
    "ENS_human_K80"
   ]
  },
  {
   "cell_type": "code",
   "execution_count": 13,
   "metadata": {},
   "outputs": [
    {
     "data": {
      "image/png": "[encoded data removed]",
      "text/plain": [
       "<Figure size 640x480 with 1 Axes>"
      ]
     },
     "metadata": {},
     "output_type": "display_data"
    },
    {
     "data": {
      "text/plain": [
       "{'four fold': np.float64(0.9892660533851068),\n",
       " 'intron': np.float64(0.005193725050891773)}"
      ]
     },
     "execution_count": 13,
     "metadata": {},
     "output_type": "execute_result"
    }
   ],
   "source": [
    "constraint_K80 = {\n",
    "    \"four fold\": 1-humanENS_cdsffold/humanENS_intronAR,\n",
    "    \"intron\": 1-humanENS_intron/humanENS_intronAR\n",
    "}\n",
    "\n",
    "plt.figure()\n",
    "plt.bar(constraint_K80.keys(), constraint_K80.values())\n",
    "plt.ylabel(\"Constraint\")\n",
    "plt.title(\"Human-Chimp K80\")\n",
    "plt.xticks(rotation=45)\n",
    "plt.tight_layout()\n",
    "plt.show()\n",
    "\n",
    "constraint_K80"
   ]
  }
 ],
 "metadata": {
  "kernelspec": {
   "display_name": "delme",
   "language": "python",
   "name": "python3"
  },
  "language_info": {
   "codemirror_mode": {
    "name": "ipython",
    "version": 3
   },
   "file_extension": ".py",
   "mimetype": "text/x-python",
   "name": "python",
   "nbconvert_exporter": "python",
   "pygments_lexer": "ipython3",
   "version": "3.13.7"
  }
 },
 "nbformat": 4,
 "nbformat_minor": 4
}

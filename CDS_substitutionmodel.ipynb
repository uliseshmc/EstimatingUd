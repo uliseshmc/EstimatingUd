{
 "cells": [
  {
   "cell_type": "markdown",
   "metadata": {},
   "source": [
    "This code requires codon_aligner.ipynb to be run before"
   ]
  },
  {
   "cell_type": "code",
   "execution_count": 29,
   "metadata": {},
   "outputs": [],
   "source": [
    "import cogent3\n",
    "from cogent3 import get_app\n",
    "\n",
    "#this is a workaround to use phylim on models with splitted codons\n",
    "#I'm using a workaround to check identifiability of a nucleotide model split by position\n",
    "#Latter I should check this workaround in case I actually use this model\n",
    "#Phylim is getting updated to fix such bug\n",
    "\n",
    "from cogent3.app.result import model_result\n",
    "from cogent3.app.composable import define_app\n",
    "from phylim.apps import phylim, PhyloLimitRec\n",
    "\n",
    "@define_app\n",
    "def phylim_split_codon(result: model_result, check_one: phylim) -> PhyloLimitRec:\n",
    "    \"\"\"checks individual likelihood functions from a split_codon model_result\"\"\"\n",
    "    for k in range (1, 4):\n",
    "        value = result[k]\n",
    "        one = model_result(name=result.name, source=result.source)\n",
    "        one['value'] = value\n",
    "        checked = check_one(one)\n",
    "        if not checked.is_identifiable:\n",
    "            return checked\n",
    "    return checked"
   ]
  },
  {
   "cell_type": "code",
   "execution_count": 36,
   "metadata": {},
   "outputs": [
    {
     "data": {
      "application/vnd.jupyter.widget-view+json": {
       "model_id": "3ac7ebead6264462a6753cbf36760145",
       "version_major": 2,
       "version_minor": 0
      },
      "text/plain": [
       "   0%|          |00:00<?"
      ]
     },
     "metadata": {},
     "output_type": "display_data"
    },
    {
     "data": {
      "application/vnd.jupyter.widget-view+json": {
       "model_id": "29df2fb8508a4c79ad509c4df4cbe2fe",
       "version_major": 2,
       "version_minor": 0
      },
      "text/plain": [
       "   0%|          |00:00<?"
      ]
     },
     "metadata": {},
     "output_type": "display_data"
    }
   ],
   "source": [
    "folder_in = '/xdisk/masel/uliseshmc/EstimatingUd/primates10_114/aligns_cds/codon_aligned'\n",
    "in_dstore = cogent3.open_data_store(folder_in, suffix='fa', mode='r')\n",
    "\n",
    "loader = get_app(\"load_aligned\", moltype=\"dna\")   \n",
    "omit_degs = get_app(\"omit_degenerates\", moltype=\"dna\", motif_length=3)\n",
    "ffold = get_app(\"take_codon_positions\", fourfold_degenerate=True)\n",
    "concat_alns_app = get_app(\"concat\", moltype=\"dna\")\n",
    "concat = get_app(\"concat\", moltype=\"dna\")\n",
    "\n",
    "#create a concatenated alignment with all coding positions\n",
    "allposprocess = loader+omit_degs\n",
    "# result below is only valid alignments (no NotCompleted)\n",
    "results_allpos = [r for r in allposprocess.as_completed(in_dstore[:10], parallel=True) if r]\n",
    "alpos_alns = concat(results_allpos)\n",
    "alpos_alns.source = \"cds_test_alignments\"\n",
    "\n",
    "#create a concatenated alignment only with four fold positions (should I also do 0fold)\n",
    "omit_degs.disconnect()\n",
    "ffoldprocess = loader+omit_degs+ffold\n",
    "# result below is only valid alignments (no NotCompleted)\n",
    "results_ffold = [r for r in ffoldprocess.as_completed(in_dstore[:10], parallel=True) if r]\n",
    "ffold_alns = concat(results_ffold)\n",
    "ffold_alns.source = \"cds_ffold_test_alignments\"\n",
    "\n"
   ]
  },
  {
   "cell_type": "code",
   "execution_count": null,
   "metadata": {},
   "outputs": [
    {
     "data": {
      "text/html": [
       "<style>\n",
       ".c3align table {margin: 10px 0;}\n",
       ".c3align td { border: none !important; text-align: left !important; }\n",
       ".c3align tr:not(.num_row) td span {margin: 0 2px;}\n",
       ".c3align tr:nth-child(even) {background: #f7f7f7;}\n",
       ".c3align .num_row {background-color:rgba(161, 195, 209, 0.5) !important; border-top: solid 1px black; }\n",
       ".c3align .label { font-size: 12pt ; text-align: right !important; color: black !important; padding: 0 4px; display: table-cell !important; font-weight: normal !important; }\n",
       ".c3align .T_dna{font-family: \"Lucida Console\",monospace !important; font-size: 12pt !important; color: blue; }\n",
       ".c3align .C_dna{font-family: \"Lucida Console\",monospace !important; font-size: 12pt !important; color: black; }\n",
       ".c3align .A_dna{font-family: \"Lucida Console\",monospace !important; font-size: 12pt !important; color: #FF0102; }\n",
       ".c3align .G_dna{font-family: \"Lucida Console\",monospace !important; font-size: 12pt !important; color: green; }\n",
       ".c3align .terminal_ambig_dna{font-family: \"Lucida Console\",monospace !important; font-size: 12pt !important; color: gray; }\n",
       ".c3align .ambig_dna{font-family: \"Lucida Console\",monospace !important; font-size: 12pt !important; color: gray; }\n",
       "</style>\n",
       "<div class=\"c3align\">\n",
       "<table>\n",
       "<tr class=\"num_row\"><td></td><td><b>0</b></td></tr>\n",
       "<tr><td class=\"label\">Gorilla</td><td><span class=\"T_dna\">T</span><span class=\"A_dna\">A</span><span class=\"A_dna\">A</span><span class=\"T_dna\">T</span><span class=\"G_dna\">G</span><span class=\"A_dna\">A</span><span class=\"C_dna\">C</span><span class=\"T_dna\">T</span><span class=\"C_dna\">C</span><span class=\"T_dna\">T</span><span class=\"C_dna\">C</span><span class=\"G_dna\">G</span><span class=\"C_dna\">C</span><span class=\"T_dna\">T</span><span class=\"A_dna\">A</span><span class=\"C_dna\">C</span><span class=\"A_dna\">A</span><span class=\"C_dna\">C</span><span class=\"A_dna\">A</span><span class=\"C_dna\">C</span><span class=\"A_dna\">A</span><span class=\"G_dna\">G</span><span class=\"A_dna\">A</span><span class=\"C_dna\">C</span><span class=\"G_dna\">G</span><span class=\"A_dna\">A</span><span class=\"G_dna\">G</span><span class=\"A_dna\">A</span><span class=\"T_dna\">T</span><span class=\"C_dna\">C</span><span class=\"G_dna\">G</span><span class=\"C_dna\">C</span><span class=\"T_dna\">T</span><span class=\"C_dna\">C</span><span class=\"A_dna\">A</span><span class=\"T_dna\">T</span><span class=\"C_dna\">C</span><span class=\"G_dna\">G</span><span class=\"A_dna\">A</span><span class=\"G_dna\">G</span><span class=\"C_dna\">C</span><span class=\"T_dna\">T</span><span class=\"C_dna\">C</span><span class=\"A_dna\">A</span><span class=\"G_dna\">G</span><span class=\"A_dna\">A</span><span class=\"G_dna\">G</span><span class=\"T_dna\">T</span><span class=\"A_dna\">A</span><span class=\"T_dna\">T</span><span class=\"G_dna\">G</span><span class=\"T_dna\">T</span><span class=\"C_dna\">C</span><span class=\"G_dna\">G</span><span class=\"T_dna\">T</span><span class=\"C_dna\">C</span><span class=\"C_dna\">C</span><span class=\"T_dna\">T</span><span class=\"T_dna\">T</span><span class=\"T_dna\">T</span></td></tr>\n",
       "<tr><td class=\"label\">Human</td><td><span class=\"C_dna\">C</span><span class=\"T_dna\">T</span><span class=\"G_dna\">G</span><span class=\"G_dna\">G</span><span class=\"T_dna\">T</span><span class=\"T_dna\">T</span><span class=\"G_dna\">G</span><span class=\"G_dna\">G</span><span class=\"T_dna\">T</span><span class=\"C_dna\">C</span><span class=\"T_dna\">T</span><span class=\"C_dna\">C</span><span class=\"G_dna\">G</span><span class=\"C_dna\">C</span><span class=\"T_dna\">T</span><span class=\"A_dna\">A</span><span class=\"C_dna\">C</span><span class=\"A_dna\">A</span><span class=\"C_dna\">C</span><span class=\"A_dna\">A</span><span class=\"C_dna\">C</span><span class=\"A_dna\">A</span><span class=\"G_dna\">G</span><span class=\"A_dna\">A</span><span class=\"C_dna\">C</span><span class=\"G_dna\">G</span><span class=\"A_dna\">A</span><span class=\"G_dna\">G</span><span class=\"A_dna\">A</span><span class=\"T_dna\">T</span><span class=\"C_dna\">C</span><span class=\"G_dna\">G</span><span class=\"C_dna\">C</span><span class=\"T_dna\">T</span><span class=\"C_dna\">C</span><span class=\"A_dna\">A</span><span class=\"T_dna\">T</span><span class=\"C_dna\">C</span><span class=\"G_dna\">G</span><span class=\"A_dna\">A</span><span class=\"G_dna\">G</span><span class=\"C_dna\">C</span><span class=\"T_dna\">T</span><span class=\"C_dna\">C</span><span class=\"A_dna\">A</span><span class=\"G_dna\">G</span><span class=\"A_dna\">A</span><span class=\"G_dna\">G</span><span class=\"T_dna\">T</span><span class=\"A_dna\">A</span><span class=\"A_dna\">A</span><span class=\"G_dna\">G</span><span class=\"T_dna\">T</span><span class=\"T_dna\">T</span><span class=\"G_dna\">G</span><span class=\"T_dna\">T</span><span class=\"T_dna\">T</span><span class=\"C_dna\">C</span><span class=\"G_dna\">G</span><span class=\"C_dna\">C</span></td></tr>\n",
       "</table>\n",
       "<p><i>2 x 919 (truncated to 2 x 60) dna alignment</i></p>\n",
       "</div>"
      ],
      "text/plain": [
       "2 x 919 dna alignment: Human[CTGGTTGGTC...], Gorilla[TAATGACTCT...]"
      ]
     },
     "execution_count": 3,
     "metadata": {},
     "output_type": "execute_result"
    }
   ],
   "source": [
    "#Testing that the concatenated alignemnts have non degenerate variable positions \n",
    "new_subset = alpos_alns.take_seqs([\"Human\", \"Gorilla\"])\n",
    "#new_subset = alpos_alns.take_seqs([\"Human\", \"Chimpanzee\"])\n",
    "\n",
    "#after degap and omit_gap_pos the gaps in Gorilla stay there\n",
    "new_subset.degap()\n",
    "varpos = new_subset.variable_positions()\n",
    "just_variable_aln = new_subset.take_positions(varpos)\n",
    "just_variable_aln"
   ]
  },
  {
   "cell_type": "code",
   "execution_count": 37,
   "metadata": {},
   "outputs": [
    {
     "data": {
      "application/vnd.jupyter.widget-view+json": {
       "model_id": "efdd3d18e92e4e5c862abb1c4ac4d47b",
       "version_major": 2,
       "version_minor": 0
      },
      "text/plain": [
       "   0%|          |00:00<?"
      ]
     },
     "metadata": {},
     "output_type": "display_data"
    },
    {
     "data": {
      "application/vnd.jupyter.widget-view+json": {
       "model_id": "8198350d071941a481967d05a408aa5d",
       "version_major": 2,
       "version_minor": 0
      },
      "text/plain": [
       "   0%|          |00:00<?"
      ]
     },
     "metadata": {},
     "output_type": "display_data"
    },
    {
     "data": {
      "application/vnd.jupyter.widget-view+json": {
       "model_id": "4a4385aefef4479a92207a08ee2019c9",
       "version_major": 2,
       "version_minor": 0
      },
      "text/plain": [
       "   0%|          |00:00<?"
      ]
     },
     "metadata": {},
     "output_type": "display_data"
    },
    {
     "data": {
      "application/vnd.jupyter.widget-view+json": {
       "model_id": "70b9aeaae7af4fe8ab0d4279bf2a91c5",
       "version_major": 2,
       "version_minor": 0
      },
      "text/plain": [
       "   0%|          |00:00<?"
      ]
     },
     "metadata": {},
     "output_type": "display_data"
    },
    {
     "data": {
      "application/vnd.jupyter.widget-view+json": {
       "model_id": "097f1e3384a24062bee5afbace9fbba4",
       "version_major": 2,
       "version_minor": 0
      },
      "text/plain": [
       "   0%|          |00:00<?"
      ]
     },
     "metadata": {},
     "output_type": "display_data"
    },
    {
     "data": {
      "application/vnd.jupyter.widget-view+json": {
       "model_id": "12fc2e1453044df294dcd70acbf7ccb5",
       "version_major": 2,
       "version_minor": 0
      },
      "text/plain": [
       "   0%|          |00:00<?"
      ]
     },
     "metadata": {},
     "output_type": "display_data"
    },
    {
     "name": "stdout",
     "output_type": "stream",
     "text": [
      "Model results : \n",
      "OrderedDict({1: GN pos-1\n",
      "log-likelihood = -8466.8883\n",
      "number of free parameters = 39\n",
      "========================================================================\n",
      "edge          parent    length     A>C     A>G     A>T      C>A      C>G\n",
      "------------------------------------------------------------------------\n",
      "Human         root        0.00    0.00    0.00    0.00    49.90    49.96\n",
      "Gorilla       root        0.00    0.00    0.00    0.00    49.90    49.96\n",
      "Chimpanzee    root        0.00    0.00    0.00    0.00    49.90    49.96\n",
      "------------------------------------------------------------------------\n",
      "\n",
      "continued: \n",
      "=============================================\n",
      "  C>T     G>A     G>C     G>T     T>A     T>C\n",
      "---------------------------------------------\n",
      "50.00    0.00    0.00    0.00    0.00    0.00\n",
      "50.00    0.00    0.00    0.00    0.00    0.00\n",
      "50.00    0.00    0.00    0.00    0.00    0.00\n",
      "---------------------------------------------\n",
      "\n",
      "============================\n",
      "   A       C       G       T\n",
      "----------------------------\n",
      "0.27    0.24    0.31    0.18\n",
      "----------------------------, 2: GN pos-2\n",
      "log-likelihood = -8462.1306\n",
      "number of free parameters = 39\n",
      "======================================================================\n",
      "edge          parent    length     A>C     A>G     A>T     C>A     C>G\n",
      "----------------------------------------------------------------------\n",
      "Human         root        0.00    0.00    0.00    0.00    0.00    0.00\n",
      "Gorilla       root        0.00    0.00    0.00    0.00    0.00    0.00\n",
      "Chimpanzee    root        0.00    0.00    0.00    0.00    0.00    0.00\n",
      "----------------------------------------------------------------------\n",
      "\n",
      "continued: \n",
      "===============================================\n",
      " C>T      G>A      G>C      G>T     T>A     T>C\n",
      "-----------------------------------------------\n",
      "0.00    49.99    50.00    49.98    0.00    0.00\n",
      "0.00    49.99    50.00    49.89    0.00    0.00\n",
      "0.00    49.99    49.91    49.92    0.00    0.00\n",
      "-----------------------------------------------\n",
      "\n",
      "============================\n",
      "   A       C       G       T\n",
      "----------------------------\n",
      "0.32    0.22    0.19    0.27\n",
      "----------------------------, 3: GN pos-3\n",
      "log-likelihood = -8477.8427\n",
      "number of free parameters = 39\n",
      "========================================================================\n",
      "edge          parent    length     A>C     A>G     A>T      C>A      C>G\n",
      "------------------------------------------------------------------------\n",
      "Human         root        0.00    0.00    0.00    0.00    49.98    49.99\n",
      "Gorilla       root        0.00    0.00    0.00    0.00    49.98    49.99\n",
      "Chimpanzee    root        0.00    0.00    0.00    0.00    49.98    49.99\n",
      "------------------------------------------------------------------------\n",
      "\n",
      "continued: \n",
      "=============================================\n",
      "  C>T     G>A     G>C     G>T     T>A     T>C\n",
      "---------------------------------------------\n",
      "49.98    0.00    0.00    0.00    0.00    0.00\n",
      "49.98    0.00    0.00    0.00    0.00    0.00\n",
      "49.98    0.00    0.00    0.00    0.00    0.00\n",
      "---------------------------------------------\n",
      "\n",
      "============================\n",
      "   A       C       G       T\n",
      "----------------------------\n",
      "0.18    0.31    0.27    0.24\n",
      "----------------------------})\n",
      "\n",
      "Distances: \n",
      "{'Human': np.float64(1.0000001365864676e-06), 'Gorilla': np.float64(9.999985070052492e-07), 'Chimpanzee': np.float64(1.0000064645868815e-06)}\n",
      "{'Human': np.float64(9.999986509106575e-07), 'Gorilla': np.float64(9.999994119004966e-07), 'Chimpanzee': np.float64(1.0000068233804716e-06)}\n",
      "{'Human': np.float64(1.0000001365864676e-06), 'Gorilla': np.float64(9.999985070052492e-07), 'Chimpanzee': np.float64(1.0000064645868815e-06)}\n"
     ]
    }
   ],
   "source": [
    "#Do a general nucleotide model of conncatenated sequences concatenated sequences \n",
    "#time_het=max sets a 36 params substitution model\n",
    "sm = get_app(\"model\", \"GN\", time_het=\"max\", optimise_motif_probs=True, show_progress=True, split_codons=True)\n",
    "result_allpos = sm(alpos_alns)\n",
    "print(\"Model results : \\n\" + str(result_allpos.lf) + \"\\n\")\n",
    "\n",
    "print(\"Distances: \")\n",
    "lengthstree_pos1 = result_allpos[1].get_lengths_as_ens()\n",
    "print(lengthstree_pos1)\n",
    "\n",
    "lengthstree_pos2 = result_allpos[2].get_lengths_as_ens()\n",
    "print(lengthstree_pos2)\n",
    "\n",
    "lengthstree_pos3 = result_allpos[3].get_lengths_as_ens()\n",
    "print(lengthstree_pos1)"
   ]
  },
  {
   "cell_type": "code",
   "execution_count": 41,
   "metadata": {},
   "outputs": [
    {
     "data": {
      "text/html": [
       "\n",
       "<div class=\"c3table\">\n",
       "\n",
       "<style>\n",
       ".c3table table {margin: 10px 0;}\n",
       ".c3table tr:last-child {border-bottom: 1px solid #000;} \n",
       ".c3table tr > th {text-align: left; padding: 0 5px;}\n",
       ".c3table tr > td {text-align: left; padding: 5px;}\n",
       ".c3table tr:nth-child(even) {background: #f7f7f7 !important;}\n",
       ".c3table .ellipsis {background: rgba(0, 0, 0, .01);}\n",
       ".c3table .index {background: rgba(161, 195, 209, 0.0); margin: 10px; font-weight: 600;}\n",
       ".c3table .head_cell {background: rgba(161, 195, 209, 0.75); font-weight: bold; text-align: center;}\n",
       ".c3table caption {color: rgb(250, 250, 250); background: rgba(30, 140, 200, 1); padding: 3px; white-space: nowrap; caption-side: top;}\n",
       ".c3table .cell_title {font-weight: bold;}\n",
       ".c3col_left { text-align: left !important; display: block;}\n",
       ".c3col_right { text-align: right !important; display: block;}\n",
       ".c3col_center { text-align: center !important; display: block;}\n",
       "</style>\n",
       "\n",
       "<table>\n",
       "\n",
       "<caption>\n",
       "<span class=\"cell_title\">Phylo Limits Record</span>\n",
       "</caption>\n",
       "<thead class=\"head_cell\">\n",
       "<th>source</th><th>model name</th><th>identifiable</th><th>has boundary values</th><th>version</th>\n",
       "</thead>\n",
       "<tbody>\n",
       "<tr><td><span class=\"c3col_left\">cds_test_alignments</span></td><td><span class=\"c3col_left\">GN</span></td><td><span class=\"c3col_left\">True</span></td><td><span class=\"c3col_left\">False</span></td><td><span class=\"c3col_left\">2025.7.24</span></td></tr>\n",
       "</tbody>\n",
       "</table>\n",
       "\n",
       "</div>"
      ],
      "text/plain": [
       "PhyloLimitRec(check=IdentCheckRes(source='cds_test_alignments', strict=False, names=None, violation_type=<ViolationType.none: 'none'>), model_name='GN', boundary_values=[], nondlc_and_identity={})"
      ]
     },
     "execution_count": 41,
     "metadata": {},
     "output_type": "execute_result"
    }
   ],
   "source": [
    "checker = get_app(\"phylim\")\n",
    "\n",
    "\n",
    "checked_fitted = phylim_split_codon(checker)\n",
    "checked = checked_fitted(result_allpos)\n",
    "checked"
   ]
  },
  {
   "cell_type": "code",
   "execution_count": null,
   "metadata": {},
   "outputs": [
    {
     "data": {
      "application/vnd.jupyter.widget-view+json": {
       "model_id": "2340f5f433d2446a9b538d915da57617",
       "version_major": 2,
       "version_minor": 0
      },
      "text/plain": [
       "   0%|          |00:00<?"
      ]
     },
     "metadata": {},
     "output_type": "display_data"
    },
    {
     "data": {
      "application/vnd.jupyter.widget-view+json": {
       "model_id": "eb17755bfb514b04b3313b38ffd73552",
       "version_major": 2,
       "version_minor": 0
      },
      "text/plain": [
       "   0%|          |00:00<?"
      ]
     },
     "metadata": {},
     "output_type": "display_data"
    },
    {
     "name": "stdout",
     "output_type": "stream",
     "text": [
      "Is model identifiable? True\n",
      "\n",
      "Model results : \n",
      "GN\n",
      "log-likelihood = -658330.4160\n",
      "number of free parameters = 39\n",
      "========================================================================\n",
      "edge          parent    length      A>C      A>G     A>T     C>A     C>G\n",
      "------------------------------------------------------------------------\n",
      "Human         root        0.00    29.23    29.23    0.00    0.00    0.00\n",
      "Gorilla       root        0.00     2.65    14.33    1.06    2.92    1.83\n",
      "Chimpanzee    root        0.00     0.42     5.10    0.21    0.73    1.17\n",
      "------------------------------------------------------------------------\n",
      "\n",
      "continued: \n",
      "===============================================\n",
      "  C>T      G>A     G>C     G>T     T>A      T>C\n",
      "-----------------------------------------------\n",
      "20.07    50.00    0.00    0.00    0.00    13.77\n",
      " 8.40     5.09    4.63    3.24    3.50    14.01\n",
      " 1.17     2.78    1.48    0.37    0.20     4.61\n",
      "-----------------------------------------------\n",
      "\n",
      "============================\n",
      "   A       C       G       T\n",
      "----------------------------\n",
      "0.21    0.31    0.25    0.23\n",
      "----------------------------\n",
      "\n",
      "Distances: {'Human': np.float64(2.3046088359341575e-05), 'Gorilla': np.float64(0.00028324560848815765), 'Chimpanzee': np.float64(0.00021400396421176131)}\n"
     ]
    }
   ],
   "source": [
    "#Get distances of concatenated sequences \n",
    "#time_het=max sets a 36 params substitution model\n",
    "sm = get_app(\"model\", \"GN\", time_het=\"max\", optimise_motif_probs=True, show_progress=True)\n",
    "result_ffold = sm(ffold_alns)\n",
    "checked = checker(result_ffold)\n",
    "lengthstree = result_ffold.lf.get_lengths_as_ens()\n",
    "print(\"Is model identifiable? \" + str(checked.is_identifiable) + \"\\n\")\n",
    "print(\"Model results : \\n\" + str(result_ffold.lf) + \"\\n\")\n",
    "print(\"Distances: \" + str(lengthstree))"
   ]
  },
  {
   "cell_type": "code",
   "execution_count": null,
   "metadata": {},
   "outputs": [
    {
     "name": "stdout",
     "output_type": "stream",
     "text": [
      "Overview\n",
      "--------\n",
      "Extracts the specified codon position(s) from an alignment.\n",
      "\n",
      "Options for making the app\n",
      "--------------------------\n",
      "take_codon_positions_app = get_app(\n",
      "    'take_codon_positions',\n",
      "    *positions: int,\n",
      "    fourfold_degenerate=False,\n",
      "    gc='Standard',\n",
      "    moltype='dna',\n",
      ")\n",
      "\n",
      "Parameters\n",
      "----------\n",
      "positions\n",
      "    either a single integer from (1, 2, 3), or additional keyword\n",
      "    arguments of position numbers, e.g. 3 is third position, (1,2)\n",
      "    is first and second codon position\n",
      "fourfold_degenerate\n",
      "    if True, returns third positions from four-fold degenerate codons.\n",
      "    Overrides positions.\n",
      "gc\n",
      "    identifier for a genetic code or a genetic code instance.\n",
      "    see https://cogent3.org/doc/cookbook/what_codes.html\n",
      "moltype\n",
      "    molecular type, must be either DNA or RNA\n",
      "\n",
      "Examples\n",
      "--------\n",
      "\n",
      "Create a sample alignment and an app that extracts the 3rd codon\n",
      "position from an alignment.\n",
      "\n",
      ">>> from cogent3 import make_aligned_seqs, get_app\n",
      ">>> aln = make_aligned_seqs(\n",
      "...     {\"s1\": \"ACGACGACG\", \"s2\": \"GATGATGAT\"}, moltype=\"dna\"\n",
      "... )\n",
      ">>> take_pos3 = get_app(\"take_codon_positions\", 3, moltype=\"dna\")\n",
      ">>> result = take_pos3(aln)\n",
      ">>> print(result.to_pretty())\n",
      "s1    GGG\n",
      "s2    TTT\n",
      "\n",
      "Create an app that extracts the 1st and 2nd codon positions from an\n",
      "alignment.\n",
      "\n",
      ">>> take_pos12 = get_app(\"take_codon_positions\", 1, 2, moltype=\"dna\")\n",
      ">>> result = take_pos12(aln)\n",
      ">>> print(result.to_pretty())\n",
      "s1    ACACAC\n",
      "s2    GAGAGA\n",
      "\n",
      "Create a sample alignment and an app that returns the 3rd codon\n",
      "positions from four-fold degenerate codons.\n",
      "\n",
      ">>> aln_ff = make_aligned_seqs(\n",
      "...     {\"s1\": \"GCAAGCGTTTAT\", \"s2\": \"GCTTTTGTCAAT\"}, moltype=\"dna\"\n",
      "... )\n",
      ">>> take_fourfold = get_app(\n",
      "...     \"take_codon_positions\", fourfold_degenerate=True, moltype=\"dna\"\n",
      "... )\n",
      ">>> result = take_fourfold(aln_ff)\n",
      ">>> print(result.to_pretty())\n",
      "s1    AT\n",
      "s2    TC\n",
      "\n",
      "A NotCompleted object (see https://cogent3.org/doc/app/not-completed.html)\n",
      "is returned if all sites are excluded.\n",
      "\n",
      ">>> result = take_fourfold(aln)\n",
      ">>> result.message\n",
      "'result is empty'\n",
      "\n",
      "Input type\n",
      "----------\n",
      "Alignment\n",
      "\n",
      "Output type\n",
      "-----------\n",
      "SerialisableType, Alignment\n",
      "None\n"
     ]
    }
   ],
   "source": [
    "print(cogent3.app_help(\"take_codon_positions\"))"
   ]
  }
 ],
 "metadata": {
  "kernelspec": {
   "display_name": "Python 3.13.5 ('EstimatingUd')",
   "language": "python",
   "name": "python3"
  },
  "language_info": {
   "codemirror_mode": {
    "name": "ipython",
    "version": 3
   },
   "file_extension": ".py",
   "mimetype": "text/x-python",
   "name": "python",
   "nbconvert_exporter": "python",
   "pygments_lexer": "ipython3",
   "version": "3.13.5"
  },
  "orig_nbformat": 4,
  "vscode": {
   "interpreter": {
    "hash": "53a0ee2834e5a3220609a583c5db6d166b18855c93dee771c0346263a6405663"
   }
  }
 },
 "nbformat": 4,
 "nbformat_minor": 2
}

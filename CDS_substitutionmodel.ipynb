{
 "cells": [
  {
   "cell_type": "markdown",
   "metadata": {},
   "source": [
    "This code requires to run codon_aligner.ipynb before"
   ]
  },
  {
   "cell_type": "code",
   "execution_count": 1,
   "metadata": {},
   "outputs": [],
   "source": [
    "import cogent3\n",
    "from cogent3 import get_app\n",
    "import paths\n",
    "import libs\n"
   ]
  },
  {
   "cell_type": "code",
   "execution_count": 2,
   "metadata": {},
   "outputs": [
    {
     "name": "stdout",
     "output_type": "stream",
     "text": [
      "Directory datastore\n",
      "=======================\n",
      "record type      number\n",
      "-----------------------\n",
      "completed            36\n",
      "not_completed         8\n",
      "logs                  5\n",
      "-----------------------\n"
     ]
    }
   ],
   "source": [
    "folder_in = paths.DATA_APES114 + 'cds/codon_aligned/'\n",
    "in_dstore = cogent3.open_data_store(folder_in, suffix='fa', mode='r')\n",
    "\n",
    "print(in_dstore.describe)"
   ]
  },
  {
   "cell_type": "code",
   "execution_count": 3,
   "metadata": {},
   "outputs": [
    {
     "data": {
      "application/vnd.jupyter.widget-view+json": {
       "model_id": "d28200c6239249c4b8633151b5d89440",
       "version_major": 2,
       "version_minor": 0
      },
      "text/plain": [
       "   0%|          |00:00<?"
      ]
     },
     "metadata": {},
     "output_type": "display_data"
    },
    {
     "data": {
      "application/vnd.jupyter.widget-view+json": {
       "model_id": "9ad142eb9b5f4d50983ea2d69af1b53f",
       "version_major": 2,
       "version_minor": 0
      },
      "text/plain": [
       "   0%|          |00:00<?"
      ]
     },
     "metadata": {},
     "output_type": "display_data"
    }
   ],
   "source": [
    "loader = get_app(\"load_aligned\", moltype=\"dna\")   \n",
    "omit_degs = get_app(\"omit_degenerates\", moltype=\"dna\", motif_length=3)\n",
    "ffold = get_app(\"take_codon_positions\", fourfold_degenerate=True)\n",
    "concat_alns_app = get_app(\"concat\", moltype=\"dna\")\n",
    "concat = get_app(\"concat\", moltype=\"dna\")\n",
    "\n",
    "#create a concatenated alignment with all coding positions\n",
    "allposprocess = loader+omit_degs\n",
    "# result below is only valid alignments (no NotCompleted).\n",
    "results_allpos = [r for r in allposprocess.as_completed(in_dstore[:10], parallel=True) if r]\n",
    "alpos_alns = concat(results_allpos)\n",
    "alpos_alns.source = \"cds_alignments\"\n",
    "\n",
    "#create a concatenated alignment only with four fold positions (should I also do 0fold)\n",
    "omit_degs.disconnect()\n",
    "ffoldprocess = loader+omit_degs+ffold\n",
    "# result below is only valid alignments (no NotCompleted)\n",
    "results_ffold = [r for r in ffoldprocess.as_completed(in_dstore, parallel=True) if r]\n",
    "ffold_alns = concat(results_ffold)\n",
    "ffold_alns.source = \"cds_ffold_test_alignments\"\n",
    "\n"
   ]
  },
  {
   "cell_type": "code",
   "execution_count": 4,
   "metadata": {},
   "outputs": [
    {
     "data": {
      "text/html": [
       "<style>\n",
       ".c3align table {margin: 10px 0;}\n",
       ".c3align td { border: none !important; text-align: left !important; }\n",
       ".c3align tr:not(.num_row) td span {margin: 0 2px;}\n",
       ".c3align tr:nth-child(even) {background: #f7f7f7;}\n",
       ".c3align .num_row {background-color:rgba(161, 195, 209, 0.5) !important; border-top: solid 1px black; }\n",
       ".c3align .label { font-size: 12pt ; text-align: right !important; color: black !important; padding: 0 4px; display: table-cell !important; font-weight: normal !important; }\n",
       ".c3align .T_dna{font-family: \"Lucida Console\",monospace !important; font-size: 12pt !important; color: blue; }\n",
       ".c3align .C_dna{font-family: \"Lucida Console\",monospace !important; font-size: 12pt !important; color: black; }\n",
       ".c3align .A_dna{font-family: \"Lucida Console\",monospace !important; font-size: 12pt !important; color: #FF0102; }\n",
       ".c3align .G_dna{font-family: \"Lucida Console\",monospace !important; font-size: 12pt !important; color: green; }\n",
       ".c3align .terminal_ambig_dna{font-family: \"Lucida Console\",monospace !important; font-size: 12pt !important; color: gray; }\n",
       ".c3align .ambig_dna{font-family: \"Lucida Console\",monospace !important; font-size: 12pt !important; color: gray; }\n",
       "</style>\n",
       "<div class=\"c3align\">\n",
       "<table>\n",
       "<tr class=\"num_row\"><td></td><td><b>0</b></td></tr>\n",
       "<tr><td class=\"label\">Chimpanzee</td><td><span class=\"A_dna\">A</span><span class=\"T_dna\">T</span><span class=\"G_dna\">G</span><span class=\"A_dna\">A</span><span class=\"A_dna\">A</span><span class=\"T_dna\">T</span><span class=\"C_dna\">C</span><span class=\"C_dna\">C</span><span class=\"A_dna\">A</span><span class=\"C_dna\">C</span><span class=\"A_dna\">A</span><span class=\"G_dna\">G</span><span class=\"A_dna\">A</span><span class=\"T_dna\">T</span><span class=\"C_dna\">C</span><span class=\"A_dna\">A</span><span class=\"G_dna\">G</span><span class=\"A_dna\">A</span><span class=\"A_dna\">A</span><span class=\"A_dna\">A</span><span class=\"T_dna\">T</span><span class=\"C_dna\">C</span><span class=\"C_dna\">C</span><span class=\"G_dna\">G</span><span class=\"A_dna\">A</span><span class=\"T_dna\">T</span><span class=\"G_dna\">G</span><span class=\"G_dna\">G</span><span class=\"A_dna\">A</span><span class=\"G_dna\">G</span><span class=\"C_dna\">C</span><span class=\"G_dna\">G</span><span class=\"G_dna\">G</span><span class=\"A_dna\">A</span><span class=\"T_dna\">T</span><span class=\"G_dna\">G</span><span class=\"T_dna\">T</span><span class=\"A_dna\">A</span><span class=\"T_dna\">T</span><span class=\"C_dna\">C</span><span class=\"G_dna\">G</span><span class=\"A_dna\">A</span><span class=\"C_dna\">C</span><span class=\"G_dna\">G</span><span class=\"C_dna\">C</span><span class=\"A_dna\">A</span><span class=\"C_dna\">C</span><span class=\"A_dna\">A</span><span class=\"T_dna\">T</span><span class=\"T_dna\">T</span><span class=\"C_dna\">C</span><span class=\"T_dna\">T</span><span class=\"A_dna\">A</span><span class=\"C_dna\">C</span><span class=\"A_dna\">A</span><span class=\"A_dna\">A</span><span class=\"C_dna\">C</span><span class=\"C_dna\">C</span><span class=\"A_dna\">A</span><span class=\"C_dna\">C</span></td></tr>\n",
       "<tr><td class=\"label\">Human</td><td><span class=\"A_dna\">.</span><span class=\"T_dna\">.</span><span class=\"G_dna\">.</span><span class=\"A_dna\">.</span><span class=\"A_dna\">.</span><span class=\"T_dna\">.</span><span class=\"C_dna\">.</span><span class=\"C_dna\">.</span><span class=\"A_dna\">.</span><span class=\"C_dna\">.</span><span class=\"A_dna\">.</span><span class=\"G_dna\">.</span><span class=\"A_dna\">.</span><span class=\"T_dna\">.</span><span class=\"C_dna\">.</span><span class=\"A_dna\">.</span><span class=\"G_dna\">.</span><span class=\"A_dna\">.</span><span class=\"A_dna\">.</span><span class=\"A_dna\">.</span><span class=\"T_dna\">.</span><span class=\"C_dna\">.</span><span class=\"C_dna\">.</span><span class=\"G_dna\">.</span><span class=\"A_dna\">.</span><span class=\"T_dna\">.</span><span class=\"G_dna\">.</span><span class=\"G_dna\">.</span><span class=\"A_dna\">.</span><span class=\"G_dna\">.</span><span class=\"C_dna\">.</span><span class=\"G_dna\">.</span><span class=\"G_dna\">.</span><span class=\"A_dna\">.</span><span class=\"T_dna\">.</span><span class=\"G_dna\">.</span><span class=\"T_dna\">.</span><span class=\"A_dna\">.</span><span class=\"T_dna\">.</span><span class=\"C_dna\">.</span><span class=\"G_dna\">.</span><span class=\"A_dna\">.</span><span class=\"C_dna\">.</span><span class=\"G_dna\">.</span><span class=\"C_dna\">.</span><span class=\"A_dna\">.</span><span class=\"C_dna\">.</span><span class=\"A_dna\">.</span><span class=\"T_dna\">.</span><span class=\"T_dna\">.</span><span class=\"C_dna\">.</span><span class=\"T_dna\">.</span><span class=\"A_dna\">.</span><span class=\"C_dna\">.</span><span class=\"A_dna\">.</span><span class=\"A_dna\">.</span><span class=\"C_dna\">.</span><span class=\"C_dna\">.</span><span class=\"A_dna\">.</span><span class=\"C_dna\">.</span></td></tr>\n",
       "<tr><td class=\"label\">Gorilla</td><td><span class=\"A_dna\">.</span><span class=\"T_dna\">.</span><span class=\"G_dna\">.</span><span class=\"A_dna\">.</span><span class=\"A_dna\">.</span><span class=\"T_dna\">.</span><span class=\"C_dna\">.</span><span class=\"C_dna\">.</span><span class=\"A_dna\">.</span><span class=\"C_dna\">.</span><span class=\"A_dna\">.</span><span class=\"G_dna\">.</span><span class=\"A_dna\">.</span><span class=\"T_dna\">.</span><span class=\"C_dna\">.</span><span class=\"A_dna\">.</span><span class=\"G_dna\">.</span><span class=\"A_dna\">.</span><span class=\"A_dna\">.</span><span class=\"A_dna\">.</span><span class=\"T_dna\">.</span><span class=\"C_dna\">.</span><span class=\"C_dna\">.</span><span class=\"G_dna\">.</span><span class=\"A_dna\">.</span><span class=\"T_dna\">.</span><span class=\"G_dna\">.</span><span class=\"G_dna\">.</span><span class=\"A_dna\">.</span><span class=\"G_dna\">.</span><span class=\"C_dna\">.</span><span class=\"G_dna\">.</span><span class=\"G_dna\">.</span><span class=\"A_dna\">.</span><span class=\"T_dna\">.</span><span class=\"G_dna\">.</span><span class=\"T_dna\">.</span><span class=\"A_dna\">.</span><span class=\"T_dna\">.</span><span class=\"C_dna\">.</span><span class=\"G_dna\">.</span><span class=\"A_dna\">.</span><span class=\"C_dna\">.</span><span class=\"G_dna\">.</span><span class=\"C_dna\">.</span><span class=\"A_dna\">.</span><span class=\"C_dna\">.</span><span class=\"A_dna\">.</span><span class=\"T_dna\">.</span><span class=\"T_dna\">.</span><span class=\"C_dna\">.</span><span class=\"T_dna\">.</span><span class=\"A_dna\">.</span><span class=\"C_dna\">.</span><span class=\"A_dna\">.</span><span class=\"A_dna\">.</span><span class=\"C_dna\">.</span><span class=\"C_dna\">.</span><span class=\"A_dna\">.</span><span class=\"C_dna\">.</span></td></tr>\n",
       "</table>\n",
       "<p><i>3 x 16197 (truncated to 3 x 60) dna alignment</i></p>\n",
       "</div>"
      ],
      "text/plain": [
       "3 x 16197 dna alignment: Chimpanzee[ATGAATCCAC...], Human[ATGAATCCAC...], Gorilla[ATGAATCCAC...]"
      ]
     },
     "execution_count": 4,
     "metadata": {},
     "output_type": "execute_result"
    }
   ],
   "source": [
    "alpos_alns"
   ]
  },
  {
   "cell_type": "code",
   "execution_count": 5,
   "metadata": {},
   "outputs": [
    {
     "ename": "ValueError",
     "evalue": "Cannot apply_along_axis when any iteration dimensions are 0",
     "output_type": "error",
     "traceback": [
      "\u001b[31m---------------------------------------------------------------------------\u001b[39m",
      "\u001b[31mValueError\u001b[39m                                Traceback (most recent call last)",
      "\u001b[36mFile \u001b[39m\u001b[32m~/miniforge3/envs/delme/lib/python3.13/site-packages/IPython/core/formatters.py:406\u001b[39m, in \u001b[36mBaseFormatter.__call__\u001b[39m\u001b[34m(self, obj)\u001b[39m\n\u001b[32m    404\u001b[39m     method = get_real_method(obj, \u001b[38;5;28mself\u001b[39m.print_method)\n\u001b[32m    405\u001b[39m     \u001b[38;5;28;01mif\u001b[39;00m method \u001b[38;5;129;01mis\u001b[39;00m \u001b[38;5;129;01mnot\u001b[39;00m \u001b[38;5;28;01mNone\u001b[39;00m:\n\u001b[32m--> \u001b[39m\u001b[32m406\u001b[39m         \u001b[38;5;28;01mreturn\u001b[39;00m \u001b[43mmethod\u001b[49m\u001b[43m(\u001b[49m\u001b[43m)\u001b[49m\n\u001b[32m    407\u001b[39m     \u001b[38;5;28;01mreturn\u001b[39;00m \u001b[38;5;28;01mNone\u001b[39;00m\n\u001b[32m    408\u001b[39m \u001b[38;5;28;01melse\u001b[39;00m:\n",
      "\u001b[36mFile \u001b[39m\u001b[32m~/miniforge3/envs/delme/lib/python3.13/site-packages/cogent3/core/alignment.py:6833\u001b[39m, in \u001b[36mAlignment._repr_html_\u001b[39m\u001b[34m(self)\u001b[39m\n\u001b[32m   6828\u001b[39m env_vals = get_setting_from_environ(\n\u001b[32m   6829\u001b[39m     \u001b[33m\"\u001b[39m\u001b[33mCOGENT3_ALIGNMENT_REPR_POLICY\u001b[39m\u001b[33m\"\u001b[39m,\n\u001b[32m   6830\u001b[39m     {\u001b[33m\"\u001b[39m\u001b[33mnum_seqs\u001b[39m\u001b[33m\"\u001b[39m: \u001b[38;5;28mint\u001b[39m, \u001b[33m\"\u001b[39m\u001b[33mnum_pos\u001b[39m\u001b[33m\"\u001b[39m: \u001b[38;5;28mint\u001b[39m, \u001b[33m\"\u001b[39m\u001b[33mwrap\u001b[39m\u001b[33m\"\u001b[39m: \u001b[38;5;28mint\u001b[39m, \u001b[33m\"\u001b[39m\u001b[33mref_name\u001b[39m\u001b[33m\"\u001b[39m: \u001b[38;5;28mstr\u001b[39m},\n\u001b[32m   6831\u001b[39m )\n\u001b[32m   6832\u001b[39m settings.update(env_vals)\n\u001b[32m-> \u001b[39m\u001b[32m6833\u001b[39m \u001b[38;5;28;01mreturn\u001b[39;00m \u001b[38;5;28;43mself\u001b[39;49m\u001b[43m.\u001b[49m\u001b[43mto_html\u001b[49m\u001b[43m(\u001b[49m\n\u001b[32m   6834\u001b[39m \u001b[43m    \u001b[49m\u001b[43mname_order\u001b[49m\u001b[43m=\u001b[49m\u001b[38;5;28;43mself\u001b[39;49m\u001b[43m.\u001b[49m\u001b[43mnames\u001b[49m\u001b[43m[\u001b[49m\u001b[43m:\u001b[49m\u001b[43m \u001b[49m\u001b[43msettings\u001b[49m\u001b[43m[\u001b[49m\u001b[33;43m\"\u001b[39;49m\u001b[33;43mnum_seqs\u001b[39;49m\u001b[33;43m\"\u001b[39;49m\u001b[43m]\u001b[49m\u001b[43m]\u001b[49m\u001b[43m,\u001b[49m\n\u001b[32m   6835\u001b[39m \u001b[43m    \u001b[49m\u001b[43mref_name\u001b[49m\u001b[43m=\u001b[49m\u001b[43msettings\u001b[49m\u001b[43m[\u001b[49m\u001b[33;43m\"\u001b[39;49m\u001b[33;43mref_name\u001b[39;49m\u001b[33;43m\"\u001b[39;49m\u001b[43m]\u001b[49m\u001b[43m,\u001b[49m\n\u001b[32m   6836\u001b[39m \u001b[43m    \u001b[49m\u001b[43mlimit\u001b[49m\u001b[43m=\u001b[49m\u001b[43msettings\u001b[49m\u001b[43m[\u001b[49m\u001b[33;43m\"\u001b[39;49m\u001b[33;43mnum_pos\u001b[39;49m\u001b[33;43m\"\u001b[39;49m\u001b[43m]\u001b[49m\u001b[43m,\u001b[49m\n\u001b[32m   6837\u001b[39m \u001b[43m    \u001b[49m\u001b[43mwrap\u001b[49m\u001b[43m=\u001b[49m\u001b[43msettings\u001b[49m\u001b[43m[\u001b[49m\u001b[33;43m\"\u001b[39;49m\u001b[33;43mwrap\u001b[39;49m\u001b[33;43m\"\u001b[39;49m\u001b[43m]\u001b[49m\u001b[43m,\u001b[49m\n\u001b[32m   6838\u001b[39m \u001b[43m\u001b[49m\u001b[43m)\u001b[49m\n",
      "\u001b[36mFile \u001b[39m\u001b[32m~/miniforge3/envs/delme/lib/python3.13/site-packages/cogent3/core/alignment.py:6694\u001b[39m, in \u001b[36mAlignment.to_html\u001b[39m\u001b[34m(self, name_order, wrap, limit, ref_name, colors, font_size, font_family)\u001b[39m\n\u001b[32m   6691\u001b[39m     selected = \u001b[38;5;28mself\u001b[39m\n\u001b[32m   6693\u001b[39m \u001b[38;5;28;01mif\u001b[39;00m ref_name == \u001b[33m\"\u001b[39m\u001b[33mlongest\u001b[39m\u001b[33m\"\u001b[39m:\n\u001b[32m-> \u001b[39m\u001b[32m6694\u001b[39m     lengths = \u001b[43mselected\u001b[49m\u001b[43m.\u001b[49m\u001b[43mget_lengths\u001b[49m\u001b[43m(\u001b[49m\u001b[43minclude_ambiguity\u001b[49m\u001b[43m=\u001b[49m\u001b[38;5;28;43;01mFalse\u001b[39;49;00m\u001b[43m,\u001b[49m\u001b[43m \u001b[49m\u001b[43mallow_gap\u001b[49m\u001b[43m=\u001b[49m\u001b[38;5;28;43;01mFalse\u001b[39;49;00m\u001b[43m)\u001b[49m\n\u001b[32m   6696\u001b[39m     length_names = defaultdict(\u001b[38;5;28mlist\u001b[39m)\n\u001b[32m   6697\u001b[39m     \u001b[38;5;28;01mfor\u001b[39;00m n, l \u001b[38;5;129;01min\u001b[39;00m lengths.items():\n",
      "\u001b[36mFile \u001b[39m\u001b[32m~/miniforge3/envs/delme/lib/python3.13/site-packages/cogent3/core/alignment.py:1991\u001b[39m, in \u001b[36mSequenceCollection.get_lengths\u001b[39m\u001b[34m(self, include_ambiguity, allow_gap)\u001b[39m\n\u001b[32m   1975\u001b[39m \u001b[38;5;28;01mdef\u001b[39;00m\u001b[38;5;250m \u001b[39m\u001b[34mget_lengths\u001b[39m(\n\u001b[32m   1976\u001b[39m     \u001b[38;5;28mself\u001b[39m,\n\u001b[32m   1977\u001b[39m     include_ambiguity: \u001b[38;5;28mbool\u001b[39m = \u001b[38;5;28;01mFalse\u001b[39;00m,\n\u001b[32m   1978\u001b[39m     allow_gap: \u001b[38;5;28mbool\u001b[39m = \u001b[38;5;28;01mFalse\u001b[39;00m,\n\u001b[32m   1979\u001b[39m ) -> \u001b[38;5;28mdict\u001b[39m[\u001b[38;5;28mstr\u001b[39m, \u001b[38;5;28mint\u001b[39m]:\n\u001b[32m   1980\u001b[39m \u001b[38;5;250m    \u001b[39m\u001b[33;03m\"\"\"returns sequence lengths as a dict of {seqid: length}\u001b[39;00m\n\u001b[32m   1981\u001b[39m \n\u001b[32m   1982\u001b[39m \u001b[33;03m    Parameters\u001b[39;00m\n\u001b[32m   (...)\u001b[39m\u001b[32m   1989\u001b[39m \n\u001b[32m   1990\u001b[39m \u001b[33;03m    \"\"\"\u001b[39;00m\n\u001b[32m-> \u001b[39m\u001b[32m1991\u001b[39m     counts = \u001b[38;5;28;43mself\u001b[39;49m\u001b[43m.\u001b[49m\u001b[43mcounts_per_seq\u001b[49m\u001b[43m(\u001b[49m\n\u001b[32m   1992\u001b[39m \u001b[43m        \u001b[49m\u001b[43mmotif_length\u001b[49m\u001b[43m=\u001b[49m\u001b[32;43m1\u001b[39;49m\u001b[43m,\u001b[49m\n\u001b[32m   1993\u001b[39m \u001b[43m        \u001b[49m\u001b[43minclude_ambiguity\u001b[49m\u001b[43m=\u001b[49m\u001b[43minclude_ambiguity\u001b[49m\u001b[43m,\u001b[49m\n\u001b[32m   1994\u001b[39m \u001b[43m        \u001b[49m\u001b[43mallow_gap\u001b[49m\u001b[43m=\u001b[49m\u001b[43mallow_gap\u001b[49m\u001b[43m,\u001b[49m\n\u001b[32m   1995\u001b[39m \u001b[43m    \u001b[49m\u001b[43m)\u001b[49m\n\u001b[32m   1996\u001b[39m     \u001b[38;5;28;01mreturn\u001b[39;00m counts.row_sum()\n",
      "\u001b[36mFile \u001b[39m\u001b[32m~/miniforge3/envs/delme/lib/python3.13/site-packages/cogent3/core/alignment.py:5091\u001b[39m, in \u001b[36mAlignment.counts_per_seq\u001b[39m\u001b[34m(self, motif_length, include_ambiguity, allow_gap, exclude_unobserved, warn)\u001b[39m\n\u001b[32m   5089\u001b[39m \u001b[38;5;28;01mfor\u001b[39;00m name \u001b[38;5;129;01min\u001b[39;00m \u001b[38;5;28mself\u001b[39m.names:\n\u001b[32m   5090\u001b[39m     seq = \u001b[38;5;28mself\u001b[39m.get_gapped_seq(name)\n\u001b[32m-> \u001b[39m\u001b[32m5091\u001b[39m     c = \u001b[43mseq\u001b[49m\u001b[43m.\u001b[49m\u001b[43mcounts\u001b[49m\u001b[43m(\u001b[49m\n\u001b[32m   5092\u001b[39m \u001b[43m        \u001b[49m\u001b[43mmotif_length\u001b[49m\u001b[43m=\u001b[49m\u001b[43mmotif_length\u001b[49m\u001b[43m,\u001b[49m\n\u001b[32m   5093\u001b[39m \u001b[43m        \u001b[49m\u001b[43minclude_ambiguity\u001b[49m\u001b[43m=\u001b[49m\u001b[43minclude_ambiguity\u001b[49m\u001b[43m,\u001b[49m\n\u001b[32m   5094\u001b[39m \u001b[43m        \u001b[49m\u001b[43mallow_gap\u001b[49m\u001b[43m=\u001b[49m\u001b[43mallow_gap\u001b[49m\u001b[43m,\u001b[49m\n\u001b[32m   5095\u001b[39m \u001b[43m    \u001b[49m\u001b[43m)\u001b[49m\n\u001b[32m   5096\u001b[39m     motifs.update(c.keys())\n\u001b[32m   5097\u001b[39m     counts.append(c)\n",
      "\u001b[36mFile \u001b[39m\u001b[32m~/miniforge3/envs/delme/lib/python3.13/site-packages/cogent3/util/warning.py:154\u001b[39m, in \u001b[36mdeprecated_args.<locals>.decorator.<locals>.wrapper\u001b[39m\u001b[34m(*args, **kwargs)\u001b[39m\n\u001b[32m    145\u001b[39m             _discontinued(\n\u001b[32m    146\u001b[39m                 \u001b[33m\"\u001b[39m\u001b[33margument\u001b[39m\u001b[33m\"\u001b[39m,\n\u001b[32m    147\u001b[39m                 dropped,\n\u001b[32m   (...)\u001b[39m\u001b[32m    150\u001b[39m                 stack_level=stack_level,\n\u001b[32m    151\u001b[39m             )\n\u001b[32m    152\u001b[39m             kwargs.pop(dropped)\n\u001b[32m--> \u001b[39m\u001b[32m154\u001b[39m \u001b[38;5;28;01mreturn\u001b[39;00m \u001b[43mfunc\u001b[49m\u001b[43m(\u001b[49m\u001b[43m*\u001b[49m\u001b[43margs\u001b[49m\u001b[43m,\u001b[49m\u001b[43m \u001b[49m\u001b[43m*\u001b[49m\u001b[43m*\u001b[49m\u001b[43mkwargs\u001b[49m\u001b[43m)\u001b[49m\n",
      "\u001b[36mFile \u001b[39m\u001b[32m~/miniforge3/envs/delme/lib/python3.13/site-packages/cogent3/core/sequence.py:354\u001b[39m, in \u001b[36mSequence.counts\u001b[39m\u001b[34m(self, motif_length, include_ambiguity, allow_gap, warn)\u001b[39m\n\u001b[32m    352\u001b[39m indices = numpy.zeros(unique_values.shape[\u001b[32m0\u001b[39m], dtype=\u001b[38;5;28mbool\u001b[39m)\n\u001b[32m    353\u001b[39m \u001b[38;5;28;01mif\u001b[39;00m \u001b[38;5;129;01mnot\u001b[39;00m allow_gap:\n\u001b[32m--> \u001b[39m\u001b[32m354\u001b[39m     indices |= \u001b[43mnumpy\u001b[49m\u001b[43m.\u001b[49m\u001b[43mapply_along_axis\u001b[49m\u001b[43m(\u001b[49m\n\u001b[32m    355\u001b[39m \u001b[43m        \u001b[49m\u001b[38;5;28;43mself\u001b[39;49m\u001b[43m.\u001b[49m\u001b[43mmoltype\u001b[49m\u001b[43m.\u001b[49m\u001b[43mis_gapped\u001b[49m\u001b[43m,\u001b[49m\u001b[43m \u001b[49m\u001b[43maxis\u001b[49m\u001b[43m=\u001b[49m\u001b[32;43m1\u001b[39;49m\u001b[43m,\u001b[49m\u001b[43m \u001b[49m\u001b[43marr\u001b[49m\u001b[43m=\u001b[49m\u001b[43munique_values\u001b[49m\n\u001b[32m    356\u001b[39m \u001b[43m    \u001b[49m\u001b[43m)\u001b[49m\n\u001b[32m    358\u001b[39m \u001b[38;5;28;01mif\u001b[39;00m \u001b[38;5;129;01mnot\u001b[39;00m include_ambiguity:\n\u001b[32m    359\u001b[39m     indices |= numpy.apply_along_axis(\n\u001b[32m    360\u001b[39m         \u001b[38;5;28mself\u001b[39m.moltype.is_degenerate, axis=\u001b[32m1\u001b[39m, arr=unique_values\n\u001b[32m    361\u001b[39m     )\n",
      "\u001b[36mFile \u001b[39m\u001b[32m~/miniforge3/envs/delme/lib/python3.13/site-packages/numpy/lib/_shape_base_impl.py:383\u001b[39m, in \u001b[36mapply_along_axis\u001b[39m\u001b[34m(func1d, axis, arr, *args, **kwargs)\u001b[39m\n\u001b[32m    381\u001b[39m     ind0 = \u001b[38;5;28mnext\u001b[39m(inds)\n\u001b[32m    382\u001b[39m \u001b[38;5;28;01mexcept\u001b[39;00m \u001b[38;5;167;01mStopIteration\u001b[39;00m:\n\u001b[32m--> \u001b[39m\u001b[32m383\u001b[39m     \u001b[38;5;28;01mraise\u001b[39;00m \u001b[38;5;167;01mValueError\u001b[39;00m(\n\u001b[32m    384\u001b[39m         \u001b[33m'\u001b[39m\u001b[33mCannot apply_along_axis when any iteration dimensions are 0\u001b[39m\u001b[33m'\u001b[39m\n\u001b[32m    385\u001b[39m     ) \u001b[38;5;28;01mfrom\u001b[39;00m\u001b[38;5;250m \u001b[39m\u001b[38;5;28;01mNone\u001b[39;00m\n\u001b[32m    386\u001b[39m res = asanyarray(func1d(inarr_view[ind0], *args, **kwargs))\n\u001b[32m    388\u001b[39m \u001b[38;5;66;03m# build a buffer for storing evaluations of func1d.\u001b[39;00m\n\u001b[32m    389\u001b[39m \u001b[38;5;66;03m# remove the requested axis, and add the new ones on the end.\u001b[39;00m\n\u001b[32m    390\u001b[39m \u001b[38;5;66;03m# laid out so that each write is contiguous.\u001b[39;00m\n\u001b[32m    391\u001b[39m \u001b[38;5;66;03m# for a tuple index inds, buff[inds] = func1d(inarr_view[inds])\u001b[39;00m\n",
      "\u001b[31mValueError\u001b[39m: Cannot apply_along_axis when any iteration dimensions are 0"
     ]
    },
    {
     "data": {
      "text/plain": [
       "2 x 0 dna alignment: Human[], Gorilla[]"
      ]
     },
     "execution_count": 5,
     "metadata": {},
     "output_type": "execute_result"
    }
   ],
   "source": [
    "#Testing that the concatenated alignemnts have non degenerate variable positions \n",
    "new_subset = alpos_alns.take_seqs([\"Human\", \"Gorilla\"])\n",
    "#new_subset = alpos_alns.take_seqs([\"Human\", \"Chimpanzee\"])\n",
    "\n",
    "#after degap and omit_gap_pos the gaps in Gorilla stay there\n",
    "new_subset.degap()\n",
    "varpos = new_subset.variable_positions()\n",
    "just_variable_aln = new_subset.take_positions(varpos)\n",
    "just_variable_aln"
   ]
  },
  {
   "cell_type": "code",
   "execution_count": 6,
   "metadata": {},
   "outputs": [
    {
     "data": {
      "application/vnd.jupyter.widget-view+json": {
       "model_id": "ec022f06d93c43638ef012451f8756fa",
       "version_major": 2,
       "version_minor": 0
      },
      "text/plain": [
       "   0%|          |00:00<?"
      ]
     },
     "metadata": {},
     "output_type": "display_data"
    },
    {
     "data": {
      "application/vnd.jupyter.widget-view+json": {
       "model_id": "8d95bea0e39b4dc392ab7b6b672a1ab4",
       "version_major": 2,
       "version_minor": 0
      },
      "text/plain": [
       "   0%|          |00:00<?"
      ]
     },
     "metadata": {},
     "output_type": "display_data"
    },
    {
     "data": {
      "application/vnd.jupyter.widget-view+json": {
       "model_id": "c655644841f942799caa7149d72637ea",
       "version_major": 2,
       "version_minor": 0
      },
      "text/plain": [
       "   0%|          |00:00<?"
      ]
     },
     "metadata": {},
     "output_type": "display_data"
    },
    {
     "data": {
      "application/vnd.jupyter.widget-view+json": {
       "model_id": "b9e2e456a6084fc0b89d9d0cd2ba1d8e",
       "version_major": 2,
       "version_minor": 0
      },
      "text/plain": [
       "   0%|          |00:00<?"
      ]
     },
     "metadata": {},
     "output_type": "display_data"
    },
    {
     "data": {
      "application/vnd.jupyter.widget-view+json": {
       "model_id": "68cc777481b84379a0de3830f186dc66",
       "version_major": 2,
       "version_minor": 0
      },
      "text/plain": [
       "   0%|          |00:00<?"
      ]
     },
     "metadata": {},
     "output_type": "display_data"
    },
    {
     "data": {
      "application/vnd.jupyter.widget-view+json": {
       "model_id": "a4fb5e5a1d064e9489580fad8c5129e7",
       "version_major": 2,
       "version_minor": 0
      },
      "text/plain": [
       "   0%|          |00:00<?"
      ]
     },
     "metadata": {},
     "output_type": "display_data"
    },
    {
     "name": "stdout",
     "output_type": "stream",
     "text": [
      "Model results : \n",
      "OrderedDict({1: GN pos-1\n",
      "log-likelihood = -7345.8711\n",
      "number of free parameters = 39\n",
      "========================================================================\n",
      "edge          parent    length     A>C     A>G     A>T      C>A      C>G\n",
      "------------------------------------------------------------------------\n",
      "Chimpanzee    root        0.00    0.00    0.00    0.00    49.99    49.90\n",
      "Human         root        0.00    0.00    0.00    0.00    49.99    49.90\n",
      "Gorilla       root        0.00    0.00    0.00    0.00    49.99    49.90\n",
      "------------------------------------------------------------------------\n",
      "\n",
      "continued: \n",
      "=============================================\n",
      "  C>T     G>A     G>C     G>T     T>A     T>C\n",
      "---------------------------------------------\n",
      "50.00    0.00    0.00    0.00    0.00    0.00\n",
      "50.00    0.00    0.00    0.00    0.00    0.00\n",
      "50.00    0.00    0.00    0.00    0.00    0.00\n",
      "---------------------------------------------\n",
      "\n",
      "============================\n",
      "   A       C       G       T\n",
      "----------------------------\n",
      "0.27    0.25    0.32    0.16\n",
      "----------------------------, 2: GN pos-2\n",
      "log-likelihood = -7336.9831\n",
      "number of free parameters = 39\n",
      "======================================================================\n",
      "edge          parent    length     A>C     A>G     A>T     C>A     C>G\n",
      "----------------------------------------------------------------------\n",
      "Chimpanzee    root        0.00    0.00    0.00    0.00    0.00    0.00\n",
      "Human         root        0.00    0.00    0.00    0.00    0.00    0.00\n",
      "Gorilla       root        0.00    0.00    0.00    0.00    0.00    0.00\n",
      "----------------------------------------------------------------------\n",
      "\n",
      "continued: \n",
      "===============================================\n",
      " C>T      G>A      G>C      G>T     T>A     T>C\n",
      "-----------------------------------------------\n",
      "0.00    49.99    50.00    49.99    0.00    0.00\n",
      "0.00    49.99    50.00    49.99    0.00    0.00\n",
      "0.00    49.99    50.00    49.99    0.00    0.00\n",
      "-----------------------------------------------\n",
      "\n",
      "============================\n",
      "   A       C       G       T\n",
      "----------------------------\n",
      "0.33    0.22    0.18    0.27\n",
      "----------------------------, 3: GN pos-3\n",
      "log-likelihood = -7045.7257\n",
      "number of free parameters = 39\n",
      "======================================================================\n",
      "edge          parent    length     A>C     A>G     A>T     C>A     C>G\n",
      "----------------------------------------------------------------------\n",
      "Chimpanzee    root        0.00    0.00    0.00    0.00    0.00    0.00\n",
      "Human         root        0.00    0.00    0.00    0.00    0.00    0.00\n",
      "Gorilla       root        0.00    0.00    0.00    0.00    0.00    0.00\n",
      "----------------------------------------------------------------------\n",
      "\n",
      "continued: \n",
      "=============================================\n",
      " C>T     G>A     G>C     G>T      T>A     T>C\n",
      "---------------------------------------------\n",
      "0.00    0.00    0.00    0.00    48.83    0.00\n",
      "0.00    0.00    0.00    0.00    48.83    0.00\n",
      "0.00    0.00    0.00    0.00    48.83    0.00\n",
      "---------------------------------------------\n",
      "\n",
      "============================\n",
      "   A       C       G       T\n",
      "----------------------------\n",
      "0.14    0.36    0.34    0.17\n",
      "----------------------------})\n",
      "\n",
      "Distances: \n",
      "{'Chimpanzee': np.float64(9.999993718373062e-07), 'Human': np.float64(9.999999328060373e-07), 'Gorilla': np.float64(1.0000023202437836e-06)}\n",
      "{'Chimpanzee': np.float64(9.99998361731093e-07), 'Human': np.float64(1.0000053846467277e-06), 'Gorilla': np.float64(1.0000044663740062e-06)}\n",
      "{'Chimpanzee': np.float64(9.999993718373062e-07), 'Human': np.float64(9.999999328060373e-07), 'Gorilla': np.float64(1.0000023202437836e-06)}\n"
     ]
    }
   ],
   "source": [
    "#Do a general nucleotide model of conncatenated sequences concatenated sequences \n",
    "#time_het=max sets a 36 params substitution model\n",
    "sm = get_app(\"model\", \"GN\", time_het=\"max\", optimise_motif_probs=True, show_progress=True, split_codons=True)\n",
    "result_allpos = sm(alpos_alns)\n",
    "print(\"Model results : \\n\" + str(result_allpos.lf) + \"\\n\")\n",
    "\n",
    "print(\"Distances: \")\n",
    "lengthstree_pos1 = result_allpos[1].get_lengths_as_ens()\n",
    "print(lengthstree_pos1)\n",
    "\n",
    "lengthstree_pos2 = result_allpos[2].get_lengths_as_ens()\n",
    "print(lengthstree_pos2)\n",
    "\n",
    "lengthstree_pos3 = result_allpos[3].get_lengths_as_ens()\n",
    "print(lengthstree_pos1)"
   ]
  },
  {
   "cell_type": "code",
   "execution_count": 7,
   "metadata": {},
   "outputs": [
    {
     "data": {
      "text/html": [
       "\n",
       "<div class=\"c3table\">\n",
       "\n",
       "<style>\n",
       ".c3table table {margin: 10px 0;}\n",
       ".c3table tr:last-child {border-bottom: 1px solid #000;} \n",
       ".c3table tr > th {text-align: left; padding: 0 5px;}\n",
       ".c3table tr > td {text-align: left; padding: 5px;}\n",
       ".c3table tr:nth-child(even) {background: #f7f7f7 !important;}\n",
       ".c3table .ellipsis {background: rgba(0, 0, 0, .01);}\n",
       ".c3table .index {background: rgba(161, 195, 209, 0.0); margin: 10px; font-weight: 600;}\n",
       ".c3table .head_cell {background: rgba(161, 195, 209, 0.75); font-weight: bold; text-align: center;}\n",
       ".c3table caption {color: rgb(250, 250, 250); background: rgba(30, 140, 200, 1); padding: 3px; white-space: nowrap; caption-side: top;}\n",
       ".c3table .cell_title {font-weight: bold;}\n",
       ".c3col_left { text-align: left !important; display: block;}\n",
       ".c3col_right { text-align: right !important; display: block;}\n",
       ".c3col_center { text-align: center !important; display: block;}\n",
       "</style>\n",
       "\n",
       "<table>\n",
       "\n",
       "<caption>\n",
       "<span class=\"cell_title\">Phylo Limits Record</span>\n",
       "</caption>\n",
       "<thead class=\"head_cell\">\n",
       "<th>source</th><th>model name</th><th>identifiable</th><th>has boundary values</th><th>version</th>\n",
       "</thead>\n",
       "<tbody>\n",
       "<tr><td><span class=\"c3col_left\">cds_alignments</span></td><td><span class=\"c3col_left\">GN</span></td><td><span class=\"c3col_left\">True</span></td><td><span class=\"c3col_left\">True</span></td><td><span class=\"c3col_left\">2025.8.27</span></td></tr>\n",
       "</tbody>\n",
       "</table>\n",
       "\n",
       "</div>"
      ],
      "text/plain": [
       "PhyloLimitRec(check=IdentCheckRes(source='cds_alignments', strict=False, names=None, violation_type=<ViolationType.none: 'none'>), model_name='GN', boundary_values=[{'par_name': 'A>G', 'edge': 'Chimpanzee', 'init': np.float64(1.0000864660587248e-06), 'lower': 1e-06, 'upper': 50}, {'par_name': 'A>G', 'edge': 'Gorilla', 'init': np.float64(1.0000864660587248e-06), 'lower': 1e-06, 'upper': 50}, {'par_name': 'A>G', 'edge': 'Human', 'init': np.float64(1.0000864660587248e-06), 'lower': 1e-06, 'upper': 50}, {'par_name': 'A>T', 'edge': 'Chimpanzee', 'init': np.float64(1.000014565077548e-06), 'lower': 1e-06, 'upper': 50}, {'par_name': 'A>T', 'edge': 'Gorilla', 'init': np.float64(1.000014565077548e-06), 'lower': 1e-06, 'upper': 50}, {'par_name': 'A>T', 'edge': 'Human', 'init': np.float64(1.000014565077548e-06), 'lower': 1e-06, 'upper': 50}], nondlc_and_identity={})"
      ]
     },
     "execution_count": 7,
     "metadata": {},
     "output_type": "execute_result"
    }
   ],
   "source": [
    "checker = get_app(\"phylim\")\n",
    "\n",
    "\n",
    "checked_fitted = libs.phylim_split_codon(checker)\n",
    "checked = checked_fitted(result_allpos)\n",
    "checked"
   ]
  },
  {
   "cell_type": "code",
   "execution_count": 8,
   "metadata": {},
   "outputs": [
    {
     "data": {
      "application/vnd.jupyter.widget-view+json": {
       "model_id": "27179337670b47d78a7967d22a1543ea",
       "version_major": 2,
       "version_minor": 0
      },
      "text/plain": [
       "   0%|          |00:00<?"
      ]
     },
     "metadata": {},
     "output_type": "display_data"
    },
    {
     "data": {
      "application/vnd.jupyter.widget-view+json": {
       "model_id": "dff16ac179a04498a2de0b8223c74eed",
       "version_major": 2,
       "version_minor": 0
      },
      "text/plain": [
       "   0%|          |00:00<?"
      ]
     },
     "metadata": {},
     "output_type": "display_data"
    },
    {
     "name": "stdout",
     "output_type": "stream",
     "text": [
      "Is model identifiable? True\n",
      "\n",
      "Model results : \n",
      "GN\n",
      "log-likelihood = -10509.5818\n",
      "number of free parameters = 39\n",
      "========================================================================\n",
      "edge          parent    length     A>C     A>G     A>T      C>A      C>G\n",
      "------------------------------------------------------------------------\n",
      "Chimpanzee    root        0.00    0.00    0.00    0.00     0.00     0.01\n",
      "Human         root        0.00    0.00    0.00    0.00     0.00     0.00\n",
      "Gorilla       root        0.00    0.00    0.00    0.00    24.39    24.40\n",
      "------------------------------------------------------------------------\n",
      "\n",
      "continued: \n",
      "===============================================\n",
      "  C>T      G>A     G>C     G>T     T>A      T>C\n",
      "-----------------------------------------------\n",
      "24.20     0.00    0.00    0.00    0.00    49.99\n",
      "11.92     0.00    0.00    0.00    0.00    50.00\n",
      "24.41    29.23    0.00    0.00    0.00    50.00\n",
      "-----------------------------------------------\n",
      "\n",
      "============================\n",
      "   A       C       G       T\n",
      "----------------------------\n",
      "0.16    0.36    0.30    0.17\n",
      "----------------------------\n",
      "\n",
      "Distances: {'Chimpanzee': np.float64(1.0000010439685595e-06), 'Human': np.float64(1.0000001623499753e-06), 'Gorilla': np.float64(0.000634438060233341)}\n"
     ]
    }
   ],
   "source": [
    "#Get distances of concatenated sequences \n",
    "#time_het=max sets a 36 params substitution model\n",
    "sm = get_app(\"model\", \"GN\", time_het=\"max\", optimise_motif_probs=True, show_progress=True)\n",
    "result_ffold = sm(ffold_alns)\n",
    "checked = checker(result_ffold)\n",
    "lengthstree = result_ffold.lf.get_lengths_as_ens()\n",
    "print(\"Is model identifiable? \" + str(checked.is_identifiable) + \"\\n\")\n",
    "print(\"Model results : \\n\" + str(result_ffold.lf) + \"\\n\")\n",
    "print(\"Distances: \" + str(lengthstree))"
   ]
  }
 ],
 "metadata": {
  "kernelspec": {
   "display_name": "delme",
   "language": "python",
   "name": "python3"
  },
  "language_info": {
   "codemirror_mode": {
    "name": "ipython",
    "version": 3
   },
   "file_extension": ".py",
   "mimetype": "text/x-python",
   "name": "python",
   "nbconvert_exporter": "python",
   "pygments_lexer": "ipython3",
   "version": "3.13.7"
  },
  "orig_nbformat": 4
 },
 "nbformat": 4,
 "nbformat_minor": 2
}

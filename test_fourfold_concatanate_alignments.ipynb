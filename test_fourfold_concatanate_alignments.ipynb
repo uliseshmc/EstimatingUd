{
 "cells": [
  {
   "cell_type": "code",
   "execution_count": 1,
   "metadata": {},
   "outputs": [],
   "source": [
    "import cogent3\n",
    "from cogent3 import load_unaligned_seqs\n",
    "from cogent3 import get_app\n",
    "from cogent3 import make_aligned_seqs\n",
    "from os import listdir\n",
    "from os.path import isfile, join"
   ]
  },
  {
   "cell_type": "code",
   "execution_count": 2,
   "metadata": {},
   "outputs": [],
   "source": [
    "concat_alns_app = get_app(\"concat\", moltype=\"dna\")\n",
    "codon_align = get_app(\"progressive_align\", \"nucleotide\", guide_tree=\"(Human:0.06,Chimpanzee:0.06,Gorilla:0.1)\")\n",
    "ffold = get_app(\"take_codon_positions\", fourfold_degenerate=True)"
   ]
  },
  {
   "cell_type": "code",
   "execution_count": 3,
   "metadata": {},
   "outputs": [],
   "source": [
    "#store all the alignments on onlyfiles list\n",
    "folder = '/xdisk/masel/uliseshmc/EstimatingUd/primates10_112/aligns_ortho/'\n",
    "onlyfiles = [f for f in listdir(folder) if isfile(join(folder, f))]    \n",
    "\n",
    "#I want to reach the next line. Before I have to construct an auxilliary function that removes orthologs where one of the species is missing\n",
    "#for i in range(0, len(onlyfiles)):\n",
    "for i in range(0, 5):\n",
    "    #Read alignments\n",
    "    aln = load_unaligned_seqs(folder + onlyfiles[i], moltype='dna')\n",
    "    aln = aln.rename_seqs(lambda x: x.split(\"-\")[0])\n",
    "\n",
    "    #Rename alignments rows\n",
    "    hcm = aln.take_seqs([\"homo_sapiens\", \"pan_troglodytes\", \"gorilla_gorilla\"]).degap()\n",
    "    name_map = {\n",
    "        \"homo_sapiens\": \"Human\",\n",
    "        \"pan_troglodytes\": \"Chimpanzee\",\n",
    "        \"gorilla_gorilla\": \"Gorilla\"\n",
    "    }\n",
    "    #auxilliary function to rename sequences\n",
    "    def renamer(name):\n",
    "        return name_map.get(name, name)\n",
    "\n",
    "    hcm = hcm.rename_seqs(renamer)\n",
    "    hcm\n",
    "\n",
    "    #Doing nucleotide model meanwhile. I got to change this for codon eventually\n",
    "    aln_codonaligned = codon_align(hcm)\n",
    "\n",
    "    #Extract four fold sites\n",
    "    #Do I need omit_gap_pos() or degap()\n",
    "    aln_ffold = ffold(aln_codonaligned).omit_gap_pos()\n",
    "\n",
    "    if i==0:\n",
    "        concat_aln = aln_ffold\n",
    "    else:\n",
    "        concat_aln = concat_alns_app([concat_aln, aln_ffold])"
   ]
  },
  {
   "cell_type": "code",
   "execution_count": 4,
   "metadata": {},
   "outputs": [
    {
     "data": {
      "application/vnd.jupyter.widget-view+json": {
       "model_id": "0be88ad9871f44d7b00e266ae66d08f7",
       "version_major": 2,
       "version_minor": 0
      },
      "text/plain": [
       "   0%|          |00:00<?"
      ]
     },
     "metadata": {},
     "output_type": "display_data"
    },
    {
     "data": {
      "application/vnd.jupyter.widget-view+json": {
       "model_id": "9c9bf49bf25943798e1594a9ebd45ffc",
       "version_major": 2,
       "version_minor": 0
      },
      "text/plain": [
       "   0%|          |00:00<?"
      ]
     },
     "metadata": {},
     "output_type": "display_data"
    },
    {
     "data": {
      "text/plain": [
       "{'Chimpanzee': np.float64(9.999983869577135e-07),\n",
       " 'Gorilla': np.float64(1.0000069447833995e-06),\n",
       " 'Human': np.float64(9.999983428411142e-07)}"
      ]
     },
     "execution_count": 4,
     "metadata": {},
     "output_type": "execute_result"
    }
   ],
   "source": [
    "#Get distances of concatenated sequences \n",
    "sm = get_app(\"model\", \"GN\", time_het=\"max\", optimise_motif_probs=True, show_progress=True)\n",
    "result = sm(concat_aln)\n",
    "lengthstree = result.lf.get_lengths_as_ens()\n",
    "lengthstree"
   ]
  }
 ],
 "metadata": {
  "kernelspec": {
   "display_name": "Python 3.10.16 ('EstimatingUd')",
   "language": "python",
   "name": "python3"
  },
  "language_info": {
   "codemirror_mode": {
    "name": "ipython",
    "version": 3
   },
   "file_extension": ".py",
   "mimetype": "text/x-python",
   "name": "python",
   "nbconvert_exporter": "python",
   "pygments_lexer": "ipython3",
   "version": "3.10.16"
  },
  "orig_nbformat": 4,
  "vscode": {
   "interpreter": {
    "hash": "53a0ee2834e5a3220609a583c5db6d166b18855c93dee771c0346263a6405663"
   }
  }
 },
 "nbformat": 4,
 "nbformat_minor": 2
}

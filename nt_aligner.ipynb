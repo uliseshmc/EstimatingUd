{
 "cells": [
  {
   "cell_type": "code",
   "execution_count": 1,
   "metadata": {},
   "outputs": [],
   "source": [
    "import cogent3\n",
    "from cogent3 import get_app\n",
    "import libs\n",
    "import paths"
   ]
  },
  {
   "cell_type": "code",
   "execution_count": 2,
   "metadata": {},
   "outputs": [
    {
     "name": "stdout",
     "output_type": "stream",
     "text": [
      "Directory datastore\n",
      "=======================\n",
      "record type      number\n",
      "-----------------------\n",
      "completed           543\n",
      "not_completed         0\n",
      "logs                  1\n",
      "-----------------------\n"
     ]
    }
   ],
   "source": [
    "#set folders to read and export data\n",
    "folder_in = paths.DATA_APES114 + 'introns/'\n",
    "folder_out = paths.DATA_APES114 + 'introns/nt_aligned'\n",
    "\n",
    "in_dstore = cogent3.open_data_store(folder_in, suffix='fa', mode='r')\n",
    "out_dstore = cogent3.open_data_store(folder_out, suffix='fa', mode=\"w\")\n",
    "\n",
    "print(in_dstore.describe)"
   ]
  },
  {
   "cell_type": "code",
   "execution_count": 3,
   "metadata": {},
   "outputs": [
    {
     "name": "stderr",
     "output_type": "stream",
     "text": [
      "/home/u12/uliseshmc/.conda/envs/delme/lib/python3.13/site-packages/cogent3/util/warning.py:134: DeprecationWarning: argument format which will be removed in version 2025.9, use format_name instead\n",
      "reason='no longer has an effect'\n",
      "  deprecated(\n"
     ]
    },
    {
     "data": {
      "text/html": [
       "<style>\n",
       ".c3align table {margin: 10px 0;}\n",
       ".c3align td { border: none !important; text-align: left !important; }\n",
       ".c3align tr:not(.num_row) td span {margin: 0 2px;}\n",
       ".c3align tr:nth-child(even) {background: #f7f7f7;}\n",
       ".c3align .num_row {background-color:rgba(161, 195, 209, 0.5) !important; border-top: solid 1px black; }\n",
       ".c3align .label { font-size: 12pt ; text-align: right !important; color: black !important; padding: 0 4px; display: table-cell !important; font-weight: normal !important; }\n",
       ".c3align .T_dna{font-family: \"Lucida Console\",monospace !important; font-size: 12pt !important; color: blue; }\n",
       ".c3align .C_dna{font-family: \"Lucida Console\",monospace !important; font-size: 12pt !important; color: black; }\n",
       ".c3align .A_dna{font-family: \"Lucida Console\",monospace !important; font-size: 12pt !important; color: #FF0102; }\n",
       ".c3align .G_dna{font-family: \"Lucida Console\",monospace !important; font-size: 12pt !important; color: green; }\n",
       ".c3align .terminal_ambig_dna{font-family: \"Lucida Console\",monospace !important; font-size: 12pt !important; color: gray; }\n",
       ".c3align .ambig_dna{font-family: \"Lucida Console\",monospace !important; font-size: 12pt !important; color: gray; }\n",
       "</style>\n",
       "<div class=\"c3align\">\n",
       "<table>\n",
       "<tr class=\"num_row\"><td></td><td><b>0</b></td></tr>\n",
       "<tr><td class=\"label\">Human</td><td><span class=\"A_dna\">A</span><span class=\"G_dna\">G</span><span class=\"G_dna\">G</span><span class=\"T_dna\">T</span><span class=\"C_dna\">C</span><span class=\"terminal_ambig_dna\">-</span><span class=\"terminal_ambig_dna\">-</span><span class=\"terminal_ambig_dna\">-</span><span class=\"terminal_ambig_dna\">-</span><span class=\"terminal_ambig_dna\">-</span><span class=\"terminal_ambig_dna\">-</span><span class=\"terminal_ambig_dna\">-</span><span class=\"terminal_ambig_dna\">-</span><span class=\"terminal_ambig_dna\">-</span><span class=\"terminal_ambig_dna\">-</span><span class=\"terminal_ambig_dna\">-</span><span class=\"terminal_ambig_dna\">-</span><span class=\"terminal_ambig_dna\">-</span><span class=\"terminal_ambig_dna\">-</span><span class=\"terminal_ambig_dna\">-</span><span class=\"terminal_ambig_dna\">-</span><span class=\"terminal_ambig_dna\">-</span><span class=\"terminal_ambig_dna\">-</span><span class=\"terminal_ambig_dna\">-</span><span class=\"terminal_ambig_dna\">-</span><span class=\"terminal_ambig_dna\">-</span><span class=\"terminal_ambig_dna\">-</span><span class=\"terminal_ambig_dna\">-</span><span class=\"terminal_ambig_dna\">-</span><span class=\"terminal_ambig_dna\">-</span><span class=\"terminal_ambig_dna\">-</span><span class=\"terminal_ambig_dna\">-</span><span class=\"terminal_ambig_dna\">-</span><span class=\"terminal_ambig_dna\">-</span><span class=\"terminal_ambig_dna\">-</span><span class=\"terminal_ambig_dna\">-</span><span class=\"terminal_ambig_dna\">-</span><span class=\"terminal_ambig_dna\">-</span><span class=\"terminal_ambig_dna\">-</span><span class=\"terminal_ambig_dna\">-</span><span class=\"terminal_ambig_dna\">-</span><span class=\"terminal_ambig_dna\">-</span><span class=\"terminal_ambig_dna\">-</span><span class=\"terminal_ambig_dna\">-</span><span class=\"terminal_ambig_dna\">-</span><span class=\"terminal_ambig_dna\">-</span><span class=\"terminal_ambig_dna\">-</span><span class=\"terminal_ambig_dna\">-</span><span class=\"terminal_ambig_dna\">-</span><span class=\"terminal_ambig_dna\">-</span><span class=\"terminal_ambig_dna\">-</span><span class=\"terminal_ambig_dna\">-</span><span class=\"terminal_ambig_dna\">-</span><span class=\"terminal_ambig_dna\">-</span><span class=\"terminal_ambig_dna\">-</span><span class=\"terminal_ambig_dna\">-</span><span class=\"terminal_ambig_dna\">-</span><span class=\"terminal_ambig_dna\">-</span><span class=\"terminal_ambig_dna\">-</span><span class=\"terminal_ambig_dna\">-</span></td></tr>\n",
       "<tr><td class=\"label\">Chimpanzee</td><td><span class=\"A_dna\">A</span><span class=\"G_dna\">G</span><span class=\"G_dna\">G</span><span class=\"T_dna\">T</span><span class=\"C_dna\">C</span><span class=\"terminal_ambig_dna\">-</span><span class=\"terminal_ambig_dna\">-</span><span class=\"terminal_ambig_dna\">-</span><span class=\"terminal_ambig_dna\">-</span><span class=\"terminal_ambig_dna\">-</span><span class=\"terminal_ambig_dna\">-</span><span class=\"terminal_ambig_dna\">-</span><span class=\"terminal_ambig_dna\">-</span><span class=\"terminal_ambig_dna\">-</span><span class=\"terminal_ambig_dna\">-</span><span class=\"terminal_ambig_dna\">-</span><span class=\"terminal_ambig_dna\">-</span><span class=\"terminal_ambig_dna\">-</span><span class=\"terminal_ambig_dna\">-</span><span class=\"terminal_ambig_dna\">-</span><span class=\"terminal_ambig_dna\">-</span><span class=\"terminal_ambig_dna\">-</span><span class=\"terminal_ambig_dna\">-</span><span class=\"terminal_ambig_dna\">-</span><span class=\"terminal_ambig_dna\">-</span><span class=\"terminal_ambig_dna\">-</span><span class=\"terminal_ambig_dna\">-</span><span class=\"terminal_ambig_dna\">-</span><span class=\"terminal_ambig_dna\">-</span><span class=\"terminal_ambig_dna\">-</span><span class=\"terminal_ambig_dna\">-</span><span class=\"terminal_ambig_dna\">-</span><span class=\"terminal_ambig_dna\">-</span><span class=\"terminal_ambig_dna\">-</span><span class=\"terminal_ambig_dna\">-</span><span class=\"terminal_ambig_dna\">-</span><span class=\"terminal_ambig_dna\">-</span><span class=\"terminal_ambig_dna\">-</span><span class=\"terminal_ambig_dna\">-</span><span class=\"terminal_ambig_dna\">-</span><span class=\"terminal_ambig_dna\">-</span><span class=\"terminal_ambig_dna\">-</span><span class=\"terminal_ambig_dna\">-</span><span class=\"terminal_ambig_dna\">-</span><span class=\"terminal_ambig_dna\">-</span><span class=\"terminal_ambig_dna\">-</span><span class=\"terminal_ambig_dna\">-</span><span class=\"terminal_ambig_dna\">-</span><span class=\"terminal_ambig_dna\">-</span><span class=\"terminal_ambig_dna\">-</span><span class=\"terminal_ambig_dna\">-</span><span class=\"terminal_ambig_dna\">-</span><span class=\"terminal_ambig_dna\">-</span><span class=\"terminal_ambig_dna\">-</span><span class=\"terminal_ambig_dna\">-</span><span class=\"terminal_ambig_dna\">-</span><span class=\"terminal_ambig_dna\">-</span><span class=\"terminal_ambig_dna\">-</span><span class=\"terminal_ambig_dna\">-</span><span class=\"terminal_ambig_dna\">-</span></td></tr>\n",
       "<tr><td class=\"label\">Gorilla</td><td><span class=\"A_dna\">A</span><span class=\"G_dna\">G</span><span class=\"G_dna\">G</span><span class=\"T_dna\">T</span><span class=\"C_dna\">C</span><span class=\"terminal_ambig_dna\">-</span><span class=\"terminal_ambig_dna\">-</span><span class=\"terminal_ambig_dna\">-</span><span class=\"terminal_ambig_dna\">-</span><span class=\"terminal_ambig_dna\">-</span><span class=\"terminal_ambig_dna\">-</span><span class=\"terminal_ambig_dna\">-</span><span class=\"terminal_ambig_dna\">-</span><span class=\"terminal_ambig_dna\">-</span><span class=\"terminal_ambig_dna\">-</span><span class=\"terminal_ambig_dna\">-</span><span class=\"terminal_ambig_dna\">-</span><span class=\"terminal_ambig_dna\">-</span><span class=\"terminal_ambig_dna\">-</span><span class=\"terminal_ambig_dna\">-</span><span class=\"terminal_ambig_dna\">-</span><span class=\"terminal_ambig_dna\">-</span><span class=\"terminal_ambig_dna\">-</span><span class=\"terminal_ambig_dna\">-</span><span class=\"terminal_ambig_dna\">-</span><span class=\"terminal_ambig_dna\">-</span><span class=\"terminal_ambig_dna\">-</span><span class=\"terminal_ambig_dna\">-</span><span class=\"terminal_ambig_dna\">-</span><span class=\"terminal_ambig_dna\">-</span><span class=\"terminal_ambig_dna\">-</span><span class=\"terminal_ambig_dna\">-</span><span class=\"terminal_ambig_dna\">-</span><span class=\"terminal_ambig_dna\">-</span><span class=\"terminal_ambig_dna\">-</span><span class=\"terminal_ambig_dna\">-</span><span class=\"terminal_ambig_dna\">-</span><span class=\"terminal_ambig_dna\">-</span><span class=\"terminal_ambig_dna\">-</span><span class=\"terminal_ambig_dna\">-</span><span class=\"terminal_ambig_dna\">-</span><span class=\"terminal_ambig_dna\">-</span><span class=\"terminal_ambig_dna\">-</span><span class=\"terminal_ambig_dna\">-</span><span class=\"terminal_ambig_dna\">-</span><span class=\"terminal_ambig_dna\">-</span><span class=\"terminal_ambig_dna\">-</span><span class=\"terminal_ambig_dna\">-</span><span class=\"terminal_ambig_dna\">-</span><span class=\"terminal_ambig_dna\">-</span><span class=\"terminal_ambig_dna\">-</span><span class=\"terminal_ambig_dna\">-</span><span class=\"terminal_ambig_dna\">-</span><span class=\"terminal_ambig_dna\">-</span><span class=\"terminal_ambig_dna\">-</span><span class=\"terminal_ambig_dna\">-</span><span class=\"terminal_ambig_dna\">-</span><span class=\"terminal_ambig_dna\">-</span><span class=\"terminal_ambig_dna\">-</span><span class=\"terminal_ambig_dna\">-</span></td></tr>\n",
       "</table>\n",
       "<p><i>3 x {min=35699, median=35699.0, max=35699} dna sequence collection</i></p>\n",
       "</div>"
      ],
      "text/plain": [
       "3x dna seqcollection: (Human[AGGTC-----...], ..., Gorilla[AGGTC-----...])"
      ]
     },
     "execution_count": 3,
     "metadata": {},
     "output_type": "execute_result"
    }
   ],
   "source": [
    "from cogent3 import load_unaligned_seqs\n",
    "from cogent3 import load_aligned_seqs\n",
    "\n",
    "\n",
    "sequence = 'ENSG00000100373.fa'\n",
    "\n",
    "aln = load_unaligned_seqs(filename = folder_in + sequence, format=\"fasta\", moltype='dna')\n",
    "rename = libs.temp_renamer_unaligned_noncds()\n",
    "\n",
    "rename(aln)"
   ]
  },
  {
   "cell_type": "code",
   "execution_count": 4,
   "metadata": {},
   "outputs": [
    {
     "data": {
      "application/vnd.jupyter.widget-view+json": {
       "model_id": "820db5ec7e9249419bc0e6823c605847",
       "version_major": 2,
       "version_minor": 0
      },
      "text/plain": [
       "   0%|          |00:00<?"
      ]
     },
     "metadata": {},
     "output_type": "display_data"
    },
    {
     "name": "stdout",
     "output_type": "stream",
     "text": [
      "Directory datastore\n",
      "=======================\n",
      "record type      number\n",
      "-----------------------\n",
      "completed           410\n",
      "not_completed       133\n",
      "logs                  1\n",
      "-----------------------\n"
     ]
    },
    {
     "data": {
      "text/html": [
       "\n",
       "<div class=\"c3table\">\n",
       "\n",
       "<style>\n",
       ".c3table table {margin: 10px 0;}\n",
       ".c3table tr:last-child {border-bottom: 1px solid #000;} \n",
       ".c3table tr > th {text-align: left; padding: 0 5px;}\n",
       ".c3table tr > td {text-align: left; padding: 5px;}\n",
       ".c3table tr:nth-child(even) {background: #f7f7f7 !important;}\n",
       ".c3table .ellipsis {background: rgba(0, 0, 0, .01);}\n",
       ".c3table .index {background: rgba(161, 195, 209, 0.0); margin: 10px; font-weight: 600;}\n",
       ".c3table .head_cell {background: rgba(161, 195, 209, 0.75); font-weight: bold; text-align: center;}\n",
       ".c3table caption {color: rgb(250, 250, 250); background: rgba(30, 140, 200, 1); padding: 3px; white-space: nowrap; caption-side: top;}\n",
       ".c3table .cell_title {font-weight: bold;}\n",
       ".c3col_left { text-align: left !important; display: block;}\n",
       ".c3col_right { text-align: right !important; display: block;}\n",
       ".c3col_center { text-align: center !important; display: block;}\n",
       "</style>\n",
       "\n",
       "<table>\n",
       "\n",
       "<caption>\n",
       "<span class=\"cell_title\">not completed records</span>\n",
       "</caption>\n",
       "<thead class=\"head_cell\">\n",
       "<th>type</th><th>origin</th><th>message</th><th>num</th><th>source</th>\n",
       "</thead>\n",
       "<tbody>\n",
       "<tr><td><span class=\"c3col_left\">ERROR</span></td><td><span class=\"c3col_left\">temp_renamer_unaligned_noncds</span></td><td><span class=\"c3col_left\">'ValueError: non-uniq...> at 0x7f92fae2a3e0>'</span></td><td><span class=\"c3col_right\">106</span></td><td><span class=\"c3col_left\">ENSG00000183785-1.fa, ENSG00000100359-0.fa, ...</span></td></tr>\n",
       "<tr><td><span class=\"c3col_left\">ERROR</span></td><td><span class=\"c3col_left\">progressive_align</span></td><td><span class=\"c3col_left\">'LocalError: cannot a... input of shape (5,)'</span></td><td><span class=\"c3col_right\">25</span></td><td><span class=\"c3col_left\">ENSG00000100197.fa, ENSG00000099977.fa, ...</span></td></tr>\n",
       "<tr><td><span class=\"c3col_left\">ERROR</span></td><td><span class=\"c3col_left\">load_unaligned</span></td><td><span class=\"c3col_left\">'ValueError: data mus... least one sequence.'</span></td><td><span class=\"c3col_right\">2</span></td><td><span class=\"c3col_left\">ENSG00000286175.fa, ENSG00000128185.fa</span></td></tr>\n",
       "</tbody>\n",
       "</table>\n",
       "<p>\n",
       "3 rows x 5 columns</p>\n",
       "</div>"
      ],
      "text/plain": [
       "not completed records\n",
       "=================================================================================================================================================\n",
       "type     origin                           message                                          num    source                                         \n",
       "-------------------------------------------------------------------------------------------------------------------------------------------------\n",
       "ERROR    temp_renamer_unaligned_noncds    'ValueError: non-uniq...> at 0x7f92fae2a3e0>'    106    ENSG00000183785-1.fa, ENSG00000100359-0.fa, ...\n",
       "ERROR    progressive_align                'LocalError: cannot a... input of shape (5,)'     25    ENSG00000100197.fa, ENSG00000099977.fa, ...    \n",
       "ERROR    load_unaligned                   'ValueError: data mus... least one sequence.'      2    ENSG00000286175.fa, ENSG00000128185.fa         \n",
       "-------------------------------------------------------------------------------------------------------------------------------------------------\n",
       "\n",
       "3 rows x 5 columns"
      ]
     },
     "execution_count": 4,
     "metadata": {},
     "output_type": "execute_result"
    }
   ],
   "source": [
    "#perform a codon alignment and remove stop codons\n",
    "loader = get_app(\"load_unaligned\", moltype=\"dna\")\n",
    "rename = libs.temp_renamer_unaligned_noncds()\n",
    "#why do I trim stop codons? Does this mean that the stop codon is ereased and the rest of the sequence is still analyzed\n",
    "nt_align = get_app(\"progressive_align\", \"nucleotide\", guide_tree=\"(Human:0.06,Chimpanzee:0.06,Gorilla:0.1)\")\n",
    "writer = get_app(\"write_seqs\", data_store = out_dstore)\n",
    "app = loader + rename + nt_align + writer\n",
    "\n",
    "#underscore is to specify a variable we are not gonna use later\n",
    "#By using this renamer function I throw away sequences with paralogs\n",
    "_ = list(app.apply_to(in_dstore[:], parallel = True, show_progress=True))\n",
    "print(out_dstore.describe)\n",
    "out_dstore.summary_not_completed"
   ]
  },
  {
   "cell_type": "code",
   "execution_count": 5,
   "metadata": {},
   "outputs": [
    {
     "name": "stdout",
     "output_type": "stream",
     "text": [
      "Directory datastore\n",
      "=======================\n",
      "record type      number\n",
      "-----------------------\n",
      "completed           553\n",
      "not_completed         0\n",
      "logs                  1\n",
      "-----------------------\n"
     ]
    }
   ],
   "source": [
    "#set folders to read and export data\n",
    "folder_in = paths.DATA_APES114 + 'intronsAR/'\n",
    "folder_out = paths.DATA_APES114 + 'intronsAR/nt_aligned'\n",
    "\n",
    "in_dstore = cogent3.open_data_store(folder_in, suffix='fa', mode='r')\n",
    "out_dstore = cogent3.open_data_store(folder_out, suffix='fa', mode=\"w\")\n",
    "\n",
    "print(in_dstore.describe)"
   ]
  },
  {
   "cell_type": "code",
   "execution_count": 6,
   "metadata": {},
   "outputs": [
    {
     "data": {
      "application/vnd.jupyter.widget-view+json": {
       "model_id": "641f8eec13754258a63dc856586b799e",
       "version_major": 2,
       "version_minor": 0
      },
      "text/plain": [
       "   0%|          |00:00<?"
      ]
     },
     "metadata": {},
     "output_type": "display_data"
    },
    {
     "name": "stderr",
     "output_type": "stream",
     "text": [
      "Exception ignored in: <function tqdm.__del__ at 0x7f7a5007f1a0>\n",
      "Traceback (most recent call last):\n",
      "  File \"/home/u12/uliseshmc/.conda/envs/delme/lib/python3.13/site-packages/tqdm/std.py\", line 1148, in __del__\n",
      "    self.close()\n",
      "  File \"/home/u12/uliseshmc/.conda/envs/delme/lib/python3.13/site-packages/tqdm/notebook.py\", line 282, in close\n",
      "    self.disp(bar_style='success', check_delay=False)\n",
      "  File \"/home/u12/uliseshmc/.conda/envs/delme/lib/python3.13/site-packages/tqdm/notebook.py\", line 171, in display\n",
      "    rtext.value = right\n",
      "  File \"/home/u12/uliseshmc/.conda/envs/delme/lib/python3.13/site-packages/traitlets/traitlets.py\", line 716, in __set__\n",
      "    self.set(obj, value)\n",
      "  File \"/home/u12/uliseshmc/.conda/envs/delme/lib/python3.13/site-packages/traitlets/traitlets.py\", line 706, in set\n",
      "    obj._notify_trait(self.name, old_value, new_value)\n",
      "  File \"/home/u12/uliseshmc/.conda/envs/delme/lib/python3.13/site-packages/traitlets/traitlets.py\", line 1513, in _notify_trait\n",
      "    self.notify_change(\n",
      "  File \"/home/u12/uliseshmc/.conda/envs/delme/lib/python3.13/site-packages/ipywidgets/widgets/widget.py\", line 700, in notify_change\n",
      "    self.send_state(key=name)\n",
      "  File \"/home/u12/uliseshmc/.conda/envs/delme/lib/python3.13/site-packages/ipywidgets/widgets/widget.py\", line 586, in send_state\n",
      "    self._send(msg, buffers=buffers)\n",
      "  File \"/home/u12/uliseshmc/.conda/envs/delme/lib/python3.13/site-packages/ipywidgets/widgets/widget.py\", line 825, in _send\n",
      "    self.comm.send(data=msg, buffers=buffers)\n",
      "  File \"/home/u12/uliseshmc/.conda/envs/delme/lib/python3.13/site-packages/comm/base_comm.py\", line 144, in send\n",
      "    self.publish_msg(\n",
      "  File \"/home/u12/uliseshmc/.conda/envs/delme/lib/python3.13/site-packages/ipykernel/comm/comm.py\", line 42, in publish_msg\n",
      "    parent=self.kernel.get_parent(),\n",
      "  File \"/home/u12/uliseshmc/.conda/envs/delme/lib/python3.13/site-packages/ipykernel/kernelbase.py\", line 797, in get_parent\n",
      "    return self._shell_parent.get()\n",
      "LookupError: <ContextVar name='shell_parent' at 0x7f7a74c893a0>\n"
     ]
    },
    {
     "name": "stdout",
     "output_type": "stream",
     "text": [
      "Directory datastore\n",
      "=======================\n",
      "record type      number\n",
      "-----------------------\n",
      "completed           422\n",
      "not_completed       131\n",
      "logs                  1\n",
      "-----------------------\n"
     ]
    },
    {
     "data": {
      "text/html": [
       "\n",
       "<div class=\"c3table\">\n",
       "\n",
       "<style>\n",
       ".c3table table {margin: 10px 0;}\n",
       ".c3table tr:last-child {border-bottom: 1px solid #000;} \n",
       ".c3table tr > th {text-align: left; padding: 0 5px;}\n",
       ".c3table tr > td {text-align: left; padding: 5px;}\n",
       ".c3table tr:nth-child(even) {background: #f7f7f7 !important;}\n",
       ".c3table .ellipsis {background: rgba(0, 0, 0, .01);}\n",
       ".c3table .index {background: rgba(161, 195, 209, 0.0); margin: 10px; font-weight: 600;}\n",
       ".c3table .head_cell {background: rgba(161, 195, 209, 0.75); font-weight: bold; text-align: center;}\n",
       ".c3table caption {color: rgb(250, 250, 250); background: rgba(30, 140, 200, 1); padding: 3px; white-space: nowrap; caption-side: top;}\n",
       ".c3table .cell_title {font-weight: bold;}\n",
       ".c3col_left { text-align: left !important; display: block;}\n",
       ".c3col_right { text-align: right !important; display: block;}\n",
       ".c3col_center { text-align: center !important; display: block;}\n",
       "</style>\n",
       "\n",
       "<table>\n",
       "\n",
       "<caption>\n",
       "<span class=\"cell_title\">not completed records</span>\n",
       "</caption>\n",
       "<thead class=\"head_cell\">\n",
       "<th>type</th><th>origin</th><th>message</th><th>num</th><th>source</th>\n",
       "</thead>\n",
       "<tbody>\n",
       "<tr><td><span class=\"c3col_left\">ERROR</span></td><td><span class=\"c3col_left\">temp_renamer_unaligned_noncds</span></td><td><span class=\"c3col_left\">'ValueError: non-uniq...> at 0x7f86fa2cca40>'</span></td><td><span class=\"c3col_right\">110</span></td><td><span class=\"c3col_left\">ENSG00000100426-0.fa, ENSG00000100359-0.fa, ...</span></td></tr>\n",
       "<tr><td><span class=\"c3col_left\">ERROR</span></td><td><span class=\"c3col_left\">load_unaligned</span></td><td><span class=\"c3col_left\">'ValueError: data mus... least one sequence.'</span></td><td><span class=\"c3col_right\">6</span></td><td><span class=\"c3col_left\">ENSG00000274600-1.fa, ENSG00000283809-0.fa, ...</span></td></tr>\n",
       "<tr><td><span class=\"c3col_left\">ERROR</span></td><td><span class=\"c3col_left\">progressive_align</span></td><td><span class=\"c3col_left\">'cannot assign slice ...nput of shape (210,)'</span></td><td><span class=\"c3col_right\">15</span></td><td><span class=\"c3col_left\">ENSG00000100197.fa, ENSG00000100342.fa, ...</span></td></tr>\n",
       "</tbody>\n",
       "</table>\n",
       "<p>\n",
       "3 rows x 5 columns</p>\n",
       "</div>"
      ],
      "text/plain": [
       "not completed records\n",
       "=================================================================================================================================================\n",
       "type     origin                           message                                          num    source                                         \n",
       "-------------------------------------------------------------------------------------------------------------------------------------------------\n",
       "ERROR    temp_renamer_unaligned_noncds    'ValueError: non-uniq...> at 0x7f86fa2cca40>'    110    ENSG00000100426-0.fa, ENSG00000100359-0.fa, ...\n",
       "ERROR    load_unaligned                   'ValueError: data mus... least one sequence.'      6    ENSG00000274600-1.fa, ENSG00000283809-0.fa, ...\n",
       "ERROR    progressive_align                'cannot assign slice ...nput of shape (210,)'     15    ENSG00000100197.fa, ENSG00000100342.fa, ...    \n",
       "-------------------------------------------------------------------------------------------------------------------------------------------------\n",
       "\n",
       "3 rows x 5 columns"
      ]
     },
     "execution_count": 6,
     "metadata": {},
     "output_type": "execute_result"
    }
   ],
   "source": [
    "#perform a codon alignment and remove stop codons\n",
    "loader2 = get_app(\"load_unaligned\", moltype=\"dna\")\n",
    "rename2 = libs.temp_renamer_unaligned_noncds()\n",
    "#why do I trim stop codons? Does this mean that the stop codon is ereased and the rest of the sequence is still analyzed\n",
    "nt_align2 = get_app(\"progressive_align\", \"nucleotide\", guide_tree=\"(Human:0.06,Chimpanzee:0.06,Gorilla:0.1)\")\n",
    "writer2 = get_app(\"write_seqs\", data_store = out_dstore)\n",
    "app2 = loader2 + rename2 + nt_align2 + writer2\n",
    "\n",
    "#underscore is to specify a variable we are not gonna use later\n",
    "#By using this renamer function I throw away sequences with paralogs\n",
    "_ = list(app2.apply_to(in_dstore[:], parallel = True, show_progress=True))\n",
    "print(out_dstore.describe)\n",
    "out_dstore.summary_not_completed"
   ]
  },
  {
   "cell_type": "code",
   "execution_count": null,
   "metadata": {},
   "outputs": [],
   "source": [
    "#set folders to read and export data\n",
    "folder_in = paths.DATA_APES114 + 'intergenic/'\n",
    "folder_out = paths.DATA_APES114 + 'intergenic/nt_aligned'\n",
    "\n",
    "in_dstore = cogent3.open_data_store(folder_in, suffix='fa', mode='r')\n",
    "out_dstore = cogent3.open_data_store(folder_out, suffix='fa', mode=\"w\")\n",
    "\n",
    "print(in_dstore.describe)"
   ]
  },
  {
   "cell_type": "code",
   "execution_count": null,
   "metadata": {},
   "outputs": [],
   "source": [
    "#perform a codon alignment and remove stop codons\n",
    "loader3 = get_app(\"load_unaligned\", moltype=\"dna\")\n",
    "rename3 = libs.temp_renamer_unaligned_noncds()\n",
    "#why do I trim stop codons? Does this mean that the stop codon is ereased and the rest of the sequence is still analyzed\n",
    "nt_align3 = get_app(\"progressive_align\", \"nucleotide\", guide_tree=\"(Human:0.06,Chimpanzee:0.06,Gorilla:0.1)\")\n",
    "writer3 = get_app(\"write_seqs\", data_store = out_dstore)\n",
    "app3 = loader3 + rename3 + nt_align3 + writer3\n",
    "\n",
    "#underscore is to specify a variable we are not gonna use later\n",
    "#By using this renamer function I throw away sequences with paralogs\n",
    "_ = list(app3.apply_to(in_dstore[:], parallel = True, show_progress=True))\n",
    "print(out_dstore.describe)\n",
    "out_dstore.summary_not_completed"
   ]
  },
  {
   "cell_type": "code",
   "execution_count": null,
   "metadata": {},
   "outputs": [],
   "source": [
    "#set folders to read and export data\n",
    "folder_in = paths.DATA_APES114 + 'intergenicAR/'\n",
    "folder_out = paths.DATA_APES114 + 'intergenicAR/nt_aligned'\n",
    "\n",
    "in_dstore = cogent3.open_data_store(folder_in, suffix='fa', mode='r')\n",
    "out_dstore = cogent3.open_data_store(folder_out, suffix='fa', mode=\"w\")\n",
    "\n",
    "print(in_dstore.describe)"
   ]
  },
  {
   "cell_type": "code",
   "execution_count": null,
   "metadata": {},
   "outputs": [],
   "source": [
    "#perform a codon alignment and remove stop codons\n",
    "loader3 = get_app(\"load_unaligned\", moltype=\"dna\")\n",
    "rename3 = libs.temp_renamer_unaligned_noncds()\n",
    "#why do I trim stop codons? Does this mean that the stop codon is ereased and the rest of the sequence is still analyzed\n",
    "nt_align3 = get_app(\"progressive_align\", \"nucleotide\", guide_tree=\"(Human:0.06,Chimpanzee:0.06,Gorilla:0.1)\")\n",
    "writer3 = get_app(\"write_seqs\", data_store = out_dstore)\n",
    "app3 = loader3 + rename3 + nt_align3 + writer3\n",
    "\n",
    "#underscore is to specify a variable we are not gonna use later\n",
    "#By using this renamer function I throw away sequences with paralogs\n",
    "_ = list(app3.apply_to(in_dstore[:], parallel = True, show_progress=True))\n",
    "print(out_dstore.describe)\n",
    "out_dstore.summary_not_completed"
   ]
  }
 ],
 "metadata": {
  "kernelspec": {
   "display_name": "delme",
   "language": "python",
   "name": "python3"
  },
  "language_info": {
   "codemirror_mode": {
    "name": "ipython",
    "version": 3
   },
   "file_extension": ".py",
   "mimetype": "text/x-python",
   "name": "python",
   "nbconvert_exporter": "python",
   "pygments_lexer": "ipython3",
   "version": "3.13.7"
  },
  "orig_nbformat": 4
 },
 "nbformat": 4,
 "nbformat_minor": 2
}

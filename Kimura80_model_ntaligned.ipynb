{
 "cells": [
  {
   "cell_type": "code",
   "execution_count": 1,
   "metadata": {},
   "outputs": [],
   "source": [
    "import cogent3\n",
    "from cogent3 import get_app\n",
    "import matplotlib.pyplot as plt\n",
    "import paths\n",
    "import libs"
   ]
  },
  {
   "cell_type": "markdown",
   "metadata": {},
   "source": [
    "# CDS sample alignment\n",
    "\n",
    "I sampled chromosome 22 cds using \n",
    "```\n",
    "eti homologs -i install/ --outdir cds --ref human --coord_names 22 \n",
    "```\n",
    "Then I trim stop codons and use a codon alignment model for all the sequences using\n",
    "```\n",
    "trim_stops = get_app(\"trim_stop_codons\")\n",
    "codon_align = get_app(\"progressive_align\", \"codon\", guide_tree=\"(Human:0.06,Chimpanzee:0.06,Gorilla:0.1)\")\n",
    "```\n",
    "I store the aligned sequences in the folder cds/codon_aligned/"
   ]
  },
  {
   "cell_type": "code",
   "execution_count": 2,
   "metadata": {},
   "outputs": [
    {
     "name": "stdout",
     "output_type": "stream",
     "text": [
      "Directory datastore\n",
      "=======================\n",
      "record type      number\n",
      "-----------------------\n",
      "completed           348\n",
      "not_completed        48\n",
      "logs                  3\n",
      "-----------------------\n"
     ]
    }
   ],
   "source": [
    "folder_in = paths.DATA_APES114 + 'cds/codon_aligned/'\n",
    "in_dstore = cogent3.open_data_store(folder_in, suffix='fa', mode='r')\n",
    "\n",
    "print(in_dstore.describe)"
   ]
  },
  {
   "cell_type": "code",
   "execution_count": 3,
   "metadata": {},
   "outputs": [
    {
     "data": {
      "application/vnd.jupyter.widget-view+json": {
       "model_id": "8a120f2f13144b87adda7bb962128616",
       "version_major": 2,
       "version_minor": 0
      },
      "text/plain": [
       "   0%|          |00:00<?"
      ]
     },
     "metadata": {},
     "output_type": "display_data"
    },
    {
     "data": {
      "application/vnd.jupyter.widget-view+json": {
       "model_id": "eda02c0f8b20473281cf217760f85176",
       "version_major": 2,
       "version_minor": 0
      },
      "text/plain": [
       "   0%|          |00:00<?"
      ]
     },
     "metadata": {},
     "output_type": "display_data"
    },
    {
     "name": "stdout",
     "output_type": "stream",
     "text": [
      "Model results : \n",
      "K80\n",
      "log-likelihood = -791665.0255\n",
      "number of free parameters = 3\n",
      "=====\n",
      "kappa\n",
      "-----\n",
      " 3.46\n",
      "-----\n",
      "==============================\n",
      "edge          parent    length\n",
      "------------------------------\n",
      "Human         root        0.00\n",
      "Chimpanzee    root        0.00\n",
      "------------------------------\n",
      "============================\n",
      "   A       C       G       T\n",
      "----------------------------\n",
      "0.25    0.25    0.25    0.25\n",
      "----------------------------\n",
      "\n",
      "Distances: \n",
      "{'Human': np.float64(0.00015084262330534678), 'Chimpanzee': np.float64(2.6280982611490735e-05)}\n"
     ]
    }
   ],
   "source": [
    "loader = get_app(\"load_aligned\", moltype=\"dna\")   \n",
    "omit_degs = get_app(\"omit_degenerates\", moltype=\"dna\", motif_length=3)\n",
    "concat = get_app(\"concat\", moltype=\"dna\")\n",
    "\n",
    "#create a concatenated alignment with all coding positions\n",
    "allposprocess = loader+omit_degs\n",
    "# result below is only valid alignments (no NotCompleted).\n",
    "results_allpos = [r for r in allposprocess.as_completed(in_dstore[:], parallel=True) if r]\n",
    "alpos_alns = concat(results_allpos)\n",
    "alpos_alns.source = \"cds_alignments\"\n",
    "\n",
    "hum_chimps_aln = alpos_alns.take_seqs([\"Human\", \"Chimpanzee\"])\n",
    "\n",
    "#Do a Kimura 1980 substitution model\n",
    "sm = get_app(\"model\", \"K80\", optimise_motif_probs=True, show_progress=True)\n",
    "result = sm(hum_chimps_aln)\n",
    "print(\"Model results : \\n\" + str(result.lf) + \"\\n\")\n",
    "\n",
    "print(\"Distances: \")\n",
    "lengthstree_pos1 = result.lf.get_lengths_as_ens()\n",
    "humanENS_cds = lengthstree_pos1[\"Human\"]\n",
    "print(lengthstree_pos1)\n"
   ]
  },
  {
   "cell_type": "markdown",
   "metadata": {},
   "source": [
    "# Intron sample alignment\n",
    "\n",
    "I sampled chromosome 22 introns masking ancestral repeats and cds using \n",
    "```\n",
    "eti alignments -i install -od introns --align_name 10_primates* --ref human --mask cds_allAR_1column.txt --coord_names 22 \n",
    "```\n",
    "where cds_allAR_1column.txt is a list containing all the biotypes for ancestral repeats and cds\n",
    "\n",
    "Then I aligned the sequences using\n",
    "\n",
    "```\n",
    "codon_align = get_app(\"progressive_align\", \"nucleotide\", guide_tree=\"(Human:0.06,Chimpanzee:0.06,Gorilla:0.1)\")\n",
    "```"
   ]
  },
  {
   "cell_type": "code",
   "execution_count": 4,
   "metadata": {},
   "outputs": [
    {
     "name": "stdout",
     "output_type": "stream",
     "text": [
      "Directory datastore\n",
      "=======================\n",
      "record type      number\n",
      "-----------------------\n",
      "completed           410\n",
      "not_completed       133\n",
      "logs                  1\n",
      "-----------------------\n"
     ]
    }
   ],
   "source": [
    "folder_in = paths.DATA_APES114 + 'introns/nt_aligned'\n",
    "in_dstore = cogent3.open_data_store(folder_in, suffix='fa', mode='r')\n",
    "\n",
    "print(in_dstore.describe)"
   ]
  },
  {
   "cell_type": "code",
   "execution_count": 5,
   "metadata": {},
   "outputs": [
    {
     "data": {
      "application/vnd.jupyter.widget-view+json": {
       "model_id": "23913c2d09f749c392019942903f2201",
       "version_major": 2,
       "version_minor": 0
      },
      "text/plain": [
       "   0%|          |00:00<?"
      ]
     },
     "metadata": {},
     "output_type": "display_data"
    },
    {
     "data": {
      "application/vnd.jupyter.widget-view+json": {
       "model_id": "a568938cb2994ddd890639f96bc145d7",
       "version_major": 2,
       "version_minor": 0
      },
      "text/plain": [
       "   0%|          |00:00<?"
      ]
     },
     "metadata": {},
     "output_type": "display_data"
    },
    {
     "name": "stdout",
     "output_type": "stream",
     "text": [
      "Model results : \n",
      "K80\n",
      "log-likelihood = -8520553.7281\n",
      "number of free parameters = 3\n",
      "=====\n",
      "kappa\n",
      "-----\n",
      " 2.63\n",
      "-----\n",
      "==============================\n",
      "edge          parent    length\n",
      "------------------------------\n",
      "Human         root        0.01\n",
      "Chimpanzee    root        0.01\n",
      "------------------------------\n",
      "============================\n",
      "   A       C       G       T\n",
      "----------------------------\n",
      "0.25    0.25    0.25    0.25\n",
      "----------------------------\n",
      "\n",
      "Distances: \n",
      "{'Human': np.float64(0.011507411760573601), 'Chimpanzee': np.float64(0.009657094892700592)}\n"
     ]
    }
   ],
   "source": [
    "#perform a codon alignment and remove stop codons\n",
    "loader = get_app(\"load_aligned\", moltype=\"dna\")\n",
    "omit_degs = get_app(\"omit_degenerates\", moltype=\"dna\")\n",
    "concat = get_app(\"concat\", moltype=\"dna\")\n",
    "\n",
    "app = loader + omit_degs\n",
    "#By using this renamer_aligned function I throw away sequences with paralogs\n",
    "results_allpos = [r for r in app.as_completed(in_dstore[:], parallel=True) if r]\n",
    "alpos_alns = concat(results_allpos)\n",
    "alpos_alns.source = \"introns_alignments\"\n",
    "alpos_alns\n",
    "\n",
    "hum_chimps_aln = alpos_alns.take_seqs([\"Human\", \"Chimpanzee\"])\n",
    "\n",
    "#Do a Kimura 1980 substitution model\n",
    "sm = get_app(\"model\", \"K80\", optimise_motif_probs=True, show_progress=True)\n",
    "result = sm(hum_chimps_aln)\n",
    "print(\"Model results : \\n\" + str(result.lf) + \"\\n\")\n",
    "\n",
    "print(\"Distances: \")\n",
    "lengthstree_pos1 = result.lf.get_lengths_as_ens()\n",
    "humanENS_intron = lengthstree_pos1[\"Human\"]\n",
    "print(lengthstree_pos1)"
   ]
  },
  {
   "cell_type": "markdown",
   "metadata": {},
   "source": [
    "# Intron AR sample alignment\n",
    "\n",
    "I sampled chromosome 22 introns masking everythin but ancestral repeats using \n",
    "```\n",
    "eti alignments -i install -od intronsAR --align_name 10_primates* --ref human --mask_shadow ancestralrepeats_1column.txt --coord_names 22 \n",
    "```\n",
    "where ancestralrepeats_1column.txt is a list containing the ancestral repeats biotypes: \n",
    "Type I Transposons/LINE,\n",
    "Type I Transposons/SINE,\n",
    "Type II Transposons,\n",
    "LTRs\n",
    "\n",
    "Then I aligned the sequences using\n",
    "\n",
    "```\n",
    "codon_align = get_app(\"progressive_align\", \"nucleotide\", guide_tree=\"(Human:0.06,Chimpanzee:0.06,Gorilla:0.1)\")\n",
    "```"
   ]
  },
  {
   "cell_type": "code",
   "execution_count": 6,
   "metadata": {},
   "outputs": [
    {
     "name": "stdout",
     "output_type": "stream",
     "text": [
      "Directory datastore\n",
      "=======================\n",
      "record type      number\n",
      "-----------------------\n",
      "completed           422\n",
      "not_completed       131\n",
      "logs                  1\n",
      "-----------------------\n"
     ]
    }
   ],
   "source": [
    "folder_in = paths.DATA_APES114 + 'intronsAR/nt_aligned'\n",
    "in_dstore = cogent3.open_data_store(folder_in, suffix='fa', mode='r')\n",
    "\n",
    "print(in_dstore.describe)"
   ]
  },
  {
   "cell_type": "code",
   "execution_count": 7,
   "metadata": {},
   "outputs": [
    {
     "data": {
      "application/vnd.jupyter.widget-view+json": {
       "model_id": "8619a849df474e52abdc8a8c4bc6c800",
       "version_major": 2,
       "version_minor": 0
      },
      "text/plain": [
       "   0%|          |00:00<?"
      ]
     },
     "metadata": {},
     "output_type": "display_data"
    },
    {
     "data": {
      "application/vnd.jupyter.widget-view+json": {
       "model_id": "1d95cb3ccc6c4883b5d296596479f750",
       "version_major": 2,
       "version_minor": 0
      },
      "text/plain": [
       "   0%|          |00:00<?"
      ]
     },
     "metadata": {},
     "output_type": "display_data"
    },
    {
     "name": "stdout",
     "output_type": "stream",
     "text": [
      "Model results : \n",
      "K80\n",
      "log-likelihood = -7451301.6541\n",
      "number of free parameters = 3\n",
      "=====\n",
      "kappa\n",
      "-----\n",
      " 2.67\n",
      "-----\n",
      "==============================\n",
      "edge          parent    length\n",
      "------------------------------\n",
      "Human         root        0.01\n",
      "Chimpanzee    root        0.01\n",
      "------------------------------\n",
      "============================\n",
      "   A       C       G       T\n",
      "----------------------------\n",
      "0.25    0.25    0.25    0.25\n",
      "----------------------------\n",
      "\n",
      "Distances: \n",
      "{'Human': np.float64(0.011493784086830036), 'Chimpanzee': np.float64(0.013656532424858328)}\n"
     ]
    }
   ],
   "source": [
    "#perform a codon alignment and remove stop codons\n",
    "loader = get_app(\"load_aligned\", moltype=\"dna\")\n",
    "omit_degs = get_app(\"omit_degenerates\", moltype=\"dna\")\n",
    "concat = get_app(\"concat\", moltype=\"dna\")\n",
    "\n",
    "app = loader + omit_degs\n",
    "#By using this renamer_aligned function I throw away sequences with paralogs\n",
    "results_allpos = [r for r in app.as_completed(in_dstore[:], parallel=True) if r]\n",
    "alpos_alns = concat(results_allpos)\n",
    "alpos_alns.source = \"intronsAR_alignments\"\n",
    "alpos_alns\n",
    "\n",
    "hum_chimps_aln = alpos_alns.take_seqs([\"Human\", \"Chimpanzee\"])\n",
    "\n",
    "#Do a Kimura 1980 substitution model\n",
    "sm = get_app(\"model\", \"K80\", optimise_motif_probs=True, show_progress=True)\n",
    "result = sm(hum_chimps_aln)\n",
    "print(\"Model results : \\n\" + str(result.lf) + \"\\n\")\n",
    "\n",
    "print(\"Distances: \")\n",
    "lengthstree_pos1 = result.lf.get_lengths_as_ens()\n",
    "humanENS_intronAR = lengthstree_pos1[\"Human\"]\n",
    "print(lengthstree_pos1)"
   ]
  },
  {
   "cell_type": "code",
   "execution_count": 9,
   "metadata": {},
   "outputs": [
    {
     "data": {
      "image/png": "[encoded data removed]",
      "text/plain": [
       "<Figure size 640x480 with 1 Axes>"
      ]
     },
     "metadata": {},
     "output_type": "display_data"
    },
    {
     "data": {
      "text/plain": [
       "{'cds': np.float64(0.00015084262330534678),\n",
       " 'intron': np.float64(0.011507411760573601),\n",
       " 'intronAR': np.float64(0.011493784086830036)}"
      ]
     },
     "execution_count": 9,
     "metadata": {},
     "output_type": "execute_result"
    }
   ],
   "source": [
    "ENS_human_K80 = {\n",
    "    \"cds\": humanENS_cds,\n",
    "    \"intron\": humanENS_intron,\n",
    "    \"intronAR\": humanENS_intronAR\n",
    "}\n",
    "\n",
    "plt.figure()\n",
    "plt.bar(ENS_human_K80.keys(), ENS_human_K80.values())\n",
    "plt.yscale(\"log\")  # log scale so small values are visible\n",
    "plt.ylabel(\"ENS\")\n",
    "plt.title(\"Human-Chimp K80\")\n",
    "plt.xticks(rotation=45)\n",
    "plt.tight_layout()\n",
    "plt.show()\n",
    "\n",
    "ENS_human_K80"
   ]
  }
 ],
 "metadata": {
  "kernelspec": {
   "display_name": "delme",
   "language": "python",
   "name": "python3"
  },
  "language_info": {
   "codemirror_mode": {
    "name": "ipython",
    "version": 3
   },
   "file_extension": ".py",
   "mimetype": "text/x-python",
   "name": "python",
   "nbconvert_exporter": "python",
   "pygments_lexer": "ipython3",
   "version": "3.13.7"
  }
 },
 "nbformat": 4,
 "nbformat_minor": 2
}

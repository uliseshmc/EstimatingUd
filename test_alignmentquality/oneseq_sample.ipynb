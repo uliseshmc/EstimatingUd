{
 "cells": [
  {
   "cell_type": "code",
   "execution_count": 2,
   "metadata": {},
   "outputs": [
    {
     "ename": "ModuleNotFoundError",
     "evalue": "No module named 'paths'",
     "output_type": "error",
     "traceback": [
      "\u001b[31m---------------------------------------------------------------------------\u001b[39m",
      "\u001b[31mModuleNotFoundError\u001b[39m                       Traceback (most recent call last)",
      "\u001b[36mCell\u001b[39m\u001b[36m \u001b[39m\u001b[32mIn[2]\u001b[39m\u001b[32m, line 5\u001b[39m\n\u001b[32m      3\u001b[39m \u001b[38;5;28;01mfrom\u001b[39;00m\u001b[38;5;250m \u001b[39m\u001b[34;01mcogent3\u001b[39;00m\u001b[38;5;250m \u001b[39m\u001b[38;5;28;01mimport\u001b[39;00m load_aligned_seqs\n\u001b[32m      4\u001b[39m \u001b[38;5;28;01mfrom\u001b[39;00m\u001b[38;5;250m \u001b[39m\u001b[34;01mcogent3\u001b[39;00m\u001b[38;5;250m \u001b[39m\u001b[38;5;28;01mimport\u001b[39;00m load_unaligned_seqs\n\u001b[32m----> \u001b[39m\u001b[32m5\u001b[39m \u001b[38;5;28;01mimport\u001b[39;00m\u001b[38;5;250m \u001b[39m\u001b[34;01mpaths\u001b[39;00m\n\u001b[32m      6\u001b[39m \u001b[38;5;28;01mimport\u001b[39;00m\u001b[38;5;250m \u001b[39m\u001b[34;01mlibs\u001b[39;00m\n",
      "\u001b[31mModuleNotFoundError\u001b[39m: No module named 'paths'"
     ]
    }
   ],
   "source": [
    "import cogent3\n",
    "from cogent3 import get_app\n",
    "from cogent3 import load_aligned_seqs\n",
    "from cogent3 import load_unaligned_seqs\n",
    "import paths\n",
    "import libs"
   ]
  },
  {
   "cell_type": "markdown",
   "metadata": {},
   "source": [
    "# CDS"
   ]
  },
  {
   "cell_type": "code",
   "execution_count": 18,
   "metadata": {},
   "outputs": [
    {
     "name": "stderr",
     "output_type": "stream",
     "text": [
      "/home/u12/uliseshmc/.conda/envs/delme/lib/python3.13/site-packages/cogent3/util/warning.py:134: DeprecationWarning: argument format which will be removed in version 2025.9, use format_name instead\n",
      "reason='no longer has an effect'\n",
      "  deprecated(\n"
     ]
    },
    {
     "data": {
      "text/html": [
       "<style>\n",
       ".c3align table {margin: 10px 0;}\n",
       ".c3align td { border: none !important; text-align: left !important; }\n",
       ".c3align tr:not(.num_row) td span {margin: 0 2px;}\n",
       ".c3align tr:nth-child(even) {background: #f7f7f7;}\n",
       ".c3align .num_row {background-color:rgba(161, 195, 209, 0.5) !important; border-top: solid 1px black; }\n",
       ".c3align .label { font-size: 12pt ; text-align: right !important; color: black !important; padding: 0 4px; display: table-cell !important; font-weight: normal !important; }\n",
       ".c3align .T_dna{font-family: \"Lucida Console\",monospace !important; font-size: 12pt !important; color: blue; }\n",
       ".c3align .C_dna{font-family: \"Lucida Console\",monospace !important; font-size: 12pt !important; color: black; }\n",
       ".c3align .A_dna{font-family: \"Lucida Console\",monospace !important; font-size: 12pt !important; color: #FF0102; }\n",
       ".c3align .G_dna{font-family: \"Lucida Console\",monospace !important; font-size: 12pt !important; color: green; }\n",
       ".c3align .terminal_ambig_dna{font-family: \"Lucida Console\",monospace !important; font-size: 12pt !important; color: gray; }\n",
       ".c3align .ambig_dna{font-family: \"Lucida Console\",monospace !important; font-size: 12pt !important; color: gray; }\n",
       "</style>\n",
       "<div class=\"c3align\">\n",
       "<table>\n",
       "<tr class=\"num_row\"><td></td><td><b>0</b></td></tr>\n",
       "<tr><td class=\"label\">Gorilla</td><td><span class=\"A_dna\">A</span><span class=\"T_dna\">T</span><span class=\"G_dna\">G</span><span class=\"T_dna\">T</span><span class=\"T_dna\">T</span><span class=\"T_dna\">T</span><span class=\"A_dna\">A</span><span class=\"T_dna\">T</span><span class=\"C_dna\">C</span><span class=\"A_dna\">A</span><span class=\"A_dna\">A</span><span class=\"G_dna\">G</span><span class=\"G_dna\">G</span><span class=\"T_dna\">T</span><span class=\"G_dna\">G</span><span class=\"A_dna\">A</span><span class=\"T_dna\">T</span><span class=\"G_dna\">G</span><span class=\"T_dna\">T</span><span class=\"T_dna\">T</span><span class=\"T_dna\">T</span><span class=\"G_dna\">G</span><span class=\"G_dna\">G</span><span class=\"G_dna\">G</span><span class=\"G_dna\">G</span><span class=\"C_dna\">C</span><span class=\"C_dna\">C</span><span class=\"G_dna\">G</span><span class=\"G_dna\">G</span><span class=\"C_dna\">C</span><span class=\"T_dna\">T</span><span class=\"G_dna\">G</span><span class=\"C_dna\">C</span><span class=\"T_dna\">T</span><span class=\"C_dna\">C</span><span class=\"G_dna\">G</span><span class=\"G_dna\">G</span><span class=\"T_dna\">T</span><span class=\"G_dna\">G</span><span class=\"C_dna\">C</span><span class=\"T_dna\">T</span><span class=\"G_dna\">G</span><span class=\"G_dna\">G</span><span class=\"T_dna\">T</span><span class=\"G_dna\">G</span><span class=\"A_dna\">A</span><span class=\"A_dna\">A</span><span class=\"C_dna\">C</span><span class=\"A_dna\">A</span><span class=\"C_dna\">C</span><span class=\"C_dna\">C</span><span class=\"T_dna\">T</span><span class=\"C_dna\">C</span><span class=\"T_dna\">T</span><span class=\"T_dna\">T</span><span class=\"G_dna\">G</span><span class=\"C_dna\">C</span><span class=\"A_dna\">A</span><span class=\"G_dna\">G</span><span class=\"G_dna\">G</span></td></tr>\n",
       "<tr><td class=\"label\">Human</td><td><span class=\"A_dna\">.</span><span class=\"T_dna\">.</span><span class=\"G_dna\">.</span><span class=\"T_dna\">.</span><span class=\"T_dna\">.</span><span class=\"T_dna\">.</span><span class=\"A_dna\">.</span><span class=\"T_dna\">.</span><span class=\"C_dna\">.</span><span class=\"A_dna\">.</span><span class=\"A_dna\">.</span><span class=\"G_dna\">.</span><span class=\"G_dna\">.</span><span class=\"T_dna\">.</span><span class=\"G_dna\">.</span><span class=\"A_dna\">.</span><span class=\"T_dna\">.</span><span class=\"G_dna\">.</span><span class=\"T_dna\">.</span><span class=\"T_dna\">.</span><span class=\"T_dna\">.</span><span class=\"G_dna\">.</span><span class=\"G_dna\">.</span><span class=\"G_dna\">.</span><span class=\"G_dna\">.</span><span class=\"C_dna\">.</span><span class=\"T_dna\">T</span><span class=\"G_dna\">.</span><span class=\"G_dna\">.</span><span class=\"C_dna\">.</span><span class=\"T_dna\">.</span><span class=\"G_dna\">.</span><span class=\"C_dna\">.</span><span class=\"T_dna\">.</span><span class=\"C_dna\">.</span><span class=\"G_dna\">.</span><span class=\"G_dna\">.</span><span class=\"T_dna\">.</span><span class=\"G_dna\">.</span><span class=\"C_dna\">.</span><span class=\"T_dna\">.</span><span class=\"G_dna\">.</span><span class=\"G_dna\">.</span><span class=\"T_dna\">.</span><span class=\"G_dna\">.</span><span class=\"A_dna\">.</span><span class=\"A_dna\">.</span><span class=\"C_dna\">.</span><span class=\"A_dna\">.</span><span class=\"C_dna\">.</span><span class=\"C_dna\">.</span><span class=\"T_dna\">.</span><span class=\"C_dna\">.</span><span class=\"T_dna\">.</span><span class=\"T_dna\">.</span><span class=\"G_dna\">.</span><span class=\"C_dna\">.</span><span class=\"A_dna\">.</span><span class=\"G_dna\">.</span><span class=\"G_dna\">.</span></td></tr>\n",
       "<tr><td class=\"label\">Chimpanzee</td><td><span class=\"A_dna\">.</span><span class=\"T_dna\">.</span><span class=\"G_dna\">.</span><span class=\"T_dna\">.</span><span class=\"T_dna\">.</span><span class=\"T_dna\">.</span><span class=\"A_dna\">.</span><span class=\"T_dna\">.</span><span class=\"C_dna\">.</span><span class=\"A_dna\">.</span><span class=\"A_dna\">.</span><span class=\"G_dna\">.</span><span class=\"G_dna\">.</span><span class=\"T_dna\">.</span><span class=\"G_dna\">.</span><span class=\"A_dna\">.</span><span class=\"T_dna\">.</span><span class=\"G_dna\">.</span><span class=\"T_dna\">.</span><span class=\"T_dna\">.</span><span class=\"T_dna\">.</span><span class=\"G_dna\">.</span><span class=\"G_dna\">.</span><span class=\"G_dna\">.</span><span class=\"G_dna\">.</span><span class=\"C_dna\">.</span><span class=\"C_dna\">.</span><span class=\"G_dna\">.</span><span class=\"G_dna\">.</span><span class=\"C_dna\">.</span><span class=\"T_dna\">.</span><span class=\"G_dna\">.</span><span class=\"C_dna\">.</span><span class=\"T_dna\">.</span><span class=\"C_dna\">.</span><span class=\"G_dna\">.</span><span class=\"G_dna\">.</span><span class=\"T_dna\">.</span><span class=\"G_dna\">.</span><span class=\"C_dna\">.</span><span class=\"T_dna\">.</span><span class=\"G_dna\">.</span><span class=\"G_dna\">.</span><span class=\"T_dna\">.</span><span class=\"G_dna\">.</span><span class=\"A_dna\">.</span><span class=\"A_dna\">.</span><span class=\"C_dna\">.</span><span class=\"A_dna\">.</span><span class=\"C_dna\">.</span><span class=\"C_dna\">.</span><span class=\"T_dna\">.</span><span class=\"C_dna\">.</span><span class=\"T_dna\">.</span><span class=\"T_dna\">.</span><span class=\"G_dna\">.</span><span class=\"C_dna\">.</span><span class=\"A_dna\">.</span><span class=\"G_dna\">.</span><span class=\"G_dna\">.</span></td></tr>\n",
       "</table>\n",
       "<p><i>3 x 648 (truncated to 3 x 60) dna alignment</i></p>\n",
       "</div>"
      ],
      "text/plain": [
       "3 x 648 dna alignment: Human[ATGTTTATCA...], Chimpanzee[ATGTTTATCA...], Gorilla[ATGTTTATCA...]"
      ]
     },
     "execution_count": 18,
     "metadata": {},
     "output_type": "execute_result"
    }
   ],
   "source": [
    "sequence = 'ENSG00000169314.fa'\n",
    "\n",
    "folder_in = '/xdisk/masel/uliseshmc/EstimatingUd/Gavin_apes114/' + 'cds/codon_aligned/'\n",
    "\n",
    "codonaln_seq = load_aligned_seqs(filename = folder_in + sequence, format=\"fasta\", moltype='dna')\n",
    "codonaln_seq"
   ]
  },
  {
   "cell_type": "code",
   "execution_count": 20,
   "metadata": {},
   "outputs": [
    {
     "name": "stderr",
     "output_type": "stream",
     "text": [
      "/home/u12/uliseshmc/.conda/envs/delme/lib/python3.13/site-packages/cogent3/util/warning.py:134: DeprecationWarning: argument format which will be removed in version 2025.9, use format_name instead\n",
      "reason='no longer has an effect'\n",
      "  deprecated(\n"
     ]
    },
    {
     "ename": "ValueError",
     "evalue": "All sequence lengths must be the same.",
     "output_type": "error",
     "traceback": [
      "\u001b[31m---------------------------------------------------------------------------\u001b[39m",
      "\u001b[31mValueError\u001b[39m                                Traceback (most recent call last)",
      "\u001b[36mCell\u001b[39m\u001b[36m \u001b[39m\u001b[32mIn[20]\u001b[39m\u001b[32m, line 5\u001b[39m\n\u001b[32m      1\u001b[39m folder_in = \u001b[33m'\u001b[39m\u001b[33m/xdisk/masel/uliseshmc/EstimatingUd/Gavin_apes114/\u001b[39m\u001b[33m'\u001b[39m + \u001b[33m'\u001b[39m\u001b[33mcds/\u001b[39m\u001b[33m'\u001b[39m\n\u001b[32m      3\u001b[39m sequence = \u001b[33m'\u001b[39m\u001b[33mENSG00000169314.fa\u001b[39m\u001b[33m'\u001b[39m\n\u001b[32m----> \u001b[39m\u001b[32m5\u001b[39m ensemblaln_seq = \u001b[43mload_aligned_seqs\u001b[49m\u001b[43m(\u001b[49m\u001b[43mfilename\u001b[49m\u001b[43m \u001b[49m\u001b[43m=\u001b[49m\u001b[43m \u001b[49m\u001b[43mfolder_in\u001b[49m\u001b[43m \u001b[49m\u001b[43m+\u001b[49m\u001b[43m \u001b[49m\u001b[43msequence\u001b[49m\u001b[43m,\u001b[49m\u001b[43m \u001b[49m\u001b[38;5;28;43mformat\u001b[39;49m\u001b[43m=\u001b[49m\u001b[33;43m\"\u001b[39;49m\u001b[33;43mfasta\u001b[39;49m\u001b[33;43m\"\u001b[39;49m\u001b[43m,\u001b[49m\u001b[43m \u001b[49m\u001b[43mmoltype\u001b[49m\u001b[43m=\u001b[49m\u001b[33;43m'\u001b[39;49m\u001b[33;43mdna\u001b[39;49m\u001b[33;43m'\u001b[39;49m\u001b[43m)\u001b[49m\n\u001b[32m      6\u001b[39m ensemblaln_seq\n",
      "\u001b[36mFile \u001b[39m\u001b[32m~/.conda/envs/delme/lib/python3.13/site-packages/cogent3/util/warning.py:154\u001b[39m, in \u001b[36mdeprecated_args.<locals>.decorator.<locals>.wrapper\u001b[39m\u001b[34m(*args, **kwargs)\u001b[39m\n\u001b[32m    145\u001b[39m             _discontinued(\n\u001b[32m    146\u001b[39m                 \u001b[33m\"\u001b[39m\u001b[33margument\u001b[39m\u001b[33m\"\u001b[39m,\n\u001b[32m    147\u001b[39m                 dropped,\n\u001b[32m   (...)\u001b[39m\u001b[32m    150\u001b[39m                 stack_level=stack_level,\n\u001b[32m    151\u001b[39m             )\n\u001b[32m    152\u001b[39m             kwargs.pop(dropped)\n\u001b[32m--> \u001b[39m\u001b[32m154\u001b[39m \u001b[38;5;28;01mreturn\u001b[39;00m \u001b[43mfunc\u001b[49m\u001b[43m(\u001b[49m\u001b[43m*\u001b[49m\u001b[43margs\u001b[49m\u001b[43m,\u001b[49m\u001b[43m \u001b[49m\u001b[43m*\u001b[49m\u001b[43m*\u001b[49m\u001b[43mkwargs\u001b[49m\u001b[43m)\u001b[49m\n",
      "\u001b[36mFile \u001b[39m\u001b[32m~/.conda/envs/delme/lib/python3.13/site-packages/cogent3/__init__.py:442\u001b[39m, in \u001b[36mload_aligned_seqs\u001b[39m\u001b[34m(filename, format_name, moltype, label_to_name, parser_kw, info, **kw)\u001b[39m\n\u001b[32m    439\u001b[39m \u001b[38;5;28;01melse\u001b[39;00m:\n\u001b[32m    440\u001b[39m     data = \u001b[38;5;28mlist\u001b[39m(parser.loader(filename, **parser_kw))\n\u001b[32m--> \u001b[39m\u001b[32m442\u001b[39m \u001b[38;5;28;01mreturn\u001b[39;00m \u001b[43mmake_aligned_seqs\u001b[49m\u001b[43m(\u001b[49m\n\u001b[32m    443\u001b[39m \u001b[43m    \u001b[49m\u001b[43mdata\u001b[49m\u001b[43m,\u001b[49m\n\u001b[32m    444\u001b[39m \u001b[43m    \u001b[49m\u001b[43mlabel_to_name\u001b[49m\u001b[43m=\u001b[49m\u001b[43mlabel_to_name\u001b[49m\u001b[43m,\u001b[49m\n\u001b[32m    445\u001b[39m \u001b[43m    \u001b[49m\u001b[43mmoltype\u001b[49m\u001b[43m=\u001b[49m\u001b[43mmoltype\u001b[49m\u001b[43m,\u001b[49m\n\u001b[32m    446\u001b[39m \u001b[43m    \u001b[49m\u001b[43msource\u001b[49m\u001b[43m=\u001b[49m\u001b[43mfilename\u001b[49m\u001b[43m,\u001b[49m\n\u001b[32m    447\u001b[39m \u001b[43m    \u001b[49m\u001b[43minfo\u001b[49m\u001b[43m=\u001b[49m\u001b[43minfo\u001b[49m\u001b[43m,\u001b[49m\n\u001b[32m    448\u001b[39m \u001b[43m    \u001b[49m\u001b[43m*\u001b[49m\u001b[43m*\u001b[49m\u001b[43mkw\u001b[49m\u001b[43m,\u001b[49m\n\u001b[32m    449\u001b[39m \u001b[43m\u001b[49m\u001b[43m)\u001b[49m\n",
      "\u001b[36mFile \u001b[39m\u001b[32m~/.conda/envs/delme/lib/python3.13/site-packages/cogent3/util/warning.py:154\u001b[39m, in \u001b[36mdeprecated_args.<locals>.decorator.<locals>.wrapper\u001b[39m\u001b[34m(*args, **kwargs)\u001b[39m\n\u001b[32m    145\u001b[39m             _discontinued(\n\u001b[32m    146\u001b[39m                 \u001b[33m\"\u001b[39m\u001b[33margument\u001b[39m\u001b[33m\"\u001b[39m,\n\u001b[32m    147\u001b[39m                 dropped,\n\u001b[32m   (...)\u001b[39m\u001b[32m    150\u001b[39m                 stack_level=stack_level,\n\u001b[32m    151\u001b[39m             )\n\u001b[32m    152\u001b[39m             kwargs.pop(dropped)\n\u001b[32m--> \u001b[39m\u001b[32m154\u001b[39m \u001b[38;5;28;01mreturn\u001b[39;00m \u001b[43mfunc\u001b[49m\u001b[43m(\u001b[49m\u001b[43m*\u001b[49m\u001b[43margs\u001b[49m\u001b[43m,\u001b[49m\u001b[43m \u001b[49m\u001b[43m*\u001b[49m\u001b[43m*\u001b[49m\u001b[43mkwargs\u001b[49m\u001b[43m)\u001b[49m\n",
      "\u001b[36mFile \u001b[39m\u001b[32m~/.conda/envs/delme/lib/python3.13/functools.py:934\u001b[39m, in \u001b[36msingledispatch.<locals>.wrapper\u001b[39m\u001b[34m(*args, **kw)\u001b[39m\n\u001b[32m    931\u001b[39m \u001b[38;5;28;01mif\u001b[39;00m \u001b[38;5;129;01mnot\u001b[39;00m args:\n\u001b[32m    932\u001b[39m     \u001b[38;5;28;01mraise\u001b[39;00m \u001b[38;5;167;01mTypeError\u001b[39;00m(\u001b[33mf\u001b[39m\u001b[33m'\u001b[39m\u001b[38;5;132;01m{\u001b[39;00mfuncname\u001b[38;5;132;01m}\u001b[39;00m\u001b[33m requires at least \u001b[39m\u001b[33m'\u001b[39m\n\u001b[32m    933\u001b[39m                     \u001b[33m'\u001b[39m\u001b[33m1 positional argument\u001b[39m\u001b[33m'\u001b[39m)\n\u001b[32m--> \u001b[39m\u001b[32m934\u001b[39m \u001b[38;5;28;01mreturn\u001b[39;00m \u001b[43mdispatch\u001b[49m\u001b[43m(\u001b[49m\u001b[43margs\u001b[49m\u001b[43m[\u001b[49m\u001b[32;43m0\u001b[39;49m\u001b[43m]\u001b[49m\u001b[43m.\u001b[49m\u001b[34;43m__class__\u001b[39;49m\u001b[43m)\u001b[49m\u001b[43m(\u001b[49m\u001b[43m*\u001b[49m\u001b[43margs\u001b[49m\u001b[43m,\u001b[49m\u001b[43m \u001b[49m\u001b[43m*\u001b[49m\u001b[43m*\u001b[49m\u001b[43mkw\u001b[49m\u001b[43m)\u001b[49m\n",
      "\u001b[36mFile \u001b[39m\u001b[32m~/.conda/envs/delme/lib/python3.13/site-packages/cogent3/core/alignment.py:7241\u001b[39m, in \u001b[36mmake_aligned_seqs\u001b[39m\u001b[34m(data, moltype, label_to_name, info, source, annotation_db, offset, name_map, is_reversed, reversed_seqs, storage_backend, **kwargs)\u001b[39m\n\u001b[32m   7238\u001b[39m \u001b[38;5;28;01mif\u001b[39;00m name_map \u001b[38;5;129;01mis\u001b[39;00m \u001b[38;5;28;01mNone\u001b[39;00m:\n\u001b[32m   7239\u001b[39m     name_map = make_name_map(data) \u001b[38;5;129;01mor\u001b[39;00m \u001b[38;5;28;01mNone\u001b[39;00m\n\u001b[32m-> \u001b[39m\u001b[32m7241\u001b[39m seqs_data = \u001b[43mmake_aligned_storage\u001b[49m\u001b[43m(\u001b[49m\n\u001b[32m   7242\u001b[39m \u001b[43m    \u001b[49m\u001b[43mdata\u001b[49m\u001b[43m,\u001b[49m\n\u001b[32m   7243\u001b[39m \u001b[43m    \u001b[49m\u001b[43mmoltype\u001b[49m\u001b[43m=\u001b[49m\u001b[43mmoltype\u001b[49m\u001b[43m,\u001b[49m\n\u001b[32m   7244\u001b[39m \u001b[43m    \u001b[49m\u001b[43mlabel_to_name\u001b[49m\u001b[43m=\u001b[49m\u001b[43mlabel_to_name\u001b[49m\u001b[43m,\u001b[49m\n\u001b[32m   7245\u001b[39m \u001b[43m    \u001b[49m\u001b[43moffset\u001b[49m\u001b[43m=\u001b[49m\u001b[43moffset\u001b[49m\u001b[43m,\u001b[49m\n\u001b[32m   7246\u001b[39m \u001b[43m    \u001b[49m\u001b[43mreversed_seqs\u001b[49m\u001b[43m=\u001b[49m\u001b[43mreversed_seqs\u001b[49m\u001b[43m,\u001b[49m\n\u001b[32m   7247\u001b[39m \u001b[43m    \u001b[49m\u001b[43mstorage_backend\u001b[49m\u001b[43m=\u001b[49m\u001b[43mstorage_backend\u001b[49m\u001b[43m,\u001b[49m\n\u001b[32m   7248\u001b[39m \u001b[43m    \u001b[49m\u001b[43m*\u001b[49m\u001b[43m*\u001b[49m\u001b[43mkwargs\u001b[49m\u001b[43m,\u001b[49m\n\u001b[32m   7249\u001b[39m \u001b[43m\u001b[49m\u001b[43m)\u001b[49m\n\u001b[32m   7250\u001b[39m \u001b[38;5;66;03m# as they were handled in this function, we do not pass on:\u001b[39;00m\n\u001b[32m   7251\u001b[39m \u001b[38;5;66;03m# offset\u001b[39;00m\n\u001b[32m   7252\u001b[39m \u001b[38;5;66;03m# label_to_name\u001b[39;00m\n\u001b[32m   7253\u001b[39m \u001b[38;5;66;03m# reversed_seqs\u001b[39;00m\n\u001b[32m   7254\u001b[39m \u001b[38;5;66;03m# storage_backend\u001b[39;00m\n\u001b[32m   7255\u001b[39m \u001b[38;5;28;01mreturn\u001b[39;00m make_aligned_seqs(\n\u001b[32m   7256\u001b[39m     seqs_data,\n\u001b[32m   7257\u001b[39m     moltype=moltype,\n\u001b[32m   (...)\u001b[39m\u001b[32m   7262\u001b[39m     is_reversed=is_reversed,\n\u001b[32m   7263\u001b[39m )\n",
      "\u001b[36mFile \u001b[39m\u001b[32m~/.conda/envs/delme/lib/python3.13/site-packages/cogent3/core/alignment.py:7163\u001b[39m, in \u001b[36mmake_aligned_storage\u001b[39m\u001b[34m(data, moltype, label_to_name, offset, reversed_seqs, storage_backend, **kwargs)\u001b[39m\n\u001b[32m   7161\u001b[39m \u001b[38;5;66;03m# plugin module is private only to exclude users, not developers\u001b[39;00m\n\u001b[32m   7162\u001b[39m klass = cogent3._plugin.get_aligned_storage_driver(storage_backend)  \u001b[38;5;66;03m# noqa: SLF001\u001b[39;00m\n\u001b[32m-> \u001b[39m\u001b[32m7163\u001b[39m \u001b[38;5;28;01mreturn\u001b[39;00m \u001b[43mklass\u001b[49m\u001b[43m.\u001b[49m\u001b[43mfrom_seqs\u001b[49m\u001b[43m(\u001b[49m\u001b[43m*\u001b[49m\u001b[43m*\u001b[49m\u001b[43masd_kwargs\u001b[49m\u001b[43m)\u001b[49m\n",
      "\u001b[36mFile \u001b[39m\u001b[32m~/.conda/envs/delme/lib/python3.13/site-packages/cogent3/core/alignment.py:3727\u001b[39m, in \u001b[36mAlignedSeqsData.from_seqs\u001b[39m\u001b[34m(cls, data, alphabet, **kwargs)\u001b[39m\n\u001b[32m   3725\u001b[39m \u001b[38;5;28;01mif\u001b[39;00m \u001b[38;5;28mlen\u001b[39m(seq_lengths) != \u001b[32m1\u001b[39m:\n\u001b[32m   3726\u001b[39m     msg = \u001b[33m\"\u001b[39m\u001b[33mAll sequence lengths must be the same.\u001b[39m\u001b[33m\"\u001b[39m\n\u001b[32m-> \u001b[39m\u001b[32m3727\u001b[39m     \u001b[38;5;28;01mraise\u001b[39;00m \u001b[38;5;167;01mValueError\u001b[39;00m(msg)\n\u001b[32m   3729\u001b[39m align_len = seq_lengths.pop()\n\u001b[32m   3730\u001b[39m names = \u001b[38;5;28mtuple\u001b[39m(data.keys())\n",
      "\u001b[31mValueError\u001b[39m: All sequence lengths must be the same."
     ]
    }
   ],
   "source": [
    "folder_in = '/xdisk/masel/uliseshmc/EstimatingUd/Gavin_apes114/' + 'cds/'\n",
    "\n",
    "sequence = 'ENSG00000169314.fa'\n",
    "\n",
    "ensemblaln_seq = load_aligned_seqs(filename = folder_in + sequence, format=\"fasta\", moltype='dna')\n",
    "ensemblaln_seq"
   ]
  },
  {
   "cell_type": "markdown",
   "metadata": {},
   "source": [
    "Notes: Most sequences in cds/ are not aligned."
   ]
  },
  {
   "cell_type": "code",
   "execution_count": 3,
   "metadata": {},
   "outputs": [
    {
     "data": {
      "application/vnd.jupyter.widget-view+json": {
       "model_id": "6669e1b8dea74b2f9337353cb1fe3cbc",
       "version_major": 2,
       "version_minor": 0
      },
      "text/plain": [
       "   0%|          |00:00<?"
      ]
     },
     "metadata": {},
     "output_type": "display_data"
    },
    {
     "data": {
      "application/vnd.jupyter.widget-view+json": {
       "model_id": "af6b87f2059b438db5b63b0098067661",
       "version_major": 2,
       "version_minor": 0
      },
      "text/plain": [
       "   0%|          |00:00<?"
      ]
     },
     "metadata": {},
     "output_type": "display_data"
    },
    {
     "data": {
      "application/vnd.jupyter.widget-view+json": {
       "model_id": "37b8fc22b21240438d2c0cb32c926860",
       "version_major": 2,
       "version_minor": 0
      },
      "text/plain": [
       "   0%|          |00:00<?"
      ]
     },
     "metadata": {},
     "output_type": "display_data"
    },
    {
     "data": {
      "application/vnd.jupyter.widget-view+json": {
       "model_id": "df05dc4939d74166a9537bd1101cc9af",
       "version_major": 2,
       "version_minor": 0
      },
      "text/plain": [
       "   0%|          |00:00<?"
      ]
     },
     "metadata": {},
     "output_type": "display_data"
    },
    {
     "data": {
      "application/vnd.jupyter.widget-view+json": {
       "model_id": "59984eae8f2f450d8b596d8f04901c55",
       "version_major": 2,
       "version_minor": 0
      },
      "text/plain": [
       "   0%|          |00:00<?"
      ]
     },
     "metadata": {},
     "output_type": "display_data"
    },
    {
     "data": {
      "application/vnd.jupyter.widget-view+json": {
       "model_id": "a14aa6c43e8b401086a1e5fa0aa912c5",
       "version_major": 2,
       "version_minor": 0
      },
      "text/plain": [
       "   0%|          |00:00<?"
      ]
     },
     "metadata": {},
     "output_type": "display_data"
    },
    {
     "name": "stdout",
     "output_type": "stream",
     "text": [
      "Model results : \n",
      "OrderedDict({1: GN pos-1\n",
      "log-likelihood = -865.6992\n",
      "number of free parameters = 39\n",
      "========================================================================\n",
      "edge          parent    length     A>C     A>G     A>T      C>A      C>G\n",
      "------------------------------------------------------------------------\n",
      "Human         root        0.00    0.00    0.00    0.00    50.00    50.00\n",
      "Chimpanzee    root        0.00    0.00    0.00    0.00    50.00    50.00\n",
      "Gorilla       root        0.00    0.00    0.00    0.00    50.00    50.00\n",
      "------------------------------------------------------------------------\n",
      "\n",
      "continued: \n",
      "=============================================\n",
      "  C>T     G>A     G>C     G>T     T>A     T>C\n",
      "---------------------------------------------\n",
      "50.00    0.00    0.00    0.00    0.00    0.00\n",
      "50.00    0.00    0.00    0.00    0.00    0.00\n",
      "50.00    0.00    0.00    0.00    0.00    0.00\n",
      "---------------------------------------------\n",
      "\n",
      "============================\n",
      "   A       C       G       T\n",
      "----------------------------\n",
      "0.21    0.31    0.33    0.16\n",
      "----------------------------, 2: GN pos-2\n",
      "log-likelihood = -874.7426\n",
      "number of free parameters = 39\n",
      "======================================================================\n",
      "edge          parent    length     A>C     A>G     A>T     C>A     C>G\n",
      "----------------------------------------------------------------------\n",
      "Human         root        0.00    0.00    0.00    0.00    0.00    0.00\n",
      "Chimpanzee    root        0.00    0.00    0.00    0.00    0.00    0.00\n",
      "Gorilla       root        0.00    0.00    0.00    0.00    0.00    0.00\n",
      "----------------------------------------------------------------------\n",
      "\n",
      "continued: \n",
      "===============================================\n",
      " C>T      G>A      G>C      G>T     T>A     T>C\n",
      "-----------------------------------------------\n",
      "0.00    49.99    49.99    49.99    0.00    0.00\n",
      "0.00    49.99    49.99    49.99    0.00    0.00\n",
      "0.00    49.99    49.99    49.99    0.00    0.00\n",
      "-----------------------------------------------\n",
      "\n",
      "============================\n",
      "   A       C       G       T\n",
      "----------------------------\n",
      "0.33    0.21    0.18    0.28\n",
      "----------------------------, 3: GN pos-3\n",
      "log-likelihood = -709.7859\n",
      "number of free parameters = 39\n",
      "======================================================================\n",
      "edge          parent    length     A>C     A>G     A>T     C>A     C>G\n",
      "----------------------------------------------------------------------\n",
      "Human         root        0.00    0.00    0.00    0.00    0.00    0.00\n",
      "Chimpanzee    root        0.00    0.00    0.00    0.00    0.00    0.00\n",
      "Gorilla       root        0.00    0.00    0.00    0.00    0.00    0.00\n",
      "----------------------------------------------------------------------\n",
      "\n",
      "continued: \n",
      "=============================================\n",
      " C>T     G>A     G>C     G>T     T>A      T>C\n",
      "---------------------------------------------\n",
      "0.00    0.00    0.00    0.00    0.00    48.21\n",
      "0.00    0.00    0.00    0.00    0.00    48.21\n",
      "0.00    0.00    0.00    0.00    0.00    48.21\n",
      "---------------------------------------------\n",
      "\n",
      "============================\n",
      "   A       C       G       T\n",
      "----------------------------\n",
      "0.07    0.45    0.41    0.08\n",
      "----------------------------})\n",
      "\n",
      "Distances: \n",
      "{'Human': np.float64(9.99999067593457e-07), 'Chimpanzee': np.float64(9.99999067593457e-07), 'Gorilla': np.float64(9.99999067593457e-07)}\n",
      "{'Human': np.float64(1.0000072922545365e-06), 'Chimpanzee': np.float64(9.999982648398162e-07), 'Gorilla': np.float64(1.0000026748149509e-06)}\n",
      "{'Human': np.float64(1.000001020274175e-06), 'Chimpanzee': np.float64(9.99997646878012e-07), 'Gorilla': np.float64(9.99996549552156e-07)}\n"
     ]
    }
   ],
   "source": [
    "omit_degs = get_app(\"omit_degenerates\", moltype=\"dna\", motif_length=3)\n",
    "aln = omit_degs(aln)\n",
    "#Do a general nucleotide model of conncatenated sequences concatenated sequences \n",
    "#time_het=max sets a 36 params substitution model\n",
    "sm = get_app(\"model\", \"GN\", time_het=\"max\", optimise_motif_probs=True, show_progress=True, split_codons=True)\n",
    "result_sm = sm(aln)\n",
    "print(\"Model results : \\n\" + str(result_sm.lf) + \"\\n\")\n",
    "\n",
    "print(\"Distances: \")\n",
    "lengthstree_pos1 = result_sm[1].get_lengths_as_ens()\n",
    "print(lengthstree_pos1)\n",
    "\n",
    "lengthstree_pos2 = result_sm[2].get_lengths_as_ens()\n",
    "print(lengthstree_pos2)\n",
    "\n",
    "lengthstree_pos3 = result_sm[3].get_lengths_as_ens()\n",
    "print(lengthstree_pos3)\n"
   ]
  },
  {
   "cell_type": "markdown",
   "metadata": {},
   "source": [
    "# Intron sample alignment\n",
    "\n",
    "I sampled chromosome 22 introns masking ancestral repeats and cds using \n",
    "```\n",
    "eti alignments -i install -od introns --align_name 10_primates* --ref human --mask cds_allAR_1column.txt --coord_names 22 \n",
    "```\n",
    "where cds_allAR_1column.txt is a list containing all the biotypes for ancestral repeats and cds"
   ]
  },
  {
   "cell_type": "code",
   "execution_count": 5,
   "metadata": {},
   "outputs": [
    {
     "name": "stderr",
     "output_type": "stream",
     "text": [
      "/home/u12/uliseshmc/.conda/envs/delme/lib/python3.13/site-packages/cogent3/util/warning.py:134: DeprecationWarning: argument format which will be removed in version 2025.9, use format_name instead\n",
      "reason='no longer has an effect'\n",
      "  deprecated(\n"
     ]
    },
    {
     "data": {
      "text/html": [
       "<style>\n",
       ".c3align table {margin: 10px 0;}\n",
       ".c3align td { border: none !important; text-align: left !important; }\n",
       ".c3align tr:not(.num_row) td span {margin: 0 2px;}\n",
       ".c3align tr:nth-child(even) {background: #f7f7f7;}\n",
       ".c3align .num_row {background-color:rgba(161, 195, 209, 0.5) !important; border-top: solid 1px black; }\n",
       ".c3align .label { font-size: 12pt ; text-align: right !important; color: black !important; padding: 0 4px; display: table-cell !important; font-weight: normal !important; }\n",
       ".c3align .T_dna{font-family: \"Lucida Console\",monospace !important; font-size: 12pt !important; color: blue; }\n",
       ".c3align .C_dna{font-family: \"Lucida Console\",monospace !important; font-size: 12pt !important; color: black; }\n",
       ".c3align .A_dna{font-family: \"Lucida Console\",monospace !important; font-size: 12pt !important; color: #FF0102; }\n",
       ".c3align .G_dna{font-family: \"Lucida Console\",monospace !important; font-size: 12pt !important; color: green; }\n",
       ".c3align .terminal_ambig_dna{font-family: \"Lucida Console\",monospace !important; font-size: 12pt !important; color: gray; }\n",
       ".c3align .ambig_dna{font-family: \"Lucida Console\",monospace !important; font-size: 12pt !important; color: gray; }\n",
       "</style>\n",
       "<div class=\"c3align\">\n",
       "<table>\n",
       "<tr class=\"num_row\"><td></td><td><b>0</b></td></tr>\n",
       "<tr><td class=\"label\">homo_sapiens:22:45284948-45295874:1</td><td><span class=\"A_dna\">A</span><span class=\"G_dna\">G</span><span class=\"G_dna\">G</span><span class=\"T_dna\">T</span><span class=\"C_dna\">C</span><span class=\"terminal_ambig_dna\">-</span><span class=\"terminal_ambig_dna\">-</span><span class=\"terminal_ambig_dna\">-</span><span class=\"terminal_ambig_dna\">-</span><span class=\"terminal_ambig_dna\">-</span><span class=\"terminal_ambig_dna\">-</span><span class=\"terminal_ambig_dna\">-</span><span class=\"terminal_ambig_dna\">-</span><span class=\"terminal_ambig_dna\">-</span><span class=\"terminal_ambig_dna\">-</span><span class=\"terminal_ambig_dna\">-</span><span class=\"terminal_ambig_dna\">-</span><span class=\"terminal_ambig_dna\">-</span><span class=\"terminal_ambig_dna\">-</span><span class=\"terminal_ambig_dna\">-</span><span class=\"terminal_ambig_dna\">-</span><span class=\"terminal_ambig_dna\">-</span><span class=\"terminal_ambig_dna\">-</span><span class=\"terminal_ambig_dna\">-</span><span class=\"terminal_ambig_dna\">-</span><span class=\"terminal_ambig_dna\">-</span><span class=\"terminal_ambig_dna\">-</span><span class=\"terminal_ambig_dna\">-</span><span class=\"terminal_ambig_dna\">-</span><span class=\"terminal_ambig_dna\">-</span><span class=\"terminal_ambig_dna\">-</span><span class=\"terminal_ambig_dna\">-</span><span class=\"terminal_ambig_dna\">-</span><span class=\"terminal_ambig_dna\">-</span><span class=\"terminal_ambig_dna\">-</span><span class=\"terminal_ambig_dna\">-</span><span class=\"terminal_ambig_dna\">-</span><span class=\"terminal_ambig_dna\">-</span><span class=\"terminal_ambig_dna\">-</span><span class=\"terminal_ambig_dna\">-</span><span class=\"terminal_ambig_dna\">-</span><span class=\"terminal_ambig_dna\">-</span><span class=\"terminal_ambig_dna\">-</span><span class=\"terminal_ambig_dna\">-</span><span class=\"terminal_ambig_dna\">-</span><span class=\"terminal_ambig_dna\">-</span><span class=\"terminal_ambig_dna\">-</span><span class=\"terminal_ambig_dna\">-</span><span class=\"terminal_ambig_dna\">-</span><span class=\"terminal_ambig_dna\">-</span><span class=\"terminal_ambig_dna\">-</span><span class=\"terminal_ambig_dna\">-</span><span class=\"terminal_ambig_dna\">-</span><span class=\"terminal_ambig_dna\">-</span><span class=\"terminal_ambig_dna\">-</span><span class=\"terminal_ambig_dna\">-</span><span class=\"terminal_ambig_dna\">-</span><span class=\"terminal_ambig_dna\">-</span><span class=\"terminal_ambig_dna\">-</span><span class=\"terminal_ambig_dna\">-</span></td></tr>\n",
       "<tr><td class=\"label\">gorilla_gorilla:22:28853875-28862222:1</td><td><span class=\"A_dna\">.</span><span class=\"G_dna\">.</span><span class=\"G_dna\">.</span><span class=\"T_dna\">.</span><span class=\"C_dna\">.</span><span class=\"terminal_ambig_dna\">.</span><span class=\"terminal_ambig_dna\">.</span><span class=\"terminal_ambig_dna\">.</span><span class=\"terminal_ambig_dna\">.</span><span class=\"terminal_ambig_dna\">.</span><span class=\"terminal_ambig_dna\">.</span><span class=\"terminal_ambig_dna\">.</span><span class=\"terminal_ambig_dna\">.</span><span class=\"terminal_ambig_dna\">.</span><span class=\"terminal_ambig_dna\">.</span><span class=\"terminal_ambig_dna\">.</span><span class=\"terminal_ambig_dna\">.</span><span class=\"terminal_ambig_dna\">.</span><span class=\"terminal_ambig_dna\">.</span><span class=\"terminal_ambig_dna\">.</span><span class=\"terminal_ambig_dna\">.</span><span class=\"terminal_ambig_dna\">.</span><span class=\"terminal_ambig_dna\">.</span><span class=\"terminal_ambig_dna\">.</span><span class=\"terminal_ambig_dna\">.</span><span class=\"terminal_ambig_dna\">.</span><span class=\"terminal_ambig_dna\">.</span><span class=\"terminal_ambig_dna\">.</span><span class=\"terminal_ambig_dna\">.</span><span class=\"terminal_ambig_dna\">.</span><span class=\"terminal_ambig_dna\">.</span><span class=\"terminal_ambig_dna\">.</span><span class=\"terminal_ambig_dna\">.</span><span class=\"terminal_ambig_dna\">.</span><span class=\"terminal_ambig_dna\">.</span><span class=\"terminal_ambig_dna\">.</span><span class=\"terminal_ambig_dna\">.</span><span class=\"terminal_ambig_dna\">.</span><span class=\"terminal_ambig_dna\">.</span><span class=\"terminal_ambig_dna\">.</span><span class=\"terminal_ambig_dna\">.</span><span class=\"terminal_ambig_dna\">.</span><span class=\"terminal_ambig_dna\">.</span><span class=\"terminal_ambig_dna\">.</span><span class=\"terminal_ambig_dna\">.</span><span class=\"terminal_ambig_dna\">.</span><span class=\"terminal_ambig_dna\">.</span><span class=\"terminal_ambig_dna\">.</span><span class=\"terminal_ambig_dna\">.</span><span class=\"terminal_ambig_dna\">.</span><span class=\"terminal_ambig_dna\">.</span><span class=\"terminal_ambig_dna\">.</span><span class=\"terminal_ambig_dna\">.</span><span class=\"terminal_ambig_dna\">.</span><span class=\"terminal_ambig_dna\">.</span><span class=\"terminal_ambig_dna\">.</span><span class=\"terminal_ambig_dna\">.</span><span class=\"terminal_ambig_dna\">.</span><span class=\"terminal_ambig_dna\">.</span><span class=\"terminal_ambig_dna\">.</span></td></tr>\n",
       "<tr><td class=\"label\">pan_troglodytes:22:32060815-32072454:1</td><td><span class=\"A_dna\">.</span><span class=\"G_dna\">.</span><span class=\"G_dna\">.</span><span class=\"T_dna\">.</span><span class=\"C_dna\">.</span><span class=\"terminal_ambig_dna\">.</span><span class=\"terminal_ambig_dna\">.</span><span class=\"terminal_ambig_dna\">.</span><span class=\"terminal_ambig_dna\">.</span><span class=\"terminal_ambig_dna\">.</span><span class=\"terminal_ambig_dna\">.</span><span class=\"terminal_ambig_dna\">.</span><span class=\"terminal_ambig_dna\">.</span><span class=\"terminal_ambig_dna\">.</span><span class=\"terminal_ambig_dna\">.</span><span class=\"terminal_ambig_dna\">.</span><span class=\"terminal_ambig_dna\">.</span><span class=\"terminal_ambig_dna\">.</span><span class=\"terminal_ambig_dna\">.</span><span class=\"terminal_ambig_dna\">.</span><span class=\"terminal_ambig_dna\">.</span><span class=\"terminal_ambig_dna\">.</span><span class=\"terminal_ambig_dna\">.</span><span class=\"terminal_ambig_dna\">.</span><span class=\"terminal_ambig_dna\">.</span><span class=\"terminal_ambig_dna\">.</span><span class=\"terminal_ambig_dna\">.</span><span class=\"terminal_ambig_dna\">.</span><span class=\"terminal_ambig_dna\">.</span><span class=\"terminal_ambig_dna\">.</span><span class=\"terminal_ambig_dna\">.</span><span class=\"terminal_ambig_dna\">.</span><span class=\"terminal_ambig_dna\">.</span><span class=\"terminal_ambig_dna\">.</span><span class=\"terminal_ambig_dna\">.</span><span class=\"terminal_ambig_dna\">.</span><span class=\"terminal_ambig_dna\">.</span><span class=\"terminal_ambig_dna\">.</span><span class=\"terminal_ambig_dna\">.</span><span class=\"terminal_ambig_dna\">.</span><span class=\"terminal_ambig_dna\">.</span><span class=\"terminal_ambig_dna\">.</span><span class=\"terminal_ambig_dna\">.</span><span class=\"terminal_ambig_dna\">.</span><span class=\"terminal_ambig_dna\">.</span><span class=\"terminal_ambig_dna\">.</span><span class=\"terminal_ambig_dna\">.</span><span class=\"terminal_ambig_dna\">.</span><span class=\"terminal_ambig_dna\">.</span><span class=\"terminal_ambig_dna\">.</span><span class=\"terminal_ambig_dna\">.</span><span class=\"terminal_ambig_dna\">.</span><span class=\"terminal_ambig_dna\">.</span><span class=\"terminal_ambig_dna\">.</span><span class=\"terminal_ambig_dna\">.</span><span class=\"terminal_ambig_dna\">.</span><span class=\"terminal_ambig_dna\">.</span><span class=\"terminal_ambig_dna\">.</span><span class=\"terminal_ambig_dna\">.</span><span class=\"terminal_ambig_dna\">.</span></td></tr>\n",
       "</table>\n",
       "<p><i>3 x 35699 (truncated to 3 x 60) dna alignment</i></p>\n",
       "</div>"
      ],
      "text/plain": [
       "3 x 35699 dna alignment: homo_sapiens:22:45284948-45295874:1[AGGTC-----...], gorilla_gorilla:22:28853875-28862222:1[AGGTC-----...], pan_troglodytes:22:32060815-32072454:1[AGGTC-----...]"
      ]
     },
     "execution_count": 5,
     "metadata": {},
     "output_type": "execute_result"
    }
   ],
   "source": [
    "#folder_in = paths.DATA_APES114 + 'introns/'\n",
    "folder_in = 'introns/'\n",
    "\n",
    "sequence = 'ENSG00000100373.fa'\n",
    "\n",
    "aln = load_aligned_seqs(filename = folder_in + sequence, format=\"fasta\", moltype='dna')\n",
    "aln"
   ]
  },
  {
   "cell_type": "code",
   "execution_count": 5,
   "metadata": {},
   "outputs": [
    {
     "data": {
      "application/vnd.jupyter.widget-view+json": {
       "model_id": "f48df10b03b64d5da34baaeab6d77bf1",
       "version_major": 2,
       "version_minor": 0
      },
      "text/plain": [
       "   0%|          |00:00<?"
      ]
     },
     "metadata": {},
     "output_type": "display_data"
    },
    {
     "data": {
      "application/vnd.jupyter.widget-view+json": {
       "model_id": "9f76493d675d421796fb862712848f1c",
       "version_major": 2,
       "version_minor": 0
      },
      "text/plain": [
       "   0%|          |00:00<?"
      ]
     },
     "metadata": {},
     "output_type": "display_data"
    },
    {
     "name": "stdout",
     "output_type": "stream",
     "text": [
      "Model results : \n",
      "GN\n",
      "log-likelihood = -5179.6405\n",
      "number of free parameters = 39\n",
      "========================================================================\n",
      "edge          parent    length      A>C      A>G     A>T     C>A     C>G\n",
      "------------------------------------------------------------------------\n",
      "Human         root        0.01     0.90     3.60    0.89    0.00    3.03\n",
      "Chimpanzee    root        0.01    10.92    21.52    5.35    4.58    4.56\n",
      "Gorilla       root        0.01     0.59     1.80    0.00    0.25    0.50\n",
      "------------------------------------------------------------------------\n",
      "\n",
      "continued: \n",
      "===============================================\n",
      "  C>T      G>A     G>C     G>T     T>A      T>C\n",
      "-----------------------------------------------\n",
      " 6.90     4.72    0.00    0.66    0.00     2.95\n",
      "50.00    16.28    3.96    0.00    0.00    11.76\n",
      " 2.05     2.91    0.00    0.66    0.00     0.00\n",
      "-----------------------------------------------\n",
      "\n",
      "============================\n",
      "   A       C       G       T\n",
      "----------------------------\n",
      "0.23    0.27    0.30    0.20\n",
      "----------------------------\n",
      "\n",
      "Distances: {'Human': np.float64(0.00935349688630193), 'Chimpanzee': np.float64(0.008124639429364667), 'Gorilla': np.float64(0.011545288403466528)}\n"
     ]
    }
   ],
   "source": [
    "rename = libs.renamer_aligned()\n",
    "omit_degs = get_app(\"omit_degenerates\", moltype=\"dna\")\n",
    "\n",
    "aln = rename(aln)\n",
    "aln = omit_degs(aln)\n",
    "\n",
    "sm = get_app(\"model\", \"GN\", time_het=\"max\", optimise_motif_probs=True, show_progress=True)\n",
    "result_intergenic = sm(aln)\n",
    "\n",
    "\n",
    "lengthstree = result_intergenic.lf.get_lengths_as_ens()\n",
    "print(\"Model results : \\n\" + str(result_intergenic.lf) + \"\\n\")\n",
    "print(\"Distances: \" + str(lengthstree))"
   ]
  },
  {
   "cell_type": "markdown",
   "metadata": {},
   "source": [
    "# Intron AR sample alignment\n",
    "\n",
    "I sampled chromosome 22 introns masking everythin but ancestral repeats using \n",
    "```\n",
    "eti alignments -i install -od intronsAR --align_name 10_primates* --ref human --mask_shadow ancestralrepeats_1column.txt --coord_names 22 \n",
    "```\n",
    "where ancestralrepeats_1column.txt is a list containing the ancestral repeats biotypes: \n",
    "Type I Transposons/LINE,\n",
    "Type I Transposons/SINE,\n",
    "Type II Transposons,\n",
    "LTRs"
   ]
  },
  {
   "cell_type": "code",
   "execution_count": 6,
   "metadata": {},
   "outputs": [
    {
     "name": "stderr",
     "output_type": "stream",
     "text": [
      "/home/u12/uliseshmc/.conda/envs/delme/lib/python3.13/site-packages/cogent3/util/warning.py:134: DeprecationWarning: argument format which will be removed in version 2025.9, use format_name instead\n",
      "reason='no longer has an effect'\n",
      "  deprecated(\n"
     ]
    },
    {
     "data": {
      "text/html": [
       "<style>\n",
       ".c3align table {margin: 10px 0;}\n",
       ".c3align td { border: none !important; text-align: left !important; }\n",
       ".c3align tr:not(.num_row) td span {margin: 0 2px;}\n",
       ".c3align tr:nth-child(even) {background: #f7f7f7;}\n",
       ".c3align .num_row {background-color:rgba(161, 195, 209, 0.5) !important; border-top: solid 1px black; }\n",
       ".c3align .label { font-size: 12pt ; text-align: right !important; color: black !important; padding: 0 4px; display: table-cell !important; font-weight: normal !important; }\n",
       ".c3align .T_dna{font-family: \"Lucida Console\",monospace !important; font-size: 12pt !important; color: blue; }\n",
       ".c3align .C_dna{font-family: \"Lucida Console\",monospace !important; font-size: 12pt !important; color: black; }\n",
       ".c3align .A_dna{font-family: \"Lucida Console\",monospace !important; font-size: 12pt !important; color: #FF0102; }\n",
       ".c3align .G_dna{font-family: \"Lucida Console\",monospace !important; font-size: 12pt !important; color: green; }\n",
       ".c3align .terminal_ambig_dna{font-family: \"Lucida Console\",monospace !important; font-size: 12pt !important; color: gray; }\n",
       ".c3align .ambig_dna{font-family: \"Lucida Console\",monospace !important; font-size: 12pt !important; color: gray; }\n",
       "</style>\n",
       "<div class=\"c3align\">\n",
       "<table>\n",
       "<tr class=\"num_row\"><td></td><td><b>0</b></td></tr>\n",
       "<tr><td class=\"label\">pan_troglodytes:22:32060815-32072454:1</td><td><span class=\"terminal_ambig_dna\">?</span><span class=\"terminal_ambig_dna\">?</span><span class=\"terminal_ambig_dna\">?</span><span class=\"terminal_ambig_dna\">?</span><span class=\"terminal_ambig_dna\">?</span><span class=\"terminal_ambig_dna\">-</span><span class=\"terminal_ambig_dna\">-</span><span class=\"terminal_ambig_dna\">-</span><span class=\"terminal_ambig_dna\">-</span><span class=\"terminal_ambig_dna\">-</span><span class=\"terminal_ambig_dna\">-</span><span class=\"terminal_ambig_dna\">-</span><span class=\"terminal_ambig_dna\">-</span><span class=\"terminal_ambig_dna\">-</span><span class=\"terminal_ambig_dna\">-</span><span class=\"terminal_ambig_dna\">-</span><span class=\"terminal_ambig_dna\">-</span><span class=\"terminal_ambig_dna\">-</span><span class=\"terminal_ambig_dna\">-</span><span class=\"terminal_ambig_dna\">-</span><span class=\"terminal_ambig_dna\">-</span><span class=\"terminal_ambig_dna\">-</span><span class=\"terminal_ambig_dna\">-</span><span class=\"terminal_ambig_dna\">-</span><span class=\"terminal_ambig_dna\">-</span><span class=\"terminal_ambig_dna\">-</span><span class=\"terminal_ambig_dna\">-</span><span class=\"terminal_ambig_dna\">-</span><span class=\"terminal_ambig_dna\">-</span><span class=\"terminal_ambig_dna\">-</span><span class=\"terminal_ambig_dna\">-</span><span class=\"terminal_ambig_dna\">-</span><span class=\"terminal_ambig_dna\">-</span><span class=\"terminal_ambig_dna\">-</span><span class=\"terminal_ambig_dna\">-</span><span class=\"terminal_ambig_dna\">-</span><span class=\"terminal_ambig_dna\">-</span><span class=\"terminal_ambig_dna\">-</span><span class=\"terminal_ambig_dna\">-</span><span class=\"terminal_ambig_dna\">-</span><span class=\"terminal_ambig_dna\">-</span><span class=\"terminal_ambig_dna\">-</span><span class=\"terminal_ambig_dna\">-</span><span class=\"terminal_ambig_dna\">-</span><span class=\"terminal_ambig_dna\">-</span><span class=\"terminal_ambig_dna\">-</span><span class=\"terminal_ambig_dna\">-</span><span class=\"terminal_ambig_dna\">-</span><span class=\"terminal_ambig_dna\">-</span><span class=\"terminal_ambig_dna\">-</span><span class=\"terminal_ambig_dna\">-</span><span class=\"terminal_ambig_dna\">-</span><span class=\"terminal_ambig_dna\">-</span><span class=\"terminal_ambig_dna\">-</span><span class=\"terminal_ambig_dna\">-</span><span class=\"terminal_ambig_dna\">-</span><span class=\"terminal_ambig_dna\">-</span><span class=\"terminal_ambig_dna\">-</span><span class=\"terminal_ambig_dna\">-</span><span class=\"terminal_ambig_dna\">-</span></td></tr>\n",
       "<tr><td class=\"label\">homo_sapiens:22:45284948-45295874:1</td><td><span class=\"terminal_ambig_dna\">.</span><span class=\"terminal_ambig_dna\">.</span><span class=\"terminal_ambig_dna\">.</span><span class=\"terminal_ambig_dna\">.</span><span class=\"terminal_ambig_dna\">.</span><span class=\"terminal_ambig_dna\">.</span><span class=\"terminal_ambig_dna\">.</span><span class=\"terminal_ambig_dna\">.</span><span class=\"terminal_ambig_dna\">.</span><span class=\"terminal_ambig_dna\">.</span><span class=\"terminal_ambig_dna\">.</span><span class=\"terminal_ambig_dna\">.</span><span class=\"terminal_ambig_dna\">.</span><span class=\"terminal_ambig_dna\">.</span><span class=\"terminal_ambig_dna\">.</span><span class=\"terminal_ambig_dna\">.</span><span class=\"terminal_ambig_dna\">.</span><span class=\"terminal_ambig_dna\">.</span><span class=\"terminal_ambig_dna\">.</span><span class=\"terminal_ambig_dna\">.</span><span class=\"terminal_ambig_dna\">.</span><span class=\"terminal_ambig_dna\">.</span><span class=\"terminal_ambig_dna\">.</span><span class=\"terminal_ambig_dna\">.</span><span class=\"terminal_ambig_dna\">.</span><span class=\"terminal_ambig_dna\">.</span><span class=\"terminal_ambig_dna\">.</span><span class=\"terminal_ambig_dna\">.</span><span class=\"terminal_ambig_dna\">.</span><span class=\"terminal_ambig_dna\">.</span><span class=\"terminal_ambig_dna\">.</span><span class=\"terminal_ambig_dna\">.</span><span class=\"terminal_ambig_dna\">.</span><span class=\"terminal_ambig_dna\">.</span><span class=\"terminal_ambig_dna\">.</span><span class=\"terminal_ambig_dna\">.</span><span class=\"terminal_ambig_dna\">.</span><span class=\"terminal_ambig_dna\">.</span><span class=\"terminal_ambig_dna\">.</span><span class=\"terminal_ambig_dna\">.</span><span class=\"terminal_ambig_dna\">.</span><span class=\"terminal_ambig_dna\">.</span><span class=\"terminal_ambig_dna\">.</span><span class=\"terminal_ambig_dna\">.</span><span class=\"terminal_ambig_dna\">.</span><span class=\"terminal_ambig_dna\">.</span><span class=\"terminal_ambig_dna\">.</span><span class=\"terminal_ambig_dna\">.</span><span class=\"terminal_ambig_dna\">.</span><span class=\"terminal_ambig_dna\">.</span><span class=\"terminal_ambig_dna\">.</span><span class=\"terminal_ambig_dna\">.</span><span class=\"terminal_ambig_dna\">.</span><span class=\"terminal_ambig_dna\">.</span><span class=\"terminal_ambig_dna\">.</span><span class=\"terminal_ambig_dna\">.</span><span class=\"terminal_ambig_dna\">.</span><span class=\"terminal_ambig_dna\">.</span><span class=\"terminal_ambig_dna\">.</span><span class=\"terminal_ambig_dna\">.</span></td></tr>\n",
       "<tr><td class=\"label\">gorilla_gorilla:22:28853875-28862222:1</td><td><span class=\"terminal_ambig_dna\">.</span><span class=\"terminal_ambig_dna\">.</span><span class=\"terminal_ambig_dna\">.</span><span class=\"terminal_ambig_dna\">.</span><span class=\"terminal_ambig_dna\">.</span><span class=\"terminal_ambig_dna\">.</span><span class=\"terminal_ambig_dna\">.</span><span class=\"terminal_ambig_dna\">.</span><span class=\"terminal_ambig_dna\">.</span><span class=\"terminal_ambig_dna\">.</span><span class=\"terminal_ambig_dna\">.</span><span class=\"terminal_ambig_dna\">.</span><span class=\"terminal_ambig_dna\">.</span><span class=\"terminal_ambig_dna\">.</span><span class=\"terminal_ambig_dna\">.</span><span class=\"terminal_ambig_dna\">.</span><span class=\"terminal_ambig_dna\">.</span><span class=\"terminal_ambig_dna\">.</span><span class=\"terminal_ambig_dna\">.</span><span class=\"terminal_ambig_dna\">.</span><span class=\"terminal_ambig_dna\">.</span><span class=\"terminal_ambig_dna\">.</span><span class=\"terminal_ambig_dna\">.</span><span class=\"terminal_ambig_dna\">.</span><span class=\"terminal_ambig_dna\">.</span><span class=\"terminal_ambig_dna\">.</span><span class=\"terminal_ambig_dna\">.</span><span class=\"terminal_ambig_dna\">.</span><span class=\"terminal_ambig_dna\">.</span><span class=\"terminal_ambig_dna\">.</span><span class=\"terminal_ambig_dna\">.</span><span class=\"terminal_ambig_dna\">.</span><span class=\"terminal_ambig_dna\">.</span><span class=\"terminal_ambig_dna\">.</span><span class=\"terminal_ambig_dna\">.</span><span class=\"terminal_ambig_dna\">.</span><span class=\"terminal_ambig_dna\">.</span><span class=\"terminal_ambig_dna\">.</span><span class=\"terminal_ambig_dna\">.</span><span class=\"terminal_ambig_dna\">.</span><span class=\"terminal_ambig_dna\">.</span><span class=\"terminal_ambig_dna\">.</span><span class=\"terminal_ambig_dna\">.</span><span class=\"terminal_ambig_dna\">.</span><span class=\"terminal_ambig_dna\">.</span><span class=\"terminal_ambig_dna\">.</span><span class=\"terminal_ambig_dna\">.</span><span class=\"terminal_ambig_dna\">.</span><span class=\"terminal_ambig_dna\">.</span><span class=\"terminal_ambig_dna\">.</span><span class=\"terminal_ambig_dna\">.</span><span class=\"terminal_ambig_dna\">.</span><span class=\"terminal_ambig_dna\">.</span><span class=\"terminal_ambig_dna\">.</span><span class=\"terminal_ambig_dna\">.</span><span class=\"terminal_ambig_dna\">.</span><span class=\"terminal_ambig_dna\">.</span><span class=\"terminal_ambig_dna\">.</span><span class=\"terminal_ambig_dna\">.</span><span class=\"terminal_ambig_dna\">.</span></td></tr>\n",
       "</table>\n",
       "<p><i>3 x 35699 (truncated to 3 x 60) dna alignment</i></p>\n",
       "</div>"
      ],
      "text/plain": [
       "3 x 35699 dna alignment: homo_sapiens:22:45284948-45295874:1[?????-----...], pan_troglodytes:22:32060815-32072454:1[?????-----...], gorilla_gorilla:22:28853875-28862222:1[?????-----...]"
      ]
     },
     "execution_count": 6,
     "metadata": {},
     "output_type": "execute_result"
    }
   ],
   "source": [
    "#folder_in = paths.DATA_APES114 + 'intronsAR/'\n",
    "folder_in = 'intronsAR/'\n",
    "\n",
    "sequence = 'ENSG00000100373.fa'\n",
    "\n",
    "aln = load_aligned_seqs(filename = folder_in + sequence, format=\"fasta\", moltype='dna')\n",
    "aln"
   ]
  },
  {
   "cell_type": "code",
   "execution_count": 7,
   "metadata": {},
   "outputs": [
    {
     "data": {
      "application/vnd.jupyter.widget-view+json": {
       "model_id": "1dc6435151f443c999694f7e9f3c7a40",
       "version_major": 2,
       "version_minor": 0
      },
      "text/plain": [
       "   0%|          |00:00<?"
      ]
     },
     "metadata": {},
     "output_type": "display_data"
    },
    {
     "data": {
      "application/vnd.jupyter.widget-view+json": {
       "model_id": "f96d885795fa4a629a345317ee28c376",
       "version_major": 2,
       "version_minor": 0
      },
      "text/plain": [
       "   0%|          |00:00<?"
      ]
     },
     "metadata": {},
     "output_type": "display_data"
    },
    {
     "name": "stdout",
     "output_type": "stream",
     "text": [
      "Model results : \n",
      "GN\n",
      "log-likelihood = -4155.1759\n",
      "number of free parameters = 39\n",
      "=========================================================================\n",
      "edge          parent    length     A>C      A>G      A>T     C>A      C>G\n",
      "-------------------------------------------------------------------------\n",
      "Human         root        0.02    1.00     2.54     0.00    0.46     0.47\n",
      "Chimpanzee    root        0.01    1.03     3.08     1.03    0.93     3.88\n",
      "Gorilla       root        0.01    0.00    47.72    17.84    0.00    11.08\n",
      "-------------------------------------------------------------------------\n",
      "\n",
      "continued: \n",
      "===============================================\n",
      "  C>T      G>A     G>C     G>T     T>A      T>C\n",
      "-----------------------------------------------\n",
      " 3.80     4.55    2.21    0.00    0.49     3.03\n",
      " 5.90     9.27    0.91    0.00    2.04     7.25\n",
      "50.00    32.30    0.00    0.00    0.00    41.75\n",
      "-----------------------------------------------\n",
      "\n",
      "============================\n",
      "   A       C       G       T\n",
      "----------------------------\n",
      "0.24    0.25    0.27    0.24\n",
      "----------------------------\n",
      "\n",
      "Distances: {'Human': np.float64(0.016518668601997945), 'Chimpanzee': np.float64(0.014884818066086342), 'Gorilla': np.float64(0.014095398920238988)}\n"
     ]
    }
   ],
   "source": [
    "rename = libs.renamer_aligned()\n",
    "omit_degs = get_app(\"omit_degenerates\", moltype=\"dna\")\n",
    "\n",
    "aln = rename(aln)\n",
    "aln = omit_degs(aln)\n",
    "\n",
    "sm = get_app(\"model\", \"GN\", time_het=\"max\", optimise_motif_probs=True, show_progress=True)\n",
    "result_intergenic = sm(aln)\n",
    "\n",
    "\n",
    "lengthstree = result_intergenic.lf.get_lengths_as_ens()\n",
    "print(\"Model results : \\n\" + str(result_intergenic.lf) + \"\\n\")\n",
    "print(\"Distances: \" + str(lengthstree))"
   ]
  }
 ],
 "metadata": {
  "kernelspec": {
   "display_name": "delme",
   "language": "python",
   "name": "python3"
  },
  "language_info": {
   "codemirror_mode": {
    "name": "ipython",
    "version": 3
   },
   "file_extension": ".py",
   "mimetype": "text/x-python",
   "name": "python",
   "nbconvert_exporter": "python",
   "pygments_lexer": "ipython3",
   "version": "3.13.7"
  }
 },
 "nbformat": 4,
 "nbformat_minor": 2
}

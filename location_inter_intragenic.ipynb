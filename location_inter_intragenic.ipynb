{
 "cells": [
  {
   "cell_type": "code",
   "execution_count": 2,
   "metadata": {},
   "outputs": [],
   "source": [
    "import cogent3\n",
    "import pandas as pd\n",
    "import numpy as np\n",
    "import paths"
   ]
  },
  {
   "cell_type": "code",
   "execution_count": 3,
   "metadata": {},
   "outputs": [
    {
     "data": {
      "text/html": [
       "\n",
       "<div class=\"c3table\">\n",
       "\n",
       "<style>\n",
       ".c3table table {margin: 10px 0;}\n",
       ".c3table tr:last-child {border-bottom: 1px solid #000;} \n",
       ".c3table tr > th {text-align: left; padding: 0 5px;}\n",
       ".c3table tr > td {text-align: left; padding: 5px;}\n",
       ".c3table tr:nth-child(even) {background: #f7f7f7 !important;}\n",
       ".c3table .ellipsis {background: rgba(0, 0, 0, .01);}\n",
       ".c3table .index {background: rgba(161, 195, 209, 0.0); margin: 10px; font-weight: 600;}\n",
       ".c3table .head_cell {background: rgba(161, 195, 209, 0.75); font-weight: bold; text-align: center;}\n",
       ".c3table caption {color: rgb(250, 250, 250); background: rgba(30, 140, 200, 1); padding: 3px; white-space: nowrap; caption-side: top;}\n",
       ".c3table .cell_title {font-weight: bold;}\n",
       ".c3col_left { text-align: left !important; display: block;}\n",
       ".c3col_right { text-align: right !important; display: block;}\n",
       ".c3col_center { text-align: center !important; display: block;}\n",
       "</style>\n",
       "\n",
       "<table>\n",
       "\n",
       "<thead class=\"head_cell\">\n",
       "<th>species</th><th>seqid</th><th>source</th><th>biotype</th><th>transcript_biotypes</th><th>num_transcripts</th><th>start</th><th>stop</th><th>strand</th><th>symbol</th><th>description</th>\n",
       "</thead>\n",
       "<tbody>\n",
       "<tr><td><span class=\"c3col_left\">homo_sapiens</span></td><td><span class=\"c3col_left\">3</span></td><td><span class=\"c3col_left\"></span></td><td><span class=\"c3col_left\">lncRNA</span></td><td><span class=\"c3col_left\">lncRNA,retained_intron</span></td><td><span class=\"c3col_right\">11</span></td><td><span class=\"c3col_right\">185959733</span></td><td><span class=\"c3col_right\">186012561</span></td><td><span class=\"c3col_right\">1</span></td><td><span class=\"c3col_left\">NMRAL2P</span></td><td><span class=\"c3col_left\">NmrA like redox sensor 2, pseudogene [Source:NCBI gene (formerly Entrezgene);Acc:344887]</span></td></tr>\n",
       "<tr><td><span class=\"c3col_left\">homo_sapiens</span></td><td><span class=\"c3col_left\">4</span></td><td><span class=\"c3col_left\"></span></td><td><span class=\"c3col_left\">lncRNA</span></td><td><span class=\"c3col_left\">lncRNA</span></td><td><span class=\"c3col_right\">83</span></td><td><span class=\"c3col_right\">3941043</span></td><td><span class=\"c3col_right\">3956353</span></td><td><span class=\"c3col_right\">-1</span></td><td><span class=\"c3col_left\">FAM86EP</span></td><td><span class=\"c3col_left\">family with sequence similarity 86, member A pseudogene [Source:NCBI gene (formerly Entrezgene);Acc:348926]</span></td></tr>\n",
       "<tr><td><span class=\"c3col_left\">homo_sapiens</span></td><td><span class=\"c3col_left\">19</span></td><td><span class=\"c3col_left\"></span></td><td><span class=\"c3col_left\">lncRNA</span></td><td><span class=\"c3col_left\">lncRNA,retained_intron</span></td><td><span class=\"c3col_right\">19</span></td><td><span class=\"c3col_right\">60950</span></td><td><span class=\"c3col_right\">72334</span></td><td><span class=\"c3col_right\">-1</span></td><td><span class=\"c3col_left\">WASH5P</span></td><td><span class=\"c3col_left\">WASP family homolog 5, pseudogene [Source:NCBI gene (formerly Entrezgene);Acc:375690]</span></td></tr>\n",
       "<tr><td><span class=\"c3col_left\">homo_sapiens</span></td><td><span class=\"c3col_left\">17</span></td><td><span class=\"c3col_left\"></span></td><td><span class=\"c3col_left\">lncRNA</span></td><td><span class=\"c3col_left\">lncRNA</span></td><td><span class=\"c3col_right\">1</span></td><td><span class=\"c3col_right\">57045477</span></td><td><span class=\"c3col_right\">57046797</span></td><td><span class=\"c3col_right\">1</span></td><td><span class=\"c3col_left\">RNF126P1</span></td><td><span class=\"c3col_left\">ring finger protein 126 pseudogene 1 [Source:NCBI gene (formerly Entrezgene);Acc:376412]</span></td></tr>\n",
       "<tr><td><span class=\"c3col_left\">homo_sapiens</span></td><td><span class=\"c3col_left\">16</span></td><td><span class=\"c3col_left\"></span></td><td><span class=\"c3col_left\">lncRNA</span></td><td><span class=\"c3col_left\">lncRNA</span></td><td><span class=\"c3col_right\">2</span></td><td><span class=\"c3col_right\">32877468</span></td><td><span class=\"c3col_right\">32885142</span></td><td><span class=\"c3col_right\">-1</span></td><td><span class=\"c3col_left\">SLC6A10P</span></td><td><span class=\"c3col_left\">solute carrier family 6 member 10, pseudogene [Source:NCBI gene (formerly Entrezgene);Acc:386757]</span></td></tr>\n",
       "<tr class=\"ellipsis\"><td><span class=\"c3col_left\">...</span></td><td><span class=\"c3col_left\">...</span></td><td><span class=\"c3col_left\">...</span></td><td><span class=\"c3col_left\">...</span></td><td><span class=\"c3col_left\">...</span></td><td><span class=\"c3col_right\">...</span></td><td><span class=\"c3col_right\">...</span></td><td><span class=\"c3col_right\">...</span></td><td><span class=\"c3col_right\">...</span></td><td><span class=\"c3col_left\">...</span></td><td><span class=\"c3col_left\">...</span></td></tr>\n",
       "<tr><td><span class=\"c3col_left\">homo_sapiens</span></td><td><span class=\"c3col_left\">KI270744.1</span></td><td><span class=\"c3col_left\"></span></td><td><span class=\"c3col_left\">lncRNA</span></td><td><span class=\"c3col_left\">lncRNA</span></td><td><span class=\"c3col_right\">1</span></td><td><span class=\"c3col_right\">142830</span></td><td><span class=\"c3col_right\">150130</span></td><td><span class=\"c3col_right\">1</span></td><td><span class=\"c3col_left\"></span></td><td><span class=\"c3col_left\">novel transcript</span></td></tr>\n",
       "<tr><td><span class=\"c3col_left\">homo_sapiens</span></td><td><span class=\"c3col_left\">KI270744.1</span></td><td><span class=\"c3col_left\"></span></td><td><span class=\"c3col_left\">lncRNA</span></td><td><span class=\"c3col_left\">lncRNA</span></td><td><span class=\"c3col_right\">1</span></td><td><span class=\"c3col_right\">65347</span></td><td><span class=\"c3col_right\">66807</span></td><td><span class=\"c3col_right\">1</span></td><td><span class=\"c3col_left\"></span></td><td><span class=\"c3col_left\">novel transcript</span></td></tr>\n",
       "<tr><td><span class=\"c3col_left\">homo_sapiens</span></td><td><span class=\"c3col_left\">KI270744.1</span></td><td><span class=\"c3col_left\"></span></td><td><span class=\"c3col_left\">lncRNA</span></td><td><span class=\"c3col_left\">lncRNA</span></td><td><span class=\"c3col_right\">1</span></td><td><span class=\"c3col_right\">423</span></td><td><span class=\"c3col_right\">6215</span></td><td><span class=\"c3col_right\">-1</span></td><td><span class=\"c3col_left\"></span></td><td><span class=\"c3col_left\">novel transcript</span></td></tr>\n",
       "<tr><td><span class=\"c3col_left\">homo_sapiens</span></td><td><span class=\"c3col_left\">KI270744.1</span></td><td><span class=\"c3col_left\"></span></td><td><span class=\"c3col_left\">lncRNA</span></td><td><span class=\"c3col_left\">lncRNA</span></td><td><span class=\"c3col_right\">18</span></td><td><span class=\"c3col_right\">5312</span></td><td><span class=\"c3col_right\">80720</span></td><td><span class=\"c3col_right\">1</span></td><td><span class=\"c3col_left\"></span></td><td><span class=\"c3col_left\">novel transcript</span></td></tr>\n",
       "<tr><td><span class=\"c3col_left\">homo_sapiens</span></td><td><span class=\"c3col_left\">KI270744.1</span></td><td><span class=\"c3col_left\"></span></td><td><span class=\"c3col_left\">lncRNA</span></td><td><span class=\"c3col_left\">lncRNA</span></td><td><span class=\"c3col_right\">5</span></td><td><span class=\"c3col_right\">90022</span></td><td><span class=\"c3col_right\">112250</span></td><td><span class=\"c3col_right\">-1</span></td><td><span class=\"c3col_left\"></span></td><td><span class=\"c3col_left\">novel transcript</span></td></tr>\n",
       "</tbody>\n",
       "</table>\n",
       "<p>Top 5 and bottom 5 rows from\n",
       "87,688 rows x 11 columns</p>\n",
       "</div>"
      ],
      "text/plain": [
       "===========================================================================================================================================================================================================================================================\n",
       "species         seqid         source    biotype    transcript_biotypes       num_transcripts        start         stop    strand    symbol      description                                                                                                \n",
       "-----------------------------------------------------------------------------------------------------------------------------------------------------------------------------------------------------------------------------------------------------------\n",
       "homo_sapiens    3                       lncRNA     lncRNA,retained_intron                 11    185959733    186012561         1    NMRAL2P     NmrA like redox sensor 2, pseudogene [Source:NCBI gene (formerly Entrezgene);Acc:344887]                   \n",
       "homo_sapiens    4                       lncRNA     lncRNA                                 83      3941043      3956353        -1    FAM86EP     family with sequence similarity 86, member A pseudogene [Source:NCBI gene (formerly Entrezgene);Acc:348926]\n",
       "homo_sapiens    19                      lncRNA     lncRNA,retained_intron                 19        60950        72334        -1    WASH5P      WASP family homolog 5, pseudogene [Source:NCBI gene (formerly Entrezgene);Acc:375690]                      \n",
       "homo_sapiens    17                      lncRNA     lncRNA                                  1     57045477     57046797         1    RNF126P1    ring finger protein 126 pseudogene 1 [Source:NCBI gene (formerly Entrezgene);Acc:376412]                   \n",
       "homo_sapiens    16                      lncRNA     lncRNA                                  2     32877468     32885142        -1    SLC6A10P    solute carrier family 6 member 10, pseudogene [Source:NCBI gene (formerly Entrezgene);Acc:386757]          \n",
       "homo_sapiens    KI270744.1              lncRNA     lncRNA                                  1       142830       150130         1                novel transcript                                                                                           \n",
       "homo_sapiens    KI270744.1              lncRNA     lncRNA                                  1        65347        66807         1                novel transcript                                                                                           \n",
       "homo_sapiens    KI270744.1              lncRNA     lncRNA                                  1          423         6215        -1                novel transcript                                                                                           \n",
       "homo_sapiens    KI270744.1              lncRNA     lncRNA                                 18         5312        80720         1                novel transcript                                                                                           \n",
       "homo_sapiens    KI270744.1              lncRNA     lncRNA                                  5        90022       112250        -1                novel transcript                                                                                           \n",
       "-----------------------------------------------------------------------------------------------------------------------------------------------------------------------------------------------------------------------------------------------------------\n",
       "Top 5 and bottom 5 rows from\n",
       "87,688 rows x 11 columns"
      ]
     },
     "execution_count": 3,
     "metadata": {},
     "output_type": "execute_result"
    }
   ],
   "source": [
    "folder_in = paths.DATA_APES114\n",
    "folder_out = paths.DATA_APES114\n",
    "\n",
    "table = cogent3.load_table(folder_in + \"homo_sapiens-114-gene_metadata.tsv\")\n",
    "\n",
    "table"
   ]
  },
  {
   "cell_type": "code",
   "execution_count": 15,
   "metadata": {},
   "outputs": [],
   "source": [
    "ref_species = \"homo_sapiens\"\n",
    "chrom_coord = 22\n",
    "strand = 1\n",
    "coordanates_table = table.filtered(lambda x: x == chrom_coord, columns=\"seqid\")\n",
    "\n",
    "coordanates_table = coordanates_table[:, [\"species\", \"seqid\", \"start\", \"stop\", \"strand\"]]\n",
    "coordanates_table = coordanates_table.sorted(columns=[\"start\", \"stop\"])\n",
    "#write a sample table for genome 22\n",
    "coordanates_table.write(folder_out + \"chrom\" + str(chrom_coord) + \"-intragenic.tsv\")\n"
   ]
  },
  {
   "cell_type": "code",
   "execution_count": 16,
   "metadata": {},
   "outputs": [
    {
     "data": {
      "text/html": [
       "\n",
       "<div class=\"c3table\">\n",
       "\n",
       "<style>\n",
       ".c3table table {margin: 10px 0;}\n",
       ".c3table tr:last-child {border-bottom: 1px solid #000;} \n",
       ".c3table tr > th {text-align: left; padding: 0 5px;}\n",
       ".c3table tr > td {text-align: left; padding: 5px;}\n",
       ".c3table tr:nth-child(even) {background: #f7f7f7 !important;}\n",
       ".c3table .ellipsis {background: rgba(0, 0, 0, .01);}\n",
       ".c3table .index {background: rgba(161, 195, 209, 0.0); margin: 10px; font-weight: 600;}\n",
       ".c3table .head_cell {background: rgba(161, 195, 209, 0.75); font-weight: bold; text-align: center;}\n",
       ".c3table caption {color: rgb(250, 250, 250); background: rgba(30, 140, 200, 1); padding: 3px; white-space: nowrap; caption-side: top;}\n",
       ".c3table .cell_title {font-weight: bold;}\n",
       ".c3col_left { text-align: left !important; display: block;}\n",
       ".c3col_right { text-align: right !important; display: block;}\n",
       ".c3col_center { text-align: center !important; display: block;}\n",
       "</style>\n",
       "\n",
       "<table>\n",
       "\n",
       "<thead class=\"head_cell\">\n",
       "<th>species</th><th>seqid</th><th>start</th><th>stop</th><th>strand</th>\n",
       "</thead>\n",
       "<tbody>\n",
       "<tr><td><span class=\"c3col_left\">homo_sapiens</span></td><td><span class=\"c3col_right\">22</span></td><td><span class=\"c3col_right\">0</span></td><td><span class=\"c3col_right\">10524343</span></td><td><span class=\"c3col_right\">1</span></td></tr>\n",
       "<tr><td><span class=\"c3col_left\">homo_sapiens</span></td><td><span class=\"c3col_right\">22</span></td><td><span class=\"c3col_right\">10529164</span></td><td><span class=\"c3col_right\">10736169</span></td><td><span class=\"c3col_right\">1</span></td></tr>\n",
       "<tr><td><span class=\"c3col_left\">homo_sapiens</span></td><td><span class=\"c3col_right\">22</span></td><td><span class=\"c3col_right\">10736283</span></td><td><span class=\"c3col_right\">10742048</span></td><td><span class=\"c3col_right\">1</span></td></tr>\n",
       "<tr><td><span class=\"c3col_left\">homo_sapiens</span></td><td><span class=\"c3col_right\">22</span></td><td><span class=\"c3col_right\">10754413</span></td><td><span class=\"c3col_right\">10939386</span></td><td><span class=\"c3col_right\">1</span></td></tr>\n",
       "<tr><td><span class=\"c3col_left\">homo_sapiens</span></td><td><span class=\"c3col_right\">22</span></td><td><span class=\"c3col_right\">10961693</span></td><td><span class=\"c3col_right\">11066266</span></td><td><span class=\"c3col_right\">1</span></td></tr>\n",
       "<tr class=\"ellipsis\"><td><span class=\"c3col_left\">...</span></td><td><span class=\"c3col_right\">...</span></td><td><span class=\"c3col_right\">...</span></td><td><span class=\"c3col_right\">...</span></td><td><span class=\"c3col_right\">...</span></td></tr>\n",
       "<tr><td><span class=\"c3col_left\">homo_sapiens</span></td><td><span class=\"c3col_right\">22</span></td><td><span class=\"c3col_right\">50653123</span></td><td><span class=\"c3col_right\">50664424</span></td><td><span class=\"c3col_right\">1</span></td></tr>\n",
       "<tr><td><span class=\"c3col_left\">homo_sapiens</span></td><td><span class=\"c3col_right\">22</span></td><td><span class=\"c3col_right\">50733212</span></td><td><span class=\"c3col_right\">50735811</span></td><td><span class=\"c3col_right\">1</span></td></tr>\n",
       "<tr><td><span class=\"c3col_left\">homo_sapiens</span></td><td><span class=\"c3col_right\">22</span></td><td><span class=\"c3col_right\">50738173</span></td><td><span class=\"c3col_right\">50738194</span></td><td><span class=\"c3col_right\">1</span></td></tr>\n",
       "<tr><td><span class=\"c3col_left\">homo_sapiens</span></td><td><span class=\"c3col_right\">22</span></td><td><span class=\"c3col_right\">50745339</span></td><td><span class=\"c3col_right\">50754673</span></td><td><span class=\"c3col_right\">1</span></td></tr>\n",
       "<tr><td><span class=\"c3col_left\">homo_sapiens</span></td><td><span class=\"c3col_right\">22</span></td><td><span class=\"c3col_right\">50755434</span></td><td><span class=\"c3col_right\">50756829</span></td><td><span class=\"c3col_right\">1</span></td></tr>\n",
       "</tbody>\n",
       "</table>\n",
       "<p>Top 5 and bottom 5 rows from\n",
       "804 rows x 5 columns</p>\n",
       "</div>"
      ],
      "text/plain": [
       "=======================================================\n",
       "species         seqid       start        stop    strand\n",
       "-------------------------------------------------------\n",
       "homo_sapiens       22           0    10524343         1\n",
       "homo_sapiens       22    10529164    10736169         1\n",
       "homo_sapiens       22    10736283    10742048         1\n",
       "homo_sapiens       22    10754413    10939386         1\n",
       "homo_sapiens       22    10961693    11066266         1\n",
       "homo_sapiens       22    50653123    50664424         1\n",
       "homo_sapiens       22    50733212    50735811         1\n",
       "homo_sapiens       22    50738173    50738194         1\n",
       "homo_sapiens       22    50745339    50754673         1\n",
       "homo_sapiens       22    50755434    50756829         1\n",
       "-------------------------------------------------------\n",
       "Top 5 and bottom 5 rows from\n",
       "804 rows x 5 columns"
      ]
     },
     "execution_count": 16,
     "metadata": {},
     "output_type": "execute_result"
    }
   ],
   "source": [
    "start_stop_overlapping = coordanates_table.to_list(columns=[\"start\", \"stop\"])\n",
    "start_stop_nonoverlapping = cogent3.util.misc.get_merged_overlapping_coords(start_stop_overlapping)\n",
    "#using subsample to speed analysis, remove next line when doing the final analysis\n",
    "start_stop_nonoverlapping = start_stop_nonoverlapping\n",
    "\n",
    "inter_genic = []\n",
    "last_end = 0\n",
    "for start, stop in start_stop_nonoverlapping:\n",
    "   inter_genic.append((ref_species, chrom_coord, last_end, start-1, strand))\n",
    "   last_end = stop\n",
    "\n",
    "intergen_tab = cogent3.make_table(header=[\"species\", \"seqid\", \"start\", \"stop\", \"strand\"], data=inter_genic)\n",
    "intergen_tab.write(folder_out + \"chrom\" + str(chrom_coord) + \"-intergenic.tsv\")\n",
    "intergen_tab"
   ]
  },
  {
   "cell_type": "code",
   "execution_count": 6,
   "metadata": {},
   "outputs": [
    {
     "data": {
      "text/html": [
       "<div>\n",
       "<style scoped>\n",
       "    .dataframe tbody tr th:only-of-type {\n",
       "        vertical-align: middle;\n",
       "    }\n",
       "\n",
       "    .dataframe tbody tr th {\n",
       "        vertical-align: top;\n",
       "    }\n",
       "\n",
       "    .dataframe thead th {\n",
       "        text-align: right;\n",
       "    }\n",
       "</style>\n",
       "<table border=\"1\" class=\"dataframe\">\n",
       "  <thead>\n",
       "    <tr style=\"text-align: right;\">\n",
       "      <th></th>\n",
       "      <th>species</th>\n",
       "      <th>seqid</th>\n",
       "      <th>start</th>\n",
       "      <th>stop</th>\n",
       "      <th>strand</th>\n",
       "    </tr>\n",
       "  </thead>\n",
       "  <tbody>\n",
       "  </tbody>\n",
       "</table>\n",
       "</div>"
      ],
      "text/plain": [
       "Empty DataFrame\n",
       "Columns: [species, seqid, start, stop, strand]\n",
       "Index: []"
      ]
     },
     "execution_count": 6,
     "metadata": {},
     "output_type": "execute_result"
    }
   ],
   "source": [
    "pandastable = intergen_tab.to_pandas()\n",
    "elements_lower = pandastable['start'] > pandastable['stop']\n",
    "pandastable[elements_lower]"
   ]
  },
  {
   "cell_type": "code",
   "execution_count": 7,
   "metadata": {},
   "outputs": [
    {
     "data": {
      "text/plain": [
       "species    homo_sapiens\n",
       "seqid                22\n",
       "start          36507221\n",
       "stop           36510853\n",
       "strand                1\n",
       "Name: 511, dtype: object"
      ]
     },
     "execution_count": 7,
     "metadata": {},
     "output_type": "execute_result"
    }
   ],
   "source": [
    "target_start = 36510854 \n",
    "diff = np.abs(pandastable['start'] - target_start)\n",
    "closest_index = diff.idxmin()\n",
    "pandastable.iloc[closest_index]"
   ]
  }
 ],
 "metadata": {
  "kernelspec": {
   "display_name": "delme",
   "language": "python",
   "name": "python3"
  },
  "language_info": {
   "codemirror_mode": {
    "name": "ipython",
    "version": 3
   },
   "file_extension": ".py",
   "mimetype": "text/x-python",
   "name": "python",
   "nbconvert_exporter": "python",
   "pygments_lexer": "ipython3",
   "version": "3.13.7"
  },
  "orig_nbformat": 4
 },
 "nbformat": 4,
 "nbformat_minor": 2
}

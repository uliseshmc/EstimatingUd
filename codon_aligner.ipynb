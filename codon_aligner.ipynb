{
 "cells": [
  {
   "cell_type": "code",
   "execution_count": null,
   "metadata": {},
   "outputs": [],
   "source": [
    "import cogent3\n",
    "from cogent3 import get_app\n",
    "import libs\n",
    "import paths"
   ]
  },
  {
   "cell_type": "code",
   "execution_count": null,
   "metadata": {},
   "outputs": [],
   "source": [
    "#set folders to read and export data\n",
    "folder_in = paths.DATA_APES114 + 'aligns_cds/'\n",
    "folder_out = paths.DATA_APES114 + 'aligns_cds/codon_aligned'\n",
    "\n",
    "in_dstore = cogent3.open_data_store(folder_in, suffix='fa', mode='r')\n",
    "out_dstore = cogent3.open_data_store(folder_out, suffix='fa', mode=\"w\")\n",
    "\n",
    "print(in_dstore.describe)"
   ]
  },
  {
   "cell_type": "code",
   "execution_count": null,
   "metadata": {},
   "outputs": [
    {
     "data": {
      "application/vnd.jupyter.widget-view+json": {
       "model_id": "dee1df51d9994796995d9e8cedf91101",
       "version_major": 2,
       "version_minor": 0
      },
      "text/plain": [
       "   0%|          |00:00<?"
      ]
     },
     "metadata": {},
     "output_type": "display_data"
    },
    {
     "name": "stdout",
     "output_type": "stream",
     "text": [
      "Directory datastore\n",
      "=======================\n",
      "record type      number\n",
      "-----------------------\n",
      "completed           344\n",
      "not_completed        71\n",
      "logs                  1\n",
      "-----------------------\n",
      "not completed records\n",
      "=======================================================================================================================\n",
      "type     origin     message                                          num    source                                     \n",
      "-----------------------------------------------------------------------------------------------------------------------\n",
      "ERROR    renamer    'ValueError: The foll...> at 0x7f2093d3ade0>'     71    ENSG00000184708.fa, ENSG00000100105.fa, ...\n",
      "-----------------------------------------------------------------------------------------------------------------------\n"
     ]
    }
   ],
   "source": [
    "#perform a codon alignment and remove stop codons\n",
    "loader = get_app(\"load_unaligned\", moltype=\"dna\")\n",
    "rename = libs.renamer()\n",
    "#why do I trim stop codons? Does this mean that the stop codon is ereased and the rest of the sequence is still analyzed\n",
    "trim_stops = get_app(\"trim_stop_codons\")\n",
    "codon_align = get_app(\"progressive_align\", \"codon\", guide_tree=\"(Human:0.06,Chimpanzee:0.06,Gorilla:0.1)\")\n",
    "writer = get_app(\"write_seqs\", data_store = out_dstore)\n",
    "app = loader + rename + trim_stops + codon_align + writer\n",
    "#underscore is to specify a variable we are not gonna use later\n",
    "_ = list(app.apply_to(in_dstore[:], parallel = True, show_progress=True))\n",
    "print(out_dstore.describe)\n",
    "print(out_dstore.summary_not_completed)"
   ]
  }
 ],
 "metadata": {
  "kernelspec": {
   "display_name": "Python 3.13.5 ('EstimatingUd')",
   "language": "python",
   "name": "python3"
  },
  "language_info": {
   "codemirror_mode": {
    "name": "ipython",
    "version": 3
   },
   "file_extension": ".py",
   "mimetype": "text/x-python",
   "name": "python",
   "nbconvert_exporter": "python",
   "pygments_lexer": "ipython3",
   "version": "3.13.5"
  },
  "orig_nbformat": 4,
  "vscode": {
   "interpreter": {
    "hash": "53a0ee2834e5a3220609a583c5db6d166b18855c93dee771c0346263a6405663"
   }
  }
 },
 "nbformat": 4,
 "nbformat_minor": 2
}

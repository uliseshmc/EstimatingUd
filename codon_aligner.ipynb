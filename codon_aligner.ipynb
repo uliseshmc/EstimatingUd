{
 "cells": [
  {
   "cell_type": "code",
   "execution_count": 1,
   "metadata": {},
   "outputs": [],
   "source": [
    "import cogent3\n",
    "from cogent3 import get_app\n",
    "\n",
    "@cogent3.app.composable.define_app\n",
    "def renamer(seqs: cogent3.app.typing.UnalignedSeqsType) -> cogent3.app.typing.UnalignedSeqsType:\n",
    "    \"\"\"\n",
    "    A function to rename sequences in a dataset.\n",
    "    \"\"\"\n",
    "\n",
    "    name_map = {\n",
    "        \"homo_sapiens\": \"Human\",\n",
    "        \"pan_troglodytes\": \"Chimpanzee\",\n",
    "        \"gorilla_gorilla\": \"Gorilla\"\n",
    "    }\n",
    "\n",
    "    seqs = seqs.rename_seqs(lambda x: name_map.get(x.split(\"-\")[0], x))\n",
    "\n",
    "    return seqs.take_seqs(list(name_map.values()))\n"
   ]
  },
  {
   "cell_type": "code",
   "execution_count": 2,
   "metadata": {},
   "outputs": [
    {
     "name": "stderr",
     "output_type": "stream",
     "text": [
      "/home/u12/uliseshmc/.conda/envs/EstimatingUd/lib/python3.13/site-packages/cogent3_h5seqs/__init__.py:11: DeprecationWarning: module cogent3.core.new_alignment which will be removed in version 2025.9, use cogent3.core.alignment instead\n",
      "reason='has been renamed'\n",
      "  from cogent3.core import new_alignment as c3_alignment\n",
      "/home/u12/uliseshmc/.conda/envs/EstimatingUd/lib/python3.13/site-packages/cogent3_h5seqs/__init__.py:12: DeprecationWarning: module cogent3.core.new_alphabet which will be removed in version 2025.9, use cogent3.core.alphabet instead\n",
      "reason='has been renamed'\n",
      "  from cogent3.core import new_alphabet as c3_alphabet\n",
      "/home/u12/uliseshmc/.conda/envs/EstimatingUd/lib/python3.13/site-packages/cogent3_h5seqs/__init__.py:13: DeprecationWarning: module cogent3.core.new_moltype which will be removed in version 2025.9, use cogent3.core.moltype instead\n",
      "reason='has been renamed'\n",
      "  from cogent3.core import new_moltype as c3_moltype\n",
      "/home/u12/uliseshmc/.conda/envs/EstimatingUd/lib/python3.13/site-packages/cogent3_h5seqs/__init__.py:14: DeprecationWarning: module cogent3.core.new_sequence which will be removed in version 2025.9, use cogent3.core.sequence instead\n",
      "reason='has been renamed'\n",
      "  from cogent3.core import new_sequence as c3_sequence\n"
     ]
    },
    {
     "data": {
      "application/vnd.jupyter.widget-view+json": {
       "model_id": "6f60e3b2f78a47c491f51cdc0f56ec65",
       "version_major": 2,
       "version_minor": 0
      },
      "text/plain": [
       "   0%|          |00:00<?"
      ]
     },
     "metadata": {},
     "output_type": "display_data"
    },
    {
     "name": "stdout",
     "output_type": "stream",
     "text": [
      "Directory datastore\n",
      "=======================\n",
      "record type      number\n",
      "-----------------------\n",
      "completed          1694\n",
      "not_completed       444\n",
      "logs                 12\n",
      "-----------------------\n",
      "not completed records\n",
      "=======================================================================================================================\n",
      "type     origin     message                                          num    source                                     \n",
      "-----------------------------------------------------------------------------------------------------------------------\n",
      "ERROR    renamer    'ValueError: non-uniq...> at 0x7f60a76300e0>'    444    ENSG00000243480.fa, ENSG00000185668.fa, ...\n",
      "-----------------------------------------------------------------------------------------------------------------------\n"
     ]
    }
   ],
   "source": [
    "#set folders to read and export data\n",
    "folder_in = '/xdisk/masel/uliseshmc/EstimatingUd/primates10_114/aligns_cds/'\n",
    "folder_out = '/xdisk/masel/uliseshmc/EstimatingUd/primates10_114/aligns_cds/codon_aligned'\n",
    "in_dstore = cogent3.open_data_store(folder_in, suffix='fa', mode='r')\n",
    "out_dstore = cogent3.open_data_store(folder_out, suffix='fa', mode=\"w\")\n",
    "\n",
    "#perform a codon alignment and remove stop codons\n",
    "loader = get_app(\"load_unaligned\", moltype=\"dna\")\n",
    "rename = renamer()\n",
    "#why do I trim stop codons? Does this mean that the stop codon is ereased and the rest of the sequence is still analyzed\n",
    "trim_stops = get_app(\"trim_stop_codons\")\n",
    "codon_align = get_app(\"progressive_align\", \"codon\", guide_tree=\"(Human:0.06,Chimpanzee:0.06,Gorilla:0.1)\")\n",
    "writer = get_app(\"write_seqs\", data_store = out_dstore)\n",
    "app = loader + rename + trim_stops + codon_align + writer\n",
    "#underscore is to specify a variable we are not gonna use later\n",
    "_ = list(app.apply_to(in_dstore[:], parallel = True, show_progress=True))\n",
    "print(out_dstore.describe)\n",
    "print(out_dstore.summary_not_completed)"
   ]
  }
 ],
 "metadata": {
  "kernelspec": {
   "display_name": "Python 3.13.5 ('EstimatingUd')",
   "language": "python",
   "name": "python3"
  },
  "language_info": {
   "codemirror_mode": {
    "name": "ipython",
    "version": 3
   },
   "file_extension": ".py",
   "mimetype": "text/x-python",
   "name": "python",
   "nbconvert_exporter": "python",
   "pygments_lexer": "ipython3",
   "version": "3.13.5"
  },
  "orig_nbformat": 4,
  "vscode": {
   "interpreter": {
    "hash": "53a0ee2834e5a3220609a583c5db6d166b18855c93dee771c0346263a6405663"
   }
  }
 },
 "nbformat": 4,
 "nbformat_minor": 2
}

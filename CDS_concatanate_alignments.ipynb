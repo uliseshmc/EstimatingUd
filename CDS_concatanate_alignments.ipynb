{
 "cells": [
  {
   "cell_type": "code",
   "execution_count": 17,
   "metadata": {},
   "outputs": [],
   "source": [
    "import cogent3\n",
    "from cogent3 import load_unaligned_seqs\n",
    "from cogent3 import get_app\n",
    "from cogent3 import make_aligned_seqs\n",
    "from os import listdir\n",
    "from os.path import isfile, join\n",
    "\n",
    "@cogent3.app.composable.define_app\n",
    "def renamer(seqs: cogent3.app.typing.UnalignedSeqsType) -> cogent3.app.typing.UnalignedSeqsType:\n",
    "    \"\"\"\n",
    "    A function to rename sequences in a dataset.\n",
    "    \"\"\"\n",
    "\n",
    "    name_map = {\n",
    "        \"homo_sapiens\": \"Human\",\n",
    "        \"pan_troglodytes\": \"Chimpanzee\",\n",
    "        \"gorilla_gorilla\": \"Gorilla\"\n",
    "    }\n",
    "\n",
    "    seqs = seqs.rename_seqs(lambda x: name_map.get(x.split(\"-\")[0], x))\n",
    "\n",
    "    return seqs.take_seqs(list(name_map.values()))\n"
   ]
  },
  {
   "cell_type": "code",
   "execution_count": 21,
   "metadata": {},
   "outputs": [
    {
     "name": "stdout",
     "output_type": "stream",
     "text": [
      "100x member DataStoreDirectory(source='/xdisk/masel/uliseshmc/EstimatingUd/primates10_112/aligns_ortho', members=[DataMember(data_store=/xdisk/masel/uliseshmc/EstimatingUd/primates10_112/aligns_ortho, unique_id=ENSG00000117054.fa), DataMember(data_store=/xdisk/masel/uliseshmc/EstimatingUd/primates10_112/aligns_ortho, unique_id=ENSG00000035687.fa)]...)\n"
     ]
    }
   ],
   "source": [
    "folder_in = '/xdisk/masel/uliseshmc/EstimatingUd/primates10_112/aligns_ortho/'\n",
    "folder_out = '/xdisk/masel/uliseshmc/EstimatingUd/primates10_112/aligns_ortho/outdir'\n",
    "in_dstore = cogent3.open_data_store(folder_in, suffix='fa')\n",
    "print(in_dstore)"
   ]
  },
  {
   "cell_type": "code",
   "execution_count": 22,
   "metadata": {},
   "outputs": [
    {
     "data": {
      "application/vnd.jupyter.widget-view+json": {
       "model_id": "0c25d725c5734ea199f53fb3ea2a8610",
       "version_major": 2,
       "version_minor": 0
      },
      "text/plain": [
       "   0%|          |00:00<?"
      ]
     },
     "metadata": {},
     "output_type": "display_data"
    },
    {
     "data": {
      "text/html": [
       "\n",
       "<div class=\"c3table\">\n",
       "\n",
       "<style>\n",
       ".c3table table {margin: 10px 0;}\n",
       ".c3table tr:last-child {border-bottom: 1px solid #000;} \n",
       ".c3table tr > th {text-align: left; padding: 0 5px;}\n",
       ".c3table tr > td {text-align: left; padding: 5px;}\n",
       ".c3table tr:nth-child(even) {background: #f7f7f7 !important;}\n",
       ".c3table .ellipsis {background: rgba(0, 0, 0, .01);}\n",
       ".c3table .index {background: rgba(161, 195, 209, 0.0); margin: 10px; font-weight: 600;}\n",
       ".c3table .head_cell {background: rgba(161, 195, 209, 0.75); font-weight: bold; text-align: center;}\n",
       ".c3table caption {color: rgb(250, 250, 250); background: rgba(30, 140, 200, 1); padding: 3px; white-space: nowrap; caption-side: top;}\n",
       ".c3table .cell_title {font-weight: bold;}\n",
       ".c3col_left { text-align: left !important; display: block;}\n",
       ".c3col_right { text-align: right !important; display: block;}\n",
       ".c3col_center { text-align: center !important; display: block;}\n",
       "</style>\n",
       "\n",
       "<table>\n",
       "\n",
       "<caption>\n",
       "<span class=\"cell_title\">Directory datastore</span>\n",
       "</caption>\n",
       "<thead class=\"head_cell\">\n",
       "<th>record type</th><th>number</th>\n",
       "</thead>\n",
       "<tbody>\n",
       "<tr><td><span class=\"c3col_left\">completed</span></td><td><span class=\"c3col_right\">5</span></td></tr>\n",
       "<tr><td><span class=\"c3col_left\">not_completed</span></td><td><span class=\"c3col_right\">0</span></td></tr>\n",
       "<tr><td><span class=\"c3col_left\">logs</span></td><td><span class=\"c3col_right\">1</span></td></tr>\n",
       "</tbody>\n",
       "</table>\n",
       "<p>\n",
       "3 rows x 2 columns</p>\n",
       "</div>"
      ],
      "text/plain": [
       "Directory datastore\n",
       "=======================\n",
       "record type      number\n",
       "-----------------------\n",
       "completed             5\n",
       "not_completed         0\n",
       "logs                  1\n",
       "-----------------------\n",
       "\n",
       "3 rows x 2 columns"
      ]
     },
     "execution_count": 22,
     "metadata": {},
     "output_type": "execute_result"
    }
   ],
   "source": [
    "loader = cogent3.get_app(\"load_unaligned\", moltype=\"dna\")\n",
    "rename = renamer()\n",
    "nt_align = get_app(\"progressive_align\", \"nucleotide\", guide_tree=\"(Human:0.06,Chimpanzee:0.06,Gorilla:0.1)\")\n",
    "out_dstore = cogent3.open_data_store(folder_out, suffix='fa', mode=\"w\")\n",
    "writer = cogent3.get_app(\"write_seqs\", data_store = out_dstore)\n",
    "app = loader + rename + nt_align + writer\n",
    "_ = list(app.apply_to(in_dstore[:5], parallel = True, show_progress=True))\n",
    "out_dstore.describe"
   ]
  },
  {
   "cell_type": "code",
   "execution_count": 23,
   "metadata": {},
   "outputs": [
    {
     "data": {
      "text/html": [
       "\n",
       "<div class=\"c3table\">\n",
       "\n",
       "<style>\n",
       ".c3table table {margin: 10px 0;}\n",
       ".c3table tr:last-child {border-bottom: 1px solid #000;} \n",
       ".c3table tr > th {text-align: left; padding: 0 5px;}\n",
       ".c3table tr > td {text-align: left; padding: 5px;}\n",
       ".c3table tr:nth-child(even) {background: #f7f7f7 !important;}\n",
       ".c3table .ellipsis {background: rgba(0, 0, 0, .01);}\n",
       ".c3table .index {background: rgba(161, 195, 209, 0.0); margin: 10px; font-weight: 600;}\n",
       ".c3table .head_cell {background: rgba(161, 195, 209, 0.75); font-weight: bold; text-align: center;}\n",
       ".c3table caption {color: rgb(250, 250, 250); background: rgba(30, 140, 200, 1); padding: 3px; white-space: nowrap; caption-side: top;}\n",
       ".c3table .cell_title {font-weight: bold;}\n",
       ".c3col_left { text-align: left !important; display: block;}\n",
       ".c3col_right { text-align: right !important; display: block;}\n",
       ".c3col_center { text-align: center !important; display: block;}\n",
       "</style>\n",
       "\n",
       "<table>\n",
       "\n",
       "<caption>\n",
       "<span class=\"cell_title\">summary of log files</span>\n",
       "</caption>\n",
       "<thead class=\"head_cell\">\n",
       "<th>time</th><th>name</th><th>python version</th><th>who</th><th>command</th><th>composable</th>\n",
       "</thead>\n",
       "<tbody>\n",
       "<tr><td><span class=\"c3col_left\">2025-05-21 17:11:51</span></td><td><span class=\"c3col_left\">logs/load_unaligned-renamer-progressive_align-write_seqs-9b49a4ca.log</span></td><td><span class=\"c3col_left\">3.10.16</span></td><td><span class=\"c3col_left\">uliseshmc</span></td><td><span class=\"c3col_left\">/home/u12/uliseshmc/.conda/envs/EstimatingUd/lib/python3.10/site-packages/ipykernel_launcher.py -f /home/u12/uliseshmc/.local/share/jupyter/runtime/kernel-ab7b873a-caed-422b-b374-4a21acd5b4c9.json</span></td><td><span class=\"c3col_left\">load_unaligned(moltype='dna', format='fasta') + renamer() +progressive_align(model='nucleotide', gc=None, param_vals=None,guide_tree='(Human:0.06,Chimpanzee:0.06,Gorilla:0.1)', unique_guides=False,indel_length=0.1, indel_rate=1e-10, distance='pdist', iters=None,approx_dists=True) +write_seqs(data_store=DataStoreDirectory(source=/xdisk/masel/uliseshmc/EstimatingUd/primates10_112/aligns_ortho/outdir,mode=Mode.w, suffix=fa, limit=None, verbose=False), id_from_source=<functionget_unique_id at 0x7fb84f46a710>, format='fasta')</span></td></tr>\n",
       "</tbody>\n",
       "</table>\n",
       "<p>\n",
       "1 rows x 6 columns</p>\n",
       "</div>"
      ],
      "text/plain": [
       "summary of log files\n",
       "=====================================================================================================================================================================================================================================================================================================================================================================================================================================================================================================================================================================================================================================================================================================================================================================================================================================================================================\n",
       "time                   name                                                                     python version    who          command                                                                                                                                                                                                 composable                                                                                                                                                                                                                                                                                                                                                                                                                                                                                                                                    \n",
       "-------------------------------------------------------------------------------------------------------------------------------------------------------------------------------------------------------------------------------------------------------------------------------------------------------------------------------------------------------------------------------------------------------------------------------------------------------------------------------------------------------------------------------------------------------------------------------------------------------------------------------------------------------------------------------------------------------------------------------------------------------------------------------------------------------------------------------------------------------------------------------------\n",
       "2025-05-21 17:11:51    logs/load_unaligned-renamer-progressive_align-write_seqs-9b49a4ca.log    3.10.16           uliseshmc    /home/u12/uliseshmc/.conda/envs/EstimatingUd/lib/python3.10/site-packages/ipykernel_launcher.py -f /home/u12/uliseshmc/.local/share/jupyter/runtime/kernel-ab7b873a-caed-422b-b374-4a21acd5b4c9.json    load_unaligned(moltype='dna', format='fasta') + renamer() +progressive_align(model='nucleotide', gc=None, param_vals=None,guide_tree='(Human:0.06,Chimpanzee:0.06,Gorilla:0.1)', unique_guides=False,indel_length=0.1, indel_rate=1e-10, distance='pdist', iters=None,approx_dists=True) +write_seqs(data_store=DataStoreDirectory(source=/xdisk/masel/uliseshmc/EstimatingUd/primates10_112/aligns_ortho/outdir,mode=Mode.w, suffix=fa, limit=None, verbose=False), id_from_source=<functionget_unique_id at 0x7fb84f46a710>, format='fasta')\n",
       "-------------------------------------------------------------------------------------------------------------------------------------------------------------------------------------------------------------------------------------------------------------------------------------------------------------------------------------------------------------------------------------------------------------------------------------------------------------------------------------------------------------------------------------------------------------------------------------------------------------------------------------------------------------------------------------------------------------------------------------------------------------------------------------------------------------------------------------------------------------------------------------\n",
       "\n",
       "1 rows x 6 columns"
      ]
     },
     "execution_count": 23,
     "metadata": {},
     "output_type": "execute_result"
    }
   ],
   "source": [
    "out_dstore.summary_logs"
   ]
  },
  {
   "cell_type": "code",
   "execution_count": 2,
   "metadata": {},
   "outputs": [],
   "source": [
    "concat_alns_app = get_app(\"concat\", moltype=\"dna\")\n",
    "codon_align = get_app(\"progressive_align\", \"nucleotide\", guide_tree=\"(Human:0.06,Chimpanzee:0.06,Gorilla:0.1)\")\n",
    "ffold = get_app(\"take_codon_positions\", fourfold_degenerate=True)"
   ]
  },
  {
   "cell_type": "code",
   "execution_count": 3,
   "metadata": {},
   "outputs": [],
   "source": [
    "#store all the alignments on onlyfiles list\n",
    "folder = '/xdisk/masel/uliseshmc/EstimatingUd/primates10_112/aligns_ortho/'\n",
    "onlyfiles = [f for f in listdir(folder) if isfile(join(folder, f))]    \n",
    "\n",
    "#I want to reach the next line. Before I have to construct an auxilliary function that removes orthologs where one of the species is missing\n",
    "#for i in range(0, len(onlyfiles)):\n",
    "for i in range(0, 5):\n",
    "    #Read alignments\n",
    "    aln = load_unaligned_seqs(folder + onlyfiles[i], moltype='dna')\n",
    "    aln = aln.rename_seqs(lambda x: x.split(\"-\")[0])\n",
    "\n",
    "    #Rename alignments rows\n",
    "    hcm = aln.take_seqs([\"homo_sapiens\", \"pan_troglodytes\", \"gorilla_gorilla\"]).degap()\n",
    "    name_map = {\n",
    "        \"homo_sapiens\": \"Human\",\n",
    "        \"pan_troglodytes\": \"Chimpanzee\",\n",
    "        \"gorilla_gorilla\": \"Gorilla\"\n",
    "    }\n",
    "    #auxilliary function to rename sequences\n",
    "    def renamer(name):\n",
    "        return name_map.get(name, name)\n",
    "\n",
    "    hcm = hcm.rename_seqs(renamer)\n",
    "    hcm\n",
    "\n",
    "    #Doing nucleotide model meanwhile. I got to change this for codon eventually\n",
    "    aln_codonaligned = codon_align(hcm)\n",
    "\n",
    "    #Extract four fold sites\n",
    "    #Do I need omit_gap_pos() or degap()\n",
    "    aln_ffold = ffold(aln_codonaligned).omit_gap_pos()\n",
    "\n",
    "    if i==0:\n",
    "        concat_aln = aln_ffold\n",
    "    else:\n",
    "        concat_aln = concat_alns_app([concat_aln, aln_ffold])"
   ]
  },
  {
   "cell_type": "code",
   "execution_count": 4,
   "metadata": {},
   "outputs": [
    {
     "data": {
      "application/vnd.jupyter.widget-view+json": {
       "model_id": "0be88ad9871f44d7b00e266ae66d08f7",
       "version_major": 2,
       "version_minor": 0
      },
      "text/plain": [
       "   0%|          |00:00<?"
      ]
     },
     "metadata": {},
     "output_type": "display_data"
    },
    {
     "data": {
      "application/vnd.jupyter.widget-view+json": {
       "model_id": "9c9bf49bf25943798e1594a9ebd45ffc",
       "version_major": 2,
       "version_minor": 0
      },
      "text/plain": [
       "   0%|          |00:00<?"
      ]
     },
     "metadata": {},
     "output_type": "display_data"
    },
    {
     "data": {
      "text/plain": [
       "{'Chimpanzee': np.float64(9.999983869577135e-07),\n",
       " 'Gorilla': np.float64(1.0000069447833995e-06),\n",
       " 'Human': np.float64(9.999983428411142e-07)}"
      ]
     },
     "execution_count": 4,
     "metadata": {},
     "output_type": "execute_result"
    }
   ],
   "source": [
    "#Get distances of concatenated sequences \n",
    "sm = get_app(\"model\", \"GN\", time_het=\"max\", optimise_motif_probs=True, show_progress=True)\n",
    "result = sm(concat_aln)\n",
    "lengthstree = result.lf.get_lengths_as_ens()\n",
    "lengthstree"
   ]
  },
  {
   "cell_type": "code",
   "execution_count": null,
   "metadata": {},
   "outputs": [],
   "source": [
    "def renamer(seqs):\n",
    "    seqs = seqs.rename_seqs(lambda x: x.split(\"-\")[0])\n",
    "\n",
    "    #Rename alignments rows\n",
    "    seqs = seqs.take_seqs([\"homo_sapiens\", \"pan_troglodytes\", \"gorilla_gorilla\"]).degap()\n",
    "    name_map = {\n",
    "        \"homo_sapiens\": \"Human\",\n",
    "        \"pan_troglodytes\": \"Chimpanzee\",\n",
    "        \"gorilla_gorilla\": \"Gorilla\"\n",
    "    }\n",
    "    #auxilliary function to rename sequences\n",
    "    def renamer_aux(name):\n",
    "        return name_map.get(name, name)\n",
    "\n",
    "    seqs = seqs.renamer_aux(renamer)\n",
    "    return seqs"
   ]
  }
 ],
 "metadata": {
  "kernelspec": {
   "display_name": "Python 3.10.16 ('EstimatingUd')",
   "language": "python",
   "name": "python3"
  },
  "language_info": {
   "codemirror_mode": {
    "name": "ipython",
    "version": 3
   },
   "file_extension": ".py",
   "mimetype": "text/x-python",
   "name": "python",
   "nbconvert_exporter": "python",
   "pygments_lexer": "ipython3",
   "version": "3.10.16"
  },
  "orig_nbformat": 4,
  "vscode": {
   "interpreter": {
    "hash": "53a0ee2834e5a3220609a583c5db6d166b18855c93dee771c0346263a6405663"
   }
  }
 },
 "nbformat": 4,
 "nbformat_minor": 2
}

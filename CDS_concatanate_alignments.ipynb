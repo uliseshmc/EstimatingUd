{
 "cells": [
  {
   "cell_type": "code",
   "execution_count": 1,
   "metadata": {},
   "outputs": [],
   "source": [
    "import cogent3\n",
    "from cogent3 import load_unaligned_seqs\n",
    "from cogent3 import load_aligned_seqs\n",
    "from cogent3 import get_app\n",
    "from cogent3 import make_aligned_seqs\n",
    "\n",
    "@cogent3.app.composable.define_app\n",
    "def renamer(seqs: cogent3.app.typing.UnalignedSeqsType) -> cogent3.app.typing.UnalignedSeqsType:\n",
    "    \"\"\"\n",
    "    A function to rename sequences in a dataset.\n",
    "    \"\"\"\n",
    "\n",
    "    name_map = {\n",
    "        \"homo_sapiens\": \"Human\",\n",
    "        \"pan_troglodytes\": \"Chimpanzee\",\n",
    "        \"gorilla_gorilla\": \"Gorilla\"\n",
    "    }\n",
    "\n",
    "    seqs = seqs.rename_seqs(lambda x: name_map.get(x.split(\"-\")[0], x))\n",
    "\n",
    "    return seqs.take_seqs(list(name_map.values()))\n"
   ]
  },
  {
   "cell_type": "code",
   "execution_count": 37,
   "metadata": {},
   "outputs": [
    {
     "data": {
      "application/vnd.jupyter.widget-view+json": {
       "model_id": "980b78405ac84e3eb4d7bb23ffeb6215",
       "version_major": 2,
       "version_minor": 0
      },
      "text/plain": [
       "   0%|          |00:00<?"
      ]
     },
     "metadata": {},
     "output_type": "display_data"
    },
    {
     "name": "stdout",
     "output_type": "stream",
     "text": [
      "Directory datastore\n",
      "=======================\n",
      "record type      number\n",
      "-----------------------\n",
      "completed          1694\n",
      "not_completed       444\n",
      "logs                 11\n",
      "-----------------------\n",
      "not completed records\n",
      "=======================================================================================================================\n",
      "type     origin     message                                          num    source                                     \n",
      "-----------------------------------------------------------------------------------------------------------------------\n",
      "ERROR    renamer    'ValueError: The foll...> at 0x7f351babac00>'    444    ENSG00000243480.fa, ENSG00000185668.fa, ...\n",
      "-----------------------------------------------------------------------------------------------------------------------\n"
     ]
    }
   ],
   "source": [
    "#set folders to read and export data\n",
    "folder_in = '/xdisk/masel/uliseshmc/EstimatingUd/primates10_114/aligns_cds/'\n",
    "folder_out = '/xdisk/masel/uliseshmc/EstimatingUd/primates10_114/aligns_cds/codon_aligned'\n",
    "in_dstore = cogent3.open_data_store(folder_in, suffix='fa', mode='r')\n",
    "out_dstore = cogent3.open_data_store(folder_out, suffix='fa', mode=\"w\")\n",
    "\n",
    "#perform a codon alignment and remove stop codons\n",
    "loader = get_app(\"load_unaligned\", moltype=\"dna\")\n",
    "rename = renamer()\n",
    "#why do I trim stop codons? Does this mean that the stop codon is ereased and the rest of the sequence is still analyzed\n",
    "trim_stops = get_app(\"trim_stop_codons\")\n",
    "codon_align = get_app(\"progressive_align\", \"codon\", guide_tree=\"(Human:0.06,Chimpanzee:0.06,Gorilla:0.1)\")\n",
    "writer = get_app(\"write_seqs\", data_store = out_dstore)\n",
    "app = loader + rename + trim_stops + codon_align + writer\n",
    "#underscore is to specify a variable we are not gonna use later\n",
    "_ = list(app.apply_to(in_dstore[:], parallel = True, show_progress=True))\n",
    "print(out_dstore.describe)\n",
    "print(out_dstore.summary_not_completed)"
   ]
  },
  {
   "cell_type": "code",
   "execution_count": 2,
   "metadata": {},
   "outputs": [
    {
     "name": "stderr",
     "output_type": "stream",
     "text": [
      "/home/u12/uliseshmc/.conda/envs/EstimatingUd/lib/python3.13/site-packages/cogent3_h5seqs/__init__.py:11: DeprecationWarning: module cogent3.core.new_alignment which will be removed in version 2025.9, use cogent3.core.alignment instead\n",
      "reason='has been renamed'\n",
      "  from cogent3.core import new_alignment as c3_alignment\n",
      "/home/u12/uliseshmc/.conda/envs/EstimatingUd/lib/python3.13/site-packages/cogent3_h5seqs/__init__.py:12: DeprecationWarning: module cogent3.core.new_alphabet which will be removed in version 2025.9, use cogent3.core.alphabet instead\n",
      "reason='has been renamed'\n",
      "  from cogent3.core import new_alphabet as c3_alphabet\n",
      "/home/u12/uliseshmc/.conda/envs/EstimatingUd/lib/python3.13/site-packages/cogent3_h5seqs/__init__.py:13: DeprecationWarning: module cogent3.core.new_moltype which will be removed in version 2025.9, use cogent3.core.moltype instead\n",
      "reason='has been renamed'\n",
      "  from cogent3.core import new_moltype as c3_moltype\n",
      "/home/u12/uliseshmc/.conda/envs/EstimatingUd/lib/python3.13/site-packages/cogent3_h5seqs/__init__.py:14: DeprecationWarning: module cogent3.core.new_sequence which will be removed in version 2025.9, use cogent3.core.sequence instead\n",
      "reason='has been renamed'\n",
      "  from cogent3.core import new_sequence as c3_sequence\n"
     ]
    },
    {
     "data": {
      "application/vnd.jupyter.widget-view+json": {
       "model_id": "f78513afbd274c2fae19af7f51e34b09",
       "version_major": 2,
       "version_minor": 0
      },
      "text/plain": [
       "   0%|          |00:00<?"
      ]
     },
     "metadata": {},
     "output_type": "display_data"
    },
    {
     "data": {
      "application/vnd.jupyter.widget-view+json": {
       "model_id": "17fb3cab1d6f47a4b5221be80c179166",
       "version_major": 2,
       "version_minor": 0
      },
      "text/plain": [
       "   0%|          |00:00<?"
      ]
     },
     "metadata": {},
     "output_type": "display_data"
    }
   ],
   "source": [
    "folder_in = '/xdisk/masel/uliseshmc/EstimatingUd/primates10_114/aligns_cds/codon_aligned'\n",
    "in_dstore = cogent3.open_data_store(folder_in, suffix='fa', mode='r')\n",
    "\n",
    "loader = get_app(\"load_aligned\", moltype=\"dna\")   \n",
    "omit_degs = get_app(\"omit_degenerates\", moltype=\"dna\", motif_length=3)\n",
    "ffold = get_app(\"take_codon_positions\", fourfold_degenerate=True)\n",
    "concat_alns_app = get_app(\"concat\", moltype=\"dna\")\n",
    "concat = get_app(\"concat\", moltype=\"dna\")\n",
    "\n",
    "#create a concatenated alignment with all coding positions\n",
    "omit_degs.disconnect()\n",
    "allposprocess = loader+omit_degs\n",
    "# result below is only valid alignments (no NotCompleted)\n",
    "results_allpos = [r for r in allposprocess.as_completed(in_dstore, parallel=True) if r]\n",
    "alpos_alns = concat(results_allpos)\n",
    "\n",
    "#create a concatenated alignment only with four fold positions (should I also do 0fold)\n",
    "ffoldprocess = loader+omit_degs+ffold\n",
    "# result below is only valid alignments (no NotCompleted)\n",
    "results_ffold = [r for r in ffoldprocess.as_completed(in_dstore, parallel=True) if r]\n",
    "ffold_alns = concat(results_ffold)\n"
   ]
  },
  {
   "cell_type": "code",
   "execution_count": 31,
   "metadata": {},
   "outputs": [
    {
     "data": {
      "text/html": [
       "<style>\n",
       ".c3align table {margin: 10px 0;}\n",
       ".c3align td { border: none !important; text-align: left !important; }\n",
       ".c3align tr:not(.num_row) td span {margin: 0 2px;}\n",
       ".c3align tr:nth-child(even) {background: #f7f7f7;}\n",
       ".c3align .num_row {background-color:rgba(161, 195, 209, 0.5) !important; border-top: solid 1px black; }\n",
       ".c3align .label { font-size: 12pt ; text-align: right !important; color: black !important; padding: 0 4px; display: table-cell !important; font-weight: normal !important; }\n",
       ".c3align .T_dna{font-family: \"Lucida Console\",monospace !important; font-size: 12pt !important; color: blue; }\n",
       ".c3align .C_dna{font-family: \"Lucida Console\",monospace !important; font-size: 12pt !important; color: black; }\n",
       ".c3align .A_dna{font-family: \"Lucida Console\",monospace !important; font-size: 12pt !important; color: #FF0102; }\n",
       ".c3align .G_dna{font-family: \"Lucida Console\",monospace !important; font-size: 12pt !important; color: green; }\n",
       ".c3align .terminal_ambig_dna{font-family: \"Lucida Console\",monospace !important; font-size: 12pt !important; color: gray; }\n",
       ".c3align .ambig_dna{font-family: \"Lucida Console\",monospace !important; font-size: 12pt !important; color: gray; }\n",
       "</style>\n",
       "<div class=\"c3align\">\n",
       "<table>\n",
       "<tr class=\"num_row\"><td></td><td><b>0</b></td></tr>\n",
       "<tr><td class=\"label\">Gorilla</td><td><span class=\"T_dna\">T</span><span class=\"A_dna\">A</span><span class=\"A_dna\">A</span><span class=\"T_dna\">T</span><span class=\"G_dna\">G</span><span class=\"A_dna\">A</span><span class=\"C_dna\">C</span><span class=\"T_dna\">T</span><span class=\"C_dna\">C</span><span class=\"T_dna\">T</span><span class=\"C_dna\">C</span><span class=\"G_dna\">G</span><span class=\"C_dna\">C</span><span class=\"T_dna\">T</span><span class=\"A_dna\">A</span><span class=\"C_dna\">C</span><span class=\"A_dna\">A</span><span class=\"C_dna\">C</span><span class=\"A_dna\">A</span><span class=\"C_dna\">C</span><span class=\"A_dna\">A</span><span class=\"G_dna\">G</span><span class=\"A_dna\">A</span><span class=\"C_dna\">C</span><span class=\"G_dna\">G</span><span class=\"A_dna\">A</span><span class=\"G_dna\">G</span><span class=\"A_dna\">A</span><span class=\"T_dna\">T</span><span class=\"C_dna\">C</span><span class=\"G_dna\">G</span><span class=\"C_dna\">C</span><span class=\"T_dna\">T</span><span class=\"C_dna\">C</span><span class=\"A_dna\">A</span><span class=\"T_dna\">T</span><span class=\"C_dna\">C</span><span class=\"G_dna\">G</span><span class=\"A_dna\">A</span><span class=\"G_dna\">G</span><span class=\"C_dna\">C</span><span class=\"T_dna\">T</span><span class=\"C_dna\">C</span><span class=\"A_dna\">A</span><span class=\"G_dna\">G</span><span class=\"A_dna\">A</span><span class=\"G_dna\">G</span><span class=\"T_dna\">T</span><span class=\"A_dna\">A</span><span class=\"T_dna\">T</span><span class=\"G_dna\">G</span><span class=\"T_dna\">T</span><span class=\"C_dna\">C</span><span class=\"G_dna\">G</span><span class=\"T_dna\">T</span><span class=\"C_dna\">C</span><span class=\"C_dna\">C</span><span class=\"T_dna\">T</span><span class=\"T_dna\">T</span><span class=\"T_dna\">T</span></td></tr>\n",
       "<tr><td class=\"label\">Human</td><td><span class=\"C_dna\">C</span><span class=\"T_dna\">T</span><span class=\"G_dna\">G</span><span class=\"G_dna\">G</span><span class=\"T_dna\">T</span><span class=\"T_dna\">T</span><span class=\"G_dna\">G</span><span class=\"G_dna\">G</span><span class=\"T_dna\">T</span><span class=\"C_dna\">C</span><span class=\"T_dna\">T</span><span class=\"C_dna\">C</span><span class=\"G_dna\">G</span><span class=\"C_dna\">C</span><span class=\"T_dna\">T</span><span class=\"A_dna\">A</span><span class=\"C_dna\">C</span><span class=\"A_dna\">A</span><span class=\"C_dna\">C</span><span class=\"A_dna\">A</span><span class=\"C_dna\">C</span><span class=\"A_dna\">A</span><span class=\"G_dna\">G</span><span class=\"A_dna\">A</span><span class=\"C_dna\">C</span><span class=\"G_dna\">G</span><span class=\"A_dna\">A</span><span class=\"G_dna\">G</span><span class=\"A_dna\">A</span><span class=\"T_dna\">T</span><span class=\"C_dna\">C</span><span class=\"G_dna\">G</span><span class=\"C_dna\">C</span><span class=\"T_dna\">T</span><span class=\"C_dna\">C</span><span class=\"A_dna\">A</span><span class=\"T_dna\">T</span><span class=\"C_dna\">C</span><span class=\"G_dna\">G</span><span class=\"A_dna\">A</span><span class=\"G_dna\">G</span><span class=\"C_dna\">C</span><span class=\"T_dna\">T</span><span class=\"C_dna\">C</span><span class=\"A_dna\">A</span><span class=\"G_dna\">G</span><span class=\"A_dna\">A</span><span class=\"G_dna\">G</span><span class=\"T_dna\">T</span><span class=\"A_dna\">A</span><span class=\"A_dna\">A</span><span class=\"G_dna\">G</span><span class=\"T_dna\">T</span><span class=\"T_dna\">T</span><span class=\"G_dna\">G</span><span class=\"T_dna\">T</span><span class=\"T_dna\">T</span><span class=\"C_dna\">C</span><span class=\"G_dna\">G</span><span class=\"C_dna\">C</span></td></tr>\n",
       "</table>\n",
       "<p><i>2 x 919 (truncated to 2 x 60) dna alignment</i></p>\n",
       "</div>"
      ],
      "text/plain": [
       "2 x 919 dna alignment: Human[CTGGTTGGTC...], Gorilla[TAATGACTCT...]"
      ]
     },
     "execution_count": 31,
     "metadata": {},
     "output_type": "execute_result"
    }
   ],
   "source": [
    "#Testing that the concatenated alignemnts have non degenerate variable positions \n",
    "new_subset = alpos_alns.take_seqs([\"Human\", \"Gorilla\"])\n",
    "#new_subset = alpos_alns.take_seqs([\"Human\", \"Chimpanzee\"])\n",
    "\n",
    "#after degap and omit_gap_pos the gaps in Gorilla stay there\n",
    "new_subset.degap()\n",
    "varpos = new_subset.variable_positions()\n",
    "just_variable_aln = new_subset.take_positions(varpos)\n",
    "just_variable_aln"
   ]
  },
  {
   "cell_type": "code",
   "execution_count": 56,
   "metadata": {},
   "outputs": [
    {
     "data": {
      "application/vnd.jupyter.widget-view+json": {
       "model_id": "9b358f4bc2ab464993b7dae5487686f1",
       "version_major": 2,
       "version_minor": 0
      },
      "text/plain": [
       "   0%|          |00:00<?"
      ]
     },
     "metadata": {},
     "output_type": "display_data"
    },
    {
     "data": {
      "application/vnd.jupyter.widget-view+json": {
       "model_id": "f519e5da57984562bd28fae0d27981d6",
       "version_major": 2,
       "version_minor": 0
      },
      "text/plain": [
       "   0%|          |00:00<?"
      ]
     },
     "metadata": {},
     "output_type": "display_data"
    },
    {
     "data": {
      "application/vnd.jupyter.widget-view+json": {
       "model_id": "8e74186908f948d0bca3249f0957a7f9",
       "version_major": 2,
       "version_minor": 0
      },
      "text/plain": [
       "   0%|          |00:00<?"
      ]
     },
     "metadata": {},
     "output_type": "display_data"
    },
    {
     "data": {
      "application/vnd.jupyter.widget-view+json": {
       "model_id": "0347848183844bf0b26d7e481622ac33",
       "version_major": 2,
       "version_minor": 0
      },
      "text/plain": [
       "   0%|          |00:00<?"
      ]
     },
     "metadata": {},
     "output_type": "display_data"
    },
    {
     "data": {
      "application/vnd.jupyter.widget-view+json": {
       "model_id": "18ec0a22868b454e80d4569c33e673e5",
       "version_major": 2,
       "version_minor": 0
      },
      "text/plain": [
       "   0%|          |00:00<?"
      ]
     },
     "metadata": {},
     "output_type": "display_data"
    },
    {
     "data": {
      "application/vnd.jupyter.widget-view+json": {
       "model_id": "3e377e0b91c343bd8bca385251e63816",
       "version_major": 2,
       "version_minor": 0
      },
      "text/plain": [
       "   0%|          |00:00<?"
      ]
     },
     "metadata": {},
     "output_type": "display_data"
    },
    {
     "name": "stdout",
     "output_type": "stream",
     "text": [
      "Model results : \n",
      "OrderedDict({1: GN pos-1\n",
      "log-likelihood = -1367959.0612\n",
      "number of free parameters = 39\n",
      "======================================================================\n",
      "edge          parent    length     A>C     A>G     A>T     C>A     C>G\n",
      "----------------------------------------------------------------------\n",
      "Human         root        0.00    3.44    1.29    0.65    1.38    1.38\n",
      "Chimpanzee    root        0.00    0.91    3.01    0.39    0.41    0.43\n",
      "Gorilla       root        0.00    1.17    1.88    0.70    1.51    1.55\n",
      "----------------------------------------------------------------------\n",
      "\n",
      "continued: \n",
      "============================================\n",
      " C>T     G>A     G>C     G>T     T>A     T>C\n",
      "--------------------------------------------\n",
      "1.38    0.00    2.53    1.10    0.00    6.27\n",
      "1.47    1.10    0.55    0.67    0.20    1.60\n",
      "2.75    3.62    0.86    1.13    0.61    2.06\n",
      "--------------------------------------------\n",
      "\n",
      "============================\n",
      "   A       C       G       T\n",
      "----------------------------\n",
      "0.27    0.25    0.31    0.17\n",
      "----------------------------, 2: GN pos-2\n",
      "log-likelihood = -1375737.2225\n",
      "number of free parameters = 39\n",
      "======================================================================\n",
      "edge          parent    length     A>C     A>G     A>T     C>A     C>G\n",
      "----------------------------------------------------------------------\n",
      "Human         root        0.00    1.21    1.24    1.21    1.05    0.00\n",
      "Chimpanzee    root        0.00    3.35    7.55    2.96    2.72    1.63\n",
      "Gorilla       root        0.00    1.34    2.35    1.43    1.09    1.09\n",
      "----------------------------------------------------------------------\n",
      "\n",
      "continued: \n",
      "=============================================\n",
      " C>T      G>A     G>C     G>T     T>A     T>C\n",
      "---------------------------------------------\n",
      "2.09     6.42    0.00    1.28    0.48    0.48\n",
      "1.63    12.01    3.34    3.24    1.50    4.00\n",
      "3.16     4.65    1.73    1.07    1.01    2.30\n",
      "---------------------------------------------\n",
      "\n",
      "============================\n",
      "   A       C       G       T\n",
      "----------------------------\n",
      "0.31    0.24    0.19    0.26\n",
      "----------------------------, 3: GN pos-3\n",
      "log-likelihood = -1379877.7308\n",
      "number of free parameters = 39\n",
      "======================================================================\n",
      "edge          parent    length     A>C     A>G     A>T     C>A     C>G\n",
      "----------------------------------------------------------------------\n",
      "Human         root        0.00    2.31    4.65    1.16    0.79    1.59\n",
      "Chimpanzee    root        0.00    0.67    5.46    0.17    0.90    1.80\n",
      "Gorilla       root        0.00    2.08    6.95    1.16    1.02    1.49\n",
      "----------------------------------------------------------------------\n",
      "\n",
      "continued: \n",
      "============================================\n",
      " C>T     G>A     G>C     G>T     T>A     T>C\n",
      "--------------------------------------------\n",
      "2.35    4.84    2.42    0.81    2.00    8.99\n",
      "3.03    2.66    1.84    0.69    0.57    6.57\n",
      "5.58    4.45    2.26    1.54    1.30    6.80\n",
      "--------------------------------------------\n",
      "\n",
      "============================\n",
      "   A       C       G       T\n",
      "----------------------------\n",
      "0.20    0.29    0.28    0.23\n",
      "----------------------------})\n",
      "\n",
      "Distances: \n",
      "{'Human': np.float64(2.8182089392338657e-05), 'Chimpanzee': np.float64(8.5245661880876e-05), 'Gorilla': np.float64(0.00023272588999849288)}\n",
      "{'Human': np.float64(3.115517427629397e-05), 'Chimpanzee': np.float64(8.49575853423325e-05), 'Gorilla': np.float64(0.0002090348788892707)}\n",
      "{'Human': np.float64(2.8182089392338657e-05), 'Chimpanzee': np.float64(8.5245661880876e-05), 'Gorilla': np.float64(0.00023272588999849288)}\n"
     ]
    }
   ],
   "source": [
    "#Do a general nucleotide model of conncatenated sequences concatenated sequences \n",
    "#time_het=max sets a 36 params substitution model\n",
    "checker = get_app(\"phylim\")\n",
    "sm = get_app(\"model\", \"GN\", time_het=\"max\", optimise_motif_probs=True, show_progress=True, split_codons=True)\n",
    "result_allpos = sm(alpos_alns)\n",
    "print(\"Model results : \\n\" + str(result_allpos.lf) + \"\\n\")\n",
    "\n",
    "print(\"Distances: \")\n",
    "lengthstree_pos1 = result_allpos[1].get_lengths_as_ens()\n",
    "print(lengthstree_pos1)\n",
    "\n",
    "lengthstree_pos2 = result_allpos[2].get_lengths_as_ens()\n",
    "print(lengthstree_pos2)\n",
    "\n",
    "lengthstree_pos3 = result_allpos[3].get_lengths_as_ens()\n",
    "print(lengthstree_pos1)"
   ]
  },
  {
   "cell_type": "code",
   "execution_count": 54,
   "metadata": {},
   "outputs": [
    {
     "data": {
      "text/plain": [
       "NotCompleted(type=ERROR, origin=phylim, source=\"unknown\", message=\"Traceback (most recent call last):\n",
       "  File \"/home/u12/uliseshmc/.conda/envs/EstimatingUd/lib/python3.13/site-packages/cogent3/app/composable.py\", line 407, in _call\n",
       "    result = self.main(val, *args, **kwargs)\n",
       "  File \"/home/u12/uliseshmc/.conda/envs/EstimatingUd/lib/python3.13/site-packages/phylim/apps.py\", line 136, in main\n",
       "    tree = model_result.lf.tree  # type: ignore\n",
       "           ^^^^^^^^^^^^^^^^^^^^\n",
       "AttributeError: 'collections.OrderedDict' object has no attribute 'tree'\n",
       "\")"
      ]
     },
     "execution_count": 54,
     "metadata": {},
     "output_type": "execute_result"
    }
   ],
   "source": [
    "#this part is failing\n",
    "checked = checker(result_allpos)\n",
    "checked"
   ]
  },
  {
   "cell_type": "code",
   "execution_count": 26,
   "metadata": {},
   "outputs": [
    {
     "data": {
      "application/vnd.jupyter.widget-view+json": {
       "model_id": "5347633a4c4b4a2a84225a867f10742f",
       "version_major": 2,
       "version_minor": 0
      },
      "text/plain": [
       "   0%|          |00:00<?"
      ]
     },
     "metadata": {},
     "output_type": "display_data"
    },
    {
     "data": {
      "application/vnd.jupyter.widget-view+json": {
       "model_id": "6ed8b4cf5bae4a7ca3d295abb806bc91",
       "version_major": 2,
       "version_minor": 0
      },
      "text/plain": [
       "   0%|          |00:00<?"
      ]
     },
     "metadata": {},
     "output_type": "display_data"
    },
    {
     "name": "stdout",
     "output_type": "stream",
     "text": [
      "Is model identifiable? True\n",
      "\n",
      "Model results : \n",
      "GN\n",
      "log-likelihood = -658330.4160\n",
      "number of free parameters = 39\n",
      "========================================================================\n",
      "edge          parent    length      A>C      A>G     A>T     C>A     C>G\n",
      "------------------------------------------------------------------------\n",
      "Human         root        0.00    29.23    29.23    0.00    0.00    0.00\n",
      "Chimpanzee    root        0.00     0.42     5.09    0.21    0.73    1.17\n",
      "Gorilla       root        0.00     2.65    14.31    1.06    2.92    1.82\n",
      "------------------------------------------------------------------------\n",
      "\n",
      "continued: \n",
      "===============================================\n",
      "  C>T      G>A     G>C     G>T     T>A      T>C\n",
      "-----------------------------------------------\n",
      "20.07    50.00    0.00    0.00    0.00    13.77\n",
      " 1.17     2.77    1.48    0.37    0.20     4.60\n",
      " 8.39     5.08    4.62    3.23    3.50    13.99\n",
      "-----------------------------------------------\n",
      "\n",
      "============================\n",
      "   A       C       G       T\n",
      "----------------------------\n",
      "0.21    0.31    0.25    0.23\n",
      "----------------------------\n",
      "\n",
      "Distances: {'Human': np.float64(2.3046232516391506e-05), 'Chimpanzee': np.float64(0.0002140035848007387), 'Gorilla': np.float64(0.00028324517471349297)}\n"
     ]
    }
   ],
   "source": [
    "#Get distances of concatenated sequences \n",
    "#time_het=max sets a 36 params substitution model\n",
    "sm = get_app(\"model\", \"GN\", time_het=\"max\", optimise_motif_probs=True, show_progress=True)\n",
    "result_ffold = sm(ffold_alns)\n",
    "checked = checker(result_ffold)\n",
    "lengthstree = result_ffold.lf.get_lengths_as_ens()\n",
    "print(\"Is model identifiable? \" + str(checked.is_identifiable) + \"\\n\")\n",
    "print(\"Model results : \\n\" + str(result_ffold.lf) + \"\\n\")\n",
    "print(\"Distances: \" + str(lengthstree))"
   ]
  },
  {
   "cell_type": "code",
   "execution_count": null,
   "metadata": {},
   "outputs": [],
   "source": [
    "print(cogent3.app_help(\"take_codon_positions\"))"
   ]
  }
 ],
 "metadata": {
  "kernelspec": {
   "display_name": "Python 3.13.5 ('EstimatingUd')",
   "language": "python",
   "name": "python3"
  },
  "language_info": {
   "codemirror_mode": {
    "name": "ipython",
    "version": 3
   },
   "file_extension": ".py",
   "mimetype": "text/x-python",
   "name": "python",
   "nbconvert_exporter": "python",
   "pygments_lexer": "ipython3",
   "version": "3.13.5"
  },
  "orig_nbformat": 4,
  "vscode": {
   "interpreter": {
    "hash": "53a0ee2834e5a3220609a583c5db6d166b18855c93dee771c0346263a6405663"
   }
  }
 },
 "nbformat": 4,
 "nbformat_minor": 2
}

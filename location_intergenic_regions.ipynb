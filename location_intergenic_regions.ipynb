{
 "cells": [
  {
   "cell_type": "code",
   "execution_count": 1,
   "metadata": {},
   "outputs": [],
   "source": [
    "import cogent3\n",
    "import pandas as pd\n",
    "import numpy as np"
   ]
  },
  {
   "cell_type": "code",
   "execution_count": 2,
   "metadata": {},
   "outputs": [
    {
     "data": {
      "text/html": [
       "\n",
       "<div class=\"c3table\">\n",
       "\n",
       "<style>\n",
       ".c3table table {margin: 10px 0;}\n",
       ".c3table tr:last-child {border-bottom: 1px solid #000;} \n",
       ".c3table tr > th {text-align: left; padding: 0 5px;}\n",
       ".c3table tr > td {text-align: left; padding: 5px;}\n",
       ".c3table tr:nth-child(even) {background: #f7f7f7 !important;}\n",
       ".c3table .ellipsis {background: rgba(0, 0, 0, .01);}\n",
       ".c3table .index {background: rgba(161, 195, 209, 0.0); margin: 10px; font-weight: 600;}\n",
       ".c3table .head_cell {background: rgba(161, 195, 209, 0.75); font-weight: bold; text-align: center;}\n",
       ".c3table caption {color: rgb(250, 250, 250); background: rgba(30, 140, 200, 1); padding: 3px; white-space: nowrap; caption-side: top;}\n",
       ".c3table .cell_title {font-weight: bold;}\n",
       ".c3col_left { text-align: left !important; display: block;}\n",
       ".c3col_right { text-align: right !important; display: block;}\n",
       ".c3col_center { text-align: center !important; display: block;}\n",
       "</style>\n",
       "\n",
       "<table>\n",
       "\n",
       "<thead class=\"head_cell\">\n",
       "<th>species</th><th>seqid</th><th>source</th><th>biotype</th><th>transcript_biotypes</th><th>num_transcripts</th><th>start</th><th>stop</th><th>strand</th><th>symbol</th><th>description</th>\n",
       "</thead>\n",
       "<tbody>\n",
       "<tr><td><span class=\"c3col_left\">homo_sapiens</span></td><td><span class=\"c3col_left\">1</span></td><td><span class=\"c3col_left\"></span></td><td><span class=\"c3col_left\">rRNA_pseudogene</span></td><td><span class=\"c3col_left\">rRNA_pseudogene</span></td><td><span class=\"c3col_right\">1</span></td><td><span class=\"c3col_right\">182944364</span></td><td><span class=\"c3col_right\">182944490</span></td><td><span class=\"c3col_right\">-1</span></td><td><span class=\"c3col_left\">5S_rRNA</span></td><td><span class=\"c3col_left\">5S ribosomal RNA [Source:RFAM;Acc:RF00001]</span></td></tr>\n",
       "<tr><td><span class=\"c3col_left\">homo_sapiens</span></td><td><span class=\"c3col_left\">14</span></td><td><span class=\"c3col_left\"></span></td><td><span class=\"c3col_left\">rRNA</span></td><td><span class=\"c3col_left\">rRNA</span></td><td><span class=\"c3col_right\">1</span></td><td><span class=\"c3col_right\">16057471</span></td><td><span class=\"c3col_right\">16057622</span></td><td><span class=\"c3col_right\">1</span></td><td><span class=\"c3col_left\">5_8S_rRNA</span></td><td><span class=\"c3col_left\">5.8S ribosomal RNA [Source:RFAM;Acc:RF00002]</span></td></tr>\n",
       "<tr><td><span class=\"c3col_left\">homo_sapiens</span></td><td><span class=\"c3col_left\">1</span></td><td><span class=\"c3col_left\"></span></td><td><span class=\"c3col_left\">snRNA</span></td><td><span class=\"c3col_left\">snRNA</span></td><td><span class=\"c3col_right\">1</span></td><td><span class=\"c3col_right\">121008361</span></td><td><span class=\"c3col_right\">121008507</span></td><td><span class=\"c3col_right\">-1</span></td><td><span class=\"c3col_left\">U1</span></td><td><span class=\"c3col_left\">U1 spliceosomal RNA [Source:RFAM;Acc:RF00003]</span></td></tr>\n",
       "<tr><td><span class=\"c3col_left\">homo_sapiens</span></td><td><span class=\"c3col_left\">1</span></td><td><span class=\"c3col_left\"></span></td><td><span class=\"c3col_left\">snRNA</span></td><td><span class=\"c3col_left\">snRNA</span></td><td><span class=\"c3col_right\">1</span></td><td><span class=\"c3col_right\">120571119</span></td><td><span class=\"c3col_right\">120571264</span></td><td><span class=\"c3col_right\">1</span></td><td><span class=\"c3col_left\">U2</span></td><td><span class=\"c3col_left\">U2 spliceosomal RNA [Source:RFAM;Acc:RF00004]</span></td></tr>\n",
       "<tr><td><span class=\"c3col_left\">homo_sapiens</span></td><td><span class=\"c3col_left\">17</span></td><td><span class=\"c3col_left\"></span></td><td><span class=\"c3col_left\">misc_RNA</span></td><td><span class=\"c3col_left\">misc_RNA</span></td><td><span class=\"c3col_right\">1</span></td><td><span class=\"c3col_right\">28061966</span></td><td><span class=\"c3col_right\">28062068</span></td><td><span class=\"c3col_right\">1</span></td><td><span class=\"c3col_left\">Vault</span></td><td><span class=\"c3col_left\">Vault RNA [Source:RFAM;Acc:RF00006]</span></td></tr>\n",
       "<tr class=\"ellipsis\"><td><span class=\"c3col_left\">...</span></td><td><span class=\"c3col_left\">...</span></td><td><span class=\"c3col_left\">...</span></td><td><span class=\"c3col_left\">...</span></td><td><span class=\"c3col_left\">...</span></td><td><span class=\"c3col_right\">...</span></td><td><span class=\"c3col_right\">...</span></td><td><span class=\"c3col_right\">...</span></td><td><span class=\"c3col_right\">...</span></td><td><span class=\"c3col_left\">...</span></td><td><span class=\"c3col_left\">...</span></td></tr>\n",
       "<tr><td><span class=\"c3col_left\">homo_sapiens</span></td><td><span class=\"c3col_left\">KI270744.1</span></td><td><span class=\"c3col_left\"></span></td><td><span class=\"c3col_left\">lncRNA</span></td><td><span class=\"c3col_left\">lncRNA</span></td><td><span class=\"c3col_right\">1</span></td><td><span class=\"c3col_right\">142830</span></td><td><span class=\"c3col_right\">150130</span></td><td><span class=\"c3col_right\">1</span></td><td><span class=\"c3col_left\"></span></td><td><span class=\"c3col_left\">novel transcript</span></td></tr>\n",
       "<tr><td><span class=\"c3col_left\">homo_sapiens</span></td><td><span class=\"c3col_left\">KI270744.1</span></td><td><span class=\"c3col_left\"></span></td><td><span class=\"c3col_left\">lncRNA</span></td><td><span class=\"c3col_left\">lncRNA</span></td><td><span class=\"c3col_right\">1</span></td><td><span class=\"c3col_right\">65347</span></td><td><span class=\"c3col_right\">66807</span></td><td><span class=\"c3col_right\">1</span></td><td><span class=\"c3col_left\"></span></td><td><span class=\"c3col_left\">novel transcript</span></td></tr>\n",
       "<tr><td><span class=\"c3col_left\">homo_sapiens</span></td><td><span class=\"c3col_left\">KI270744.1</span></td><td><span class=\"c3col_left\"></span></td><td><span class=\"c3col_left\">lncRNA</span></td><td><span class=\"c3col_left\">lncRNA</span></td><td><span class=\"c3col_right\">1</span></td><td><span class=\"c3col_right\">423</span></td><td><span class=\"c3col_right\">6215</span></td><td><span class=\"c3col_right\">-1</span></td><td><span class=\"c3col_left\"></span></td><td><span class=\"c3col_left\">novel transcript</span></td></tr>\n",
       "<tr><td><span class=\"c3col_left\">homo_sapiens</span></td><td><span class=\"c3col_left\">KI270744.1</span></td><td><span class=\"c3col_left\"></span></td><td><span class=\"c3col_left\">lncRNA</span></td><td><span class=\"c3col_left\">lncRNA</span></td><td><span class=\"c3col_right\">18</span></td><td><span class=\"c3col_right\">5312</span></td><td><span class=\"c3col_right\">80720</span></td><td><span class=\"c3col_right\">1</span></td><td><span class=\"c3col_left\"></span></td><td><span class=\"c3col_left\">novel transcript</span></td></tr>\n",
       "<tr><td><span class=\"c3col_left\">homo_sapiens</span></td><td><span class=\"c3col_left\">KI270744.1</span></td><td><span class=\"c3col_left\"></span></td><td><span class=\"c3col_left\">lncRNA</span></td><td><span class=\"c3col_left\">lncRNA</span></td><td><span class=\"c3col_right\">5</span></td><td><span class=\"c3col_right\">90022</span></td><td><span class=\"c3col_right\">112250</span></td><td><span class=\"c3col_right\">-1</span></td><td><span class=\"c3col_left\"></span></td><td><span class=\"c3col_left\">novel transcript</span></td></tr>\n",
       "</tbody>\n",
       "</table>\n",
       "<p>Top 5 and bottom 5 rows from\n",
       "87,688 rows x 11 columns</p>\n",
       "</div>"
      ],
      "text/plain": [
       "===================================================================================================================================================================================================\n",
       "species         seqid         source    biotype            transcript_biotypes    num_transcripts        start         stop    strand    symbol       description                                  \n",
       "---------------------------------------------------------------------------------------------------------------------------------------------------------------------------------------------------\n",
       "homo_sapiens    1                       rRNA_pseudogene    rRNA_pseudogene                      1    182944364    182944490        -1    5S_rRNA      5S ribosomal RNA [Source:RFAM;Acc:RF00001]   \n",
       "homo_sapiens    14                      rRNA               rRNA                                 1     16057471     16057622         1    5_8S_rRNA    5.8S ribosomal RNA [Source:RFAM;Acc:RF00002] \n",
       "homo_sapiens    1                       snRNA              snRNA                                1    121008361    121008507        -1    U1           U1 spliceosomal RNA [Source:RFAM;Acc:RF00003]\n",
       "homo_sapiens    1                       snRNA              snRNA                                1    120571119    120571264         1    U2           U2 spliceosomal RNA [Source:RFAM;Acc:RF00004]\n",
       "homo_sapiens    17                      misc_RNA           misc_RNA                             1     28061966     28062068         1    Vault        Vault RNA [Source:RFAM;Acc:RF00006]          \n",
       "homo_sapiens    KI270744.1              lncRNA             lncRNA                               1       142830       150130         1                 novel transcript                             \n",
       "homo_sapiens    KI270744.1              lncRNA             lncRNA                               1        65347        66807         1                 novel transcript                             \n",
       "homo_sapiens    KI270744.1              lncRNA             lncRNA                               1          423         6215        -1                 novel transcript                             \n",
       "homo_sapiens    KI270744.1              lncRNA             lncRNA                              18         5312        80720         1                 novel transcript                             \n",
       "homo_sapiens    KI270744.1              lncRNA             lncRNA                               5        90022       112250        -1                 novel transcript                             \n",
       "---------------------------------------------------------------------------------------------------------------------------------------------------------------------------------------------------\n",
       "Top 5 and bottom 5 rows from\n",
       "87,688 rows x 11 columns"
      ]
     },
     "execution_count": 2,
     "metadata": {},
     "output_type": "execute_result"
    }
   ],
   "source": [
    "folder_in = '/xdisk/masel/uliseshmc/EstimatingUd/primates10_114/'\n",
    "folder_out = '/xdisk/masel/uliseshmc/EstimatingUd/primates10_114/aligns_intergenicAR/'\n",
    "\n",
    "table = cogent3.load_table(folder_in + \"homo_sapiens-114-gene_metadata.tsv\")\n",
    "\n",
    "table"
   ]
  },
  {
   "cell_type": "code",
   "execution_count": 3,
   "metadata": {},
   "outputs": [
    {
     "data": {
      "text/html": [
       "\n",
       "<div class=\"c3table\">\n",
       "\n",
       "<style>\n",
       ".c3table table {margin: 10px 0;}\n",
       ".c3table tr:last-child {border-bottom: 1px solid #000;} \n",
       ".c3table tr > th {text-align: left; padding: 0 5px;}\n",
       ".c3table tr > td {text-align: left; padding: 5px;}\n",
       ".c3table tr:nth-child(even) {background: #f7f7f7 !important;}\n",
       ".c3table .ellipsis {background: rgba(0, 0, 0, .01);}\n",
       ".c3table .index {background: rgba(161, 195, 209, 0.0); margin: 10px; font-weight: 600;}\n",
       ".c3table .head_cell {background: rgba(161, 195, 209, 0.75); font-weight: bold; text-align: center;}\n",
       ".c3table caption {color: rgb(250, 250, 250); background: rgba(30, 140, 200, 1); padding: 3px; white-space: nowrap; caption-side: top;}\n",
       ".c3table .cell_title {font-weight: bold;}\n",
       ".c3col_left { text-align: left !important; display: block;}\n",
       ".c3col_right { text-align: right !important; display: block;}\n",
       ".c3col_center { text-align: center !important; display: block;}\n",
       "</style>\n",
       "\n",
       "<table>\n",
       "\n",
       "<thead class=\"head_cell\">\n",
       "<th>species</th><th>seqid</th><th>start</th><th>stop</th><th>strand</th>\n",
       "</thead>\n",
       "<tbody>\n",
       "<tr><td><span class=\"c3col_left\">homo_sapiens</span></td><td><span class=\"c3col_right\">22</span></td><td><span class=\"c3col_right\">0</span></td><td><span class=\"c3col_right\">10524343</span></td><td><span class=\"c3col_right\">1</span></td></tr>\n",
       "<tr><td><span class=\"c3col_left\">homo_sapiens</span></td><td><span class=\"c3col_right\">22</span></td><td><span class=\"c3col_right\">10529164</span></td><td><span class=\"c3col_right\">10736169</span></td><td><span class=\"c3col_right\">1</span></td></tr>\n",
       "<tr><td><span class=\"c3col_left\">homo_sapiens</span></td><td><span class=\"c3col_right\">22</span></td><td><span class=\"c3col_right\">10736283</span></td><td><span class=\"c3col_right\">10742048</span></td><td><span class=\"c3col_right\">1</span></td></tr>\n",
       "<tr><td><span class=\"c3col_left\">homo_sapiens</span></td><td><span class=\"c3col_right\">22</span></td><td><span class=\"c3col_right\">10754413</span></td><td><span class=\"c3col_right\">10939386</span></td><td><span class=\"c3col_right\">1</span></td></tr>\n",
       "<tr><td><span class=\"c3col_left\">homo_sapiens</span></td><td><span class=\"c3col_right\">22</span></td><td><span class=\"c3col_right\">10961693</span></td><td><span class=\"c3col_right\">11066266</span></td><td><span class=\"c3col_right\">1</span></td></tr>\n",
       "<tr class=\"ellipsis\"><td><span class=\"c3col_left\">...</span></td><td><span class=\"c3col_right\">...</span></td><td><span class=\"c3col_right\">...</span></td><td><span class=\"c3col_right\">...</span></td><td><span class=\"c3col_right\">...</span></td></tr>\n",
       "<tr><td><span class=\"c3col_left\">homo_sapiens</span></td><td><span class=\"c3col_right\">22</span></td><td><span class=\"c3col_right\">16846357</span></td><td><span class=\"c3col_right\">16855802</span></td><td><span class=\"c3col_right\">1</span></td></tr>\n",
       "<tr><td><span class=\"c3col_left\">homo_sapiens</span></td><td><span class=\"c3col_right\">22</span></td><td><span class=\"c3col_right\">16856162</span></td><td><span class=\"c3col_right\">16857617</span></td><td><span class=\"c3col_right\">1</span></td></tr>\n",
       "<tr><td><span class=\"c3col_left\">homo_sapiens</span></td><td><span class=\"c3col_right\">22</span></td><td><span class=\"c3col_right\">16860718</span></td><td><span class=\"c3col_right\">16869431</span></td><td><span class=\"c3col_right\">1</span></td></tr>\n",
       "<tr><td><span class=\"c3col_left\">homo_sapiens</span></td><td><span class=\"c3col_right\">22</span></td><td><span class=\"c3col_right\">16871281</span></td><td><span class=\"c3col_right\">16876216</span></td><td><span class=\"c3col_right\">1</span></td></tr>\n",
       "<tr><td><span class=\"c3col_left\">homo_sapiens</span></td><td><span class=\"c3col_right\">22</span></td><td><span class=\"c3col_right\">16876421</span></td><td><span class=\"c3col_right\">16876550</span></td><td><span class=\"c3col_right\">1</span></td></tr>\n",
       "</tbody>\n",
       "</table>\n",
       "<p>Top 5 and bottom 5 rows from\n",
       "50 rows x 5 columns</p>\n",
       "</div>"
      ],
      "text/plain": [
       "=======================================================\n",
       "species         seqid       start        stop    strand\n",
       "-------------------------------------------------------\n",
       "homo_sapiens       22           0    10524343         1\n",
       "homo_sapiens       22    10529164    10736169         1\n",
       "homo_sapiens       22    10736283    10742048         1\n",
       "homo_sapiens       22    10754413    10939386         1\n",
       "homo_sapiens       22    10961693    11066266         1\n",
       "homo_sapiens       22    16846357    16855802         1\n",
       "homo_sapiens       22    16856162    16857617         1\n",
       "homo_sapiens       22    16860718    16869431         1\n",
       "homo_sapiens       22    16871281    16876216         1\n",
       "homo_sapiens       22    16876421    16876550         1\n",
       "-------------------------------------------------------\n",
       "Top 5 and bottom 5 rows from\n",
       "50 rows x 5 columns"
      ]
     },
     "execution_count": 3,
     "metadata": {},
     "output_type": "execute_result"
    }
   ],
   "source": [
    "ref_species = \"homo_sapiens\"\n",
    "chrom_coord = 22\n",
    "strand = 1\n",
    "coordanates_table = table.filtered(lambda x: x == chrom_coord, columns=\"seqid\")\n",
    "coordanates_table = coordanates_table.sorted(columns=[\"start\", \"stop\"])\n",
    "\n",
    "start_stop_overlapping = coordanates_table.to_list(columns=[\"start\", \"stop\"])\n",
    "start_stop_nonoverlapping = cogent3.util.misc.get_merged_overlapping_coords(start_stop_overlapping)\n",
    "#using subsample to speed analysis, remove next line when doing the final analysis\n",
    "start_stop_nonoverlapping = start_stop_nonoverlapping[0:50]\n",
    "\n",
    "inter_genic = []\n",
    "last_end = 0\n",
    "for start, stop in start_stop_nonoverlapping:\n",
    "   inter_genic.append((ref_species, chrom_coord, last_end, start-1, strand))\n",
    "   last_end = stop\n",
    "\n",
    "intergen_tab = cogent3.make_table(header=[\"species\", \"seqid\", \"start\", \"stop\", \"strand\"], data=inter_genic)\n",
    "intergen_tab.write(folder_out + \"chrom22-intergenic.tsv\")\n",
    "intergen_tab"
   ]
  },
  {
   "cell_type": "code",
   "execution_count": 4,
   "metadata": {},
   "outputs": [
    {
     "data": {
      "text/html": [
       "<div>\n",
       "<style scoped>\n",
       "    .dataframe tbody tr th:only-of-type {\n",
       "        vertical-align: middle;\n",
       "    }\n",
       "\n",
       "    .dataframe tbody tr th {\n",
       "        vertical-align: top;\n",
       "    }\n",
       "\n",
       "    .dataframe thead th {\n",
       "        text-align: right;\n",
       "    }\n",
       "</style>\n",
       "<table border=\"1\" class=\"dataframe\">\n",
       "  <thead>\n",
       "    <tr style=\"text-align: right;\">\n",
       "      <th></th>\n",
       "      <th>species</th>\n",
       "      <th>seqid</th>\n",
       "      <th>start</th>\n",
       "      <th>stop</th>\n",
       "      <th>strand</th>\n",
       "    </tr>\n",
       "  </thead>\n",
       "  <tbody>\n",
       "  </tbody>\n",
       "</table>\n",
       "</div>"
      ],
      "text/plain": [
       "Empty DataFrame\n",
       "Columns: [species, seqid, start, stop, strand]\n",
       "Index: []"
      ]
     },
     "execution_count": 4,
     "metadata": {},
     "output_type": "execute_result"
    }
   ],
   "source": [
    "pandastable = intergen_tab.to_pandas()\n",
    "elements_lower = pandastable['start'] > pandastable['stop']\n",
    "pandastable[elements_lower]"
   ]
  },
  {
   "cell_type": "code",
   "execution_count": 5,
   "metadata": {},
   "outputs": [
    {
     "data": {
      "text/plain": [
       "species    homo_sapiens\n",
       "seqid                22\n",
       "start          16876421\n",
       "stop           16876550\n",
       "strand                1\n",
       "Name: 49, dtype: object"
      ]
     },
     "execution_count": 5,
     "metadata": {},
     "output_type": "execute_result"
    }
   ],
   "source": [
    "target_start = 36510854 \n",
    "diff = np.abs(pandastable['start'] - target_start)\n",
    "closest_index = diff.idxmin()\n",
    "pandastable.iloc[closest_index]"
   ]
  },
  {
   "cell_type": "code",
   "execution_count": 6,
   "metadata": {},
   "outputs": [
    {
     "ename": "IndexError",
     "evalue": "single positional indexer is out-of-bounds",
     "output_type": "error",
     "traceback": [
      "\u001b[31m---------------------------------------------------------------------------\u001b[39m",
      "\u001b[31mIndexError\u001b[39m                                Traceback (most recent call last)",
      "\u001b[36mCell\u001b[39m\u001b[36m \u001b[39m\u001b[32mIn[6]\u001b[39m\u001b[32m, line 2\u001b[39m\n\u001b[32m      1\u001b[39m target_end = \u001b[32m36529184\u001b[39m\n\u001b[32m----> \u001b[39m\u001b[32m2\u001b[39m \u001b[43mpandastable\u001b[49m\u001b[43m.\u001b[49m\u001b[43miloc\u001b[49m\u001b[43m[\u001b[49m\u001b[43mclosest_index\u001b[49m\u001b[43m+\u001b[49m\u001b[32;43m1\u001b[39;49m\u001b[43m]\u001b[49m\n",
      "\u001b[36mFile \u001b[39m\u001b[32m~/.conda/envs/EstimatingUd/lib/python3.13/site-packages/pandas/core/indexing.py:1191\u001b[39m, in \u001b[36m_LocationIndexer.__getitem__\u001b[39m\u001b[34m(self, key)\u001b[39m\n\u001b[32m   1189\u001b[39m maybe_callable = com.apply_if_callable(key, \u001b[38;5;28mself\u001b[39m.obj)\n\u001b[32m   1190\u001b[39m maybe_callable = \u001b[38;5;28mself\u001b[39m._check_deprecated_callable_usage(key, maybe_callable)\n\u001b[32m-> \u001b[39m\u001b[32m1191\u001b[39m \u001b[38;5;28;01mreturn\u001b[39;00m \u001b[38;5;28;43mself\u001b[39;49m\u001b[43m.\u001b[49m\u001b[43m_getitem_axis\u001b[49m\u001b[43m(\u001b[49m\u001b[43mmaybe_callable\u001b[49m\u001b[43m,\u001b[49m\u001b[43m \u001b[49m\u001b[43maxis\u001b[49m\u001b[43m=\u001b[49m\u001b[43maxis\u001b[49m\u001b[43m)\u001b[49m\n",
      "\u001b[36mFile \u001b[39m\u001b[32m~/.conda/envs/EstimatingUd/lib/python3.13/site-packages/pandas/core/indexing.py:1752\u001b[39m, in \u001b[36m_iLocIndexer._getitem_axis\u001b[39m\u001b[34m(self, key, axis)\u001b[39m\n\u001b[32m   1749\u001b[39m     \u001b[38;5;28;01mraise\u001b[39;00m \u001b[38;5;167;01mTypeError\u001b[39;00m(\u001b[33m\"\u001b[39m\u001b[33mCannot index by location index with a non-integer key\u001b[39m\u001b[33m\"\u001b[39m)\n\u001b[32m   1751\u001b[39m \u001b[38;5;66;03m# validate the location\u001b[39;00m\n\u001b[32m-> \u001b[39m\u001b[32m1752\u001b[39m \u001b[38;5;28;43mself\u001b[39;49m\u001b[43m.\u001b[49m\u001b[43m_validate_integer\u001b[49m\u001b[43m(\u001b[49m\u001b[43mkey\u001b[49m\u001b[43m,\u001b[49m\u001b[43m \u001b[49m\u001b[43maxis\u001b[49m\u001b[43m)\u001b[49m\n\u001b[32m   1754\u001b[39m \u001b[38;5;28;01mreturn\u001b[39;00m \u001b[38;5;28mself\u001b[39m.obj._ixs(key, axis=axis)\n",
      "\u001b[36mFile \u001b[39m\u001b[32m~/.conda/envs/EstimatingUd/lib/python3.13/site-packages/pandas/core/indexing.py:1685\u001b[39m, in \u001b[36m_iLocIndexer._validate_integer\u001b[39m\u001b[34m(self, key, axis)\u001b[39m\n\u001b[32m   1683\u001b[39m len_axis = \u001b[38;5;28mlen\u001b[39m(\u001b[38;5;28mself\u001b[39m.obj._get_axis(axis))\n\u001b[32m   1684\u001b[39m \u001b[38;5;28;01mif\u001b[39;00m key >= len_axis \u001b[38;5;129;01mor\u001b[39;00m key < -len_axis:\n\u001b[32m-> \u001b[39m\u001b[32m1685\u001b[39m     \u001b[38;5;28;01mraise\u001b[39;00m \u001b[38;5;167;01mIndexError\u001b[39;00m(\u001b[33m\"\u001b[39m\u001b[33msingle positional indexer is out-of-bounds\u001b[39m\u001b[33m\"\u001b[39m)\n",
      "\u001b[31mIndexError\u001b[39m: single positional indexer is out-of-bounds"
     ]
    }
   ],
   "source": [
    "target_end = 36529184\n",
    "pandastable.iloc[closest_index+1]"
   ]
  }
 ],
 "metadata": {
  "kernelspec": {
   "display_name": "Python 3.13.5 ('EstimatingUd')",
   "language": "python",
   "name": "python3"
  },
  "language_info": {
   "codemirror_mode": {
    "name": "ipython",
    "version": 3
   },
   "file_extension": ".py",
   "mimetype": "text/x-python",
   "name": "python",
   "nbconvert_exporter": "python",
   "pygments_lexer": "ipython3",
   "version": "3.13.5"
  },
  "orig_nbformat": 4,
  "vscode": {
   "interpreter": {
    "hash": "53a0ee2834e5a3220609a583c5db6d166b18855c93dee771c0346263a6405663"
   }
  }
 },
 "nbformat": 4,
 "nbformat_minor": 2
}

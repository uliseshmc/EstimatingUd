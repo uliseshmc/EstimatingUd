{
 "cells": [
  {
   "cell_type": "code",
   "execution_count": 1,
   "metadata": {},
   "outputs": [],
   "source": [
    "import cogent3\n",
    "from cogent3 import get_app\n",
    "import matplotlib.pyplot as plt\n",
    "import paths\n",
    "import libs"
   ]
  },
  {
   "cell_type": "code",
   "execution_count": 10,
   "metadata": {},
   "outputs": [],
   "source": [
    "#Define apps\n",
    "loader = get_app(\"load_aligned\", moltype=\"dna\")   \n",
    "omit_degs_cds = get_app(\"omit_degenerates\", moltype=\"dna\", motif_length=3)\n",
    "omit_degs_noncds1 = get_app(\"omit_degenerates\", moltype=\"dna\")\n",
    "omit_degs_noncds2 = get_app(\"omit_degenerates\", moltype=\"dna\")\n",
    "rename_cds = libs.renamer_cds_aligned()\n",
    "rename_noncds = libs.renamer_noncds_aligned()\n",
    "ffold = get_app(\"take_codon_positions\", fourfold_degenerate=True)\n",
    "concat = get_app(\"concat\", moltype=\"dna\")"
   ]
  },
  {
   "cell_type": "markdown",
   "metadata": {},
   "source": [
    "# CDS"
   ]
  },
  {
   "cell_type": "code",
   "execution_count": 18,
   "metadata": {},
   "outputs": [
    {
     "name": "stdout",
     "output_type": "stream",
     "text": [
      "Directory datastore\n",
      "=======================\n",
      "record type      number\n",
      "-----------------------\n",
      "completed           396\n",
      "not_completed         0\n",
      "logs                  1\n",
      "-----------------------\n"
     ]
    },
    {
     "data": {
      "application/vnd.jupyter.widget-view+json": {
       "model_id": "b11358b68b614d32bc1013d6014fad67",
       "version_major": 2,
       "version_minor": 0
      },
      "text/plain": [
       "   0%|          |00:00<?"
      ]
     },
     "metadata": {},
     "output_type": "display_data"
    },
    {
     "name": "stderr",
     "output_type": "stream",
     "text": [
      "Exception ignored in: <function tqdm.__del__ at 0x7f6ba5e76fc0>\n",
      "Traceback (most recent call last):\n",
      "  File \"/home/u12/uliseshmc/.conda/envs/delme/lib/python3.13/site-packages/tqdm/std.py\", line 1148, in __del__\n",
      "  File \"/home/u12/uliseshmc/.conda/envs/delme/lib/python3.13/site-packages/tqdm/notebook.py\", line 282, in close\n",
      "  File \"/home/u12/uliseshmc/.conda/envs/delme/lib/python3.13/site-packages/tqdm/notebook.py\", line 171, in display\n",
      "  File \"/home/u12/uliseshmc/.conda/envs/delme/lib/python3.13/site-packages/traitlets/traitlets.py\", line 716, in __set__\n",
      "  File \"/home/u12/uliseshmc/.conda/envs/delme/lib/python3.13/site-packages/traitlets/traitlets.py\", line 706, in set\n",
      "  File \"/home/u12/uliseshmc/.conda/envs/delme/lib/python3.13/site-packages/traitlets/traitlets.py\", line 1513, in _notify_trait\n",
      "  File \"/home/u12/uliseshmc/.conda/envs/delme/lib/python3.13/site-packages/ipywidgets/widgets/widget.py\", line 700, in notify_change\n",
      "  File \"/home/u12/uliseshmc/.conda/envs/delme/lib/python3.13/site-packages/ipywidgets/widgets/widget.py\", line 586, in send_state\n",
      "  File \"/home/u12/uliseshmc/.conda/envs/delme/lib/python3.13/site-packages/ipywidgets/widgets/widget.py\", line 825, in _send\n",
      "  File \"/home/u12/uliseshmc/.conda/envs/delme/lib/python3.13/site-packages/comm/base_comm.py\", line 144, in send\n",
      "  File \"/home/u12/uliseshmc/.conda/envs/delme/lib/python3.13/site-packages/ipykernel/comm/comm.py\", line 42, in publish_msg\n",
      "  File \"/home/u12/uliseshmc/.conda/envs/delme/lib/python3.13/site-packages/ipykernel/kernelbase.py\", line 797, in get_parent\n",
      "LookupError: <ContextVar name='shell_parent' at 0x7f6bd16c0d60>\n",
      "Exception ignored in: <function tqdm.__del__ at 0x7f6ba5e76fc0>\n",
      "Traceback (most recent call last):\n",
      "  File \"/home/u12/uliseshmc/.conda/envs/delme/lib/python3.13/site-packages/tqdm/std.py\", line 1148, in __del__\n",
      "  File \"/home/u12/uliseshmc/.conda/envs/delme/lib/python3.13/site-packages/tqdm/notebook.py\", line 282, in close\n",
      "  File \"/home/u12/uliseshmc/.conda/envs/delme/lib/python3.13/site-packages/tqdm/notebook.py\", line 171, in display\n",
      "  File \"/home/u12/uliseshmc/.conda/envs/delme/lib/python3.13/site-packages/traitlets/traitlets.py\", line 716, in __set__\n",
      "  File \"/home/u12/uliseshmc/.conda/envs/delme/lib/python3.13/site-packages/traitlets/traitlets.py\", line 706, in set\n",
      "  File \"/home/u12/uliseshmc/.conda/envs/delme/lib/python3.13/site-packages/traitlets/traitlets.py\", line 1513, in _notify_trait\n",
      "  File \"/home/u12/uliseshmc/.conda/envs/delme/lib/python3.13/site-packages/ipywidgets/widgets/widget.py\", line 700, in notify_change\n",
      "  File \"/home/u12/uliseshmc/.conda/envs/delme/lib/python3.13/site-packages/ipywidgets/widgets/widget.py\", line 586, in send_state\n",
      "  File \"/home/u12/uliseshmc/.conda/envs/delme/lib/python3.13/site-packages/ipywidgets/widgets/widget.py\", line 825, in _send\n",
      "  File \"/home/u12/uliseshmc/.conda/envs/delme/lib/python3.13/site-packages/comm/base_comm.py\", line 144, in send\n",
      "  File \"/home/u12/uliseshmc/.conda/envs/delme/lib/python3.13/site-packages/ipykernel/comm/comm.py\", line 42, in publish_msg\n",
      "  File \"/home/u12/uliseshmc/.conda/envs/delme/lib/python3.13/site-packages/ipykernel/kernelbase.py\", line 797, in get_parent\n",
      "LookupError: <ContextVar name='shell_parent' at 0x7f6bd16c0d60>\n"
     ]
    },
    {
     "data": {
      "application/vnd.jupyter.widget-view+json": {
       "model_id": "f3aec2ba6f5b4213aa34b463b05f563c",
       "version_major": 2,
       "version_minor": 0
      },
      "text/plain": [
       "   0%|          |00:00<?"
      ]
     },
     "metadata": {},
     "output_type": "display_data"
    },
    {
     "data": {
      "application/vnd.jupyter.widget-view+json": {
       "model_id": "5d452378809d49fdb1c972b1e0cc21f9",
       "version_major": 2,
       "version_minor": 0
      },
      "text/plain": [
       "   0%|          |00:00<?"
      ]
     },
     "metadata": {},
     "output_type": "display_data"
    },
    {
     "name": "stdout",
     "output_type": "stream",
     "text": [
      "Model results : \n",
      "GN\n",
      "log-likelihood = -45816.4312\n",
      "number of free parameters = 39\n",
      "======================================================================\n",
      "edge          parent    length     A>C     A>G     A>T     C>A     C>G\n",
      "----------------------------------------------------------------------\n",
      "Gorilla       root        0.01    0.95    3.17    0.42    0.73    0.92\n",
      "Chimpanzee    root        0.01    0.96    7.97    1.49    1.59    1.53\n",
      "Human         root        0.01    1.09    4.39    0.26    0.58    0.88\n",
      "----------------------------------------------------------------------\n",
      "\n",
      "continued: \n",
      "===============================================\n",
      "  C>T      G>A     G>C     G>T     T>A      T>C\n",
      "-----------------------------------------------\n",
      " 4.53     5.64    1.27    0.41    0.49     4.27\n",
      "12.90    15.42    1.27    1.90    0.00    10.17\n",
      " 6.87     8.37    1.28    0.72    0.24     2.88\n",
      "-----------------------------------------------\n",
      "\n",
      "============================\n",
      "   A       C       G       T\n",
      "----------------------------\n",
      "0.14    0.39    0.32    0.15\n",
      "----------------------------\n",
      "\n"
     ]
    },
    {
     "ename": "ValueError",
     "evalue": "HairyArma, RoundEare missing",
     "output_type": "error",
     "traceback": [
      "\u001b[31m---------------------------------------------------------------------------\u001b[39m",
      "\u001b[31mValueError\u001b[39m                                Traceback (most recent call last)",
      "\u001b[36mCell\u001b[39m\u001b[36m \u001b[39m\u001b[32mIn[18]\u001b[39m\u001b[32m, line 21\u001b[39m\n\u001b[32m     17\u001b[39m \u001b[38;5;28mprint\u001b[39m(\u001b[33m\"\u001b[39m\u001b[33mModel results : \u001b[39m\u001b[38;5;130;01m\\n\u001b[39;00m\u001b[33m\"\u001b[39m + \u001b[38;5;28mstr\u001b[39m(result_ffold.lf) + \u001b[33m\"\u001b[39m\u001b[38;5;130;01m\\n\u001b[39;00m\u001b[33m\"\u001b[39m)\n\u001b[32m     19\u001b[39m humanENS_ffold = lengthstree_ffold[\u001b[33m\"\u001b[39m\u001b[33mHuman\u001b[39m\u001b[33m\"\u001b[39m]\n\u001b[32m---> \u001b[39m\u001b[32m21\u001b[39m dp_ffold = \u001b[43mffold_alns\u001b[49m\u001b[43m.\u001b[49m\u001b[43mdotplot\u001b[49m\u001b[43m(\u001b[49m\u001b[33;43m\"\u001b[39;49m\u001b[33;43mHairyArma\u001b[39;49m\u001b[33;43m\"\u001b[39;49m\u001b[43m,\u001b[49m\u001b[43m \u001b[49m\u001b[33;43m\"\u001b[39;49m\u001b[33;43mRoundEare\u001b[39;49m\u001b[33;43m\"\u001b[39;49m\u001b[43m)\u001b[49m\n\u001b[32m     22\u001b[39m dp_ffold.show()\n",
      "\u001b[36mFile \u001b[39m\u001b[32m~/.conda/envs/delme/lib/python3.13/site-packages/cogent3/core/alignment.py:1597\u001b[39m, in \u001b[36mSequenceCollection.dotplot\u001b[39m\u001b[34m(self, name1, name2, window, threshold, k, min_gap, width, title, rc, biotype, show_progress)\u001b[39m\n\u001b[32m   1595\u001b[39m \u001b[38;5;28;01mif\u001b[39;00m \u001b[38;5;129;01mnot\u001b[39;00m {name1, name2} <= \u001b[38;5;28mset\u001b[39m(\u001b[38;5;28mself\u001b[39m.names):\n\u001b[32m   1596\u001b[39m     msg = \u001b[33mf\u001b[39m\u001b[33m\"\u001b[39m\u001b[38;5;132;01m{\u001b[39;00mname1\u001b[38;5;132;01m}\u001b[39;00m\u001b[33m, \u001b[39m\u001b[38;5;132;01m{\u001b[39;00mname2\u001b[38;5;132;01m}\u001b[39;00m\u001b[33m missing\u001b[39m\u001b[33m\"\u001b[39m\n\u001b[32m-> \u001b[39m\u001b[32m1597\u001b[39m     \u001b[38;5;28;01mraise\u001b[39;00m \u001b[38;5;167;01mValueError\u001b[39;00m(msg)\n\u001b[32m   1599\u001b[39m seq1 = \u001b[38;5;28mself\u001b[39m.seqs[name1]\n\u001b[32m   1600\u001b[39m seq2 = \u001b[38;5;28mself\u001b[39m.seqs[name2]\n",
      "\u001b[31mValueError\u001b[39m: HairyArma, RoundEare missing"
     ]
    }
   ],
   "source": [
    "folder_in = paths.DATA_APES114 + 'cds/'\n",
    "in_dstore = cogent3.open_data_store(folder_in, suffix='fa', mode='r')\n",
    "\n",
    "#create a concatenated alignment with all coding positions\n",
    "ffold_process = loader + omit_degs_cds + rename_cds + ffold\n",
    "# result below is only valid alignments (no NotCompleted).\n",
    "results_ffold = [r for r in ffold_process.as_completed(in_dstore[:], parallel=True) if r]\n",
    "ffold_alns = concat(results_ffold)\n",
    "ffold_alns.source = \"cds\"\n",
    "\n",
    "#Do a General nucleotide substitution model\n",
    "#time_het=max sets a 36 params substitution model\n",
    "sm = get_app(\"model\", \"GN\", time_het=\"max\", optimise_motif_probs=True, show_progress=True)\n",
    "result_ffold = sm(ffold_alns)\n",
    "print(\"Model results : \\n\" + str(result_ffold.lf) + \"\\n\")\n",
    "\n",
    "humanENS_ffold = lengthstree_ffold[\"Human\"]\n",
    "\n",
    "dp_ffold = ffold_alns.dotplot(\"HairyArma\", \"RoundEare\")\n",
    "dp_ffold.show()"
   ]
  },
  {
   "cell_type": "markdown",
   "metadata": {},
   "source": [
    "# CDS codon aligned"
   ]
  },
  {
   "cell_type": "code",
   "execution_count": 4,
   "metadata": {},
   "outputs": [
    {
     "data": {
      "application/vnd.jupyter.widget-view+json": {
       "model_id": "8ddd529e5dc54542b682208ab98d2faa",
       "version_major": 2,
       "version_minor": 0
      },
      "text/plain": [
       "   0%|          |00:00<?"
      ]
     },
     "metadata": {},
     "output_type": "display_data"
    },
    {
     "data": {
      "application/vnd.jupyter.widget-view+json": {
       "model_id": "c06695e1dfe444dda92e054f46b88543",
       "version_major": 2,
       "version_minor": 0
      },
      "text/plain": [
       "   0%|          |00:00<?"
      ]
     },
     "metadata": {},
     "output_type": "display_data"
    },
    {
     "data": {
      "application/vnd.jupyter.widget-view+json": {
       "model_id": "9397562f789949d2a8709574ad292175",
       "version_major": 2,
       "version_minor": 0
      },
      "text/plain": [
       "   0%|          |00:00<?"
      ]
     },
     "metadata": {},
     "output_type": "display_data"
    },
    {
     "name": "stdout",
     "output_type": "stream",
     "text": [
      "Model results : \n",
      "GN\n",
      "log-likelihood = -131955.0316\n",
      "number of free parameters = 39\n",
      "======================================================================\n",
      "edge          parent    length     A>C     A>G     A>T     C>A     C>G\n",
      "----------------------------------------------------------------------\n",
      "Gorilla       root        0.01    0.79    4.67    0.51    0.74    1.09\n",
      "Chimpanzee    root        0.01    1.54    5.64    1.03    1.09    1.90\n",
      "Human         root        0.01    1.06    4.01    0.39    0.78    0.97\n",
      "----------------------------------------------------------------------\n",
      "\n",
      "continued: \n",
      "============================================\n",
      " C>T     G>A     G>C     G>T     T>A     T>C\n",
      "--------------------------------------------\n",
      "4.15    5.22    1.43    0.90    0.39    4.05\n",
      "8.29    9.78    1.50    1.71    1.00    6.22\n",
      "5.22    6.17    1.18    0.84    0.31    2.71\n",
      "--------------------------------------------\n",
      "\n",
      "============================\n",
      "   A       C       G       T\n",
      "----------------------------\n",
      "0.15    0.38    0.31    0.16\n",
      "----------------------------\n",
      "\n",
      "Distances: \n",
      "{'Gorilla': np.float64(0.014230382949841911), 'Chimpanzee': np.float64(0.008145818629811029), 'Human': np.float64(0.00786603737688505)}\n"
     ]
    }
   ],
   "source": [
    "omit_degs_cds.disconnect()\n",
    "ffold.disconnect()\n",
    "\n",
    "folder_in = paths.DATA_APES114 + 'cds/codon_aligned/'\n",
    "in_dstore = cogent3.open_data_store(folder_in, suffix='fa', mode='r')\n",
    "#create a concatenated alignment with all coding positions\n",
    "ffold_codonalignedprocess = loader+omit_degs_cds+ffold\n",
    "# result below is only valid alignments (no NotCompleted).\n",
    "results_ffold = [r for r in ffold_codonalignedprocess.as_completed(in_dstore[:], parallel=True) if r]\n",
    "ffold_alns = concat(results_ffold)\n",
    "ffold_alns.source = \"cds_codonaligned\"\n",
    "\n",
    "#Do a General nucleotide substitution model\n",
    "#time_het=max sets a 36 params substitution model\n",
    "sm = get_app(\"model\", \"GN\", time_het=\"max\", optimise_motif_probs=True, show_progress=True)\n",
    "result_ffold_codonaligned = sm(ffold_alns)\n",
    "print(\"Model results : \\n\" + str(result_ffold_codonaligned.lf) + \"\\n\")\n",
    "\n",
    "print(\"Distances: \")\n",
    "lengthstree_ffold_codonaligned = result_ffold_codonaligned.lf.get_lengths_as_ens()\n",
    "humanENS_ffold_codonaligned = lengthstree_ffold_codonaligned[\"Human\"]\n",
    "print(lengthstree_ffold_codonaligned)"
   ]
  },
  {
   "cell_type": "markdown",
   "metadata": {},
   "source": [
    "# Introns"
   ]
  },
  {
   "cell_type": "code",
   "execution_count": 8,
   "metadata": {},
   "outputs": [
    {
     "name": "stdout",
     "output_type": "stream",
     "text": [
      "Directory datastore\n",
      "=======================\n",
      "record type      number\n",
      "-----------------------\n",
      "completed           543\n",
      "not_completed         0\n",
      "logs                  1\n",
      "-----------------------\n"
     ]
    },
    {
     "data": {
      "application/vnd.jupyter.widget-view+json": {
       "model_id": "48098ddd0ce14b54a6b0e62c245faee3",
       "version_major": 2,
       "version_minor": 0
      },
      "text/plain": [
       "   0%|          |00:00<?"
      ]
     },
     "metadata": {},
     "output_type": "display_data"
    },
    {
     "data": {
      "application/vnd.jupyter.widget-view+json": {
       "model_id": "47fa083464e545748456a65d661f6778",
       "version_major": 2,
       "version_minor": 0
      },
      "text/plain": [
       "   0%|          |00:00<?"
      ]
     },
     "metadata": {},
     "output_type": "display_data"
    },
    {
     "data": {
      "application/vnd.jupyter.widget-view+json": {
       "model_id": "441eadb22e684ac8afe8ed0192cdd937",
       "version_major": 2,
       "version_minor": 0
      },
      "text/plain": [
       "   0%|          |00:00<?"
      ]
     },
     "metadata": {},
     "output_type": "display_data"
    },
    {
     "name": "stdout",
     "output_type": "stream",
     "text": [
      "Model results : \n",
      "GN\n",
      "log-likelihood = -10543588.5646\n",
      "number of free parameters = 39\n",
      "======================================================================\n",
      "edge          parent    length     A>C     A>G     A>T     C>A     C>G\n",
      "----------------------------------------------------------------------\n",
      "Gorilla       root        0.01    1.01    4.67    0.64    1.17    1.64\n",
      "Chimpanzee    root        0.01    0.98    3.66    0.61    1.02    1.51\n",
      "Human         root        0.01    1.03    4.06    0.60    1.16    1.52\n",
      "----------------------------------------------------------------------\n",
      "\n",
      "continued: \n",
      "============================================\n",
      " C>T     G>A     G>C     G>T     T>A     T>C\n",
      "--------------------------------------------\n",
      "6.45    6.52    1.65    1.16    0.65    4.58\n",
      "6.01    6.10    1.39    1.03    0.60    3.43\n",
      "6.76    6.79    1.55    1.20    0.59    4.01\n",
      "--------------------------------------------\n",
      "\n",
      "============================\n",
      "   A       C       G       T\n",
      "----------------------------\n",
      "0.25    0.25    0.25    0.25\n",
      "----------------------------\n",
      "\n",
      "Distances: \n",
      "{'Gorilla': np.float64(0.009924373773027871), 'Chimpanzee': np.float64(0.006067050207685144), 'Human': np.float64(0.005807745633965639)}\n"
     ]
    }
   ],
   "source": [
    "folder_in = paths.DATA_APES114 + 'introns/'\n",
    "in_dstore = cogent3.open_data_store(folder_in, suffix='fa', mode='r')\n",
    "\n",
    "#create a concatenated alignment with all coding positions\n",
    "noncds_process = loader + omit_degs_noncds1 + rename_noncds\n",
    "# result below is only valid alignments (no NotCompleted).\n",
    "results_allpos = [r for r in noncds_process.as_completed(in_dstore[:], parallel=True) if r]\n",
    "allpos_alns = concat(results_allpos)\n",
    "allpos_alns.source = \"introns\"\n",
    "\n",
    "#Do a General nucleotide substitution model\n",
    "#time_het=max sets a 36 params substitution model\n",
    "sm = get_app(\"model\", \"GN\", time_het=\"max\", optimise_motif_probs=True, show_progress=True)\n",
    "result_introns = sm(allpos_alns)\n",
    "print(\"Model results : \\n\" + str(result_introns.lf) + \"\\n\")\n",
    "\n",
    "print(\"Distances: \")\n",
    "lengthstree_introns = result_introns.lf.get_lengths_as_ens()\n",
    "humanENS_introns = lengthstree_introns[\"Human\"]\n",
    "print(lengthstree_introns)"
   ]
  },
  {
   "cell_type": "markdown",
   "metadata": {},
   "source": [
    "# Introns nucleotide aligned"
   ]
  },
  {
   "cell_type": "code",
   "execution_count": 11,
   "metadata": {},
   "outputs": [
    {
     "data": {
      "application/vnd.jupyter.widget-view+json": {
       "model_id": "528cd131472b44ec9ff8271fa937a427",
       "version_major": 2,
       "version_minor": 0
      },
      "text/plain": [
       "   0%|          |00:00<?"
      ]
     },
     "metadata": {},
     "output_type": "display_data"
    },
    {
     "data": {
      "application/vnd.jupyter.widget-view+json": {
       "model_id": "2a7d99ff27854d5eafacfdc0d7691696",
       "version_major": 2,
       "version_minor": 0
      },
      "text/plain": [
       "   0%|          |00:00<?"
      ]
     },
     "metadata": {},
     "output_type": "display_data"
    },
    {
     "data": {
      "application/vnd.jupyter.widget-view+json": {
       "model_id": "94a5de32016940e7908958043ce8b750",
       "version_major": 2,
       "version_minor": 0
      },
      "text/plain": [
       "   0%|          |00:00<?"
      ]
     },
     "metadata": {},
     "output_type": "display_data"
    },
    {
     "name": "stdout",
     "output_type": "stream",
     "text": [
      "Model results : \n",
      "GN\n",
      "log-likelihood = -9250412.3019\n",
      "number of free parameters = 39\n",
      "======================================================================\n",
      "edge          parent    length     A>C     A>G     A>T     C>A     C>G\n",
      "----------------------------------------------------------------------\n",
      "Gorilla       root        0.02    0.93    2.15    0.92    0.93    1.06\n",
      "Chimpanzee    root        0.01    1.00    2.12    1.05    1.09    1.17\n",
      "Human         root        0.01    0.99    2.39    0.93    0.96    1.13\n",
      "----------------------------------------------------------------------\n",
      "\n",
      "continued: \n",
      "============================================\n",
      " C>T     G>A     G>C     G>T     T>A     T>C\n",
      "--------------------------------------------\n",
      "2.59    2.66    1.09    0.99    1.00    2.15\n",
      "3.11    3.17    1.17    1.17    0.99    2.01\n",
      "3.52    3.52    1.15    0.99    0.90    2.43\n",
      "--------------------------------------------\n",
      "\n",
      "============================\n",
      "   A       C       G       T\n",
      "----------------------------\n",
      "0.24    0.26    0.26    0.24\n",
      "----------------------------\n",
      "\n",
      "Distances: \n",
      "{'Gorilla': np.float64(0.019882298378948504), 'Chimpanzee': np.float64(0.012160456000642385), 'Human': np.float64(0.00909261444635818)}\n"
     ]
    }
   ],
   "source": [
    "folder_in = paths.DATA_APES114 + 'introns/nt_aligned/'\n",
    "in_dstore = cogent3.open_data_store(folder_in, suffix='fa', mode='r')\n",
    "#create a concatenated alignment with all coding positions\n",
    "noncds_process_ntaligned = loader + omit_degs_noncds2\n",
    "# result below is only valid alignments (no NotCompleted).\n",
    "results_allpos = [r for r in noncds_process_ntaligned.as_completed(in_dstore[:], parallel=True) if r]\n",
    "allpos_alns = concat(results_allpos)\n",
    "allpos_alns.source = \"introns_ntaligned\"\n",
    "\n",
    "#Do a General nucleotide substitution model\n",
    "#time_het=max sets a 36 params substitution model\n",
    "sm = get_app(\"model\", \"GN\", time_het=\"max\", optimise_motif_probs=True, show_progress=True)\n",
    "result_introns_ntaligned = sm(allpos_alns)\n",
    "print(\"Model results : \\n\" + str(result_introns_ntaligned.lf) + \"\\n\")\n",
    "\n",
    "print(\"Distances: \")\n",
    "lengthstree_introns_ntaligned = result_introns_ntaligned.lf.get_lengths_as_ens()\n",
    "humanENS_introns_ntaligned = lengthstree_introns_ntaligned[\"Human\"]\n",
    "print(lengthstree_introns_ntaligned)"
   ]
  },
  {
   "cell_type": "markdown",
   "metadata": {},
   "source": [
    "# Introns AR"
   ]
  },
  {
   "cell_type": "code",
   "execution_count": 13,
   "metadata": {},
   "outputs": [
    {
     "data": {
      "application/vnd.jupyter.widget-view+json": {
       "model_id": "1fc0887dbb824ed087e6e1f4cc86547e",
       "version_major": 2,
       "version_minor": 0
      },
      "text/plain": [
       "   0%|          |00:00<?"
      ]
     },
     "metadata": {},
     "output_type": "display_data"
    },
    {
     "data": {
      "application/vnd.jupyter.widget-view+json": {
       "model_id": "17a400d6ac264a8ab0977b6c71b5ba4c",
       "version_major": 2,
       "version_minor": 0
      },
      "text/plain": [
       "   0%|          |00:00<?"
      ]
     },
     "metadata": {},
     "output_type": "display_data"
    },
    {
     "data": {
      "application/vnd.jupyter.widget-view+json": {
       "model_id": "4c82722b732b4bf0bd44dc253d0a225b",
       "version_major": 2,
       "version_minor": 0
      },
      "text/plain": [
       "   0%|          |00:00<?"
      ]
     },
     "metadata": {},
     "output_type": "display_data"
    },
    {
     "name": "stdout",
     "output_type": "stream",
     "text": [
      "Model results : \n",
      "GN\n",
      "log-likelihood = -8471315.4296\n",
      "number of free parameters = 39\n",
      "======================================================================\n",
      "edge          parent    length     A>C     A>G     A>T     C>A     C>G\n",
      "----------------------------------------------------------------------\n",
      "Gorilla       root        0.01    0.99    4.45    0.80    1.21    1.46\n",
      "Chimpanzee    root        0.01    1.06    3.64    0.87    1.16    1.42\n",
      "Human         root        0.01    0.99    3.83    0.71    1.21    1.50\n",
      "----------------------------------------------------------------------\n",
      "\n",
      "continued: \n",
      "============================================\n",
      " C>T     G>A     G>C     G>T     T>A     T>C\n",
      "--------------------------------------------\n",
      "6.77    6.95    1.43    1.16    0.78    4.33\n",
      "7.40    7.40    1.36    1.21    0.81    3.51\n",
      "7.53    7.70    1.35    1.25    0.72    3.84\n",
      "--------------------------------------------\n",
      "\n",
      "============================\n",
      "   A       C       G       T\n",
      "----------------------------\n",
      "0.26    0.24    0.24    0.26\n",
      "----------------------------\n",
      "\n",
      "Distances: \n",
      "{'Gorilla': np.float64(0.012073281000994442), 'Chimpanzee': np.float64(0.007186642377482184), 'Human': np.float64(0.006579165144013552)}\n"
     ]
    }
   ],
   "source": [
    "folder_in = paths.DATA_APES114 + 'intronsAR/'\n",
    "in_dstore = cogent3.open_data_store(folder_in, suffix='fa', mode='r')\n",
    "\n",
    "# result below is only valid alignments (no NotCompleted).\n",
    "results_allpos = [r for r in noncds_process.as_completed(in_dstore[:], parallel=True) if r]\n",
    "allpos_alns = concat(results_allpos)\n",
    "allpos_alns.source = \"intronsAR\"\n",
    "\n",
    "#Do a General nucleotide substitution model\n",
    "#time_het=max sets a 36 params substitution model\n",
    "sm = get_app(\"model\", \"GN\", time_het=\"max\", optimise_motif_probs=True, show_progress=True)\n",
    "result_intronsAR = sm(allpos_alns)\n",
    "print(\"Model results : \\n\" + str(result_intronsAR.lf) + \"\\n\")\n",
    "\n",
    "print(\"Distances: \")\n",
    "lengthstree_intronsAR = result_intronsAR.lf.get_lengths_as_ens()\n",
    "humanENS_intronsAR = lengthstree_intronsAR[\"Human\"]\n",
    "print(lengthstree_intronsAR)"
   ]
  },
  {
   "cell_type": "code",
   "execution_count": 15,
   "metadata": {},
   "outputs": [
    {
     "data": {
      "application/vnd.jupyter.widget-view+json": {
       "model_id": "b86f9665bf4c45b2ae6303a893e0e453",
       "version_major": 2,
       "version_minor": 0
      },
      "text/plain": [
       "   0%|          |00:00<?"
      ]
     },
     "metadata": {},
     "output_type": "display_data"
    },
    {
     "data": {
      "application/vnd.jupyter.widget-view+json": {
       "model_id": "43dc1eafba794c2a9822182c256a8a8f",
       "version_major": 2,
       "version_minor": 0
      },
      "text/plain": [
       "   0%|          |00:00<?"
      ]
     },
     "metadata": {},
     "output_type": "display_data"
    },
    {
     "data": {
      "application/vnd.jupyter.widget-view+json": {
       "model_id": "99ec10b79fb849169d78cd37dbb40f9c",
       "version_major": 2,
       "version_minor": 0
      },
      "text/plain": [
       "   0%|          |00:00<?"
      ]
     },
     "metadata": {},
     "output_type": "display_data"
    },
    {
     "name": "stdout",
     "output_type": "stream",
     "text": [
      "Model results : \n",
      "GN\n",
      "log-likelihood = -8240427.7037\n",
      "number of free parameters = 39\n",
      "======================================================================\n",
      "edge          parent    length     A>C     A>G     A>T     C>A     C>G\n",
      "----------------------------------------------------------------------\n",
      "Gorilla       root        0.03    1.00    2.20    1.16    1.17    1.05\n",
      "Chimpanzee    root        0.02    1.13    2.13    1.17    1.14    1.13\n",
      "Human         root        0.01    1.01    2.61    1.09    1.08    1.11\n",
      "----------------------------------------------------------------------\n",
      "\n",
      "continued: \n",
      "============================================\n",
      " C>T     G>A     G>C     G>T     T>A     T>C\n",
      "--------------------------------------------\n",
      "2.97    3.02    1.03    1.11    1.17    2.14\n",
      "3.34    3.28    1.19    1.19    1.04    2.03\n",
      "4.37    4.44    1.08    1.16    0.99    2.54\n",
      "--------------------------------------------\n",
      "\n",
      "============================\n",
      "   A       C       G       T\n",
      "----------------------------\n",
      "0.26    0.24    0.24    0.26\n",
      "----------------------------\n",
      "\n",
      "Distances: \n",
      "{'Gorilla': np.float64(0.026629306474259738), 'Chimpanzee': np.float64(0.015365141507145273), 'Human': np.float64(0.009898557019704138)}\n"
     ]
    }
   ],
   "source": [
    "folder_in = paths.DATA_APES114 + 'intronsAR/nt_aligned/'\n",
    "in_dstore = cogent3.open_data_store(folder_in, suffix='fa', mode='r')\n",
    "# result below is only valid alignments (no NotCompleted).\n",
    "results_allpos = [r for r in noncds_process_ntaligned.as_completed(in_dstore[:], parallel=True) if r]\n",
    "allpos_alns = concat(results_allpos)\n",
    "allpos_alns.source = \"intronsAR_ntaligned\"\n",
    "\n",
    "#Do a General nucleotide substitution model\n",
    "#time_het=max sets a 36 params substitution model\n",
    "sm = get_app(\"model\", \"GN\", time_het=\"max\", optimise_motif_probs=True, show_progress=True)\n",
    "result_intronsAR_ntaligned = sm(allpos_alns)\n",
    "print(\"Model results : \\n\" + str(result_intronsAR_ntaligned.lf) + \"\\n\")\n",
    "\n",
    "print(\"Distances: \")\n",
    "lengthstree_intronsAR_ntaligned = result_intronsAR_ntaligned.lf.get_lengths_as_ens()\n",
    "humanENS_intronsAR_ntaligned = lengthstree_intronsAR_ntaligned[\"Human\"]\n",
    "print(lengthstree_intronsAR_ntaligned)"
   ]
  },
  {
   "cell_type": "markdown",
   "metadata": {},
   "source": [
    "# Plotting"
   ]
  },
  {
   "cell_type": "code",
   "execution_count": 17,
   "metadata": {},
   "outputs": [
    {
     "data": {
      "image/png": "[encoded data removed]",
      "text/plain": [
       "<Figure size 640x480 with 1 Axes>"
      ]
     },
     "metadata": {},
     "output_type": "display_data"
    },
    {
     "name": "stdout",
     "output_type": "stream",
     "text": [
      "{'four fold': np.float64(0.006807116819923458), 'four fold cn aligned': np.float64(0.00786603737688505), 'introns': np.float64(0.005807745633965639), 'introns cn aligned': np.float64(0.00909261444635818), 'intronsAR': np.float64(0.006579165144013552), 'intronsAR cn aligned': np.float64(0.009898557019704138)}\n"
     ]
    }
   ],
   "source": [
    "ENS_human = {\n",
    "    \"four fold\": humanENS_ffold,\n",
    "    \"four fold cn aligned\": humanENS_ffold_codonaligned,\n",
    "    \"introns\": humanENS_introns,\n",
    "    \"introns cn aligned\": humanENS_introns_ntaligned,\n",
    "    \"intronsAR\": humanENS_intronsAR,\n",
    "    \"intronsAR cn aligned\": humanENS_intronsAR_ntaligned\n",
    "}\n",
    "\n",
    "\n",
    "plt.figure()\n",
    "plt.bar(ENS_human.keys(), ENS_human.values())\n",
    "plt.yscale(\"log\")\n",
    "plt.ylabel(\"Expected number of substitutions\")\n",
    "plt.title(\"Human GN\")\n",
    "plt.xticks(rotation=45)\n",
    "plt.tight_layout()\n",
    "plt.show()\n",
    "\n",
    "print(ENS_human)"
   ]
  }
 ],
 "metadata": {
  "kernelspec": {
   "display_name": "delme",
   "language": "python",
   "name": "python3"
  },
  "language_info": {
   "codemirror_mode": {
    "name": "ipython",
    "version": 3
   },
   "file_extension": ".py",
   "mimetype": "text/x-python",
   "name": "python",
   "nbconvert_exporter": "python",
   "pygments_lexer": "ipython3",
   "version": "3.13.7"
  }
 },
 "nbformat": 4,
 "nbformat_minor": 4
}

{
 "cells": [
  {
   "cell_type": "code",
   "execution_count": null,
   "metadata": {},
   "outputs": [],
   "source": [
    "import cogent3\n",
    "from cogent3 import load_aligned_seqs\n",
    "from cogent3 import get_app\n",
    "from phylim.apps import phylim\n",
    "\n",
    "\n",
    "@cogent3.app.composable.define_app\n",
    "def renamer(seqs: cogent3.app.typing.UnalignedSeqsType) -> cogent3.app.typing.UnalignedSeqsType:\n",
    "    \"\"\"\n",
    "    A function to rename sequences in a dataset.\n",
    "    \"\"\"\n",
    "\n",
    "    name_map = {\n",
    "        \"homo_sapiens\": \"Human\",\n",
    "        \"pan_troglodytes\": \"Chimpanzee\",\n",
    "        \"gorilla_gorilla\": \"Gorilla\"\n",
    "    }\n",
    "\n",
    "    seqs = seqs.rename_seqs(lambda x: name_map.get(x.split(\"-\")[0], x))\n",
    "\n",
    "    return seqs.take_seqs(list(name_map.values()))"
   ]
  },
  {
   "cell_type": "code",
   "execution_count": null,
   "metadata": {},
   "outputs": [],
   "source": [
    "folder_in = paths.DATA_APES114 + 'intergenic/'\n",
    "in_dstore = cogent3.open_data_store(folder_in, suffix='fa', mode='r')\n",
    "\n",
    "print(in_dstore.describe)"
   ]
  },
  {
   "cell_type": "code",
   "execution_count": null,
   "metadata": {},
   "outputs": [
    {
     "data": {
      "application/vnd.jupyter.widget-view+json": {
       "model_id": "a1bf1d9a6c044b2bbd2db3d7a3a2de3a",
       "version_major": 2,
       "version_minor": 0
      },
      "text/plain": [
       "   0%|          |00:00<?"
      ]
     },
     "metadata": {},
     "output_type": "display_data"
    },
    {
     "data": {
      "text/plain": [
       "NotCompleted(type=ERROR, origin=concat, source=\"intergenicAR_test_alignments\", message=\"empty data\")"
      ]
     },
     "execution_count": 2,
     "metadata": {},
     "output_type": "execute_result"
    }
   ],
   "source": [
    "#perform a codon alignment and remove stop codons\n",
    "loader = get_app(\"load_aligned\", moltype=\"dna\")\n",
    "omit_degs = get_app(\"omit_degenerates\", moltype=\"dna\")\n",
    "#rename app makes sure that each alignment contains only one alignment per species\n",
    "#some alignment files include duplicates. We take randomly a sequence per species and discard the others\n",
    "rename = renamer()\n",
    "concat = get_app(\"concat\", moltype=\"dna\")\n",
    "\n",
    "app = loader + omit_degs + rename\n",
    "results_allpos = [r for r in app.as_completed(in_dstore[:], parallel=True) if r]\n",
    "alpos_alns = concat(results_allpos)\n",
    "alpos_alns.source = \"intergenicAR_test_alignments\"\n",
    "alpos_alns\n"
   ]
  },
  {
   "cell_type": "code",
   "execution_count": 3,
   "metadata": {},
   "outputs": [
    {
     "data": {
      "application/vnd.jupyter.widget-view+json": {
       "model_id": "d0617c39a3d54fd8a855d0909b222702",
       "version_major": 2,
       "version_minor": 0
      },
      "text/plain": [
       "   0%|          |00:00<?"
      ]
     },
     "metadata": {},
     "output_type": "display_data"
    },
    {
     "data": {
      "application/vnd.jupyter.widget-view+json": {
       "model_id": "dda4ed6f539441b8a54bb10cdbe946aa",
       "version_major": 2,
       "version_minor": 0
      },
      "text/plain": [
       "   0%|          |00:00<?"
      ]
     },
     "metadata": {},
     "output_type": "display_data"
    },
    {
     "name": "stdout",
     "output_type": "stream",
     "text": [
      "Is model identifiable? True\n",
      "\n",
      "Model results : \n",
      "GN\n",
      "log-likelihood = -3788072.9446\n",
      "number of free parameters = 39\n",
      "======================================================================\n",
      "edge          parent    length     A>C     A>G     A>T     C>A     C>G\n",
      "----------------------------------------------------------------------\n",
      "Human         root        0.01    0.96    3.87    0.80    1.36    1.46\n",
      "Gorilla       root        0.01    0.92    4.24    0.66    1.21    1.39\n",
      "Chimpanzee    root        0.01    1.05    3.51    0.88    1.19    1.41\n",
      "----------------------------------------------------------------------\n",
      "\n",
      "continued: \n",
      "============================================\n",
      " C>T     G>A     G>C     G>T     T>A     T>C\n",
      "--------------------------------------------\n",
      "6.91    6.94    1.40    1.33    0.71    3.67\n",
      "6.55    6.52    1.39    1.30    0.73    3.95\n",
      "6.60    6.56    1.46    1.23    0.81    3.54\n",
      "--------------------------------------------\n",
      "\n",
      "============================\n",
      "   A       C       G       T\n",
      "----------------------------\n",
      "0.26    0.23    0.23    0.27\n",
      "----------------------------\n",
      "\n",
      "Distances: {'Human': np.float64(0.007637909897239089), 'Gorilla': np.float64(0.012612362507077108), 'Chimpanzee': np.float64(0.00832941961148444)}\n"
     ]
    }
   ],
   "source": [
    "#Get distances of concatenated sequences \n",
    "#time_het=max sets a 36 params substitution model\n",
    "sm = get_app(\"model\", \"GN\", time_het=\"max\", optimise_motif_probs=True, show_progress=True)\n",
    "result_intergenic = sm(alpos_alns)\n",
    "\n",
    "checker = get_app(\"phylim\")\n",
    "checked = checker(result_intergenic)\n",
    "lengthstree = result_intergenic.lf.get_lengths_as_ens()\n",
    "print(\"Is model identifiable? \" + str(checked.is_identifiable) + \"\\n\")\n",
    "print(\"Model results : \\n\" + str(result_intergenic.lf) + \"\\n\")\n",
    "print(\"Distances: \" + str(lengthstree))"
   ]
  }
 ],
 "metadata": {
  "kernelspec": {
   "display_name": "delme",
   "language": "python",
   "name": "python3"
  },
  "language_info": {
   "codemirror_mode": {
    "name": "ipython",
    "version": 3
   },
   "file_extension": ".py",
   "mimetype": "text/x-python",
   "name": "python",
   "nbconvert_exporter": "python",
   "pygments_lexer": "ipython3",
   "version": "3.13.7"
  },
  "orig_nbformat": 4
 },
 "nbformat": 4,
 "nbformat_minor": 2
}

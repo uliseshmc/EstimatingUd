{
 "cells": [
  {
   "cell_type": "code",
   "execution_count": null,
   "metadata": {},
   "outputs": [
    {
     "ename": "",
     "evalue": "",
     "output_type": "error",
     "traceback": [
      "\u001b[1;31mJupyter cannot be started. Error attempting to locate Jupyter: Running cells with 'Python 3.6.8 64-bit' requires notebook and jupyter package.\n",
      "Run the following command to install 'jupyter and notebook' into the Python environment. \n",
      "Command: 'python -m pip install jupyter notebook -U\n",
      "or\n",
      "conda install jupyter notebook -U'\n",
      "Click <a href='https://aka.ms/installJupyterForVSCode'>here</a> for more info."
     ]
    }
   ],
   "source": [
    "from cogent3 import load_aligned_seqs\n",
    "from cogent3.evolve import distance\n",
    "from cogent3.evolve.models import get_model"
   ]
  },
  {
   "cell_type": "code",
   "execution_count": 2,
   "metadata": {},
   "outputs": [],
   "source": [
    "folder = '/xdisk/masel/uliseshmc/EstimatingUd/primates10_112/aligns_cds/chromosome1/'\n",
    "sequence = 'ENSG00000077522.fa'\n",
    "aln = load_aligned_seqs(filename = folder + sequence, format=\"fasta\", moltype='dna')"
   ]
  },
  {
   "cell_type": "code",
   "execution_count": 5,
   "metadata": {},
   "outputs": [
    {
     "data": {
      "text/plain": [
       "['pan_troglodytes:1:94964520-95064844:-1',\n",
       " 'homo_sapiens:1:94418388-94518666:-1',\n",
       " 'gorilla_gorilla:1:95631305-95732186:-1',\n",
       " 'pongo_abelii:1:132617169-132713769:1',\n",
       " 'pan_paniscus:1:95808110-95907867:-1',\n",
       " 'microcebus_murinus:2:91721287-91795375:-1',\n",
       " 'macaca_mulatta:1:129651950-129752665:1',\n",
       " 'nomascus_leucogenys:12:82397051-82493291:1',\n",
       " 'macaca_fascicularis:1:129471958-129571913:1',\n",
       " 'chlorocebus_sabaeus:20:38750143-38846000:1']"
      ]
     },
     "execution_count": 5,
     "metadata": {},
     "output_type": "execute_result"
    }
   ],
   "source": [
    "aln.names"
   ]
  },
  {
   "cell_type": "code",
   "execution_count": null,
   "metadata": {},
   "outputs": [
    {
     "data": {
      "text/html": [
       "<style>\n",
       ".c3align table {margin: 10px 0;}\n",
       ".c3align td { border: none !important; text-align: left !important; }\n",
       ".c3align tr:not(.num_row) td span {margin: 0 2px;}\n",
       ".c3align tr:nth-child(even) {background: #f7f7f7;}\n",
       ".c3align .num_row {background-color:rgba(161, 195, 209, 0.5) !important; border-top: solid 1px black; }\n",
       ".c3align .label { font-size: 12pt ; text-align: right !important; color: black !important; padding: 0 4px; display: table-cell !important; font-weight: normal !important; }\n",
       ".c3align .T_dna{font-family: \"Lucida Console\",monospace !important; font-size: 12pt !important; color: blue; }\n",
       ".c3align .C_dna{font-family: \"Lucida Console\",monospace !important; font-size: 12pt !important; color: black; }\n",
       ".c3align .A_dna{font-family: \"Lucida Console\",monospace !important; font-size: 12pt !important; color: #FF0102; }\n",
       ".c3align .G_dna{font-family: \"Lucida Console\",monospace !important; font-size: 12pt !important; color: green; }\n",
       ".c3align .terminal_ambig_dna{font-family: \"Lucida Console\",monospace !important; font-size: 12pt !important; color: gray; }\n",
       ".c3align .ambig_dna{font-family: \"Lucida Console\",monospace !important; font-size: 12pt !important; color: gray; }\n",
       "</style>\n",
       "<div class=\"c3align\">\n",
       "<table>\n",
       "<tr class=\"num_row\"><td></td><td><b>0</b></td></tr>\n",
       "<tr><td class=\"label\">macaca_mulatta:1:129651950-129752665:1</td><td><span class=\"C_dna\">C</span><span class=\"A_dna\">A</span><span class=\"C_dna\">C</span><span class=\"T_dna\">T</span><span class=\"T_dna\">T</span><span class=\"G_dna\">G</span><span class=\"C_dna\">C</span><span class=\"C_dna\">C</span><span class=\"C_dna\">C</span><span class=\"G_dna\">G</span><span class=\"ambig_dna\">-</span><span class=\"ambig_dna\">-</span><span class=\"G_dna\">G</span><span class=\"A_dna\">A</span><span class=\"T_dna\">T</span><span class=\"C_dna\">C</span><span class=\"A_dna\">A</span><span class=\"ambig_dna\">-</span><span class=\"ambig_dna\">-</span><span class=\"G_dna\">G</span><span class=\"A_dna\">A</span><span class=\"T_dna\">T</span><span class=\"G_dna\">G</span><span class=\"T_dna\">T</span><span class=\"T_dna\">T</span><span class=\"G_dna\">G</span><span class=\"T_dna\">T</span><span class=\"T_dna\">T</span><span class=\"T_dna\">T</span><span class=\"T_dna\">T</span><span class=\"G_dna\">G</span><span class=\"T_dna\">T</span><span class=\"T_dna\">T</span><span class=\"T_dna\">T</span><span class=\"T_dna\">T</span><span class=\"G_dna\">G</span><span class=\"T_dna\">T</span><span class=\"T_dna\">T</span><span class=\"T_dna\">T</span><span class=\"T_dna\">T</span><span class=\"ambig_dna\">-</span><span class=\"ambig_dna\">-</span><span class=\"ambig_dna\">-</span><span class=\"ambig_dna\">-</span><span class=\"ambig_dna\">-</span><span class=\"ambig_dna\">-</span><span class=\"T_dna\">T</span><span class=\"T_dna\">T</span><span class=\"T_dna\">T</span><span class=\"A_dna\">A</span><span class=\"T_dna\">T</span><span class=\"ambig_dna\">-</span><span class=\"ambig_dna\">-</span><span class=\"ambig_dna\">-</span><span class=\"ambig_dna\">-</span><span class=\"ambig_dna\">-</span><span class=\"ambig_dna\">-</span><span class=\"ambig_dna\">-</span><span class=\"ambig_dna\">-</span><span class=\"T_dna\">T</span></td></tr>\n",
       "<tr><td class=\"label\">pan_troglodytes:1:94964520-95064844:-1</td><td><span class=\"C_dna\">.</span><span class=\"A_dna\">.</span><span class=\"C_dna\">.</span><span class=\"T_dna\">.</span><span class=\"T_dna\">.</span><span class=\"G_dna\">.</span><span class=\"C_dna\">.</span><span class=\"C_dna\">.</span><span class=\"C_dna\">.</span><span class=\"C_dna\">C</span><span class=\"ambig_dna\">.</span><span class=\"ambig_dna\">.</span><span class=\"G_dna\">.</span><span class=\"A_dna\">.</span><span class=\"T_dna\">.</span><span class=\"C_dna\">.</span><span class=\"A_dna\">.</span><span class=\"ambig_dna\">.</span><span class=\"ambig_dna\">.</span><span class=\"G_dna\">.</span><span class=\"G_dna\">G</span><span class=\"T_dna\">.</span><span class=\"G_dna\">.</span><span class=\"T_dna\">.</span><span class=\"T_dna\">.</span><span class=\"T_dna\">T</span><span class=\"T_dna\">.</span><span class=\"T_dna\">.</span><span class=\"ambig_dna\">-</span><span class=\"ambig_dna\">-</span><span class=\"ambig_dna\">-</span><span class=\"ambig_dna\">-</span><span class=\"ambig_dna\">-</span><span class=\"ambig_dna\">-</span><span class=\"ambig_dna\">-</span><span class=\"ambig_dna\">-</span><span class=\"ambig_dna\">-</span><span class=\"ambig_dna\">-</span><span class=\"ambig_dna\">-</span><span class=\"ambig_dna\">-</span><span class=\"ambig_dna\">.</span><span class=\"ambig_dna\">.</span><span class=\"ambig_dna\">.</span><span class=\"ambig_dna\">.</span><span class=\"ambig_dna\">.</span><span class=\"ambig_dna\">.</span><span class=\"T_dna\">.</span><span class=\"T_dna\">.</span><span class=\"T_dna\">.</span><span class=\"T_dna\">T</span><span class=\"A_dna\">A</span><span class=\"ambig_dna\">.</span><span class=\"ambig_dna\">.</span><span class=\"ambig_dna\">.</span><span class=\"ambig_dna\">.</span><span class=\"ambig_dna\">.</span><span class=\"ambig_dna\">.</span><span class=\"ambig_dna\">.</span><span class=\"ambig_dna\">.</span><span class=\"C_dna\">C</span></td></tr>\n",
       "<tr><td class=\"label\">homo_sapiens:1:94418388-94518666:-1</td><td><span class=\"C_dna\">.</span><span class=\"A_dna\">.</span><span class=\"C_dna\">.</span><span class=\"T_dna\">.</span><span class=\"T_dna\">.</span><span class=\"G_dna\">.</span><span class=\"C_dna\">.</span><span class=\"T_dna\">T</span><span class=\"C_dna\">.</span><span class=\"C_dna\">C</span><span class=\"ambig_dna\">.</span><span class=\"ambig_dna\">.</span><span class=\"G_dna\">.</span><span class=\"A_dna\">.</span><span class=\"T_dna\">.</span><span class=\"C_dna\">.</span><span class=\"A_dna\">.</span><span class=\"ambig_dna\">.</span><span class=\"ambig_dna\">.</span><span class=\"G_dna\">.</span><span class=\"G_dna\">G</span><span class=\"T_dna\">.</span><span class=\"G_dna\">.</span><span class=\"T_dna\">.</span><span class=\"T_dna\">.</span><span class=\"T_dna\">T</span><span class=\"T_dna\">.</span><span class=\"T_dna\">.</span><span class=\"ambig_dna\">-</span><span class=\"ambig_dna\">-</span><span class=\"ambig_dna\">-</span><span class=\"ambig_dna\">-</span><span class=\"ambig_dna\">-</span><span class=\"ambig_dna\">-</span><span class=\"ambig_dna\">-</span><span class=\"ambig_dna\">-</span><span class=\"ambig_dna\">-</span><span class=\"ambig_dna\">-</span><span class=\"ambig_dna\">-</span><span class=\"ambig_dna\">-</span><span class=\"ambig_dna\">.</span><span class=\"ambig_dna\">.</span><span class=\"ambig_dna\">.</span><span class=\"T_dna\">T</span><span class=\"T_dna\">T</span><span class=\"T_dna\">T</span><span class=\"T_dna\">.</span><span class=\"T_dna\">.</span><span class=\"T_dna\">.</span><span class=\"T_dna\">T</span><span class=\"A_dna\">A</span><span class=\"ambig_dna\">.</span><span class=\"ambig_dna\">.</span><span class=\"ambig_dna\">.</span><span class=\"ambig_dna\">.</span><span class=\"ambig_dna\">.</span><span class=\"ambig_dna\">.</span><span class=\"ambig_dna\">.</span><span class=\"ambig_dna\">.</span><span class=\"C_dna\">C</span></td></tr>\n",
       "<tr><td class=\"label\">gorilla_gorilla:1:95631305-95732186:-1</td><td><span class=\"C_dna\">.</span><span class=\"A_dna\">.</span><span class=\"C_dna\">.</span><span class=\"T_dna\">.</span><span class=\"T_dna\">.</span><span class=\"G_dna\">.</span><span class=\"C_dna\">.</span><span class=\"C_dna\">.</span><span class=\"C_dna\">.</span><span class=\"C_dna\">C</span><span class=\"ambig_dna\">.</span><span class=\"ambig_dna\">.</span><span class=\"G_dna\">.</span><span class=\"A_dna\">.</span><span class=\"T_dna\">.</span><span class=\"C_dna\">.</span><span class=\"A_dna\">.</span><span class=\"ambig_dna\">.</span><span class=\"ambig_dna\">.</span><span class=\"G_dna\">.</span><span class=\"G_dna\">G</span><span class=\"T_dna\">.</span><span class=\"G_dna\">.</span><span class=\"T_dna\">.</span><span class=\"T_dna\">.</span><span class=\"T_dna\">T</span><span class=\"T_dna\">.</span><span class=\"T_dna\">.</span><span class=\"ambig_dna\">-</span><span class=\"ambig_dna\">-</span><span class=\"ambig_dna\">-</span><span class=\"ambig_dna\">-</span><span class=\"ambig_dna\">-</span><span class=\"ambig_dna\">-</span><span class=\"ambig_dna\">-</span><span class=\"ambig_dna\">-</span><span class=\"ambig_dna\">-</span><span class=\"ambig_dna\">-</span><span class=\"ambig_dna\">-</span><span class=\"ambig_dna\">-</span><span class=\"ambig_dna\">.</span><span class=\"T_dna\">T</span><span class=\"T_dna\">T</span><span class=\"ambig_dna\">.</span><span class=\"ambig_dna\">.</span><span class=\"ambig_dna\">.</span><span class=\"T_dna\">.</span><span class=\"T_dna\">.</span><span class=\"T_dna\">.</span><span class=\"T_dna\">T</span><span class=\"A_dna\">A</span><span class=\"ambig_dna\">.</span><span class=\"ambig_dna\">.</span><span class=\"ambig_dna\">.</span><span class=\"ambig_dna\">.</span><span class=\"ambig_dna\">.</span><span class=\"ambig_dna\">.</span><span class=\"ambig_dna\">.</span><span class=\"ambig_dna\">.</span><span class=\"C_dna\">C</span></td></tr>\n",
       "<tr><td class=\"label\">pongo_abelii:1:132617169-132713769:1</td><td><span class=\"C_dna\">.</span><span class=\"A_dna\">.</span><span class=\"C_dna\">.</span><span class=\"T_dna\">.</span><span class=\"T_dna\">.</span><span class=\"G_dna\">.</span><span class=\"C_dna\">.</span><span class=\"C_dna\">.</span><span class=\"C_dna\">.</span><span class=\"G_dna\">.</span><span class=\"ambig_dna\">.</span><span class=\"ambig_dna\">.</span><span class=\"G_dna\">.</span><span class=\"A_dna\">.</span><span class=\"T_dna\">.</span><span class=\"T_dna\">T</span><span class=\"A_dna\">.</span><span class=\"ambig_dna\">.</span><span class=\"ambig_dna\">.</span><span class=\"G_dna\">.</span><span class=\"G_dna\">G</span><span class=\"T_dna\">.</span><span class=\"G_dna\">.</span><span class=\"T_dna\">.</span><span class=\"T_dna\">.</span><span class=\"T_dna\">T</span><span class=\"C_dna\">C</span><span class=\"T_dna\">.</span><span class=\"ambig_dna\">-</span><span class=\"ambig_dna\">-</span><span class=\"ambig_dna\">-</span><span class=\"ambig_dna\">-</span><span class=\"ambig_dna\">-</span><span class=\"ambig_dna\">-</span><span class=\"ambig_dna\">-</span><span class=\"ambig_dna\">-</span><span class=\"ambig_dna\">-</span><span class=\"ambig_dna\">-</span><span class=\"ambig_dna\">-</span><span class=\"ambig_dna\">-</span><span class=\"ambig_dna\">.</span><span class=\"ambig_dna\">.</span><span class=\"ambig_dna\">.</span><span class=\"ambig_dna\">.</span><span class=\"ambig_dna\">.</span><span class=\"ambig_dna\">.</span><span class=\"T_dna\">.</span><span class=\"T_dna\">.</span><span class=\"T_dna\">.</span><span class=\"T_dna\">T</span><span class=\"A_dna\">A</span><span class=\"ambig_dna\">.</span><span class=\"ambig_dna\">.</span><span class=\"ambig_dna\">.</span><span class=\"ambig_dna\">.</span><span class=\"ambig_dna\">.</span><span class=\"ambig_dna\">.</span><span class=\"ambig_dna\">.</span><span class=\"ambig_dna\">.</span><span class=\"C_dna\">C</span></td></tr>\n",
       "<tr><td class=\"label\">pan_paniscus:1:95808110-95907867:-1</td><td><span class=\"C_dna\">.</span><span class=\"A_dna\">.</span><span class=\"C_dna\">.</span><span class=\"T_dna\">.</span><span class=\"T_dna\">.</span><span class=\"G_dna\">.</span><span class=\"C_dna\">.</span><span class=\"C_dna\">.</span><span class=\"C_dna\">.</span><span class=\"C_dna\">C</span><span class=\"ambig_dna\">.</span><span class=\"ambig_dna\">.</span><span class=\"G_dna\">.</span><span class=\"A_dna\">.</span><span class=\"T_dna\">.</span><span class=\"C_dna\">.</span><span class=\"A_dna\">.</span><span class=\"ambig_dna\">.</span><span class=\"ambig_dna\">.</span><span class=\"G_dna\">.</span><span class=\"G_dna\">G</span><span class=\"T_dna\">.</span><span class=\"G_dna\">.</span><span class=\"T_dna\">.</span><span class=\"G_dna\">G</span><span class=\"T_dna\">T</span><span class=\"T_dna\">.</span><span class=\"ambig_dna\">-</span><span class=\"ambig_dna\">-</span><span class=\"ambig_dna\">-</span><span class=\"ambig_dna\">-</span><span class=\"ambig_dna\">-</span><span class=\"ambig_dna\">-</span><span class=\"ambig_dna\">-</span><span class=\"ambig_dna\">-</span><span class=\"ambig_dna\">-</span><span class=\"ambig_dna\">-</span><span class=\"ambig_dna\">-</span><span class=\"ambig_dna\">-</span><span class=\"ambig_dna\">-</span><span class=\"ambig_dna\">.</span><span class=\"ambig_dna\">.</span><span class=\"ambig_dna\">.</span><span class=\"ambig_dna\">.</span><span class=\"ambig_dna\">.</span><span class=\"ambig_dna\">.</span><span class=\"T_dna\">.</span><span class=\"T_dna\">.</span><span class=\"T_dna\">.</span><span class=\"T_dna\">T</span><span class=\"A_dna\">A</span><span class=\"ambig_dna\">.</span><span class=\"ambig_dna\">.</span><span class=\"ambig_dna\">.</span><span class=\"ambig_dna\">.</span><span class=\"ambig_dna\">.</span><span class=\"ambig_dna\">.</span><span class=\"ambig_dna\">.</span><span class=\"ambig_dna\">.</span><span class=\"C_dna\">C</span></td></tr>\n",
       "<tr><td class=\"label\">microcebus_murinus:2:91721287-91795375:-1</td><td><span class=\"T_dna\">T</span><span class=\"G_dna\">G</span><span class=\"G_dna\">G</span><span class=\"T_dna\">.</span><span class=\"T_dna\">.</span><span class=\"T_dna\">T</span><span class=\"A_dna\">A</span><span class=\"C_dna\">.</span><span class=\"T_dna\">T</span><span class=\"G_dna\">.</span><span class=\"ambig_dna\">.</span><span class=\"ambig_dna\">.</span><span class=\"A_dna\">A</span><span class=\"T_dna\">T</span><span class=\"A_dna\">A</span><span class=\"C_dna\">.</span><span class=\"G_dna\">G</span><span class=\"T_dna\">T</span><span class=\"A_dna\">A</span><span class=\"T_dna\">T</span><span class=\"A_dna\">.</span><span class=\"T_dna\">.</span><span class=\"C_dna\">C</span><span class=\"ambig_dna\">-</span><span class=\"ambig_dna\">-</span><span class=\"ambig_dna\">-</span><span class=\"ambig_dna\">-</span><span class=\"ambig_dna\">-</span><span class=\"ambig_dna\">-</span><span class=\"ambig_dna\">-</span><span class=\"ambig_dna\">-</span><span class=\"ambig_dna\">-</span><span class=\"ambig_dna\">-</span><span class=\"ambig_dna\">-</span><span class=\"ambig_dna\">-</span><span class=\"ambig_dna\">-</span><span class=\"ambig_dna\">-</span><span class=\"ambig_dna\">-</span><span class=\"ambig_dna\">-</span><span class=\"ambig_dna\">-</span><span class=\"ambig_dna\">.</span><span class=\"ambig_dna\">.</span><span class=\"ambig_dna\">.</span><span class=\"ambig_dna\">.</span><span class=\"ambig_dna\">.</span><span class=\"ambig_dna\">.</span><span class=\"ambig_dna\">-</span><span class=\"ambig_dna\">-</span><span class=\"ambig_dna\">-</span><span class=\"T_dna\">T</span><span class=\"A_dna\">A</span><span class=\"G_dna\">G</span><span class=\"T_dna\">T</span><span class=\"A_dna\">A</span><span class=\"A_dna\">A</span><span class=\"ambig_dna\">.</span><span class=\"ambig_dna\">.</span><span class=\"ambig_dna\">.</span><span class=\"ambig_dna\">.</span><span class=\"T_dna\">.</span></td></tr>\n",
       "<tr><td class=\"label\">nomascus_leucogenys:12:82397051-82493291:1</td><td><span class=\"C_dna\">.</span><span class=\"A_dna\">.</span><span class=\"C_dna\">.</span><span class=\"ambig_dna\">-</span><span class=\"C_dna\">C</span><span class=\"G_dna\">.</span><span class=\"C_dna\">.</span><span class=\"C_dna\">.</span><span class=\"C_dna\">.</span><span class=\"G_dna\">.</span><span class=\"ambig_dna\">.</span><span class=\"ambig_dna\">.</span><span class=\"G_dna\">.</span><span class=\"A_dna\">.</span><span class=\"T_dna\">.</span><span class=\"C_dna\">.</span><span class=\"A_dna\">.</span><span class=\"ambig_dna\">.</span><span class=\"ambig_dna\">.</span><span class=\"G_dna\">.</span><span class=\"G_dna\">G</span><span class=\"G_dna\">G</span><span class=\"G_dna\">.</span><span class=\"T_dna\">.</span><span class=\"T_dna\">.</span><span class=\"T_dna\">T</span><span class=\"T_dna\">.</span><span class=\"T_dna\">.</span><span class=\"ambig_dna\">-</span><span class=\"ambig_dna\">-</span><span class=\"ambig_dna\">-</span><span class=\"ambig_dna\">-</span><span class=\"ambig_dna\">-</span><span class=\"ambig_dna\">-</span><span class=\"ambig_dna\">-</span><span class=\"ambig_dna\">-</span><span class=\"ambig_dna\">-</span><span class=\"ambig_dna\">-</span><span class=\"ambig_dna\">-</span><span class=\"ambig_dna\">-</span><span class=\"T_dna\">T</span><span class=\"ambig_dna\">.</span><span class=\"ambig_dna\">.</span><span class=\"ambig_dna\">.</span><span class=\"ambig_dna\">.</span><span class=\"ambig_dna\">.</span><span class=\"T_dna\">.</span><span class=\"T_dna\">.</span><span class=\"T_dna\">.</span><span class=\"T_dna\">T</span><span class=\"A_dna\">A</span><span class=\"ambig_dna\">.</span><span class=\"ambig_dna\">.</span><span class=\"ambig_dna\">.</span><span class=\"ambig_dna\">.</span><span class=\"G_dna\">G</span><span class=\"T_dna\">T</span><span class=\"A_dna\">A</span><span class=\"A_dna\">A</span><span class=\"C_dna\">C</span></td></tr>\n",
       "<tr><td class=\"label\">macaca_fascicularis:1:129471958-129571913:1</td><td><span class=\"C_dna\">.</span><span class=\"A_dna\">.</span><span class=\"C_dna\">.</span><span class=\"T_dna\">.</span><span class=\"T_dna\">.</span><span class=\"G_dna\">.</span><span class=\"C_dna\">.</span><span class=\"C_dna\">.</span><span class=\"C_dna\">.</span><span class=\"G_dna\">.</span><span class=\"G_dna\">G</span><span class=\"A_dna\">A</span><span class=\"G_dna\">.</span><span class=\"A_dna\">.</span><span class=\"T_dna\">.</span><span class=\"C_dna\">.</span><span class=\"A_dna\">.</span><span class=\"ambig_dna\">.</span><span class=\"ambig_dna\">.</span><span class=\"G_dna\">.</span><span class=\"A_dna\">.</span><span class=\"T_dna\">.</span><span class=\"G_dna\">.</span><span class=\"T_dna\">.</span><span class=\"T_dna\">.</span><span class=\"G_dna\">.</span><span class=\"T_dna\">.</span><span class=\"T_dna\">.</span><span class=\"T_dna\">.</span><span class=\"T_dna\">.</span><span class=\"T_dna\">T</span><span class=\"T_dna\">.</span><span class=\"T_dna\">.</span><span class=\"T_dna\">.</span><span class=\"ambig_dna\">-</span><span class=\"ambig_dna\">-</span><span class=\"T_dna\">.</span><span class=\"T_dna\">.</span><span class=\"T_dna\">.</span><span class=\"T_dna\">.</span><span class=\"ambig_dna\">.</span><span class=\"ambig_dna\">.</span><span class=\"ambig_dna\">.</span><span class=\"ambig_dna\">.</span><span class=\"ambig_dna\">.</span><span class=\"ambig_dna\">.</span><span class=\"T_dna\">.</span><span class=\"T_dna\">.</span><span class=\"T_dna\">.</span><span class=\"A_dna\">.</span><span class=\"T_dna\">.</span><span class=\"ambig_dna\">.</span><span class=\"ambig_dna\">.</span><span class=\"ambig_dna\">.</span><span class=\"ambig_dna\">.</span><span class=\"ambig_dna\">.</span><span class=\"ambig_dna\">.</span><span class=\"ambig_dna\">.</span><span class=\"ambig_dna\">.</span><span class=\"T_dna\">.</span></td></tr>\n",
       "<tr><td class=\"label\">chlorocebus_sabaeus:20:38750143-38846000:1</td><td><span class=\"C_dna\">.</span><span class=\"A_dna\">.</span><span class=\"C_dna\">.</span><span class=\"T_dna\">.</span><span class=\"T_dna\">.</span><span class=\"G_dna\">.</span><span class=\"C_dna\">.</span><span class=\"C_dna\">.</span><span class=\"C_dna\">.</span><span class=\"G_dna\">.</span><span class=\"ambig_dna\">.</span><span class=\"ambig_dna\">.</span><span class=\"G_dna\">.</span><span class=\"A_dna\">.</span><span class=\"T_dna\">.</span><span class=\"C_dna\">.</span><span class=\"A_dna\">.</span><span class=\"ambig_dna\">.</span><span class=\"ambig_dna\">.</span><span class=\"G_dna\">.</span><span class=\"G_dna\">G</span><span class=\"T_dna\">.</span><span class=\"G_dna\">.</span><span class=\"T_dna\">.</span><span class=\"T_dna\">.</span><span class=\"G_dna\">.</span><span class=\"T_dna\">.</span><span class=\"T_dna\">.</span><span class=\"T_dna\">.</span><span class=\"T_dna\">.</span><span class=\"C_dna\">C</span><span class=\"T_dna\">.</span><span class=\"ambig_dna\">-</span><span class=\"ambig_dna\">-</span><span class=\"ambig_dna\">-</span><span class=\"ambig_dna\">-</span><span class=\"ambig_dna\">-</span><span class=\"T_dna\">.</span><span class=\"T_dna\">.</span><span class=\"T_dna\">.</span><span class=\"ambig_dna\">.</span><span class=\"ambig_dna\">.</span><span class=\"ambig_dna\">.</span><span class=\"ambig_dna\">.</span><span class=\"ambig_dna\">.</span><span class=\"ambig_dna\">.</span><span class=\"T_dna\">.</span><span class=\"T_dna\">.</span><span class=\"T_dna\">.</span><span class=\"T_dna\">T</span><span class=\"T_dna\">.</span><span class=\"ambig_dna\">.</span><span class=\"ambig_dna\">.</span><span class=\"ambig_dna\">.</span><span class=\"ambig_dna\">.</span><span class=\"ambig_dna\">.</span><span class=\"ambig_dna\">.</span><span class=\"ambig_dna\">.</span><span class=\"ambig_dna\">.</span><span class=\"T_dna\">.</span></td></tr>\n",
       "</table>\n",
       "<p><i>10 x 107920 (truncated to 10 x 60) dna alignment</i></p>\n",
       "</div>"
      ],
      "text/plain": [
       "10 x 107920 dna alignment: pan_troglodytes:1:94964520-95064844:-1[CACTTGCCCC...], homo_sapiens:1:94418388-94518666:-1[CACTTGCTCC...], gorilla_gorilla:1:95631305-95732186:-1[CACTTGCCCC...], ..."
      ]
     },
     "execution_count": 12,
     "metadata": {},
     "output_type": "execute_result"
    }
   ],
   "source": [
    "#pos = aln.variable_positions()\n",
    "#just_variable_aln = aln.take_positions(pos)\n",
    "#just_variable_aln"
   ]
  },
  {
   "cell_type": "code",
   "execution_count": 6,
   "metadata": {},
   "outputs": [
    {
     "data": {
      "text/html": [
       "\n",
       "<div class=\"c3table\">\n",
       "\n",
       "<style>\n",
       ".c3table table {margin: 10px 0;}\n",
       ".c3table tr:last-child {border-bottom: 1px solid #000;} \n",
       ".c3table tr > th {text-align: left; padding: 0 5px;}\n",
       ".c3table tr > td {text-align: left; padding: 5px;}\n",
       ".c3table tr:nth-child(even) {background: #f7f7f7 !important;}\n",
       ".c3table .ellipsis {background: rgba(0, 0, 0, .01);}\n",
       ".c3table .index {background: rgba(161, 195, 209, 0.25); margin: 10px; font-weight: 600;}\n",
       ".c3table .head_cell {background: rgba(161, 195, 209, 0.75); font-weight: bold; text-align: center;}\n",
       ".c3table caption {color: rgb(250, 250, 250); background: rgba(30, 140, 200, 1); padding: 3px; white-space: nowrap; caption-side: top;}\n",
       ".c3table .cell_title {font-weight: bold;}\n",
       ".c3col_left { text-align: left !important; display: block;}\n",
       ".c3col_right { text-align: right !important; display: block;}\n",
       ".c3col_center { text-align: center !important; display: block;}\n",
       "</style>\n",
       "\n",
       "<table>\n",
       "\n",
       "<thead class=\"head_cell\">\n",
       "<th>names</th><th>chlorocebus_sabaeus:20:38750143-38846000:1</th><th>gorilla_gorilla:1:95631305-95732186:-1</th><th>homo_sapiens:1:94418388-94518666:-1</th><th>macaca_fascicularis:1:129471958-129571913:1</th><th>macaca_mulatta:1:129651950-129752665:1</th><th>microcebus_murinus:2:91721287-91795375:-1</th><th>nomascus_leucogenys:12:82397051-82493291:1</th><th>pan_paniscus:1:95808110-95907867:-1</th><th>pan_troglodytes:1:94964520-95064844:-1</th><th>pongo_abelii:1:132617169-132713769:1</th>\n",
       "</thead>\n",
       "<tbody>\n",
       "<tr><td class=\"index\"><span class=\"c3col_left\">chlorocebus_sabaeus:20:38750143-38846000:1</span></td><td><span class=\"c3col_right\">0.0000</span></td><td><span class=\"c3col_right\">0.0625</span></td><td><span class=\"c3col_right\">0.0609</span></td><td><span class=\"c3col_right\">0.0184</span></td><td><span class=\"c3col_right\">0.0183</span></td><td><span class=\"c3col_right\">0.2063</span></td><td><span class=\"c3col_right\">0.0639</span></td><td><span class=\"c3col_right\">0.0614</span></td><td><span class=\"c3col_right\">0.0617</span></td><td><span class=\"c3col_right\">0.0622</span></td></tr>\n",
       "<tr><td class=\"index\"><span class=\"c3col_left\">gorilla_gorilla:1:95631305-95732186:-1</span></td><td><span class=\"c3col_right\">0.0625</span></td><td><span class=\"c3col_right\">0.0000</span></td><td><span class=\"c3col_right\">0.0131</span></td><td><span class=\"c3col_right\">0.0602</span></td><td><span class=\"c3col_right\">0.0602</span></td><td><span class=\"c3col_right\">0.1966</span></td><td><span class=\"c3col_right\">0.0363</span></td><td><span class=\"c3col_right\">0.0136</span></td><td><span class=\"c3col_right\">0.0140</span></td><td><span class=\"c3col_right\">0.0259</span></td></tr>\n",
       "<tr><td class=\"index\"><span class=\"c3col_left\">homo_sapiens:1:94418388-94518666:-1</span></td><td><span class=\"c3col_right\">0.0609</span></td><td><span class=\"c3col_right\">0.0131</span></td><td><span class=\"c3col_right\">0.0000</span></td><td><span class=\"c3col_right\">0.0588</span></td><td><span class=\"c3col_right\">0.0589</span></td><td><span class=\"c3col_right\">0.1958</span></td><td><span class=\"c3col_right\">0.0349</span></td><td><span class=\"c3col_right\">0.0110</span></td><td><span class=\"c3col_right\">0.0112</span></td><td><span class=\"c3col_right\">0.0248</span></td></tr>\n",
       "<tr><td class=\"index\"><span class=\"c3col_left\">macaca_fascicularis:1:129471958-129571913:1</span></td><td><span class=\"c3col_right\">0.0184</span></td><td><span class=\"c3col_right\">0.0602</span></td><td><span class=\"c3col_right\">0.0588</span></td><td><span class=\"c3col_right\">0.0000</span></td><td><span class=\"c3col_right\">0.0052</span></td><td><span class=\"c3col_right\">0.2040</span></td><td><span class=\"c3col_right\">0.0617</span></td><td><span class=\"c3col_right\">0.0590</span></td><td><span class=\"c3col_right\">0.0593</span></td><td><span class=\"c3col_right\">0.0597</span></td></tr>\n",
       "<tr><td class=\"index\"><span class=\"c3col_left\">macaca_mulatta:1:129651950-129752665:1</span></td><td><span class=\"c3col_right\">0.0183</span></td><td><span class=\"c3col_right\">0.0602</span></td><td><span class=\"c3col_right\">0.0589</span></td><td><span class=\"c3col_right\">0.0052</span></td><td><span class=\"c3col_right\">0.0000</span></td><td><span class=\"c3col_right\">0.2041</span></td><td><span class=\"c3col_right\">0.0618</span></td><td><span class=\"c3col_right\">0.0592</span></td><td><span class=\"c3col_right\">0.0594</span></td><td><span class=\"c3col_right\">0.0599</span></td></tr>\n",
       "<tr><td class=\"index\"><span class=\"c3col_left\">microcebus_murinus:2:91721287-91795375:-1</span></td><td><span class=\"c3col_right\">0.2063</span></td><td><span class=\"c3col_right\">0.1966</span></td><td><span class=\"c3col_right\">0.1958</span></td><td><span class=\"c3col_right\">0.2040</span></td><td><span class=\"c3col_right\">0.2041</span></td><td><span class=\"c3col_right\">0.0000</span></td><td><span class=\"c3col_right\">0.1990</span></td><td><span class=\"c3col_right\">0.1954</span></td><td><span class=\"c3col_right\">0.1958</span></td><td><span class=\"c3col_right\">0.1963</span></td></tr>\n",
       "<tr><td class=\"index\"><span class=\"c3col_left\">nomascus_leucogenys:12:82397051-82493291:1</span></td><td><span class=\"c3col_right\">0.0639</span></td><td><span class=\"c3col_right\">0.0363</span></td><td><span class=\"c3col_right\">0.0349</span></td><td><span class=\"c3col_right\">0.0617</span></td><td><span class=\"c3col_right\">0.0618</span></td><td><span class=\"c3col_right\">0.1990</span></td><td><span class=\"c3col_right\">0.0000</span></td><td><span class=\"c3col_right\">0.0357</span></td><td><span class=\"c3col_right\">0.0356</span></td><td><span class=\"c3col_right\">0.0360</span></td></tr>\n",
       "<tr><td class=\"index\"><span class=\"c3col_left\">pan_paniscus:1:95808110-95907867:-1</span></td><td><span class=\"c3col_right\">0.0614</span></td><td><span class=\"c3col_right\">0.0136</span></td><td><span class=\"c3col_right\">0.0110</span></td><td><span class=\"c3col_right\">0.0590</span></td><td><span class=\"c3col_right\">0.0592</span></td><td><span class=\"c3col_right\">0.1954</span></td><td><span class=\"c3col_right\">0.0357</span></td><td><span class=\"c3col_right\">0.0000</span></td><td><span class=\"c3col_right\">0.0035</span></td><td><span class=\"c3col_right\">0.0252</span></td></tr>\n",
       "<tr><td class=\"index\"><span class=\"c3col_left\">pan_troglodytes:1:94964520-95064844:-1</span></td><td><span class=\"c3col_right\">0.0617</span></td><td><span class=\"c3col_right\">0.0140</span></td><td><span class=\"c3col_right\">0.0112</span></td><td><span class=\"c3col_right\">0.0593</span></td><td><span class=\"c3col_right\">0.0594</span></td><td><span class=\"c3col_right\">0.1958</span></td><td><span class=\"c3col_right\">0.0356</span></td><td><span class=\"c3col_right\">0.0035</span></td><td><span class=\"c3col_right\">0.0000</span></td><td><span class=\"c3col_right\">0.0251</span></td></tr>\n",
       "<tr><td class=\"index\"><span class=\"c3col_left\">pongo_abelii:1:132617169-132713769:1</span></td><td><span class=\"c3col_right\">0.0622</span></td><td><span class=\"c3col_right\">0.0259</span></td><td><span class=\"c3col_right\">0.0248</span></td><td><span class=\"c3col_right\">0.0597</span></td><td><span class=\"c3col_right\">0.0599</span></td><td><span class=\"c3col_right\">0.1963</span></td><td><span class=\"c3col_right\">0.0360</span></td><td><span class=\"c3col_right\">0.0252</span></td><td><span class=\"c3col_right\">0.0251</span></td><td><span class=\"c3col_right\">0.0000</span></td></tr>\n",
       "</tbody>\n",
       "</table>\n",
       "\n",
       "</div>"
      ],
      "text/plain": [
       "=======================================================================================================================================================================================================================================================================================================================================================================================================================================================================================\n",
       "names                                          chlorocebus_sabaeus:20:38750143-38846000:1    gorilla_gorilla:1:95631305-95732186:-1    homo_sapiens:1:94418388-94518666:-1    macaca_fascicularis:1:129471958-129571913:1    macaca_mulatta:1:129651950-129752665:1    microcebus_murinus:2:91721287-91795375:-1    nomascus_leucogenys:12:82397051-82493291:1    pan_paniscus:1:95808110-95907867:-1    pan_troglodytes:1:94964520-95064844:-1    pongo_abelii:1:132617169-132713769:1\n",
       "---------------------------------------------------------------------------------------------------------------------------------------------------------------------------------------------------------------------------------------------------------------------------------------------------------------------------------------------------------------------------------------------------------------------------------------------------------------------------------------\n",
       "chlorocebus_sabaeus:20:38750143-38846000:1                                         0.0000                                    0.0625                                 0.0609                                         0.0184                                    0.0183                                       0.2063                                        0.0639                                 0.0614                                    0.0617                                  0.0622\n",
       "gorilla_gorilla:1:95631305-95732186:-1                                             0.0625                                    0.0000                                 0.0131                                         0.0602                                    0.0602                                       0.1966                                        0.0363                                 0.0136                                    0.0140                                  0.0259\n",
       "homo_sapiens:1:94418388-94518666:-1                                                0.0609                                    0.0131                                 0.0000                                         0.0588                                    0.0589                                       0.1958                                        0.0349                                 0.0110                                    0.0112                                  0.0248\n",
       "macaca_fascicularis:1:129471958-129571913:1                                        0.0184                                    0.0602                                 0.0588                                         0.0000                                    0.0052                                       0.2040                                        0.0617                                 0.0590                                    0.0593                                  0.0597\n",
       "macaca_mulatta:1:129651950-129752665:1                                             0.0183                                    0.0602                                 0.0589                                         0.0052                                    0.0000                                       0.2041                                        0.0618                                 0.0592                                    0.0594                                  0.0599\n",
       "microcebus_murinus:2:91721287-91795375:-1                                          0.2063                                    0.1966                                 0.1958                                         0.2040                                    0.2041                                       0.0000                                        0.1990                                 0.1954                                    0.1958                                  0.1963\n",
       "nomascus_leucogenys:12:82397051-82493291:1                                         0.0639                                    0.0363                                 0.0349                                         0.0617                                    0.0618                                       0.1990                                        0.0000                                 0.0357                                    0.0356                                  0.0360\n",
       "pan_paniscus:1:95808110-95907867:-1                                                0.0614                                    0.0136                                 0.0110                                         0.0590                                    0.0592                                       0.1954                                        0.0357                                 0.0000                                    0.0035                                  0.0252\n",
       "pan_troglodytes:1:94964520-95064844:-1                                             0.0617                                    0.0140                                 0.0112                                         0.0593                                    0.0594                                       0.1958                                        0.0356                                 0.0035                                    0.0000                                  0.0251\n",
       "pongo_abelii:1:132617169-132713769:1                                               0.0622                                    0.0259                                 0.0248                                         0.0597                                    0.0599                                       0.1963                                        0.0360                                 0.0252                                    0.0251                                  0.0000\n",
       "---------------------------------------------------------------------------------------------------------------------------------------------------------------------------------------------------------------------------------------------------------------------------------------------------------------------------------------------------------------------------------------------------------------------------------------------------------------------------------------"
      ]
     },
     "execution_count": 6,
     "metadata": {},
     "output_type": "execute_result"
    }
   ],
   "source": [
    "dist = aln.distance_matrix(calc='tn93', show_progress=False)\n",
    "dist"
   ]
  },
  {
   "cell_type": "code",
   "execution_count": 31,
   "metadata": {},
   "outputs": [
    {
     "data": {
      "text/html": [
       "\n",
       "<div class=\"c3table\">\n",
       "\n",
       "<style>\n",
       ".c3table table {margin: 10px 0;}\n",
       ".c3table tr:last-child {border-bottom: 1px solid #000;} \n",
       ".c3table tr > th {text-align: left; padding: 0 5px;}\n",
       ".c3table tr > td {text-align: left; padding: 5px;}\n",
       ".c3table tr:nth-child(even) {background: #f7f7f7 !important;}\n",
       ".c3table .ellipsis {background: rgba(0, 0, 0, .01);}\n",
       ".c3table .index {background: rgba(161, 195, 209, 0.25); margin: 10px; font-weight: 600;}\n",
       ".c3table .head_cell {background: rgba(161, 195, 209, 0.75); font-weight: bold; text-align: center;}\n",
       ".c3table caption {color: rgb(250, 250, 250); background: rgba(30, 140, 200, 1); padding: 3px; white-space: nowrap; caption-side: top;}\n",
       ".c3table .cell_title {font-weight: bold;}\n",
       ".c3col_left { text-align: left !important; display: block;}\n",
       ".c3col_right { text-align: right !important; display: block;}\n",
       ".c3col_center { text-align: center !important; display: block;}\n",
       "</style>\n",
       "\n",
       "<table>\n",
       "\n",
       "<thead class=\"head_cell\">\n",
       "<th>names</th><th>chlorocebus_sabaeus:20:38750143-38846000:1</th><th>gorilla_gorilla:1:95631305-95732186:-1</th><th>homo_sapiens:1:94418388-94518666:-1</th><th>macaca_fascicularis:1:129471958-129571913:1</th><th>macaca_mulatta:1:129651950-129752665:1</th><th>microcebus_murinus:2:91721287-91795375:-1</th><th>nomascus_leucogenys:12:82397051-82493291:1</th><th>pan_paniscus:1:95808110-95907867:-1</th><th>pan_troglodytes:1:94964520-95064844:-1</th><th>pongo_abelii:1:132617169-132713769:1</th>\n",
       "</thead>\n",
       "<tbody>\n",
       "<tr><td class=\"index\"><span class=\"c3col_left\">chlorocebus_sabaeus:20:38750143-38846000:1</span></td><td><span class=\"c3col_right\">0.0000</span></td><td><span class=\"c3col_right\">0.0640</span></td><td><span class=\"c3col_right\">0.0624</span></td><td><span class=\"c3col_right\">0.0184</span></td><td><span class=\"c3col_right\">0.0183</span></td><td><span class=\"c3col_right\">0.2226</span></td><td><span class=\"c3col_right\">0.0655</span></td><td><span class=\"c3col_right\">0.0629</span></td><td><span class=\"c3col_right\">0.0631</span></td><td><span class=\"c3col_right\">0.0637</span></td></tr>\n",
       "<tr><td class=\"index\"><span class=\"c3col_left\">gorilla_gorilla:1:95631305-95732186:-1</span></td><td><span class=\"c3col_right\">0.0640</span></td><td><span class=\"c3col_right\">0.0000</span></td><td><span class=\"c3col_right\">0.0131</span></td><td><span class=\"c3col_right\">0.0616</span></td><td><span class=\"c3col_right\">0.0617</span></td><td><span class=\"c3col_right\">0.2117</span></td><td><span class=\"c3col_right\">0.0364</span></td><td><span class=\"c3col_right\">0.0137</span></td><td><span class=\"c3col_right\">0.0141</span></td><td><span class=\"c3col_right\">0.0259</span></td></tr>\n",
       "<tr><td class=\"index\"><span class=\"c3col_left\">homo_sapiens:1:94418388-94518666:-1</span></td><td><span class=\"c3col_right\">0.0624</span></td><td><span class=\"c3col_right\">0.0131</span></td><td><span class=\"c3col_right\">0.0000</span></td><td><span class=\"c3col_right\">0.0601</span></td><td><span class=\"c3col_right\">0.0603</span></td><td><span class=\"c3col_right\">0.2109</span></td><td><span class=\"c3col_right\">0.0350</span></td><td><span class=\"c3col_right\">0.0111</span></td><td><span class=\"c3col_right\">0.0112</span></td><td><span class=\"c3col_right\">0.0248</span></td></tr>\n",
       "<tr><td class=\"index\"><span class=\"c3col_left\">macaca_fascicularis:1:129471958-129571913:1</span></td><td><span class=\"c3col_right\">0.0184</span></td><td><span class=\"c3col_right\">0.0616</span></td><td><span class=\"c3col_right\">0.0601</span></td><td><span class=\"c3col_right\">0.0000</span></td><td><span class=\"c3col_right\">0.0052</span></td><td><span class=\"c3col_right\">0.2201</span></td><td><span class=\"c3col_right\">0.0632</span></td><td><span class=\"c3col_right\">0.0604</span></td><td><span class=\"c3col_right\">0.0606</span></td><td><span class=\"c3col_right\">0.0611</span></td></tr>\n",
       "<tr><td class=\"index\"><span class=\"c3col_left\">macaca_mulatta:1:129651950-129752665:1</span></td><td><span class=\"c3col_right\">0.0183</span></td><td><span class=\"c3col_right\">0.0617</span></td><td><span class=\"c3col_right\">0.0603</span></td><td><span class=\"c3col_right\">0.0052</span></td><td><span class=\"c3col_right\">0.0000</span></td><td><span class=\"c3col_right\">0.2203</span></td><td><span class=\"c3col_right\">0.0633</span></td><td><span class=\"c3col_right\">0.0606</span></td><td><span class=\"c3col_right\">0.0608</span></td><td><span class=\"c3col_right\">0.0613</span></td></tr>\n",
       "<tr><td class=\"index\"><span class=\"c3col_left\">microcebus_murinus:2:91721287-91795375:-1</span></td><td><span class=\"c3col_right\">0.2226</span></td><td><span class=\"c3col_right\">0.2117</span></td><td><span class=\"c3col_right\">0.2109</span></td><td><span class=\"c3col_right\">0.2201</span></td><td><span class=\"c3col_right\">0.2203</span></td><td><span class=\"c3col_right\">0.0000</span></td><td><span class=\"c3col_right\">0.2145</span></td><td><span class=\"c3col_right\">0.2102</span></td><td><span class=\"c3col_right\">0.2109</span></td><td><span class=\"c3col_right\">0.2112</span></td></tr>\n",
       "<tr><td class=\"index\"><span class=\"c3col_left\">nomascus_leucogenys:12:82397051-82493291:1</span></td><td><span class=\"c3col_right\">0.0655</span></td><td><span class=\"c3col_right\">0.0364</span></td><td><span class=\"c3col_right\">0.0350</span></td><td><span class=\"c3col_right\">0.0632</span></td><td><span class=\"c3col_right\">0.0633</span></td><td><span class=\"c3col_right\">0.2145</span></td><td><span class=\"c3col_right\">0.0000</span></td><td><span class=\"c3col_right\">0.0358</span></td><td><span class=\"c3col_right\">0.0357</span></td><td><span class=\"c3col_right\">0.0360</span></td></tr>\n",
       "<tr><td class=\"index\"><span class=\"c3col_left\">pan_paniscus:1:95808110-95907867:-1</span></td><td><span class=\"c3col_right\">0.0629</span></td><td><span class=\"c3col_right\">0.0137</span></td><td><span class=\"c3col_right\">0.0111</span></td><td><span class=\"c3col_right\">0.0604</span></td><td><span class=\"c3col_right\">0.0606</span></td><td><span class=\"c3col_right\">0.2102</span></td><td><span class=\"c3col_right\">0.0358</span></td><td><span class=\"c3col_right\">0.0000</span></td><td><span class=\"c3col_right\">0.0035</span></td><td><span class=\"c3col_right\">0.0252</span></td></tr>\n",
       "<tr><td class=\"index\"><span class=\"c3col_left\">pan_troglodytes:1:94964520-95064844:-1</span></td><td><span class=\"c3col_right\">0.0631</span></td><td><span class=\"c3col_right\">0.0141</span></td><td><span class=\"c3col_right\">0.0112</span></td><td><span class=\"c3col_right\">0.0606</span></td><td><span class=\"c3col_right\">0.0608</span></td><td><span class=\"c3col_right\">0.2109</span></td><td><span class=\"c3col_right\">0.0357</span></td><td><span class=\"c3col_right\">0.0035</span></td><td><span class=\"c3col_right\">0.0000</span></td><td><span class=\"c3col_right\">0.0251</span></td></tr>\n",
       "<tr><td class=\"index\"><span class=\"c3col_left\">pongo_abelii:1:132617169-132713769:1</span></td><td><span class=\"c3col_right\">0.0637</span></td><td><span class=\"c3col_right\">0.0259</span></td><td><span class=\"c3col_right\">0.0248</span></td><td><span class=\"c3col_right\">0.0611</span></td><td><span class=\"c3col_right\">0.0613</span></td><td><span class=\"c3col_right\">0.2112</span></td><td><span class=\"c3col_right\">0.0360</span></td><td><span class=\"c3col_right\">0.0252</span></td><td><span class=\"c3col_right\">0.0251</span></td><td><span class=\"c3col_right\">0.0000</span></td></tr>\n",
       "</tbody>\n",
       "</table>\n",
       "\n",
       "</div>"
      ],
      "text/plain": [
       "=======================================================================================================================================================================================================================================================================================================================================================================================================================================================================================\n",
       "names                                          chlorocebus_sabaeus:20:38750143-38846000:1    gorilla_gorilla:1:95631305-95732186:-1    homo_sapiens:1:94418388-94518666:-1    macaca_fascicularis:1:129471958-129571913:1    macaca_mulatta:1:129651950-129752665:1    microcebus_murinus:2:91721287-91795375:-1    nomascus_leucogenys:12:82397051-82493291:1    pan_paniscus:1:95808110-95907867:-1    pan_troglodytes:1:94964520-95064844:-1    pongo_abelii:1:132617169-132713769:1\n",
       "---------------------------------------------------------------------------------------------------------------------------------------------------------------------------------------------------------------------------------------------------------------------------------------------------------------------------------------------------------------------------------------------------------------------------------------------------------------------------------------\n",
       "chlorocebus_sabaeus:20:38750143-38846000:1                                         0.0000                                    0.0640                                 0.0624                                         0.0184                                    0.0183                                       0.2226                                        0.0655                                 0.0629                                    0.0631                                  0.0637\n",
       "gorilla_gorilla:1:95631305-95732186:-1                                             0.0640                                    0.0000                                 0.0131                                         0.0616                                    0.0617                                       0.2117                                        0.0364                                 0.0137                                    0.0141                                  0.0259\n",
       "homo_sapiens:1:94418388-94518666:-1                                                0.0624                                    0.0131                                 0.0000                                         0.0601                                    0.0603                                       0.2109                                        0.0350                                 0.0111                                    0.0112                                  0.0248\n",
       "macaca_fascicularis:1:129471958-129571913:1                                        0.0184                                    0.0616                                 0.0601                                         0.0000                                    0.0052                                       0.2201                                        0.0632                                 0.0604                                    0.0606                                  0.0611\n",
       "macaca_mulatta:1:129651950-129752665:1                                             0.0183                                    0.0617                                 0.0603                                         0.0052                                    0.0000                                       0.2203                                        0.0633                                 0.0606                                    0.0608                                  0.0613\n",
       "microcebus_murinus:2:91721287-91795375:-1                                          0.2226                                    0.2117                                 0.2109                                         0.2201                                    0.2203                                       0.0000                                        0.2145                                 0.2102                                    0.2109                                  0.2112\n",
       "nomascus_leucogenys:12:82397051-82493291:1                                         0.0655                                    0.0364                                 0.0350                                         0.0632                                    0.0633                                       0.2145                                        0.0000                                 0.0358                                    0.0357                                  0.0360\n",
       "pan_paniscus:1:95808110-95907867:-1                                                0.0629                                    0.0137                                 0.0111                                         0.0604                                    0.0606                                       0.2102                                        0.0358                                 0.0000                                    0.0035                                  0.0252\n",
       "pan_troglodytes:1:94964520-95064844:-1                                             0.0631                                    0.0141                                 0.0112                                         0.0606                                    0.0608                                       0.2109                                        0.0357                                 0.0035                                    0.0000                                  0.0251\n",
       "pongo_abelii:1:132617169-132713769:1                                               0.0637                                    0.0259                                 0.0248                                         0.0611                                    0.0613                                       0.2112                                        0.0360                                 0.0252                                    0.0251                                  0.0000\n",
       "---------------------------------------------------------------------------------------------------------------------------------------------------------------------------------------------------------------------------------------------------------------------------------------------------------------------------------------------------------------------------------------------------------------------------------------------------------------------------------------"
      ]
     },
     "execution_count": 31,
     "metadata": {},
     "output_type": "execute_result"
    }
   ],
   "source": [
    "d = distance.EstimateDistances(aln,  submodel=get_model(\"GN\"))\n",
    "d.run(show_progress=False)\n",
    "dists = d.get_pairwise_distances()\n",
    "dists"
   ]
  },
  {
   "cell_type": "code",
   "execution_count": 26,
   "metadata": {},
   "outputs": [],
   "source": [
    "dists"
   ]
  },
  {
   "cell_type": "code",
   "execution_count": null,
   "metadata": {},
   "outputs": [],
   "source": []
  }
 ],
 "metadata": {
  "kernelspec": {
   "display_name": "Python 3.10.16 ('EstimatingUd')",
   "language": "python",
   "name": "python3"
  },
  "language_info": {
   "codemirror_mode": {
    "name": "ipython",
    "version": 3
   },
   "file_extension": ".py",
   "mimetype": "text/x-python",
   "name": "python",
   "nbconvert_exporter": "python",
   "pygments_lexer": "ipython3",
   "version": "3.13.5"
  },
  "orig_nbformat": 4,
  "vscode": {
   "interpreter": {
    "hash": "53a0ee2834e5a3220609a583c5db6d166b18855c93dee771c0346263a6405663"
   }
  }
 },
 "nbformat": 4,
 "nbformat_minor": 2
}

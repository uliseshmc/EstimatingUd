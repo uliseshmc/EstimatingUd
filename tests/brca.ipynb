{
 "cells": [
  {
   "cell_type": "code",
   "execution_count": 1,
   "metadata": {},
   "outputs": [
    {
     "name": "stderr",
     "output_type": "stream",
     "text": [
      "/home/u12/uliseshmc/.conda/envs/EstimatingUd/lib/python3.13/site-packages/cogent3_h5seqs/__init__.py:11: DeprecationWarning: module cogent3.core.new_alignment which will be removed in version 2025.9, use cogent3.core.alignment instead\n",
      "reason='has been renamed'\n",
      "  from cogent3.core import new_alignment as c3_alignment\n",
      "/home/u12/uliseshmc/.conda/envs/EstimatingUd/lib/python3.13/site-packages/cogent3_h5seqs/__init__.py:12: DeprecationWarning: module cogent3.core.new_alphabet which will be removed in version 2025.9, use cogent3.core.alphabet instead\n",
      "reason='has been renamed'\n",
      "  from cogent3.core import new_alphabet as c3_alphabet\n",
      "/home/u12/uliseshmc/.conda/envs/EstimatingUd/lib/python3.13/site-packages/cogent3_h5seqs/__init__.py:13: DeprecationWarning: module cogent3.core.new_moltype which will be removed in version 2025.9, use cogent3.core.moltype instead\n",
      "reason='has been renamed'\n",
      "  from cogent3.core import new_moltype as c3_moltype\n",
      "/home/u12/uliseshmc/.conda/envs/EstimatingUd/lib/python3.13/site-packages/cogent3_h5seqs/__init__.py:14: DeprecationWarning: module cogent3.core.new_sequence which will be removed in version 2025.9, use cogent3.core.sequence instead\n",
      "reason='has been renamed'\n",
      "  from cogent3.core import new_sequence as c3_sequence\n"
     ]
    }
   ],
   "source": [
    "import os\n",
    "\n",
    "os.environ[\"COGENT3_NEW_TYPE\"] = \"1\"\n",
    "\n",
    "import cogent3\n",
    "\n",
    "aln = cogent3.get_dataset(\"brca1\")\n",
    "hcm = aln.take_seqs([\"Human\", \"Chimpanzee\", \"Rhesus\"]).degap()\n",
    "codon_align = cogent3.get_app(\"progressive_align\", \"codon\", guide_tree=\"(Human:0.06,Chimpanzee:0.06,Rhesus:0.1)\")\n",
    "aln = codon_align(hcm)"
   ]
  },
  {
   "cell_type": "code",
   "execution_count": 2,
   "metadata": {},
   "outputs": [
    {
     "data": {
      "text/html": [
       "<style>\n",
       ".c3align table {margin: 10px 0;}\n",
       ".c3align td { border: none !important; text-align: left !important; }\n",
       ".c3align tr:not(.num_row) td span {margin: 0 2px;}\n",
       ".c3align tr:nth-child(even) {background: #f7f7f7;}\n",
       ".c3align .num_row {background-color:rgba(161, 195, 209, 0.5) !important; border-top: solid 1px black; }\n",
       ".c3align .label { font-size: 12pt ; text-align: right !important; color: black !important; padding: 0 4px; display: table-cell !important; font-weight: normal !important; }\n",
       ".c3align .T_dna{font-family: \"Lucida Console\",monospace !important; font-size: 12pt !important; color: blue; }\n",
       ".c3align .C_dna{font-family: \"Lucida Console\",monospace !important; font-size: 12pt !important; color: black; }\n",
       ".c3align .A_dna{font-family: \"Lucida Console\",monospace !important; font-size: 12pt !important; color: #FF0102; }\n",
       ".c3align .G_dna{font-family: \"Lucida Console\",monospace !important; font-size: 12pt !important; color: green; }\n",
       ".c3align .terminal_ambig_dna{font-family: \"Lucida Console\",monospace !important; font-size: 12pt !important; color: gray; }\n",
       ".c3align .ambig_dna{font-family: \"Lucida Console\",monospace !important; font-size: 12pt !important; color: gray; }\n",
       "</style>\n",
       "<div class=\"c3align\">\n",
       "<table>\n",
       "<tr class=\"num_row\"><td></td><td><b>0</b></td></tr>\n",
       "<tr><td class=\"label\">Chimpanzee</td><td><span class=\"C_dna\">C</span><span class=\"A_dna\">A</span><span class=\"T_dna\">T</span><span class=\"C_dna\">C</span><span class=\"A_dna\">A</span><span class=\"C_dna\">C</span><span class=\"T_dna\">T</span><span class=\"A_dna\">A</span><span class=\"T_dna\">T</span><span class=\"T_dna\">T</span><span class=\"C_dna\">C</span><span class=\"A_dna\">A</span><span class=\"A_dna\">A</span><span class=\"A_dna\">A</span><span class=\"T_dna\">T</span><span class=\"C_dna\">C</span><span class=\"A_dna\">A</span><span class=\"A_dna\">A</span><span class=\"G_dna\">G</span><span class=\"T_dna\">T</span><span class=\"G_dna\">G</span><span class=\"G_dna\">G</span><span class=\"A_dna\">A</span><span class=\"A_dna\">A</span><span class=\"T_dna\">T</span><span class=\"T_dna\">T</span><span class=\"T_dna\">T</span><span class=\"T_dna\">T</span><span class=\"A_dna\">A</span><span class=\"A_dna\">A</span><span class=\"T_dna\">T</span><span class=\"C_dna\">C</span><span class=\"G_dna\">G</span><span class=\"T_dna\">T</span><span class=\"A_dna\">A</span><span class=\"G_dna\">G</span><span class=\"T_dna\">T</span><span class=\"A_dna\">A</span><span class=\"C_dna\">C</span><span class=\"A_dna\">A</span><span class=\"T_dna\">T</span><span class=\"A_dna\">A</span><span class=\"T_dna\">T</span><span class=\"A_dna\">A</span><span class=\"A_dna\">A</span><span class=\"T_dna\">T</span><span class=\"T_dna\">T</span><span class=\"T_dna\">T</span><span class=\"A_dna\">A</span><span class=\"G_dna\">G</span><span class=\"C_dna\">C</span><span class=\"T_dna\">T</span><span class=\"T_dna\">T</span><span class=\"C_dna\">C</span><span class=\"A_dna\">A</span><span class=\"A_dna\">A</span><span class=\"G_dna\">G</span><span class=\"C_dna\">C</span><span class=\"G_dna\">G</span><span class=\"A_dna\">A</span></td></tr>\n",
       "<tr><td class=\"label\">Human</td><td><span class=\"C_dna\">.</span><span class=\"A_dna\">.</span><span class=\"T_dna\">.</span><span class=\"C_dna\">.</span><span class=\"A_dna\">.</span><span class=\"C_dna\">.</span><span class=\"T_dna\">.</span><span class=\"A_dna\">.</span><span class=\"T_dna\">.</span><span class=\"T_dna\">.</span><span class=\"C_dna\">.</span><span class=\"A_dna\">.</span><span class=\"A_dna\">.</span><span class=\"A_dna\">.</span><span class=\"T_dna\">.</span><span class=\"C_dna\">.</span><span class=\"A_dna\">.</span><span class=\"A_dna\">.</span><span class=\"G_dna\">.</span><span class=\"T_dna\">.</span><span class=\"G_dna\">.</span><span class=\"G_dna\">.</span><span class=\"A_dna\">.</span><span class=\"A_dna\">.</span><span class=\"T_dna\">.</span><span class=\"T_dna\">.</span><span class=\"T_dna\">.</span><span class=\"T_dna\">.</span><span class=\"A_dna\">.</span><span class=\"A_dna\">.</span><span class=\"T_dna\">.</span><span class=\"C_dna\">.</span><span class=\"G_dna\">.</span><span class=\"T_dna\">.</span><span class=\"A_dna\">.</span><span class=\"G_dna\">.</span><span class=\"T_dna\">.</span><span class=\"A_dna\">.</span><span class=\"C_dna\">.</span><span class=\"A_dna\">.</span><span class=\"T_dna\">.</span><span class=\"A_dna\">.</span><span class=\"T_dna\">.</span><span class=\"A_dna\">.</span><span class=\"A_dna\">.</span><span class=\"T_dna\">.</span><span class=\"T_dna\">.</span><span class=\"T_dna\">.</span><span class=\"A_dna\">.</span><span class=\"G_dna\">.</span><span class=\"C_dna\">.</span><span class=\"T_dna\">.</span><span class=\"T_dna\">.</span><span class=\"C_dna\">.</span><span class=\"A_dna\">.</span><span class=\"A_dna\">.</span><span class=\"G_dna\">.</span><span class=\"C_dna\">.</span><span class=\"G_dna\">.</span><span class=\"A_dna\">.</span></td></tr>\n",
       "<tr><td class=\"label\">Rhesus</td><td><span class=\"C_dna\">.</span><span class=\"A_dna\">.</span><span class=\"T_dna\">.</span><span class=\"C_dna\">.</span><span class=\"A_dna\">.</span><span class=\"C_dna\">.</span><span class=\"T_dna\">.</span><span class=\"A_dna\">.</span><span class=\"T_dna\">.</span><span class=\"T_dna\">.</span><span class=\"C_dna\">.</span><span class=\"A_dna\">.</span><span class=\"A_dna\">.</span><span class=\"A_dna\">.</span><span class=\"T_dna\">.</span><span class=\"C_dna\">.</span><span class=\"A_dna\">.</span><span class=\"A_dna\">.</span><span class=\"G_dna\">.</span><span class=\"T_dna\">.</span><span class=\"G_dna\">.</span><span class=\"G_dna\">.</span><span class=\"A_dna\">.</span><span class=\"T_dna\">T</span><span class=\"T_dna\">.</span><span class=\"T_dna\">.</span><span class=\"T_dna\">.</span><span class=\"T_dna\">.</span><span class=\"A_dna\">.</span><span class=\"A_dna\">.</span><span class=\"T_dna\">.</span><span class=\"C_dna\">.</span><span class=\"G_dna\">.</span><span class=\"T_dna\">.</span><span class=\"A_dna\">.</span><span class=\"G_dna\">.</span><span class=\"T_dna\">.</span><span class=\"A_dna\">.</span><span class=\"C_dna\">.</span><span class=\"A_dna\">.</span><span class=\"T_dna\">.</span><span class=\"A_dna\">.</span><span class=\"T_dna\">.</span><span class=\"A_dna\">.</span><span class=\"A_dna\">.</span><span class=\"T_dna\">.</span><span class=\"T_dna\">.</span><span class=\"T_dna\">.</span><span class=\"A_dna\">.</span><span class=\"G_dna\">.</span><span class=\"C_dna\">.</span><span class=\"T_dna\">.</span><span class=\"T_dna\">.</span><span class=\"C_dna\">.</span><span class=\"A_dna\">.</span><span class=\"A_dna\">.</span><span class=\"G_dna\">.</span><span class=\"C_dna\">.</span><span class=\"G_dna\">.</span><span class=\"A_dna\">.</span></td></tr>\n",
       "</table>\n",
       "<p><i>3 x 305 (truncated to 3 x 60) dna alignment</i></p>\n",
       "</div>"
      ],
      "text/plain": [
       "3 x 305 dna alignment: Human[CATCACTATT...], Chimpanzee[CATCACTATT...], Rhesus[CATCACTATT...]"
      ]
     },
     "execution_count": 2,
     "metadata": {},
     "output_type": "execute_result"
    }
   ],
   "source": [
    "aln = cogent3.get_dataset(\"brca1\")\n",
    "hcm = aln.take_seqs([\"Human\", \"Chimpanzee\", \"Rhesus\"]).omit_gap_pos()\n",
    "ffold = cogent3.get_app(\"take_codon_positions\", fourfold_degenerate=True)\n",
    "ffold(hcm)"
   ]
  }
 ],
 "metadata": {
  "kernelspec": {
   "display_name": "Python 3.10.16 ('EstimatingUd')",
   "language": "python",
   "name": "python3"
  },
  "language_info": {
   "codemirror_mode": {
    "name": "ipython",
    "version": 3
   },
   "file_extension": ".py",
   "mimetype": "text/x-python",
   "name": "python",
   "nbconvert_exporter": "python",
   "pygments_lexer": "ipython3",
   "version": "3.13.5"
  },
  "orig_nbformat": 4,
  "vscode": {
   "interpreter": {
    "hash": "53a0ee2834e5a3220609a583c5db6d166b18855c93dee771c0346263a6405663"
   }
  }
 },
 "nbformat": 4,
 "nbformat_minor": 2
}
